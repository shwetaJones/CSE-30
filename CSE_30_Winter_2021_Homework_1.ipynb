{
  "nbformat": 4,
  "nbformat_minor": 0,
  "metadata": {
    "kernelspec": {
      "display_name": "teaching37",
      "language": "python",
      "name": "teaching37"
    },
    "language_info": {
      "codemirror_mode": {
        "name": "ipython",
        "version": 3
      },
      "file_extension": ".py",
      "mimetype": "text/x-python",
      "name": "python",
      "nbconvert_exporter": "python",
      "pygments_lexer": "ipython3",
      "version": "3.7.3"
    },
    "test_info": {
      "id": "e2bb7e247d7d4aefdd89f5474caf8f3a118bfc1d"
    },
    "colab": {
      "name": "CSE_30_Winter_2021_Homework_1.ipynb",
      "provenance": []
    }
  },
  "cells": [
    {
      "cell_type": "markdown",
      "metadata": {
        "id": "0ISunoGkmRoe"
      },
      "source": [
        "Before you turn this problem in, make sure everything runs as expected. First, **restart the kernel** (in the menubar, select Kernel$\\rightarrow$Restart) and then **run all cells** (in the menubar, select Cell$\\rightarrow$Run All).\n",
        "\n",
        "Make sure you fill in any place that says `YOUR CODE HERE` or \"YOUR ANSWER HERE\", as well as your name and collaborators below:"
      ]
    },
    {
      "cell_type": "code",
      "metadata": {
        "id": "HA6g3m4NmRok"
      },
      "source": [
        "NAME = \"Shweta Jones\"\n",
        "COLLABORATORS = \"\""
      ],
      "execution_count": 29,
      "outputs": []
    },
    {
      "cell_type": "markdown",
      "metadata": {
        "id": "n4_jXe85mRok"
      },
      "source": [
        "---"
      ]
    },
    {
      "cell_type": "markdown",
      "metadata": {
        "deletable": false,
        "editable": false,
        "nbgrader": {
          "checksum": "827c6d4f0c0f1afaa7312c92458b3205",
          "grade": false,
          "grade_id": "cell-2be5226c1f58f9d0",
          "locked": true,
          "schema_version": 1,
          "solution": false
        },
        "id": "MB7ap0T5mRol"
      },
      "source": [
        "# Homework 1: Python Basics\n",
        "## CSE 20 Winter 2021\n",
        "\n",
        "## Luca de Alfaro\n",
        "Copyright Luca de Alfaro, 2020.  CC-BY-NC License."
      ]
    },
    {
      "cell_type": "markdown",
      "metadata": {
        "deletable": false,
        "editable": false,
        "nbgrader": {
          "checksum": "97aee9954dbe6eb2214e5a74dd73f7e7",
          "grade": false,
          "grade_id": "cell-aeb2ccbddd103ad4",
          "locked": true,
          "schema_version": 1,
          "solution": false
        },
        "id": "7CA2XyZLmRol"
      },
      "source": [
        "# Instructions\n",
        "\n",
        "## The Format of a Python Notebook\n",
        "\n",
        "*This* is a Python Notebook homework.  It consists of various types of cells: \n",
        "\n",
        "* Text: you can read them :-) \n",
        "* Code: you should run them, as they may set up the problems that you are asked to solve.\n",
        "* **Solution:** These are cells where you should enter a solution.  You will see a marker in these cells that indicates where your work should be inserted.  \n",
        "\n",
        "```\n",
        "    # YOUR CODE HERE\n",
        "```    \n",
        "\n",
        "* Test: These cells contains some tests, and are worth some points.  You should run the cells as a way to debug your code, and to see if you understood the question, and whether the output of your code is produced in the correct format.  The notebook contains both the tests you see, and some secret ones that you cannot see.  This prevents you from using the simple trick of hard-coding the desired output. "
      ]
    },
    {
      "cell_type": "markdown",
      "metadata": {
        "deletable": false,
        "editable": false,
        "nbgrader": {
          "checksum": "949d7ad627a0d2ac15d99df7205fe858",
          "grade": false,
          "grade_id": "cell-db2d02adb61a2336",
          "locked": true,
          "schema_version": 1,
          "solution": false
        },
        "id": "xc50V1k2mRol"
      },
      "source": [
        "## Working on Your Notebook in Colab\n",
        "\n",
        "Please work on your notebook directly on Colab.  Please don't download it and work directly on your laptop.  Working on Colab has two key features: \n",
        "\n",
        "* The notebook is shared with the TAs, tutors, and with the instructor.  So when you report that you have difficulties, they can open your notebook and help you. \n",
        "* The notebook preserves the revision history, which is useful for many reasons, among which that none of your work can be lost, and we can see how you reached the solution.\n",
        "\n",
        "### Using Colab for the first time (in this class)\n",
        "\n",
        "**Set indent to 4 spaces.**\n",
        "If this is the first time you use Colab, click on the gear icon on the top right, then on Editor.  There, set the indentation width to 4 spaces: this will keep your code correctly indented, which is very important.  You can configure the other options at your pleasure. \n",
        "\n",
        "### Running your notebook\n",
        "\n",
        "**Running a cell.**\n",
        "To run a cell of the notebook, either click on the icon to its top left, or press shift-ENTER (or shift-Return). \n",
        "\n",
        "**Disconnections.**\n",
        "When you open a notebook, Google automatically connects a server to the web page, so that you can type code in your browser, and the code is run on that server.  If you are idle for more than a few minutes, Google keeps all you typed (none of your work is lost), but the server may be disconnected due to inactivity.  When the server is disconnected, it loses all memory of anything you have defined (functions, classes, variables, etc). \n",
        "\n",
        "If you do get disconnected, select Runtime > Run All (or Runtime > Run before) to ensure everything is defined as it should. \n",
        "\n",
        "### DO NOT\n",
        "\n",
        "* **Do not add, delete, reorder, remove cells.**  This breaks the relationship between your work, and the grading system, making it impossible to grade your work.\n",
        "\n",
        "### Debugging\n",
        "To debug, you can add print statements to your code.  They should have no effect on the tests.  Just be careful that if you add too many of them inside loops and similar, you may cause for some of the tests we will do such an enormous amount of output that grading might timeout (and you may not get credit for an answer). \n",
        "\n",
        "### Asking for help\n",
        "The tutors and TAs should have access to the notebook; otherwise, you can always share a link with them.  In this way, they can take a look at your work and help you with debugging and with any questions you might have."
      ]
    },
    {
      "cell_type": "markdown",
      "metadata": {
        "deletable": false,
        "editable": false,
        "nbgrader": {
          "checksum": "655d98d110391572ac41c38570f2e6fd",
          "grade": false,
          "grade_id": "cell-0b20458c52da69e4",
          "locked": true,
          "schema_version": 1,
          "solution": false
        },
        "id": "1MHpCpdemRom"
      },
      "source": [
        "## Submitting Your Notebook\n",
        "\n",
        "To submit:\n",
        "* **Check your work.** Before submitting, select Runtime > Run All, and check that you don't get any unexpected error. \n",
        "* **Download the notebook.** Click on File > Download .ipynb . **Do not download the .py file.**\n",
        "* **Upload.** Upload the .ipynb file to [this Google form](https://docs.google.com/forms/d/e/1FAIpQLSezRIzcxfxEtjei1vkUkHHunzG7lRBQeXUEALXvp6YXPyu72w/viewform?usp=sf_link). \n",
        "* **Deadline:** Tuesday January 12, **11pm (NOT midnight)**.\n"
      ]
    },
    {
      "cell_type": "markdown",
      "metadata": {
        "deletable": false,
        "editable": false,
        "nbgrader": {
          "checksum": "efe3a836b97e7b1ab437b26cbc65fdfb",
          "grade": false,
          "grade_id": "cell-5427fd59a2ad7578",
          "locked": true,
          "schema_version": 1,
          "solution": false
        },
        "id": "UKVvV5_ZmRom"
      },
      "source": [
        "## What Happens Next? \n",
        "In 2-3 days, the instructor will autograde all submitted homework.  You will find, in a Google Drive folder shared with you, a version of your notebook annotated with your total grade for the assignment, and the details of the grading for each question. "
      ]
    },
    {
      "cell_type": "markdown",
      "metadata": {
        "deletable": false,
        "editable": false,
        "nbgrader": {
          "checksum": "f2d78137900cc5a77b56fa8c64e82790",
          "grade": false,
          "grade_id": "cell-18b78ebb5a65b5d3",
          "locked": true,
          "schema_version": 1,
          "solution": false
        },
        "id": "sDbno2GpmRon"
      },
      "source": [
        "## The Test\n",
        "\n",
        "Here the real homework begins!"
      ]
    },
    {
      "cell_type": "code",
      "metadata": {
        "deletable": false,
        "editable": false,
        "nbgrader": {
          "checksum": "840dfbbba59f2c417acb4062a7de73b5",
          "grade": false,
          "grade_id": "cell-aa6578b7fdc732a1",
          "locked": true,
          "schema_version": 1,
          "solution": false
        },
        "id": "f7vVFdGkmRon"
      },
      "source": [
        "# Let me define the function I use for testing.  Don't change this cell. \n",
        "\n",
        "def check_equal(x, y, msg=None):\n",
        "    if x == y:\n",
        "        if msg is None:\n",
        "            print(\"Success\")\n",
        "        else:\n",
        "            print(msg, \": Success\")\n",
        "    else:\n",
        "        if msg is None:\n",
        "            print(\"Error:\")\n",
        "        else:\n",
        "            print(\"Error in\", msg, \":\")\n",
        "        print(\"    Your answer was:\", x)\n",
        "        print(\"    Correct answer: \", y)\n",
        "    assert x == y, \"%r and %r are different\" % (x, y)"
      ],
      "execution_count": 30,
      "outputs": []
    },
    {
      "cell_type": "markdown",
      "metadata": {
        "deletable": false,
        "editable": false,
        "nbgrader": {
          "checksum": "3cf0edff267b059d82e9a32b69c633fb",
          "grade": false,
          "grade_id": "cell-88cbd7f55c690255",
          "locked": true,
          "schema_version": 1,
          "solution": false
        },
        "id": "JeRSoOdDmRon"
      },
      "source": [
        "## Problem 1: Replacing words, once. \n",
        "\n",
        "A kid is playing a game of replacing words.  There is a dictionary `d`, which specifies for some words a replacement.  The kid takes a piece of text, like `\"I like to eat bananas covered in chocolate\"`, and if the replacement dictionary d is: \n",
        "\n",
        "```\n",
        "d = {\"bananas\": \"apples\", \"chocolate\": \"syrup\"}\n",
        "```\n",
        "\n",
        "the result would be: \n",
        "\n",
        "    \"I like to eat apples covered in syrup\"\n",
        "\n",
        "Your task is to implement a function `replace_once(t, d)`, that takes a text `t` and a replacement dictionary `d`, and returns the result of replacing words according to the dictionary: if a word appears as a key, replace it with the dictionary value, and if a word does not appear in the dictionary, leave it alone. "
      ]
    },
    {
      "cell_type": "markdown",
      "metadata": {
        "deletable": false,
        "editable": false,
        "nbgrader": {
          "checksum": "9211b72a8699645d7986caf4ddaeca46",
          "grade": false,
          "grade_id": "cell-a93d85d4a550b6fc",
          "locked": true,
          "schema_version": 1,
          "solution": false
        },
        "id": "F_fn7bromRon"
      },
      "source": [
        "To write your code, note that `.split()` splits a string according to whitespace: "
      ]
    },
    {
      "cell_type": "code",
      "metadata": {
        "deletable": false,
        "editable": false,
        "nbgrader": {
          "checksum": "90a068d2cd0d50e9009ef0acc17b1577",
          "grade": false,
          "grade_id": "cell-406db0f574a89232",
          "locked": true,
          "schema_version": 1,
          "solution": false
        },
        "id": "klmc8QNMmRoo",
        "colab": {
          "base_uri": "https://localhost:8080/"
        },
        "outputId": "a68a36ad-6000-4c0f-d9f7-8270b3e4d3ec"
      },
      "source": [
        "print(\"I love eating bananas\".split())"
      ],
      "execution_count": 31,
      "outputs": [
        {
          "output_type": "stream",
          "text": [
            "['I', 'love', 'eating', 'bananas']\n"
          ],
          "name": "stdout"
        }
      ]
    },
    {
      "cell_type": "markdown",
      "metadata": {
        "deletable": false,
        "editable": false,
        "nbgrader": {
          "checksum": "f96122b6e2b453ae99f1e8e05c95a680",
          "grade": false,
          "grade_id": "cell-90d4decb8b56824c",
          "locked": true,
          "schema_version": 1,
          "solution": false
        },
        "id": "KisfJ-kPmRoo"
      },
      "source": [
        "Given a list of words, you can concatenate them together with spaces in between as follows: "
      ]
    },
    {
      "cell_type": "code",
      "metadata": {
        "deletable": false,
        "editable": false,
        "nbgrader": {
          "checksum": "9e7f8f46a7b6d9a0c62f828e4471c838",
          "grade": false,
          "grade_id": "cell-981b9a3cb83017db",
          "locked": true,
          "schema_version": 1,
          "solution": false
        },
        "id": "8QxUh4wJmRoo",
        "colab": {
          "base_uri": "https://localhost:8080/"
        },
        "outputId": "fc0ad63c-2fb2-4292-8429-e563bffb0d42"
      },
      "source": [
        "word_list = \"I love eating bananas\".split()\n",
        "print(\"Word list:\", word_list)\n",
        "back_together = \" \".join(word_list)\n",
        "print(\"Back together:\", back_together)\n",
        "\n",
        "# You can also join them in other ways, btw.  Just DON'T do it for this homework. \n",
        "print(\"You can also put commas:\", \", \".join(word_list))"
      ],
      "execution_count": 32,
      "outputs": [
        {
          "output_type": "stream",
          "text": [
            "Word list: ['I', 'love', 'eating', 'bananas']\n",
            "Back together: I love eating bananas\n",
            "You can also put commas: I, love, eating, bananas\n"
          ],
          "name": "stdout"
        }
      ]
    },
    {
      "cell_type": "markdown",
      "metadata": {
        "deletable": false,
        "editable": false,
        "nbgrader": {
          "checksum": "0977804571f92e4bd0d3052fe304ea59",
          "grade": false,
          "grade_id": "cell-05093e9ef6aa7103",
          "locked": true,
          "schema_version": 1,
          "solution": false
        },
        "id": "NYWazXj2mRop"
      },
      "source": [
        "Here is where you can write your `replace_once` function."
      ]
    },
    {
      "cell_type": "code",
      "metadata": {
        "deletable": false,
        "nbgrader": {
          "checksum": "23386c08c39c508b96bb407891359359",
          "grade": false,
          "grade_id": "cell-9b9a1e0cfd96e754",
          "locked": false,
          "schema_version": 1,
          "solution": true
        },
        "id": "HeT9XTkmmRop"
      },
      "source": [
        "def replace_once(t, d):\n",
        "    \"\"\"\n",
        "    @param t: a string\n",
        "    @param d: a dictionary, mapping words to their replacements\n",
        "    @returns: a string, where words in d have been replaced according to the dictionary mapping.\n",
        "    \"\"\"\n",
        "    tList = t.split()                               # splits the string into a list of substrings\n",
        "    tList = [d.get (item, item) for item in tList]  # iterates through the list and replaces string if it matches the dictionary\n",
        "    tString = ' '.join(tList)                       # joins the list of words and places into string seperated a whitespace\n",
        "    return tString                                  # returns the string "
      ],
      "execution_count": 33,
      "outputs": []
    },
    {
      "cell_type": "code",
      "metadata": {
        "deletable": false,
        "nbgrader": {
          "checksum": "f805067a369eda3abe84724b8c35acd1",
          "grade": false,
          "grade_id": "cell-1485a5b8c40e2a16",
          "locked": false,
          "schema_version": 1,
          "solution": true
        },
        "id": "X25UFeqWmRop"
      },
      "source": [
        "# This is a place where you can write additional tests to help you test \n",
        "# your code, or debugging code, if you need.  You can also leave it blank. \n",
        "\n",
        "# YOUR CODE HERE\n",
        "#raise NotImplementedError()"
      ],
      "execution_count": 34,
      "outputs": []
    },
    {
      "cell_type": "markdown",
      "metadata": {
        "deletable": false,
        "editable": false,
        "nbgrader": {
          "checksum": "eac1920592d769fb7b19040ea0b53080",
          "grade": false,
          "grade_id": "cell-aad46119e61735b0",
          "locked": true,
          "schema_version": 1,
          "solution": false
        },
        "id": "qYzXeKasmRop"
      },
      "source": [
        "Here are some tests. "
      ]
    },
    {
      "cell_type": "code",
      "metadata": {
        "deletable": false,
        "editable": false,
        "nbgrader": {
          "checksum": "39b5fd79da3df3e3ad516948d7125b9d",
          "grade": true,
          "grade_id": "cell-03003d8d0f658f2b",
          "locked": true,
          "points": 10,
          "schema_version": 1,
          "solution": false
        },
        "id": "KH75cpsTmRop",
        "colab": {
          "base_uri": "https://localhost:8080/"
        },
        "outputId": "2f05854c-22f2-4f25-8ae7-2479e78b683f"
      },
      "source": [
        "# 10 points.  Tests. \n",
        "\n",
        "d = {}\n",
        "t = \"I love cats\"\n",
        "check_equal(replace_once(t, d), \"I love cats\")\n",
        "\n",
        "d = {\"cats\": \"dogs\"}\n",
        "check_equal(replace_once(t, d), \"I love dogs\")\n"
      ],
      "execution_count": 35,
      "outputs": [
        {
          "output_type": "stream",
          "text": [
            "Success\n",
            "Success\n"
          ],
          "name": "stdout"
        }
      ]
    },
    {
      "cell_type": "markdown",
      "metadata": {
        "deletable": false,
        "editable": false,
        "nbgrader": {
          "checksum": "967433f80459fa0db5dfce496b90f416",
          "grade": false,
          "grade_id": "cell-b081c8427cb13b99",
          "locked": true,
          "schema_version": 1,
          "solution": false
        },
        "id": "6oAM-uukmRoq"
      },
      "source": [
        "## Problem 2: Replacing words, irrespective of case. \n",
        "\n",
        "The problem with our previous code is that we require an _exact_ case match: if we have the string: \n",
        "\n",
        "    t = \"Dogs are nice\"\n",
        "    \n",
        "and a replacement dictionary \n",
        "\n",
        "    d = {\"dogs\": \"cats\"}\n",
        "    \n",
        "the result of `replace_once(t, d)` is still `\"Dogs are nice\"`.  \n",
        "\n",
        "Write a function `replace_case_insensitive(t, d)` that applies the replacement irrespective of whether the original word is capitalized or not, and that preserves the capitalization: a capitalized word is replaced with another capitalized word.  For example, if \n",
        "\n",
        "    d = {\"dogs\": \"cats\"}\n",
        "    \n",
        "then `replace_case_insensitive(\"Dogs are nice\", d)` is: \n",
        "\n",
        "    \"Cats are nice\"\n",
        "    \n",
        "and `replace_case_insensitive(\"I like dogs\", d)` is: \n",
        "\n",
        "    \"I like cats\"\n",
        "    \n",
        "When writing your solution, you can assume that both keys and values in the replacement dictionary appear in lowercase.  Note also that you only need to concern yourselves with words that are either all in lowercase, like `\"dog\"`, or capitalized, like `\"Dog\"`; you don't have to worry about words like `\"DOG\"` or `\"DoG\"`. "
      ]
    },
    {
      "cell_type": "markdown",
      "metadata": {
        "deletable": false,
        "editable": false,
        "nbgrader": {
          "checksum": "7ec8e0cb5dbcd6f33f25278ae6f6b831",
          "grade": false,
          "grade_id": "cell-17b8d212571a1aef",
          "locked": true,
          "schema_version": 1,
          "solution": false
        },
        "id": "FmwmDbkRmRoq"
      },
      "source": [
        "To write your solution, note that you can capitalize a word `w` via: \n",
        "\n",
        "    w.capitalize()\n",
        "\n",
        "and you can test whether a word `w` is capitalized via: \n",
        "\n",
        "    w.capitalize() == w\n",
        "    \n",
        "Also, given a word `w`, you can turn it into lowercase via: \n",
        "\n",
        "    w.lower()\n",
        "    \n",
        "You can write your solution below."
      ]
    },
    {
      "cell_type": "code",
      "metadata": {
        "deletable": false,
        "nbgrader": {
          "checksum": "d39179e99c778bca5fa1dc19ab7c938a",
          "grade": false,
          "grade_id": "cell-3b1aeb0c1793312b",
          "locked": false,
          "schema_version": 1,
          "solution": true
        },
        "id": "XTjW6zuMmRoq"
      },
      "source": [
        "def replace_case_insensitive(t, d):\n",
        "    \"\"\"\n",
        "    @param t: a string\n",
        "    @param d: a dictionary, mapping words to their replacements\n",
        "    @returns: a string, where words in d have been replaced according to the dictionary mapping, \n",
        "        in case insensitive way, and preserving capitalization. \n",
        "    \"\"\"\n",
        "    tList = t.split()                               # splits the string into a list of substrings\n",
        "    tList = [d.get (item, item) for item in tList]  # iterates through the list and replaces string if it matches the dictionary\n",
        "    tString = ' '.join(tList)                       # joins the list of words and places into string seperated a whitespace\n",
        "    \n",
        "    for x,y in d.items():           # iterates through dictionary\n",
        "        if t[0].isupper() == True:  # if the first letter is captilized, the runs following lines\n",
        "            t = t.lower()           # makes the entire word lowercase\n",
        "            t = t.replace(x,y)      # when the word in the string's replacement is found, the word is replaces\n",
        "            t = t.capitalize()      # capitilizes the word \n",
        "        else:                       # if the words is not capitilized then it runs following line of code\n",
        "            t = t.replace(x,y)      # when the word in the string's replacement is found, the word is replaces\n",
        "    return (t)                      # the edited string is returned"
      ],
      "execution_count": 47,
      "outputs": []
    },
    {
      "cell_type": "code",
      "metadata": {
        "deletable": false,
        "nbgrader": {
          "checksum": "0be058e16947ed0669513db70c62434e",
          "grade": false,
          "grade_id": "cell-76db45ac1d03af53",
          "locked": false,
          "schema_version": 1,
          "solution": true
        },
        "id": "RkmOTE4cmRoq"
      },
      "source": [
        "# This is a place where you can write additional tests to help you test \n",
        "# your code, or debugging code, if you need.  You can also leave it blank. \n",
        "\n",
        "# YOUR CODE HERE\n",
        "#raise NotImplementedError()"
      ],
      "execution_count": 37,
      "outputs": []
    },
    {
      "cell_type": "markdown",
      "metadata": {
        "deletable": false,
        "editable": false,
        "nbgrader": {
          "checksum": "c243c65b8e30a54dfdb92bc27d16710a",
          "grade": false,
          "grade_id": "cell-0786cb248559326d",
          "locked": true,
          "schema_version": 1,
          "solution": false
        },
        "id": "H4cMrQlsmRor"
      },
      "source": [
        "Here are some tests. "
      ]
    },
    {
      "cell_type": "code",
      "metadata": {
        "deletable": false,
        "editable": false,
        "nbgrader": {
          "checksum": "daf5bddd60d70b949fefed1044c074fb",
          "grade": true,
          "grade_id": "cell-35151c0feaab77a5",
          "locked": true,
          "points": 10,
          "schema_version": 1,
          "solution": false
        },
        "id": "KalmObpNmRor",
        "colab": {
          "base_uri": "https://localhost:8080/"
        },
        "outputId": "7d2f60fd-f790-4801-c1c1-8d8efe960c0f"
      },
      "source": [
        "# 10 points\n",
        "\n",
        "t = \"I love dogs\"\n",
        "d = {\"dogs\": \"cats\"}\n",
        "check_equal(replace_case_insensitive(t, d), \"I love cats\")\n",
        "\n",
        "t = \"Dogs are nice\"\n",
        "d = {\"dogs\": \"cats\"}\n",
        "check_equal(replace_case_insensitive(t, d), \"Cats are nice\")\n",
        "\n",
        "t = \"Cats cats nothing else than cats\"\n",
        "d = {\"dogs\": \"cats\", \"cats\": \"dogs\"}\n",
        "check_equal(replace_case_insensitive(t, d), \"Dogs dogs nothing else than dogs\")\n",
        "\n"
      ],
      "execution_count": 48,
      "outputs": [
        {
          "output_type": "stream",
          "text": [
            "Success\n",
            "Success\n",
            "Success\n"
          ],
          "name": "stdout"
        }
      ]
    },
    {
      "cell_type": "markdown",
      "metadata": {
        "deletable": false,
        "editable": false,
        "nbgrader": {
          "checksum": "17c576941cda938e70ea2068dbd3ad88",
          "grade": false,
          "grade_id": "cell-b5e01bff0968aeee",
          "locked": true,
          "schema_version": 1,
          "solution": false
        },
        "id": "-BlyOuqzmRos"
      },
      "source": [
        "## Problem 3: Repeated replacements\n",
        "\n",
        "Let's go back now to the simpler version of the problem, where we replace in case-sensitive way. \n",
        "Our original version of the code applies the replacement only once. \n",
        "That is, if the dictionary `d` maps: \n",
        "\n",
        "    d = {\"cats\": \"dogs\", \"dogs\": \"pigs\"}\n",
        "    \n",
        "and our text is `t = \"I love cats\"`, the function `replace_once(t, d)` applies the replacement only once, and we obtain \n",
        "\n",
        "    \"I love dogs\"\n",
        "    \n",
        "Now, you should write a function `replace_chain`, that keeps applying replacements until no more replacements can be applied, so that `replace_chain(t, d)` yields: \n",
        "\n",
        "    \"I love pigs\"\n",
        "    "
      ]
    },
    {
      "cell_type": "code",
      "metadata": {
        "deletable": false,
        "nbgrader": {
          "checksum": "d88f27eb46fd17d68505a7fafef32c0b",
          "grade": false,
          "grade_id": "cell-fc659c5d263ddf82",
          "locked": false,
          "schema_version": 1,
          "solution": true
        },
        "id": "n4QhavHImRos"
      },
      "source": [
        "def replace_chain(t, d):\n",
        "    \"\"\"\n",
        "    @param t: a string\n",
        "    @param d: a dictionary, mapping words to their replacements\n",
        "    @returns: a string, where words in d have been replaced according to the dictionary mapping, \n",
        "        repeating the replacements until no replacement can be applied. \n",
        "    \"\"\"\n",
        "    for x,y in d.items():           # iterates through dictionary\n",
        "        if t[0].isupper() == True:  # if the first letter is captilized, the runs following lines \n",
        "            t = t.lower()           # makes the entire word lowercase\n",
        "            t = t.replace(x,y)      # when the word in the string's replacement is found, the word is replaces\n",
        "            t = t.capitalize()      # capitilizes the word \n",
        "        else:                       # if the words is not capitilized then it runs following line of code\n",
        "            t = t.replace(x,y)      # when the word in the string's replacement is found, the word is replaces\n",
        "    return (t)                      # the edited string is returned"
      ],
      "execution_count": 49,
      "outputs": []
    },
    {
      "cell_type": "code",
      "metadata": {
        "deletable": false,
        "nbgrader": {
          "checksum": "421c8389761ddc8c3beffa8360f15a96",
          "grade": false,
          "grade_id": "cell-54f85f49a106464c",
          "locked": false,
          "schema_version": 1,
          "solution": true
        },
        "id": "S5oP8XoZmRos"
      },
      "source": [
        "# This is a place where you can write additional tests to help you test \n",
        "# your code, or debugging code, if you need.  You can also leave it blank. \n",
        "\n",
        "# YOUR CODE HERE\n",
        "#raise NotImplementedError()"
      ],
      "execution_count": 40,
      "outputs": []
    },
    {
      "cell_type": "markdown",
      "metadata": {
        "deletable": false,
        "editable": false,
        "nbgrader": {
          "checksum": "56feffb385c44246716c0c7656a88e75",
          "grade": false,
          "grade_id": "cell-e8ee2914178f7673",
          "locked": true,
          "schema_version": 1,
          "solution": false
        },
        "id": "Vk_68QXCmRos"
      },
      "source": [
        "Here are some tests. "
      ]
    },
    {
      "cell_type": "code",
      "metadata": {
        "deletable": false,
        "editable": false,
        "nbgrader": {
          "checksum": "8668cd486f8998b869303a503062615a",
          "grade": true,
          "grade_id": "cell-4719a7bb800531ea",
          "locked": true,
          "points": 10,
          "schema_version": 1,
          "solution": false
        },
        "id": "dDUYPJwdmRos",
        "colab": {
          "base_uri": "https://localhost:8080/"
        },
        "outputId": "febb37ab-3cb5-4671-927b-3114869f1ebc"
      },
      "source": [
        "# 10 points\n",
        "\n",
        "t = \"I like dogs\"\n",
        "d = {\"dogs\": \"cats\", \"cats\": \"pigs\", \"birds\": \"butterflies\"}\n",
        "check_equal(replace_chain(t, d), \"I like pigs\")\n"
      ],
      "execution_count": 50,
      "outputs": [
        {
          "output_type": "stream",
          "text": [
            "Success\n"
          ],
          "name": "stdout"
        }
      ]
    },
    {
      "cell_type": "markdown",
      "metadata": {
        "deletable": false,
        "editable": false,
        "nbgrader": {
          "checksum": "9e365c7ab6c9fd8bb3a6b7e49fad34ee",
          "grade": false,
          "grade_id": "cell-e33fe862c83fb6f9",
          "locked": true,
          "schema_version": 1,
          "solution": false
        },
        "id": "0oG8drmXmRot"
      },
      "source": [
        "A question for you to ponder.  If one has a loop in the dictionary, as in: \n",
        "\n",
        "    d = {\"cats\": \"dogs\", \"dogs\": \"cats\"} \n",
        "    \n",
        "what would your code do?  Would it terminate?  How would you be able to detect problem replacements like this?  You will learn this later in the class, in the section on graph and graph algorithms. "
      ]
    },
    {
      "cell_type": "markdown",
      "metadata": {
        "id": "FOif8wQ5mRot"
      },
      "source": [
        "## Problem 4: Triangles\n",
        "\n",
        "In this problem, you have to create a class representing a triangle.  A triangle is created specifying the lengths of its 3 sides; for instance, \n",
        "\n",
        "    Triangle(3, 4, 5)\n",
        "    \n",
        "creates a triangle with sides 3, 4, 5. \n",
        "\n",
        "The class has to implement the following methods. \n",
        "\n",
        "* `is_well_formed`: Returns True if the triangle is well-formed, and false otherwise.  A triangle is well formed if, for edges of length $x, y, z$, you have: \n",
        "\n",
        "$$ \n",
        "x \\leq y + z \\quad y < x + z \\quad z < x + y \n",
        "$$\n",
        "\n",
        "* `perimeter`: Returns the perimeter of the triangle. \n",
        "\n",
        "* `area`: Returns the area of the triangle, using [Heron's formula](https://en.wikipedia.org/wiki/Heron%27s_formula). \n",
        "\n",
        "We give you the class skeleton, and you have to complete the methods. "
      ]
    },
    {
      "cell_type": "code",
      "metadata": {
        "deletable": false,
        "nbgrader": {
          "checksum": "1cf9ad8c008b3732eacae91c93075d4e",
          "grade": false,
          "grade_id": "cell-e203bd42c02b6c6c",
          "locked": false,
          "schema_version": 1,
          "solution": true
        },
        "id": "QdlqykdemRot"
      },
      "source": [
        "# This may be useful to compute square roots... \n",
        "import math\n",
        "\n",
        "class Triangle(object):\n",
        "    \n",
        "    def __init__(self, x, y, z):\n",
        "        \"\"\"Creates a triangle of sides x, y, z\"\"\"\n",
        "        self.x = x                              # saves the x value into self \n",
        "        self.y = y                              # saves the y value into self\n",
        "        self.z = z                              # saves the z value into self\n",
        "        \n",
        "    def is_well_formed(self):\n",
        "        \"\"\"Returns True if the triangle is well-formed, and false otherwise.\"\"\"\n",
        "        if self.x <= self.y + self.z:           # if the x is less than or equal to y and z, then following codes run\n",
        "            if self.y < self.x + self.z:        # if the y is less than x and z, the following code runs\n",
        "                if self.z < self.x + self.y:    # if the z is less than x and y, then following code runs\n",
        "                    return True                 # true is returned when if statements are met\n",
        "                else:\n",
        "                    return False                # false is returned since if not met\n",
        "            else:\n",
        "                return False                    # false is returned since if not met\n",
        "        else:\n",
        "            return False                        # false is returned since if not met\n",
        "    \n",
        "    def perimeter(self):\n",
        "        \"\"\"Returns the perimeter of the triangle.\"\"\"\n",
        "        perimeter = self.x + self.y + self.z    # adds side lengths to calculate the perimeter\n",
        "        return perimeter                        # returns the perimeter\n",
        "        \n",
        "    def area(self):\n",
        "        \"\"\"Returns the area of the triangle.\"\"\"\n",
        "        s = (self.x + self.y + self.z)/2        # adds the x,y,z and divdes by 2\n",
        "        a1 = (s-self.x)                         # calculates a1\n",
        "        a2 = (s-self.y)                         # calculates a2\n",
        "        a3 = (s-self.z)                         # calculates a3\n",
        "        a = s*a1*a2*a3                          # adds the a1 a2 and a3\n",
        "        a = math.sqrt(a)                        # calculates the squareroot of value \n",
        "        return a                                # returns the area of the triangle"
      ],
      "execution_count": 42,
      "outputs": []
    },
    {
      "cell_type": "code",
      "metadata": {
        "deletable": false,
        "nbgrader": {
          "checksum": "2738607e8e17f10782973cae533598f7",
          "grade": false,
          "grade_id": "cell-9fc4f1c150ba31b7",
          "locked": false,
          "schema_version": 1,
          "solution": true
        },
        "id": "hbw0fItbmRot"
      },
      "source": [
        "# This is a place where you can write additional tests to help you test \n",
        "# your code, or debugging code, if you need.  You can also leave it blank. \n",
        "\n",
        "# YOUR CODE HERE\n",
        "#raise NotImplementedError()"
      ],
      "execution_count": 43,
      "outputs": []
    },
    {
      "cell_type": "markdown",
      "metadata": {
        "deletable": false,
        "editable": false,
        "nbgrader": {
          "checksum": "9b6a72948e9f8240ecba20affd2f1e3b",
          "grade": false,
          "grade_id": "cell-259bfcbac91f9040",
          "locked": true,
          "schema_version": 1,
          "solution": false
        },
        "id": "WPmpF5R7mRot"
      },
      "source": [
        "And here are the tests. "
      ]
    },
    {
      "cell_type": "code",
      "metadata": {
        "deletable": false,
        "editable": false,
        "nbgrader": {
          "checksum": "3f833daf671ddf7b6997ea4d2ed7821b",
          "grade": true,
          "grade_id": "cell-a87401f03bf0534d",
          "locked": true,
          "points": 5,
          "schema_version": 1,
          "solution": false
        },
        "id": "ZnDHSRAUmRot",
        "colab": {
          "base_uri": "https://localhost:8080/"
        },
        "outputId": "cd9427fb-8527-4958-aaf9-55b118fc990b"
      },
      "source": [
        "# 5 points: well-formed. \n",
        "\n",
        "t = Triangle(3, 4, 5)\n",
        "check_equal(t.is_well_formed(), True)\n",
        "\n",
        "t = Triangle(3, 10, 2)\n",
        "check_equal(t.is_well_formed(), False)\n"
      ],
      "execution_count": 44,
      "outputs": [
        {
          "output_type": "stream",
          "text": [
            "Success\n",
            "Success\n"
          ],
          "name": "stdout"
        }
      ]
    },
    {
      "cell_type": "code",
      "metadata": {
        "deletable": false,
        "editable": false,
        "nbgrader": {
          "checksum": "1e06c4c03e2dafadd74af7256f13423d",
          "grade": true,
          "grade_id": "cell-11b03055d57e7d37",
          "locked": true,
          "points": 5,
          "schema_version": 1,
          "solution": false
        },
        "id": "KfRkU0BbmRou",
        "colab": {
          "base_uri": "https://localhost:8080/"
        },
        "outputId": "1db26bff-4b2b-40de-9ae0-caa2a0e4e096"
      },
      "source": [
        "# 5 points: perimeter\n",
        "\n",
        "t = Triangle(3, 4, 5)\n",
        "check_equal(t.perimeter(), 12)\n",
        "\n",
        "t = Triangle(3, 2, 2)\n",
        "check_equal(t.perimeter(), 7)\n"
      ],
      "execution_count": 45,
      "outputs": [
        {
          "output_type": "stream",
          "text": [
            "Success\n",
            "Success\n"
          ],
          "name": "stdout"
        }
      ]
    },
    {
      "cell_type": "code",
      "metadata": {
        "deletable": false,
        "editable": false,
        "nbgrader": {
          "checksum": "277aaf89e281226c6e8bbfaeaffb38fe",
          "grade": true,
          "grade_id": "cell-2d6ed829f135f763",
          "locked": true,
          "points": 5,
          "schema_version": 1,
          "solution": false
        },
        "id": "54cp2cRvmRou",
        "colab": {
          "base_uri": "https://localhost:8080/"
        },
        "outputId": "c8636d48-3ba1-45dd-e0ca-44a72d390f55"
      },
      "source": [
        "# 5 points: area\n",
        "\n",
        "t = Triangle(3, 4, 5)\n",
        "check_equal(abs(t.area() - 6) < 0.01, True)\n",
        "\n",
        "t = Triangle(3, 3, 3)\n",
        "check_equal(abs(t.area() - 1.5 * 1.5 * math.sqrt(3)) < 0.01, True)\n"
      ],
      "execution_count": 46,
      "outputs": [
        {
          "output_type": "stream",
          "text": [
            "Success\n",
            "Success\n"
          ],
          "name": "stdout"
        }
      ]
    }
  ]
}