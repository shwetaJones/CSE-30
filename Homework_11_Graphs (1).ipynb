{
  "nbformat": 4,
  "nbformat_minor": 0,
  "metadata": {
    "colab": {
      "name": "Homework_11_Graphs.ipynb",
      "provenance": [],
      "collapsed_sections": []
    },
    "kernelspec": {
      "display_name": "Python 3",
      "language": "python",
      "name": "python3"
    },
    "language_info": {
      "codemirror_mode": {
        "name": "ipython",
        "version": 3
      },
      "file_extension": ".py",
      "mimetype": "text/x-python",
      "name": "python",
      "nbconvert_exporter": "python",
      "pygments_lexer": "ipython3",
      "version": "3.7.3"
    },
    "test_info": {
      "id": "e2bb7e247d7d4aefdd89f5474caf8f3a118bfc1d"
    }
  },
  "cells": [
    {
      "cell_type": "markdown",
      "metadata": {
        "id": "cAhtoGpxcfa0"
      },
      "source": [
        "Before you turn this problem in, make sure everything runs as expected. First, **restart the kernel** (in the menubar, select Kernel$\\rightarrow$Restart) and then **run all cells** (in the menubar, select Cell$\\rightarrow$Run All).\n",
        "\n",
        "Make sure you fill in any place that says `YOUR CODE HERE` or \"YOUR ANSWER HERE\", as well as your name and collaborators below:"
      ]
    },
    {
      "cell_type": "code",
      "metadata": {
        "id": "wz_8lkuecfa6"
      },
      "source": [
        "NAME = \"Shweta Jones\"\n",
        "COLLABORATORS = \"\""
      ],
      "execution_count": 195,
      "outputs": []
    },
    {
      "cell_type": "markdown",
      "metadata": {
        "id": "JElgk7e9cfa7"
      },
      "source": [
        "---"
      ]
    },
    {
      "cell_type": "markdown",
      "metadata": {
        "deletable": false,
        "editable": false,
        "nbgrader": {
          "checksum": "cdf0c3e48c20efd42697dd12eb8c461b",
          "grade": false,
          "grade_id": "cell-55037a6d41d00674",
          "locked": true,
          "schema_version": 1,
          "solution": false
        },
        "id": "rmEQE_Z1cfa7"
      },
      "source": [
        "# Homework 11: Graphs\n",
        "\n",
        "Copyright Luca de Alfaro, 2019-21. \n",
        "License: [CC-BY-NC-ND](https://creativecommons.org/licenses/by-nc-nd/4.0/)."
      ]
    },
    {
      "cell_type": "markdown",
      "metadata": {
        "deletable": false,
        "editable": false,
        "nbgrader": {
          "checksum": "245165f7e41832af6cf9b9acd47a2f3a",
          "grade": false,
          "grade_id": "cell-03a3cd61036864ba",
          "locked": true,
          "schema_version": 1,
          "solution": false
        },
        "id": "F03zwmBOcfa7"
      },
      "source": [
        "## About This Homework\n",
        "\n",
        "The homework consists of 2 questions, for a total of 50 points.\n",
        "The second question is a hard question. \n",
        "\n",
        "The instructions for working on homework assignments are available on Canvas; as a summary:\n",
        "\n",
        "* Write your code only where indicated via #YOUR CODE HERE. If you write code in other places, it will be discarded during grading.\n",
        "* Do not add/remove cells.\n",
        "* The tests are implemented with assert statements: if they fail, you will see an error (a Python exception). If you see no error, you can assume that they pass.\n",
        "\n",
        "Once you are done working on it, you can download the .ipynb and [submit to this Google Form](https://docs.google.com/forms/d/e/1FAIpQLSerqR-WJusPYLQY-s1U--TcEBEnqc_ZeOiZxxmXAiWrbgvUtQ/viewform?usp=sf_link)."
      ]
    },
    {
      "cell_type": "markdown",
      "metadata": {
        "deletable": false,
        "editable": false,
        "nbgrader": {
          "checksum": "e5f3dcd8215e0bfd81212d88c2109735",
          "grade": false,
          "grade_id": "cell-a5fd9d11c30cfb8f",
          "locked": true,
          "schema_version": 1,
          "solution": false
        },
        "id": "KSEwo50gcfa8"
      },
      "source": [
        "A (directed) graph $G = (V, E)$ consists of a set of vertices (or nodes) $V$, and a set of edges $E \\subseteq V \\times V$. "
      ]
    },
    {
      "cell_type": "markdown",
      "metadata": {
        "deletable": false,
        "editable": false,
        "nbgrader": {
          "checksum": "ebec67f9c8a9ad6578255699dd440a38",
          "grade": false,
          "grade_id": "cell-c92d8e4388c8e556",
          "locked": true,
          "schema_version": 1,
          "solution": false
        },
        "id": "0YXZ1MwFcfa8"
      },
      "source": [
        "![alt text](https://drive.google.com/uc?export=view&id=1ZX-cLXaHsNtLOtX54eo2yrn3n9LsdsHz)\n",
        "\n",
        "An example of a graph with $V = \\{a, b, c, d, e, f, g\\}$ and $E = \\{(a, b), (a, c), (a,d), (b,d), (c,a), (c, e), (d, b), (d, c), (f, g), (g, f)\\}$."
      ]
    },
    {
      "cell_type": "markdown",
      "metadata": {
        "deletable": false,
        "editable": false,
        "nbgrader": {
          "checksum": "b8a4f066acebd71af3112174a750e723",
          "grade": false,
          "grade_id": "cell-83c7b434960ac735",
          "locked": true,
          "schema_version": 1,
          "solution": false
        },
        "id": "JzQMFnbdcfa8"
      },
      "source": [
        "How should we represent a graph?  A general principle of software development -- really, of life -- is: failing special reasons, always go for the simplest solution. \n",
        "So our first attempt consists in storing a graph exactly according to its definition: as a set of vertices and a set of edges."
      ]
    },
    {
      "cell_type": "code",
      "metadata": {
        "deletable": false,
        "editable": false,
        "nbgrader": {
          "checksum": "e9edec5fb9f374277cd3a30cc033a322",
          "grade": false,
          "grade_id": "cell-e1709795b7a14360",
          "locked": true,
          "schema_version": 1,
          "solution": false
        },
        "id": "voJsr07xcfa8"
      },
      "source": [
        "class Graph(object):\n",
        "\n",
        "    def __init__(self, vertices=None, edges=None):\n",
        "        # We use set below, just in case somebody passes a list to the initializer.\n",
        "        self.vertices = set(vertices or [])\n",
        "        self.edges = set(edges or [])\n"
      ],
      "execution_count": 196,
      "outputs": []
    },
    {
      "cell_type": "code",
      "metadata": {
        "deletable": false,
        "editable": false,
        "nbgrader": {
          "checksum": "7d48a12f171e930cde8cf1821b6124bb",
          "grade": false,
          "grade_id": "cell-c905322ee71a05b2",
          "locked": true,
          "schema_version": 1,
          "solution": false
        },
        "id": "e5mHkv0Fcfa9"
      },
      "source": [
        "g = Graph(vertices={'a', 'b', 'c', 'd', 'e', 'f', 'g'},\n",
        "          edges={('a', 'b'), ('a', 'c'), ('a', 'd'), ('b', 'd'),\n",
        "                 ('c', 'a'), ('c', 'e'), ('d', 'b'), ('d', 'c'),\n",
        "                 ('f', 'g'), ('g', 'f')})\n"
      ],
      "execution_count": 197,
      "outputs": []
    },
    {
      "cell_type": "markdown",
      "metadata": {
        "deletable": false,
        "editable": false,
        "nbgrader": {
          "checksum": "c0ab1b655739173869c07080f5c0298e",
          "grade": false,
          "grade_id": "cell-a185b37552f6cf00",
          "locked": true,
          "schema_version": 1,
          "solution": false
        },
        "id": "3YGB2sWBcfa9"
      },
      "source": [
        "Great, but, how do we display graphs?  And what can we do with them?  \n",
        "\n",
        "Let's first of all add a method .show() that will enable us to look at a graph; this uses the library [networkx](https://networkx.github.io/)."
      ]
    },
    {
      "cell_type": "code",
      "metadata": {
        "deletable": false,
        "editable": false,
        "nbgrader": {
          "checksum": "e8d8ce499487e87c4e4feeba7c1efe8c",
          "grade": false,
          "grade_id": "cell-410f097bef6d278f",
          "locked": true,
          "schema_version": 1,
          "solution": false
        },
        "id": "zMFqr64bcfa9"
      },
      "source": [
        "import networkx as nx # Library for displaying graphs.\n",
        "\n",
        "class Graph(object):\n",
        "\n",
        "    def __init__(self, vertices=None, edges=None):\n",
        "        # We use set below, just in case somebody passes a list to the initializer.\n",
        "        self.vertices = set(vertices or [])\n",
        "        self.edges = set(edges or [])\n",
        "\n",
        "    def show(self):\n",
        "        g = nx.DiGraph()\n",
        "        g.add_nodes_from(self.vertices)\n",
        "        g.add_edges_from(self.edges)\n",
        "        nx.draw(g, with_labels=True)\n"
      ],
      "execution_count": 198,
      "outputs": []
    },
    {
      "cell_type": "code",
      "metadata": {
        "deletable": false,
        "editable": false,
        "nbgrader": {
          "checksum": "be684080bd05dcff6c070536915a5dcc",
          "grade": false,
          "grade_id": "cell-4dd4ab62ecef873",
          "locked": true,
          "schema_version": 1,
          "solution": false
        },
        "id": "Zk5Cie_Gcfa9",
        "colab": {
          "base_uri": "https://localhost:8080/",
          "height": 318
        },
        "outputId": "e49851a3-5c22-4346-cd21-2292803ea66d"
      },
      "source": [
        "g = Graph(vertices={'a', 'b', 'c', 'd', 'e', 'f', 'g'},\n",
        "          edges={('a', 'b'), ('a', 'c'), ('a', 'd'), ('b', 'd'),\n",
        "                 ('c', 'a'), ('c', 'e'), ('d', 'b'), ('d', 'c'),\n",
        "                 ('f', 'g'), ('g', 'f')})\n",
        "g.show()\n"
      ],
      "execution_count": 199,
      "outputs": [
        {
          "output_type": "display_data",
          "data": {
            "image/png": "[encoded data removed]",
            "text/plain": [
              "<Figure size 432x288 with 1 Axes>"
            ]
          },
          "metadata": {
            "tags": []
          }
        }
      ]
    },
    {
      "cell_type": "markdown",
      "metadata": {
        "deletable": false,
        "editable": false,
        "nbgrader": {
          "checksum": "72051c62a5084bd16809ac78ba449c92",
          "grade": false,
          "grade_id": "cell-8b8a54272420a7eb",
          "locked": true,
          "schema_version": 1,
          "solution": false
        },
        "id": "YuEnSxePcfa-"
      },
      "source": [
        "Ok, this is not nearly as pretty as what we generated by hand, but it will have to do. "
      ]
    },
    {
      "cell_type": "markdown",
      "metadata": {
        "deletable": false,
        "editable": false,
        "nbgrader": {
          "checksum": "f1e1dec7629d3c28a42a1f62686875e2",
          "grade": false,
          "grade_id": "cell-20d2efe8cdd62bb8",
          "locked": true,
          "schema_version": 1,
          "solution": false
        },
        "id": "sH7rewYAcfa-"
      },
      "source": [
        "## One-Step Reachability and Graph Representations\n",
        "\n",
        "What are conceivable operations on graphs?  There are some basic ones, such as adding a vertex and adding an edge.  These are easily taken care of."
      ]
    },
    {
      "cell_type": "code",
      "metadata": {
        "deletable": false,
        "editable": false,
        "nbgrader": {
          "checksum": "69f74bb9555c91d9278b0e2db8568c97",
          "grade": false,
          "grade_id": "cell-3130ac0abb01acf2",
          "locked": true,
          "schema_version": 1,
          "solution": false
        },
        "id": "jTGhPAXUcfa-"
      },
      "source": [
        "import networkx as nx # Library for displaying graphs.\n",
        "\n",
        "class Graph(object):\n",
        "\n",
        "    def __init__(self, vertices=None, edges=None):\n",
        "        # We use set below, just in case somebody passes a list to the initializer.\n",
        "        self.vertices = set(vertices or [])\n",
        "        self.edges = set(edges or [])\n",
        "\n",
        "    def show(self):\n",
        "        g = nx.DiGraph()\n",
        "        g.add_nodes_from(self.vertices)\n",
        "        g.add_edges_from(self.edges)\n",
        "        nx.draw(g, with_labels=True)\n",
        "\n",
        "    def add_vertex(self, v):\n",
        "        self.vertices.add(v)\n",
        "\n",
        "    def add_edge(self, e):\n",
        "        self.edges.add(e)\n"
      ],
      "execution_count": 200,
      "outputs": []
    },
    {
      "cell_type": "markdown",
      "metadata": {
        "deletable": false,
        "editable": false,
        "nbgrader": {
          "checksum": "a373f00b3bcb69848bceb4c697b10bd1",
          "grade": false,
          "grade_id": "cell-ee51d67848fa10c9",
          "locked": true,
          "schema_version": 1,
          "solution": false
        },
        "id": "CsWydBQlcfa-"
      },
      "source": [
        "Further, a graph represents a set of connections between vertices, so a very elementary question to ask is the following: if we are at vertex $v$, can we get to another vertex $u$ by following one or more edges? \n",
        " \n",
        "As a first step towards the solution, we want to compute the set of vertices reachable from $v$ in one step, by following one edge; we call these vertices the _successors_ of $v$. \n",
        "\n",
        "Writing a function g.successors(u) that returns the set of successors of $u$ is simple enough.  Note that the code directly mimicks the mathematical definition: \n",
        "\n",
        "$$\n",
        "\\mathit{Successors}(u) = \\{v \\in V \\mid (u, v) \\in E\\} \\; .\n",
        "$$"
      ]
    },
    {
      "cell_type": "code",
      "metadata": {
        "deletable": false,
        "editable": false,
        "nbgrader": {
          "checksum": "cc78779a98eecdf58ab40ef3204b8d65",
          "grade": false,
          "grade_id": "cell-7ae5e21a82ad346",
          "locked": true,
          "schema_version": 1,
          "solution": false
        },
        "id": "-egY4ONdcfa_"
      },
      "source": [
        "import networkx as nx # Library for displaying graphs.\n",
        "\n",
        "class Graph(object):\n",
        "\n",
        "    def __init__(self, vertices=None, edges=None):\n",
        "        # We use set below, just in case somebody passes a list to the initializer.\n",
        "        self.vertices = set(vertices or [])\n",
        "        self.edges = set(edges or [])\n",
        "\n",
        "    def show(self):\n",
        "        g = nx.DiGraph()\n",
        "        g.add_nodes_from(self.vertices)\n",
        "        g.add_edges_from(self.edges)\n",
        "        nx.draw(g, with_labels=True)\n",
        "\n",
        "    def add_vertex(self, v):\n",
        "        self.vertices.add(v)\n",
        "\n",
        "    def add_edge(self, e):\n",
        "        self.edges.add(e)\n",
        "\n",
        "    def successors(self, u):\n",
        "        \"\"\"Returns the set of successors of vertex u\"\"\"\n",
        "        return {v for v in self.vertices if (u, v) in self.edges}\n"
      ],
      "execution_count": 201,
      "outputs": []
    },
    {
      "cell_type": "code",
      "metadata": {
        "deletable": false,
        "editable": false,
        "nbgrader": {
          "checksum": "04ef4671246a2da9215aa8d66699b09b",
          "grade": false,
          "grade_id": "cell-4d9ae09f53763cc3",
          "locked": true,
          "schema_version": 1,
          "solution": false
        },
        "id": "OAvPWeyucfa_",
        "colab": {
          "base_uri": "https://localhost:8080/"
        },
        "outputId": "6574e18d-dd6a-4855-a080-6b3ae63deca5"
      },
      "source": [
        "g = Graph(vertices={'a', 'b', 'c', 'd', 'e', 'f', 'g'},\n",
        "          edges={('a', 'b'), ('a', 'c'), ('a', 'd'), ('b', 'd'),\n",
        "                 ('c', 'a'), ('c', 'e'), ('d', 'b'), ('d', 'c'),\n",
        "                 ('f', 'g'), ('g', 'f')})\n",
        "g.successors('a')\n"
      ],
      "execution_count": 202,
      "outputs": [
        {
          "output_type": "execute_result",
          "data": {
            "text/plain": [
              "{'b', 'c', 'd'}"
            ]
          },
          "metadata": {
            "tags": []
          },
          "execution_count": 202
        }
      ]
    },
    {
      "cell_type": "markdown",
      "metadata": {
        "deletable": false,
        "editable": false,
        "nbgrader": {
          "checksum": "ae9c6fbe854249c288ddedf57c8ace80",
          "grade": false,
          "grade_id": "cell-3c959888f14aab3f",
          "locked": true,
          "schema_version": 1,
          "solution": false
        },
        "id": "rkkKcnLzcfa_"
      },
      "source": [
        "But there's a rub.  The method successors, as written, requires us to loop over the whole set of vertices.  Because self.edges is a set, represented as a hash table, once we have a pair (u, v), checking \n",
        "\n",
        "    (v, u) in self.edges\n",
        "    \n",
        "is efficient.  But typically, graphs have a locality structure, so that each node is connected only to a small subset of the total vertices; having to loop over all vertices to find the successors of a vertex is a great waste. \n",
        "It is as if I asked you to what places you can get from San Francisco with a direct flight, and to answer, you started to rattle off all of the world's cities, from Aachen, Aalborg, Aarhus, ..., all the way to Zürich, Zuwarah, Zwolle, and for each city you checked if there's a flight from San Francisco to that city!  Clearly not the best method.\n",
        "\n",
        "Given that our main use for graphs is to answer reachability-type questions, a better idea is to store the edges via a dictionary that associates with each vertex the set of successors of the vertex.  The vertices will simply be the keys of the dictionary.\n"
      ]
    },
    {
      "cell_type": "code",
      "metadata": {
        "deletable": false,
        "editable": false,
        "nbgrader": {
          "checksum": "c956e8b4fd24406cea6738cf4a7af9b5",
          "grade": false,
          "grade_id": "cell-f6bfce2cf9273863",
          "locked": true,
          "schema_version": 1,
          "solution": false
        },
        "id": "E-w1g1htcfbA"
      },
      "source": [
        "import networkx as nx # Library for displaying graphs.\n",
        "from collections import defaultdict\n",
        "\n",
        "class Graph(object):\n",
        "\n",
        "    def __init__(self, vertices=None, edges=None):\n",
        "        self.s = {u: set() for u in vertices or []}\n",
        "        for u, v in (edges or []):\n",
        "            self.add_edge((u, v))\n",
        "\n",
        "    def show(self):\n",
        "        g = nx.DiGraph()\n",
        "        g.add_nodes_from(self.s.keys())\n",
        "        g.add_edges_from([(u, v) for u in self.s for v in self.s[u]])\n",
        "        nx.draw(g, with_labels=True)\n",
        "\n",
        "    def add_vertex(self, v):\n",
        "        if v not in self.s:\n",
        "            self.s[v] = set()\n",
        "\n",
        "    def add_edge(self, e):\n",
        "        u, v = e\n",
        "        self.add_vertex(u)\n",
        "        self.add_vertex(v)\n",
        "        self.s[u].add(v)\n",
        "\n",
        "    @property\n",
        "    def vertices(self):\n",
        "        return set(self.s.keys())\n",
        "\n",
        "    def successors(self, u):\n",
        "        \"\"\"Returns the set of successors of vertex u\"\"\"\n",
        "        return self.s[u]\n"
      ],
      "execution_count": 203,
      "outputs": []
    },
    {
      "cell_type": "code",
      "metadata": {
        "deletable": false,
        "editable": false,
        "nbgrader": {
          "checksum": "1a0651479553de51dbea51fa315438dd",
          "grade": false,
          "grade_id": "cell-fbfbf3133e5bec1f",
          "locked": true,
          "schema_version": 1,
          "solution": false
        },
        "id": "TMFtj0NJcfbA",
        "colab": {
          "base_uri": "https://localhost:8080/",
          "height": 336
        },
        "outputId": "82e81ece-5369-409f-d8dd-68a0f859461b"
      },
      "source": [
        "g = Graph(vertices={'a', 'b', 'c', 'd', 'e', 'f', 'g'},\n",
        "          edges={('a', 'b'), ('a', 'c'), ('a', 'd'), ('b', 'd'),\n",
        "                 ('c', 'a'), ('c', 'e'), ('d', 'b'), ('d', 'c'),\n",
        "                 ('f', 'g'), ('g', 'f')})\n",
        "g.show()\n",
        "print(g.successors('a'))\n"
      ],
      "execution_count": 204,
      "outputs": [
        {
          "output_type": "stream",
          "text": [
            "{'d', 'c', 'b'}\n"
          ],
          "name": "stdout"
        },
        {
          "output_type": "display_data",
          "data": {
            "image/png": "[encoded data removed]",
            "text/plain": [
              "<Figure size 432x288 with 1 Axes>"
            ]
          },
          "metadata": {
            "tags": []
          }
        }
      ]
    },
    {
      "cell_type": "markdown",
      "metadata": {
        "deletable": false,
        "editable": false,
        "nbgrader": {
          "checksum": "df727fb7e91fbaa50f2ed76266f1df07",
          "grade": false,
          "grade_id": "cell-e328cd4e08666c96",
          "locked": true,
          "schema_version": 1,
          "solution": false
        },
        "id": "LlFa9tgjcfbA"
      },
      "source": [
        "## Graph Reachability"
      ]
    },
    {
      "cell_type": "markdown",
      "metadata": {
        "deletable": false,
        "editable": false,
        "nbgrader": {
          "checksum": "1cffb128fd7fa70785646001d5bf364f",
          "grade": false,
          "grade_id": "cell-72f9903dafaa3c7f",
          "locked": true,
          "schema_version": 1,
          "solution": false
        },
        "id": "Q771VNNxcfbB"
      },
      "source": [
        "We now come to one of the fundamental graph algorithms, in fact, perhaps _the_ most fundamental algorithm for graphs: computing the set of vertices reachable from a given starting vertex.  Exploring what is reachable from a graph vertex is a truly basic task, and variations on the algorithm can be used to answer related questions, such as whether a vertex is reachable from a given starting vertex. \n",
        "\n",
        "The algorithm keeps two sets of vertices: \n",
        "\n",
        "* The set of _open_ vertices: these are the vertices that are known to be reachable, and whose successors have not yet been explored. \n",
        "* The set of _closed_ vertices: these are the vertices that are known to be reachable, and whose successors we have already explored. \n",
        "\n",
        "Intially, the set of open vertices contains only the starting vertex, and the set of closed vertices is empty, as we have completed no exploration. \n",
        "Repeatedly, we pick an open vertex, we move it to the closed set, and we put all its successor vertices -- except those that are closed already -- in the open set.   The algorithm continues until there are no more open vertices; at that point, the set of reachable vertices is equal to the closed vertices.  \n",
        "\n",
        "If there is _one_ graph algorithm that you must learn by heart, and that you should be able to write even when you hang upside down from monkeybars, this is it.\n",
        "\n",
        "Let us write the algorithm as a function first. \n"
      ]
    },
    {
      "cell_type": "code",
      "metadata": {
        "deletable": false,
        "editable": false,
        "nbgrader": {
          "checksum": "50f7f1c6997999f3bcd7a5ad8e978628",
          "grade": false,
          "grade_id": "cell-ebdfc4497c43f2bc",
          "locked": true,
          "schema_version": 1,
          "solution": false
        },
        "id": "l2c1bYKNcfbB"
      },
      "source": [
        "def reachable(g, v):\n",
        "    \"\"\"Given a graph g, and a starting vertex v, returns the set of states\n",
        "    reachable from v in g.\"\"\"\n",
        "    vopen = {v}\n",
        "    vclosed = set()\n",
        "    while len(vopen) > 0:\n",
        "        u = vopen.pop()\n",
        "        vclosed.add(u)\n",
        "        vopen.update(g.successors(u) - vclosed)\n",
        "    return vclosed\n"
      ],
      "execution_count": 205,
      "outputs": []
    },
    {
      "cell_type": "code",
      "metadata": {
        "deletable": false,
        "editable": false,
        "nbgrader": {
          "checksum": "57e38787d7ad0966c8fe90f03e1bb85b",
          "grade": false,
          "grade_id": "cell-40f123a70f8ba1be",
          "locked": true,
          "schema_version": 1,
          "solution": false
        },
        "id": "M_Cj53pwcfbB",
        "colab": {
          "base_uri": "https://localhost:8080/"
        },
        "outputId": "9fbde1d1-df95-4a78-b8d9-d90462165c2e"
      },
      "source": [
        "print(reachable(g, 'a'))\n",
        "print(reachable(g, 'g'))\n"
      ],
      "execution_count": 206,
      "outputs": [
        {
          "output_type": "stream",
          "text": [
            "{'d', 'e', 'b', 'c', 'a'}\n",
            "{'f', 'g'}\n"
          ],
          "name": "stdout"
        }
      ]
    },
    {
      "cell_type": "markdown",
      "metadata": {
        "deletable": false,
        "editable": false,
        "nbgrader": {
          "checksum": "eafd20e6ecafbe207ff20639b9308566",
          "grade": false,
          "grade_id": "cell-9707cf6522600052",
          "locked": true,
          "schema_version": 1,
          "solution": false
        },
        "id": "4UeoAB_KcfbC"
      },
      "source": [
        "To visualize the algorithm, let us write a version where at each iteration, open vertices are drawn in red and closed ones in green"
      ]
    },
    {
      "cell_type": "code",
      "metadata": {
        "deletable": false,
        "editable": false,
        "nbgrader": {
          "checksum": "f2644ab0dc2e1e08a200cf5985aa013c",
          "grade": false,
          "grade_id": "cell-b8e1d6e27079e6e",
          "locked": true,
          "schema_version": 1,
          "solution": false
        },
        "id": "4Mogvk3NcfbC"
      },
      "source": [
        "import matplotlib.pyplot as plt\n",
        "def color_draw(g, vopen, vclosed):\n",
        "    gg = nx.DiGraph()\n",
        "    gg.add_nodes_from(g.vertices)\n",
        "    gg.add_edges_from([(u, v) for u in g.vertices for v in g.successors(u)])\n",
        "    node_colors = ''.join([('r' if v in vopen else 'g' if v in vclosed else 'b')\n",
        "                           for v in g.vertices])\n",
        "    nx.draw(gg, with_labels=True, node_color=node_colors)\n",
        "    plt.show()\n",
        "\n",
        "def reachable(g, v):\n",
        "    \"\"\"Given a graph g, and a starting vertex v, returns the set of states\n",
        "    reachable from v in g.\"\"\"\n",
        "    vopen = {v}\n",
        "    vclosed = set()\n",
        "    color_draw(g, vopen, vclosed)\n",
        "    while len(vopen) > 0:\n",
        "        u = vopen.pop()\n",
        "        vclosed.add(u)\n",
        "        vopen.update(g.successors(u) - vclosed)\n",
        "        color_draw(g, vopen, vclosed)\n",
        "    return vclosed\n"
      ],
      "execution_count": 207,
      "outputs": []
    },
    {
      "cell_type": "code",
      "metadata": {
        "deletable": false,
        "editable": false,
        "nbgrader": {
          "checksum": "ea6f714fcd43da94da7f7978140e3624",
          "grade": false,
          "grade_id": "cell-3bc0f00ed06f1d1f",
          "locked": true,
          "schema_version": 1,
          "solution": false
        },
        "id": "lplKEXm0cfbC",
        "colab": {
          "base_uri": "https://localhost:8080/",
          "height": 1000
        },
        "outputId": "83bdab22-d0d2-4166-9dcc-a158ecc931fb"
      },
      "source": [
        "reachable(g, 'a')\n"
      ],
      "execution_count": 208,
      "outputs": [
        {
          "output_type": "stream",
          "text": [
            "/usr/local/lib/python3.7/dist-packages/networkx/drawing/nx_pylab.py:478: MatplotlibDeprecationWarning: Using a string of single character colors as a color sequence is deprecated. Use an explicit list instead.\n",
            "  label=label,\n"
          ],
          "name": "stderr"
        },
        {
          "output_type": "display_data",
          "data": {
            "image/png": "[encoded data removed]",
            "text/plain": [
              "<Figure size 432x288 with 1 Axes>"
            ]
          },
          "metadata": {
            "tags": []
          }
        },
        {
          "output_type": "display_data",
          "data": {
            "image/png": "[encoded data removed]",
            "text/plain": [
              "<Figure size 432x288 with 1 Axes>"
            ]
          },
          "metadata": {
            "tags": []
          }
        },
        {
          "output_type": "display_data",
          "data": {
            "image/png": "[encoded data removed]",
            "text/plain": [
              "<Figure size 432x288 with 1 Axes>"
            ]
          },
          "metadata": {
            "tags": []
          }
        },
        {
          "output_type": "display_data",
          "data": {
            "image/png": "[encoded data removed]",
            "text/plain": [
              "<Figure size 432x288 with 1 Axes>"
            ]
          },
          "metadata": {
            "tags": []
          }
        },
        {
          "output_type": "display_data",
          "data": {
            "image/png": "[encoded data removed]",
            "text/plain": [
              "<Figure size 432x288 with 1 Axes>"
            ]
          },
          "metadata": {
            "tags": []
          }
        },
        {
          "output_type": "display_data",
          "data": {
            "image/png": "[encoded data removed]",
            "text/plain": [
              "<Figure size 432x288 with 1 Axes>"
            ]
          },
          "metadata": {
            "tags": []
          }
        },
        {
          "output_type": "execute_result",
          "data": {
            "text/plain": [
              "{'a', 'b', 'c', 'd', 'e'}"
            ]
          },
          "metadata": {
            "tags": []
          },
          "execution_count": 208
        }
      ]
    },
    {
      "cell_type": "markdown",
      "metadata": {
        "deletable": false,
        "editable": false,
        "nbgrader": {
          "checksum": "e9fd38df5cae23b38ae4732b0113166b",
          "grade": false,
          "grade_id": "cell-b86b868bac66df1d",
          "locked": true,
          "schema_version": 1,
          "solution": false
        },
        "id": "HHCFVdAHcfbC"
      },
      "source": [
        "Great!  Let's now endow our graph with a method that yields the vertices reachable from any given starting vertex."
      ]
    },
    {
      "cell_type": "code",
      "metadata": {
        "deletable": false,
        "editable": false,
        "nbgrader": {
          "checksum": "fe2f34a24ae4281d81f56c4fac7013b6",
          "grade": false,
          "grade_id": "cell-b3ff972f5ef72b67",
          "locked": true,
          "schema_version": 1,
          "solution": false
        },
        "id": "g7_Px938cfbC"
      },
      "source": [
        "import networkx as nx # Library for displaying graphs.\n",
        "\n",
        "class Graph(object):\n",
        "\n",
        "    def __init__(self, vertices=None, edges=None):\n",
        "        self.s = {u: set() for u in vertices or []}\n",
        "        for u, v in (edges or []):\n",
        "            self.add_edge((u, v))\n",
        "\n",
        "    def show(self):\n",
        "        g = nx.DiGraph()\n",
        "        g.add_nodes_from(self.s.keys())\n",
        "        g.add_edges_from([(u, v) for u in self.s for v in self.s[u]])\n",
        "        nx.draw(g, with_labels=True)\n",
        "\n",
        "    def add_vertex(self, v):\n",
        "        if v not in self.s:\n",
        "            self.s[v] = set()\n",
        "\n",
        "    def add_edge(self, e):\n",
        "        u, v = e\n",
        "        self.add_vertex(u)\n",
        "        self.add_vertex(v)\n",
        "        self.s[u].add(v)\n",
        "\n",
        "    @property\n",
        "    def vertices(self):\n",
        "        return set(self.s.keys())\n",
        "\n",
        "    def successors(self, u):\n",
        "        \"\"\"Returns true iff one can get from vertex v to vertex u by following\n",
        "        one edge.\"\"\"\n",
        "        return self.s[u]\n",
        "\n",
        "    def __eq__(self, other):\n",
        "        \"\"\"We need to define graph equality.\"\"\"\n",
        "        if self.vertices != other.vertices:\n",
        "            return False\n",
        "        for v, d in self.s.items():\n",
        "            if d != other.s[v]:\n",
        "                return False\n",
        "        return True\n",
        "\n",
        "    def __repr__(self):\n",
        "        r = \"Graph:\"\n",
        "        for v in self.vertices:\n",
        "            r += \"\\n %r : %r\" % (v, self.s.get(v))\n",
        "        return r\n",
        "\n",
        "    def show(self):\n",
        "        g = nx.DiGraph()\n",
        "        g.add_nodes_from(self.vertices)\n",
        "        g.add_edges_from([(u, v) for u in self.vertices for v in self.s[u]])\n",
        "        nx.draw(g, with_labels=True)\n",
        "\n",
        "    def add_vertex(self, v):\n",
        "        self.vertices.add(v)\n",
        "        # We must be careful not to overwrite the successor relation\n",
        "        # in case v might already be present in the graph.\n",
        "        self.s[v] = self.s.get(v, set())\n",
        "\n",
        "    def add_edge(self, e):\n",
        "        \"\"\"Adds an edge e = (u, v) between two vertices u, v.  If the\n",
        "        two vertices are not already in the graph, adds them.\"\"\"\n",
        "        u, v = e\n",
        "        self.vertices.update({u, v})\n",
        "        # Initializes the successor function if needed.\n",
        "        self.s[u] = self.s.get(u, set()) | {v}\n",
        "        self.s[v] = self.s.get(v, set())\n",
        "\n",
        "    def successors(self, u):\n",
        "        \"\"\"Returns the set of successors of a vertex u\"\"\"\n",
        "        return self.s[u]\n",
        "\n",
        "    def reachable(self, v):\n",
        "        \"\"\"Returns the set of vertices reachable from an initial vertex v.\"\"\"\n",
        "        vopen = {v}\n",
        "        vclosed = set()\n",
        "        while len(vopen) > 0:\n",
        "            u = vopen.pop()\n",
        "            vclosed.add(u)\n",
        "            vopen.update(self.s[u] - vclosed)\n",
        "        return vclosed\n"
      ],
      "execution_count": 209,
      "outputs": []
    },
    {
      "cell_type": "markdown",
      "metadata": {
        "deletable": false,
        "editable": false,
        "nbgrader": {
          "checksum": "5a9f2f6f2fef6a514d2848bcc73bfade",
          "grade": false,
          "grade_id": "cell-569eda2a38cd00fc",
          "locked": true,
          "schema_version": 1,
          "solution": false
        },
        "id": "1UTpPPCocfbC"
      },
      "source": [
        "### Testing the implementation\n",
        "\n",
        "This seems to be a reasonable implementation.  Let us do some tests, to check that everything works as expected.  The nose tools are very handy for testing.\n",
        "We have written a _check function that enables us to test whether the definition of a graph is self consistent.  Writing such consistency checks is very useful.  In development, we may call them often.  In production code, we may choose to call them at key points in the code, to prevent the propagation of errors to distant places in the code. "
      ]
    },
    {
      "cell_type": "code",
      "metadata": {
        "deletable": false,
        "editable": false,
        "nbgrader": {
          "checksum": "9980e1ec3019fd9be6eb4e5979ccc852",
          "grade": false,
          "grade_id": "cell-24132b32bd94d29b",
          "locked": true,
          "schema_version": 1,
          "solution": false
        },
        "id": "JDiuQazpcfbD"
      },
      "source": [
        "import random\n"
      ],
      "execution_count": 210,
      "outputs": []
    },
    {
      "cell_type": "markdown",
      "metadata": {
        "deletable": false,
        "editable": false,
        "nbgrader": {
          "checksum": "9913f41aefe4a1e0661619b6abde2c86",
          "grade": false,
          "grade_id": "cell-54db282870becd89",
          "locked": true,
          "schema_version": 1,
          "solution": false
        },
        "id": "mV1aCWMAcfbD"
      },
      "source": [
        "Let's build constructors for random graphs."
      ]
    },
    {
      "cell_type": "code",
      "metadata": {
        "deletable": false,
        "editable": false,
        "nbgrader": {
          "checksum": "fa835e30a66884281a7111fa22f344b6",
          "grade": false,
          "grade_id": "cell-9711b1c6ada317a9",
          "locked": true,
          "schema_version": 1,
          "solution": false
        },
        "id": "18bdhU1KcfbD"
      },
      "source": [
        "vertices = list('abcdefghilmnopqrstuvz')\n",
        "\n",
        "def random_vertices():\n",
        "    \"\"\"Returns a set of random vertices.\"\"\"\n",
        "    return set(random.choices(vertices, k=12))\n",
        "\n",
        "def random_edges(vs):\n",
        "    \"\"\"Returns a set of random edges, given a set of vertices.\"\"\"\n",
        "    vxv = [(u, v) for u in vs for v in vs]\n",
        "    return set(random.choices(vxv, k=min(len(vxv), 50)))\n",
        "\n",
        "def random_graph():\n",
        "    vs = random_vertices()\n",
        "    e = random_edges(vs)\n",
        "    return Graph(vertices=vs, edges=e)\n"
      ],
      "execution_count": 211,
      "outputs": []
    },
    {
      "cell_type": "markdown",
      "metadata": {
        "deletable": false,
        "editable": false,
        "nbgrader": {
          "checksum": "6868396e4bdc0cb85520b01a95e33d2e",
          "grade": false,
          "grade_id": "cell-c03223a034d6a018",
          "locked": true,
          "schema_version": 1,
          "solution": false
        },
        "id": "35vPXCG1cfbD"
      },
      "source": [
        "We can create random graphs."
      ]
    },
    {
      "cell_type": "code",
      "metadata": {
        "deletable": false,
        "editable": false,
        "nbgrader": {
          "checksum": "1d4327926fec29c22eb6ef8a0c0046a2",
          "grade": false,
          "grade_id": "cell-60b2e87b3c501b57",
          "locked": true,
          "schema_version": 1,
          "solution": false
        },
        "id": "IIH-bPgycfbD"
      },
      "source": [
        "for _ in range(100):\n",
        "    g = Graph()\n",
        "    vs = random_vertices()\n",
        "    es = random_edges(vs)\n",
        "    for e in es:\n",
        "        g.add_edge(e)\n"
      ],
      "execution_count": 212,
      "outputs": []
    },
    {
      "cell_type": "markdown",
      "metadata": {
        "deletable": false,
        "editable": false,
        "nbgrader": {
          "checksum": "f754f15ff2c6c5b56def07c3144e03eb",
          "grade": false,
          "grade_id": "cell-5e004bc8440b9108",
          "locked": true,
          "schema_version": 1,
          "solution": false
        },
        "id": "0Myvw2ORcfbE"
      },
      "source": [
        "Let's check that the graph we obtain does not depend on the order with which we add the vertices and edges."
      ]
    },
    {
      "cell_type": "code",
      "metadata": {
        "deletable": false,
        "editable": false,
        "nbgrader": {
          "checksum": "a4d5c7df591e03a810402dc5b2b63ec6",
          "grade": false,
          "grade_id": "cell-ca5494cc5bb6757a",
          "locked": true,
          "schema_version": 1,
          "solution": false
        },
        "id": "Mjri8WEXcfbE"
      },
      "source": [
        "for _ in range(100):\n",
        "    vs = random_vertices()\n",
        "    es = list(random_edges(vs))\n",
        "    g1 = Graph(vertices=vs, edges=es)\n",
        "    g2 = Graph(vertices=vs)\n",
        "    g3 = Graph(vertices=vs)\n",
        "    esp = es[:] # Creates a copy.\n",
        "    random.shuffle(esp)\n",
        "    for e in es:\n",
        "        g2.add_edge(e)\n",
        "    for e in esp:\n",
        "        g3.add_edge(e)\n",
        "    assert g1 == g2\n",
        "    assert g1 == g3\n"
      ],
      "execution_count": 213,
      "outputs": []
    },
    {
      "cell_type": "markdown",
      "metadata": {
        "deletable": false,
        "editable": false,
        "nbgrader": {
          "checksum": "c9c38b61d54e62ddba2d74b13ef2e827",
          "grade": false,
          "grade_id": "cell-e46055c72d630412",
          "locked": true,
          "schema_version": 1,
          "solution": false
        },
        "id": "oATWns26cfbE"
      },
      "source": [
        "## Graph Operations"
      ]
    },
    {
      "cell_type": "markdown",
      "metadata": {
        "deletable": false,
        "editable": false,
        "nbgrader": {
          "checksum": "60c7ad4369b603c42608e652c4f03853",
          "grade": false,
          "grade_id": "cell-9410b43abd656c2d",
          "locked": true,
          "schema_version": 1,
          "solution": false
        },
        "id": "FJiieAJbcfbE"
      },
      "source": [
        "What are useful, general graph operations we may implement?  Here are a few. \n",
        "\n",
        "*   **Union** and **intersection**. \n",
        "*   **Induced:** given a graph $G = (V, E)$ and a set of vertices $U$, we return the graph with set of vertices $V \\cap U$ and set of edges $E \\cap (V\\cap U \\times V \\cap U)$. This is the portion of the original graph that only involves vertices in V. \n",
        "* **Difference:** Remove, from a graph $G$, all vertices in a specified set $U$, along with the edges that have an endpoint in $U$. \n",
        "\n",
        "We will have you implement graph union. "
      ]
    },
    {
      "cell_type": "code",
      "metadata": {
        "deletable": false,
        "editable": false,
        "nbgrader": {
          "checksum": "e7537a9d5c0b684cf2836e78d256aeed",
          "grade": false,
          "grade_id": "cell-351521709b8c85b",
          "locked": true,
          "schema_version": 1,
          "solution": false
        },
        "id": "DOxPtSu0cfbE"
      },
      "source": [
        "import networkx as nx # Library for displaying graphs.\n",
        "\n",
        "class Graph(object):\n",
        "\n",
        "    def __init__(self, vertices=None, edges=None):\n",
        "        self.s = {u: set() for u in vertices or []}\n",
        "        for u, v in (edges or []):\n",
        "            self.add_edge((u, v))\n",
        "\n",
        "    def show(self):\n",
        "        g = nx.DiGraph()\n",
        "        g.add_nodes_from(self.s.keys())\n",
        "        g.add_edges_from([(u, v) for u in self.s for v in self.s[u]])\n",
        "        nx.draw(g, with_labels=True)\n",
        "\n",
        "    def add_vertex(self, v):\n",
        "        if v not in self.s:\n",
        "            self.s[v] = set()\n",
        "\n",
        "    def add_edge(self, e):\n",
        "        u, v = e\n",
        "        self.add_vertex(u)\n",
        "        self.add_vertex(v)\n",
        "        self.s[u].add(v)\n",
        "\n",
        "    @property\n",
        "    def vertices(self):\n",
        "        return set(self.s.keys())\n",
        "\n",
        "    @property\n",
        "    def edges(self):\n",
        "        return {(u, v) for u, d in self.s.items() for v in d}\n",
        "\n",
        "    def successors(self, u):\n",
        "        \"\"\"Returns the set of successors of vertex u\"\"\"\n",
        "        return self.s[u]\n",
        "\n",
        "    def __eq__(self, other):\n",
        "        \"\"\"We need to define graph equality.\"\"\"\n",
        "        if self.vertices != other.vertices:\n",
        "            return False\n",
        "        for v, d in self.s.items():\n",
        "            if d != other.s[v]:\n",
        "                return False\n",
        "        return True\n",
        "\n",
        "    def __repr__(self):\n",
        "        r = \"Graph:\"\n",
        "        for v in self.vertices:\n",
        "            r += \"\\n %r : %r\" % (v, self.s.get(v))\n",
        "        return r\n",
        "\n",
        "    def show(self):\n",
        "        g = nx.DiGraph()\n",
        "        g.add_nodes_from(self.vertices)\n",
        "        g.add_edges_from([(u, v) for u in self.vertices for v in self.s[u]])\n",
        "        nx.draw(g, with_labels=True)\n",
        "\n",
        "    def add_vertex(self, v):\n",
        "        self.vertices.add(v)\n",
        "        # We must be careful not to overwrite the successor relation\n",
        "        # in case v might already be present in the graph.\n",
        "        self.s[v] = self.s.get(v, set())\n",
        "\n",
        "    def add_edge(self, e):\n",
        "        \"\"\"Adds an edge e = (u, v) between two vertices u, v.  If the\n",
        "        two vertices are not already in the graph, adds them.\"\"\"\n",
        "        u, v = e\n",
        "        self.vertices.update({u, v})\n",
        "        # Initializes the successor function if needed.\n",
        "        self.s[u] = self.s.get(u, set()) | {v}\n",
        "        self.s[v] = self.s.get(v, set())\n",
        "\n",
        "    def successors(self, u):\n",
        "        \"\"\"Returns the set of successors of a vertex u\"\"\"\n",
        "        return self.s[u]\n",
        "\n",
        "    def reachable(self, v):\n",
        "        \"\"\"Returns the set of vertices reachable from an initial vertex v.\"\"\"\n",
        "        vopen = {v}\n",
        "        vclosed = set()\n",
        "        while len(vopen) > 0:\n",
        "            u = vopen.pop()\n",
        "            vclosed.add(u)\n",
        "            vopen.update(self.s[u] - vclosed)\n",
        "        return vclosed\n",
        "\n",
        "    def __and__(self, g):\n",
        "        \"\"\"Returns the intersection of the current graph with a\n",
        "        specified graph g.\"\"\"\n",
        "        return Graph(vertices=self.vertices & g.vertices,\n",
        "                     edges=self.edges & g.edges)\n",
        "\n",
        "    def induced(self, vertex_set):\n",
        "        \"\"\"Returns the subgraph induced by the set of vertices vertex_set.\"\"\"\n",
        "        common_vertices = vertex_set & self.vertices\n",
        "        gg = Graph(vertices = common_vertices)\n",
        "        for v in common_vertices:\n",
        "            gg.s[v] = self.s[v] & common_vertices\n",
        "        gg._check()\n",
        "        return gg\n"
      ],
      "execution_count": 214,
      "outputs": []
    },
    {
      "cell_type": "markdown",
      "metadata": {
        "deletable": false,
        "editable": false,
        "nbgrader": {
          "checksum": "9374f51ae6472c9d86797ffbc873b451",
          "grade": false,
          "grade_id": "cell-3c5cbed383ac39ba",
          "locked": true,
          "schema_version": 1,
          "solution": false
        },
        "id": "a87Vmwx8cfbE"
      },
      "source": [
        "## Question 1: Is a graph a tree? \n",
        "\n",
        "A tree is a graph $(V, E)$ with two special properties: \n",
        "\n",
        "* Every vertex has at most one incoming edge.\n",
        "* Either there are no vertices, or there is a vertex with no incoming edges, called the _root_, from which all other vertices are reachable. \n",
        "\n",
        "If the second property does not hold, incidentally, the graph is called a _forest._\n",
        "\n",
        "Write an `is_tree` property that has value True if the graph is a tree, and has value False otherwise."
      ]
    },
    {
      "cell_type": "code",
      "metadata": {
        "deletable": false,
        "nbgrader": {
          "checksum": "241e2ef17661b70229f3ee346ab3d88b",
          "grade": false,
          "grade_id": "cell-e435a45feabea544",
          "locked": false,
          "schema_version": 1,
          "solution": true
        },
        "id": "srNwk22ycfbE",
        "cellView": "code"
      },
      "source": [
        " #@title Implementation of tree test\n",
        "\n",
        "def graph_is_tree(self):\n",
        "    \"\"\"Returns True iff the graph is a tree.\"\"\"\n",
        "    if self.vertices == set():\n",
        "        return True \n",
        "    incoming_edge = [x for _, x in self.edges]\n",
        "    if len(incoming_edge) != len(set(incoming_edge)):\n",
        "        return False\n",
        "    for i in self.vertices:\n",
        "        val = self.reachable(i)\n",
        "        if set(self.vertices) == val:\n",
        "            for j in self.vertices:\n",
        "                if j == i:\n",
        "                    continue\n",
        "                val2 = self.reachable(j)\n",
        "                if i in val2:\n",
        "                    break\n",
        "            else:\n",
        "                return True\n",
        "    return False\n",
        "Graph.is_tree = property(graph_is_tree)\n"
      ],
      "execution_count": 215,
      "outputs": []
    },
    {
      "cell_type": "code",
      "metadata": {
        "deletable": false,
        "nbgrader": {
          "checksum": "aafdc23f574d79439847d8e0261a7613",
          "grade": false,
          "grade_id": "cell-a77de0734c007011",
          "locked": false,
          "schema_version": 1,
          "solution": true
        },
        "id": "ZyGC4PTzcfbF"
      },
      "source": [
        "# You may want to write tests here. \n",
        "\n",
        "### YOUR CODE HERE\n",
        "g = Graph(vertices=[1, 2, 3, 4], edges=[(1, 4), (1, 2), (2, 3), (3, 1)])\n",
        "assert not g.is_tree\n",
        "\n",
        "g = Graph(vertices=[1, 2, 3], edges=[(1, 2), (1, 3), (3, 1)])\n",
        "assert not g.is_tree"
      ],
      "execution_count": 216,
      "outputs": []
    },
    {
      "cell_type": "code",
      "metadata": {
        "deletable": false,
        "editable": false,
        "nbgrader": {
          "checksum": "2271f3d7d97e01fda49847287ffc8e6c",
          "grade": true,
          "grade_id": "cell-f9cdcf51d2a15d78",
          "locked": true,
          "points": 10,
          "schema_version": 1,
          "solution": false
        },
        "id": "_-zSJZydcfbF"
      },
      "source": [
        " ### 10 points: Tests for tree. \n",
        "\n",
        "g = Graph(vertices=[1, 2, 3], edges=[(1, 2), (1, 3)])\n",
        "assert g.is_tree\n",
        "\n",
        "g = Graph(vertices=[1, 2, 3], edges=[(1, 2), (2, 3), (1, 3)])\n",
        "assert not g.is_tree\n",
        "\n",
        "g = Graph(vertices=[1, 2, 3], edges=[(1, 3), (2, 3)])\n",
        "assert not g.is_tree\n",
        "\n",
        "g = Graph(vertices=['a', 'b'], edges=[('a', 'b')])\n",
        "assert g.is_tree\n",
        "\n",
        "g = Graph(vertices=['a', 'b'], edges=[('a', 'b'), ('b', 'a')])\n",
        "assert not g.is_tree\n"
      ],
      "execution_count": 217,
      "outputs": []
    },
    {
      "cell_type": "code",
      "metadata": {
        "deletable": false,
        "editable": false,
        "nbgrader": {
          "checksum": "e3fa9c03fd818e3f4d0063de79a4d969",
          "grade": true,
          "grade_id": "cell-7361f4f32187df70",
          "locked": true,
          "points": 10,
          "schema_version": 1,
          "solution": false
        },
        "id": "xaq8-MFDcfbF"
      },
      "source": [
        "### 10 points: Hidden tests for is_tree\n"
      ],
      "execution_count": 218,
      "outputs": []
    },
    {
      "cell_type": "code",
      "metadata": {
        "deletable": false,
        "editable": false,
        "nbgrader": {
          "checksum": "2baaefdbcedfdbc5b586799b4f4e4955",
          "grade": true,
          "grade_id": "cell-3b14bb1e3e544690",
          "locked": true,
          "points": 10,
          "schema_version": 1,
          "solution": false
        },
        "id": "Ov_tlbLzcfbF"
      },
      "source": [
        "### 10 points: More tests for `is_tree`\n",
        "\n",
        "g = Graph()\n",
        "assert g.is_tree\n",
        "\n",
        "g = Graph(vertices=['a', 'b', 'c', 'd'], edges=[('a', 'b'), ('c', 'd')])\n",
        "assert not g.is_tree\n",
        "\n",
        "g = Graph(vertices=['a', 'b', 'c', 'd'], edges=[('a', 'b'), ('b', 'c'), ('c', 'd')])\n",
        "assert g.is_tree"
      ],
      "execution_count": 219,
      "outputs": []
    },
    {
      "cell_type": "code",
      "metadata": {
        "deletable": false,
        "editable": false,
        "nbgrader": {
          "checksum": "d9ab3bbf548d51a55927a6c9eb0b60dd",
          "grade": true,
          "grade_id": "cell-dc51bf98ed8154cf",
          "locked": true,
          "points": 10,
          "schema_version": 1,
          "solution": false
        },
        "id": "3yRzYHdTcfbF"
      },
      "source": [
        "## 10 points: More hidden tests for `is_tree`\n"
      ],
      "execution_count": 220,
      "outputs": []
    },
    {
      "cell_type": "markdown",
      "metadata": {
        "deletable": false,
        "editable": false,
        "nbgrader": {
          "checksum": "f1d6cadfb9ddc7fb47b0b0bd1ec86089",
          "grade": false,
          "grade_id": "cell-c1d74f4ac85cada2",
          "locked": true,
          "schema_version": 1,
          "solution": false
        },
        "id": "XoBV_BFAcfbF"
      },
      "source": [
        "## Question 2: Count the Islands\n",
        "\n",
        "You need to write a function `count_the_islands`, which counts the islands of 1s in a matrix whose elements can be 0 or 1.  Two 1s belong to the same island if they are adjacent horizontally or vertically.  For example, the matrix: \n",
        "\n",
        "    000000000\n",
        "    001000001\n",
        "    011110011\n",
        "    001100110\n",
        "    000000000\n",
        "    \n",
        "contains two islands: \n",
        "\n",
        "    .........\n",
        "    ..1......\n",
        "    .1111....\n",
        "    ..11.....\n",
        "    .........\n",
        "    \n",
        "and \n",
        "\n",
        "    .........\n",
        "    ........1\n",
        "    .......11\n",
        "    ......11.\n",
        "    .........\n",
        "    \n",
        "As another example, the matrix: \n",
        "\n",
        "    00010000\n",
        "    00001100\n",
        "    00000000\n",
        "    \n",
        "contains two islands, one containing one 1, the other containing two 1s, as being adjacient via the diagonal only does not count. \n",
        "\n",
        "Your task is simple: write a function that, given as input a numpy matrix containing 0/1, returns an integer, indicating the number of islands.  You should not modify the matrix that is passed to you.\n",
        "\n",
        "### Hint\n",
        "\n",
        "There are two ways to solve this problem. \n",
        "\n",
        "The first way consists in translating the matrix into a graph, where each node represents a position in the matrix containing a 1.  For instance, the second matrix above would be translated into a graph with nodes (0, 3), (1, 4), (1, 5).  Edges connect adjacent nodes.  You can then use the algorithm for graph reachability to tell which nodes belong to the same island. \n",
        "\n",
        "The second way consists in implementing the reachability algorithm on top of the matrix directly. \n",
        "\n",
        "You can choose either way. \n",
        "\n",
        "Note that if you have a matrix `a` as above, \n",
        "\n",
        "    np.argwhere(a)\n",
        "    \n",
        "returns the positions in `a` that are 1."
      ]
    },
    {
      "cell_type": "code",
      "metadata": {
        "deletable": false,
        "nbgrader": {
          "checksum": "db3c100130f13f192b9e53d8eea5524f",
          "grade": false,
          "grade_id": "cell-c1fd092def86ccbe",
          "locked": false,
          "schema_version": 1,
          "solution": true
        },
        "id": "Pyyd-u5XcfbF"
      },
      "source": [
        "import numpy as np\n",
        "\n",
        "# You can define here any auxiliary function you wish. \n",
        "### YOUR CODE HERE\n",
        "\n",
        "def count_the_islands(m):\n",
        "    \"\"\"Returns the number of islands in the matrix m.\"\"\"\n",
        "    # My solution takes 14 lines of code. \n",
        "    ### YOUR CODE HERE\n",
        "    nodes = list(map(tuple, np.argwhere(m)))\n",
        "    neighbors = [(0,1), (0,-1), (1,0), (-1,0)]\n",
        "    edges = []\n",
        "    count = 0\n",
        "    for i in nodes:\n",
        "        for j in neighbors:\n",
        "            x = tuple(map(sum, zip(i, j))) \n",
        "            if x in nodes:\n",
        "                edges.append((i, x))\n",
        "    var = Graph(nodes, edges)\n",
        "    reachable = set()\n",
        "    for k in var.vertices:\n",
        "        if k in reachable:\n",
        "            continue\n",
        "        reachable = reachable | var.reachable(k)\n",
        "        count +=1\n",
        "    return count"
      ],
      "execution_count": 221,
      "outputs": []
    },
    {
      "cell_type": "code",
      "metadata": {
        "deletable": false,
        "nbgrader": {
          "checksum": "2451b7d5c270dff9b1f9e741ed869fee",
          "grade": false,
          "grade_id": "cell-7f108f806736baab",
          "locked": false,
          "schema_version": 1,
          "solution": true
        },
        "id": "kM0uIXffcfbF"
      },
      "source": [
        "### You can write your own tests here. \n",
        "\n",
        "### YOUR CODE HERE"
      ],
      "execution_count": 222,
      "outputs": []
    },
    {
      "cell_type": "code",
      "metadata": {
        "deletable": false,
        "editable": false,
        "nbgrader": {
          "checksum": "be8c0fa96791790037669ee91cf4e531",
          "grade": true,
          "grade_id": "cell-f1f68b53543efe59",
          "locked": true,
          "points": 4,
          "schema_version": 1,
          "solution": false
        },
        "id": "_b4p3Q6VcfbG"
      },
      "source": [
        "### 4 points: simple tests. \n",
        "\n",
        "a = np.array([\n",
        "    [0, 0, 1, 1, 0, 0],\n",
        "    [0, 1, 1, 0, 0, 1],\n",
        "    [0, 1, 0, 0, 1, 1]\n",
        "])\n",
        "assert count_the_islands(a) == 2\n",
        "\n",
        "a = np.zeros((10, 12))\n",
        "assert count_the_islands(a) == 0\n",
        "\n",
        "a = np.ones((10, 12))\n",
        "assert count_the_islands(a) == 1\n",
        "\n",
        "a = np.array([\n",
        "    [0, 0, 1, 1, 0, 0],\n",
        "    [0, 1, 1, 0, 0, 1],\n",
        "    [0, 1, 0, 0, 1, 1],\n",
        "    [0, 1, 1, 0, 0, 1],\n",
        "    [0, 1, 0, 0, 1, 1]\n",
        "\n",
        "])\n",
        "assert count_the_islands(a) == 2\n",
        "assert count_the_islands(1 - a) == 2\n",
        "\n",
        "a = np.identity(7)\n",
        "assert count_the_islands(a) == 7\n",
        "assert count_the_islands(a) == 7\n",
        "assert (a == np.identity(7)).all()\n"
      ],
      "execution_count": 223,
      "outputs": []
    },
    {
      "cell_type": "code",
      "metadata": {
        "deletable": false,
        "editable": false,
        "nbgrader": {
          "checksum": "5026d4a4bf0f09515dc93a6596f40c53",
          "grade": true,
          "grade_id": "cell-75530ccf59e9048f",
          "locked": true,
          "points": 6,
          "schema_version": 1,
          "solution": false
        },
        "id": "FWrD_1jRcfbG"
      },
      "source": [
        "### More advanced, hidden tests.  6 points. \n"
      ],
      "execution_count": 224,
      "outputs": []
    }
  ]
}