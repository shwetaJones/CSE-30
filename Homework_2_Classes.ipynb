{
  "nbformat": 4,
  "nbformat_minor": 0,
  "metadata": {
    "kernelspec": {
      "display_name": "Python [conda env:teaching37] *",
      "language": "python",
      "name": "conda-env-teaching37-py"
    },
    "language_info": {
      "codemirror_mode": {
        "name": "ipython",
        "version": 3
      },
      "file_extension": ".py",
      "mimetype": "text/x-python",
      "name": "python",
      "nbconvert_exporter": "python",
      "pygments_lexer": "ipython3",
      "version": "3.7.3"
    },
    "test_info": {
      "id": "e2bb7e247d7d4aefdd89f5474caf8f3a118bfc1d"
    },
    "colab": {
      "name": "Homework_2_Classes.ipynb",
      "provenance": []
    }
  },
  "cells": [
    {
      "cell_type": "markdown",
      "metadata": {
        "id": "LSNhP3-ON8AT"
      },
      "source": [
        "Before you turn this problem in, make sure everything runs as expected. First, **restart the kernel** (in the menubar, select Kernel$\\rightarrow$Restart) and then **run all cells** (in the menubar, select Cell$\\rightarrow$Run All).\n",
        "\n",
        "Make sure you fill in any place that says `YOUR CODE HERE` or \"YOUR ANSWER HERE\", as well as your name and collaborators below:"
      ]
    },
    {
      "cell_type": "code",
      "metadata": {
        "id": "x9gJPkgTN8AY"
      },
      "source": [
        "NAME = \"Shweta Jones\"\n",
        "COLLABORATORS = \"\""
      ],
      "execution_count": 85,
      "outputs": []
    },
    {
      "cell_type": "markdown",
      "metadata": {
        "id": "04SBPJCEN8AZ"
      },
      "source": [
        "---"
      ]
    },
    {
      "cell_type": "markdown",
      "metadata": {
        "deletable": false,
        "editable": false,
        "nbgrader": {
          "checksum": "da5be9f51f7d4b2b47e56829b497aac6",
          "grade": false,
          "grade_id": "cell-c80c27ac5614d5f1",
          "locked": true,
          "schema_version": 1,
          "solution": false
        },
        "id": "IRyXBhvEN8AZ"
      },
      "source": [
        "# Homework 2: Classes\n",
        "## CSE 30 Winter 2021\n",
        "\n",
        "## Luca de Alfaro\n",
        "Copyright Luca de Alfaro, 2020.  CC-BY-NC License."
      ]
    },
    {
      "cell_type": "markdown",
      "metadata": {
        "deletable": false,
        "editable": false,
        "nbgrader": {
          "checksum": "4c20128b5ff9eb7e9d2e41d314bcbc0b",
          "grade": false,
          "grade_id": "cell-010177fc2353c626",
          "locked": true,
          "schema_version": 1,
          "solution": false
        },
        "id": "o4xPVlaKN8AZ"
      },
      "source": [
        "# Instructions\n",
        "\n",
        "## The Format of a Python Notebook\n",
        "\n",
        "*This* is a Python Notebook homework.  It consists of various types of cells: \n",
        "\n",
        "* Text: you can read them :-) \n",
        "* Code: you should run them, as they may set up the problems that you are asked to solve.\n",
        "* **Solution:** These are cells where you should enter a solution.  You will see a marker in these cells that indicates where your work should be inserted.  \n",
        "\n",
        "```\n",
        "    # YOUR CODE HERE\n",
        "```    \n",
        "\n",
        "* Test: These cells contains some tests, and are worth some points.  You should run the cells as a way to debug your code, and to see if you understood the question, and whether the output of your code is produced in the correct format.  The notebook contains both the tests you see, and some secret ones that you cannot see.  This prevents you from using the simple trick of hard-coding the desired output. "
      ]
    },
    {
      "cell_type": "markdown",
      "metadata": {
        "deletable": false,
        "editable": false,
        "nbgrader": {
          "checksum": "a682cad574dd6617fc839742ee1ecb53",
          "grade": false,
          "grade_id": "cell-3dd7e05e08d4c7a3",
          "locked": true,
          "schema_version": 1,
          "solution": false
        },
        "id": "zH113Kn0N8Aa"
      },
      "source": [
        "## Running your notebook\n",
        "\n",
        "**Running a cell.**\n",
        "To run a cell of the notebook, either click on the icon to its top left, or press shift-ENTER (or shift-Return). \n",
        "\n",
        "**Disconnections.**\n",
        "When you open a notebook, Google automatically connects a server to the web page, so that you can type code in your browser, and the code is run on that server.  If you are idle for more than a few minutes, Google keeps all you typed (none of your work is lost), but the server may be disconnected due to inactivity.  When the server is disconnected, it loses all memory of anything you have defined (functions, classes, variables, etc). \n",
        "\n",
        "If you do get disconnected, select Runtime > Run All (or Runtime > Run before) to ensure everything is defined as it should. \n",
        "\n",
        "### DO NOT\n",
        "\n",
        "* **Do not add, delete, reorder, remove cells.**  This breaks the relationship between your work, and the grading system, making it impossible to grade your work.\n",
        "\n",
        "### Debugging\n",
        "To debug, you can add print statements to your code.  They should have no effect on the tests.  Just be careful that if you add too many of them inside loops and similar, you may cause for some of the tests we will do such an enormous amount of output that grading might timeout (and you may not get credit for an answer). \n",
        "\n",
        "### Asking for help\n",
        "The tutors and TAs should have access to the notebook; otherwise, you can always share a link with them.  In this way, they can take a look at your work and help you with debugging and with any questions you might have."
      ]
    },
    {
      "cell_type": "markdown",
      "metadata": {
        "deletable": false,
        "editable": false,
        "nbgrader": {
          "checksum": "26e848d74c14f95fb2c6c713e5f74afb",
          "grade": false,
          "grade_id": "cell-555be0da2446adf6",
          "locked": true,
          "schema_version": 1,
          "solution": false
        },
        "id": "8vdIVjghN8Aa"
      },
      "source": [
        "## Submitting Your Notebook\n",
        "\n",
        "To submit:\n",
        "* **Check your work.** Before submitting, select Runtime > Run All, and check that you don't get any unexpected error. \n",
        "* **Download the notebook.** Click on File > Download .ipynb . **Do not download the .py file.**\n",
        "* **Upload.** Upload the .ipynb file to **[this Google form](https://docs.google.com/forms/d/e/1FAIpQLSd5Z4jCk0BYdz_Z8_eXS2rDl4EivmQVzSfC-AjhL0HcBEqMDw/viewform?usp=sf_link)**. "
      ]
    },
    {
      "cell_type": "markdown",
      "metadata": {
        "deletable": false,
        "editable": false,
        "nbgrader": {
          "checksum": "fff5525bbfcdf59ab6fa31b6ac3ea781",
          "grade": false,
          "grade_id": "cell-986f8a8a2659f356",
          "locked": true,
          "schema_version": 1,
          "solution": false
        },
        "id": "cvhRiO0sN8Aa"
      },
      "source": [
        "## The Test\n",
        "\n",
        "There are 3 questions, for a total of 60 points. "
      ]
    },
    {
      "cell_type": "markdown",
      "metadata": {
        "deletable": false,
        "editable": false,
        "nbgrader": {
          "checksum": "45165a70ac06822e1ad94fd11d645255",
          "grade": false,
          "grade_id": "cell-1352622cb2eeb7c6",
          "locked": true,
          "schema_version": 1,
          "solution": false
        },
        "id": "mSgTbjHrN8Aa"
      },
      "source": [
        "## Question 1: Inheritance\n",
        "\n",
        "Here is a class `BagOfWords` that implements the [bag of words](https://en.wikipedia.org/wiki/Bag-of-words_model) model of text, or a simplification of it, in any case.  You create a bag of words by passing to it a text string, like: \n",
        "\n",
        "    bag = BagOfWords(\"Hello I would like to travel to Naples, is Vesuvius erupting?\")\n",
        "    \n",
        "and then you can ask how many times a word occurred in the text string:\n",
        "\n",
        "    bag.occurrences(\"to\")\n",
        "    \n",
        "Note that I am using a [defaultdict](https://docs.python.org/3/library/collections.html#collections.defaultdict), which is a dictionary where keys that are not found are associated with a default value (in this case, 0, as it is initialized as `defaultdict(int)`). "
      ]
    },
    {
      "cell_type": "code",
      "metadata": {
        "deletable": false,
        "editable": false,
        "nbgrader": {
          "checksum": "32a36925e809ebeacfd30bbae74cd463",
          "grade": false,
          "grade_id": "cell-56825a9babb91c30",
          "locked": true,
          "schema_version": 1,
          "solution": false
        },
        "id": "4JmnPeZJN8Ab"
      },
      "source": [
        "from collections import defaultdict\n",
        "\n",
        "class BagOfWords(object):\n",
        "\n",
        "    def __init__(self, text):\n",
        "        words = self._text_split(text)\n",
        "        self.counts = defaultdict(int)\n",
        "        for w in words:\n",
        "            self.counts[w] += 1\n",
        "\n",
        "    def occurrences(self, word):\n",
        "        return self.counts[word]\n",
        "\n",
        "    def _text_split(self, text):\n",
        "        return text.split()"
      ],
      "execution_count": 86,
      "outputs": []
    },
    {
      "cell_type": "code",
      "metadata": {
        "deletable": false,
        "editable": false,
        "nbgrader": {
          "checksum": "bae3dcee6352854d3eaf2eb7ee3d1ad6",
          "grade": false,
          "grade_id": "cell-15279660adeeb709",
          "locked": true,
          "schema_version": 1,
          "solution": false
        },
        "id": "o6FQAOSlN8Ab",
        "colab": {
          "base_uri": "https://localhost:8080/"
        },
        "outputId": "fa78d7db-559f-42f6-f906-671333f4611c"
      },
      "source": [
        "bag = BagOfWords(\"Hello I would like to travel to Naples, is Vesuvius erupting?\")\n",
        "bag.occurrences(\"to\")"
      ],
      "execution_count": 87,
      "outputs": [
        {
          "output_type": "execute_result",
          "data": {
            "text/plain": [
              "2"
            ]
          },
          "metadata": {
            "tags": []
          },
          "execution_count": 87
        }
      ]
    },
    {
      "cell_type": "markdown",
      "metadata": {
        "deletable": false,
        "editable": false,
        "nbgrader": {
          "checksum": "268f8b2b7e1478d795110819eca4cebc",
          "grade": false,
          "grade_id": "cell-8e4529dfb9e5f35f",
          "locked": true,
          "schema_version": 1,
          "solution": false
        },
        "id": "Bz6WJT7ON8Ab"
      },
      "source": [
        "This works, but it's really a bit rudimentary; for instance: "
      ]
    },
    {
      "cell_type": "code",
      "metadata": {
        "deletable": false,
        "editable": false,
        "nbgrader": {
          "checksum": "f4f6f665b12a9520f4c35f72be299845",
          "grade": false,
          "grade_id": "cell-4cb79114bef0027b",
          "locked": true,
          "schema_version": 1,
          "solution": false
        },
        "id": "uYUaq24UN8Ab",
        "colab": {
          "base_uri": "https://localhost:8080/"
        },
        "outputId": "3d56d21b-497c-4cec-a48d-f1297422fd1d"
      },
      "source": [
        "bag.occurrences(\"Naples\")"
      ],
      "execution_count": 88,
      "outputs": [
        {
          "output_type": "execute_result",
          "data": {
            "text/plain": [
              "0"
            ]
          },
          "metadata": {
            "tags": []
          },
          "execution_count": 88
        }
      ]
    },
    {
      "cell_type": "markdown",
      "metadata": {
        "deletable": false,
        "editable": false,
        "nbgrader": {
          "checksum": "ad9860d24972f52f46b50511602d6fbf",
          "grade": false,
          "grade_id": "cell-406fd14d682baebb",
          "locked": true,
          "schema_version": 1,
          "solution": false
        },
        "id": "foASS7kaN8Ac"
      },
      "source": [
        "The problem here is that the `.split()` function splits according to whitespace, and so the bag of words does not contain `\"Naples\"`, but `\"Naples,\"`, including the comma.  Here is a function that splits text in a better way, taking care of eliminating punctuation, and also turns words into lowercase.  It uses [regular expressions](https://docs.python.org/3/library/re.html). "
      ]
    },
    {
      "cell_type": "code",
      "metadata": {
        "deletable": false,
        "editable": false,
        "nbgrader": {
          "checksum": "7458059ec1bbc9b7387a3252cf6c901c",
          "grade": false,
          "grade_id": "cell-76a0e9d5183bb4f1",
          "locked": true,
          "schema_version": 1,
          "solution": false
        },
        "id": "AeryxVNWN8Ac"
      },
      "source": [
        "import re\n",
        "\n",
        "def split_into_words(text):\n",
        "    return [w.lower() for w in re.findall(r\"[\\w']+\", text)]"
      ],
      "execution_count": 89,
      "outputs": []
    },
    {
      "cell_type": "code",
      "metadata": {
        "deletable": false,
        "editable": false,
        "nbgrader": {
          "checksum": "41ecae083f20d431d9cf76e4b1ebbeef",
          "grade": false,
          "grade_id": "cell-bdb942d72e30f44f",
          "locked": true,
          "schema_version": 1,
          "solution": false
        },
        "id": "Tb0ozIV3N8Ac",
        "colab": {
          "base_uri": "https://localhost:8080/"
        },
        "outputId": "db91886b-e407-4b54-a827-16a42bd6aefc"
      },
      "source": [
        "split_into_words(\"Hello I would like to travel to Naples, is Vesuvius erupting?\")"
      ],
      "execution_count": 90,
      "outputs": [
        {
          "output_type": "execute_result",
          "data": {
            "text/plain": [
              "['hello',\n",
              " 'i',\n",
              " 'would',\n",
              " 'like',\n",
              " 'to',\n",
              " 'travel',\n",
              " 'to',\n",
              " 'naples',\n",
              " 'is',\n",
              " 'vesuvius',\n",
              " 'erupting']"
            ]
          },
          "metadata": {
            "tags": []
          },
          "execution_count": 90
        }
      ]
    },
    {
      "cell_type": "markdown",
      "metadata": {
        "deletable": false,
        "editable": false,
        "nbgrader": {
          "checksum": "abcce572350d5d3f81bb654b5db7b11a",
          "grade": false,
          "grade_id": "cell-92e0239bed0fa220",
          "locked": true,
          "schema_version": 1,
          "solution": false
        },
        "id": "MBlHzfr7N8Ac"
      },
      "source": [
        "Ok, this works better.  Now here is the challenge: write a subclass `BetterBag` of `BagOfWords` that uses this function, instead of `.split()`, to split text into words. \n",
        "There are two ways of doing this.  One is to do it... brute force.  But the real challenge is: \n",
        "\n",
        "_Can you do it without writing the `__init__` method for `BetterBag`?  Can you do it so that all you need is 2 lines of code?_ \n",
        "\n",
        "Think about it.  You don't lose points by using a more verbose or less elegant solution.  But try to think at how you could do it.  And btw, do use my function `split_into_words` unchanged, otherwise some test might fail."
      ]
    },
    {
      "cell_type": "code",
      "metadata": {
        "deletable": false,
        "nbgrader": {
          "checksum": "03db11de7aa758a710343cf329bf30d4",
          "grade": false,
          "grade_id": "cell-93a340c69cf521b5",
          "locked": false,
          "schema_version": 1,
          "solution": true
        },
        "id": "k_nGBuH8N8Ac"
      },
      "source": [
        "import re\n",
        "from collections import defaultdict\n",
        "class BetterBag(BagOfWords):\n",
        "    def __init__(self, text):\n",
        "        words =  [w.lower() for w in re.findall(r\"[\\w']+\", text)]   # breaks the text string into a list of words\n",
        "        self.counts = defaultdict(int)                              # this function helps to count the occurences\n",
        "        for w in words:                                             # iterates through the list and counts the occurences of a word\n",
        "            self.counts[w] += 1                                     # adds 1 when word is found\n",
        "    def occurences (self, word):                                    # this function returns the occurences of a given code\n",
        "        return self.occurences(word)                                # the occurences is returned"
      ],
      "execution_count": 91,
      "outputs": []
    },
    {
      "cell_type": "markdown",
      "metadata": {
        "id": "wVD2qYSs3nOQ"
      },
      "source": [
        ""
      ]
    },
    {
      "cell_type": "code",
      "metadata": {
        "deletable": false,
        "nbgrader": {
          "checksum": "f478dd1d51b326a965228fd250113d03",
          "grade": false,
          "grade_id": "cell-26b2ede5fc71999b",
          "locked": false,
          "schema_version": 1,
          "solution": true
        },
        "id": "sEao7Kv5N8Ad"
      },
      "source": [
        "# This is a place where you can write additional tests to help you test \n",
        "# your code, or debugging code, if you need.  You can also leave it blank. \n",
        "\n",
        "### YOUR CODE HERE"
      ],
      "execution_count": 92,
      "outputs": []
    },
    {
      "cell_type": "markdown",
      "metadata": {
        "deletable": false,
        "editable": false,
        "nbgrader": {
          "checksum": "10b849163b127173f7bf8387773c5f1a",
          "grade": false,
          "grade_id": "cell-0bd6eea0b8891b39",
          "locked": true,
          "schema_version": 1,
          "solution": false
        },
        "id": "8HcfEK-WN8Ad"
      },
      "source": [
        "Let's check that `BetterBag` works as intended."
      ]
    },
    {
      "cell_type": "code",
      "metadata": {
        "deletable": false,
        "editable": false,
        "nbgrader": {
          "checksum": "7cf1657b059ad22d5352bb1004866790",
          "grade": false,
          "grade_id": "cell-01c0339160b3533f",
          "locked": true,
          "schema_version": 1,
          "solution": false
        },
        "id": "xR5qiyxGN8Ad"
      },
      "source": [
        "# Let me define the function I use for testing.  Don't change this cell. \n",
        "\n",
        "def check_equal(x, y, msg=None):\n",
        "    if x == y:\n",
        "        if msg is None:\n",
        "            print(\"Success\")\n",
        "        else:\n",
        "            print(msg, \": Success\")\n",
        "    else:\n",
        "        if msg is None:\n",
        "            print(\"Error:\")\n",
        "        else:\n",
        "            print(\"Error in\", msg, \":\")\n",
        "        print(\"    Your answer was:\", x)\n",
        "        print(\"    Correct answer: \", y)\n",
        "    assert x == y, \"%r and %r are different\" % (x, y)"
      ],
      "execution_count": 93,
      "outputs": []
    },
    {
      "cell_type": "code",
      "metadata": {
        "deletable": false,
        "editable": false,
        "nbgrader": {
          "checksum": "7f93e7b6de1a25c2ffad8d80797c492c",
          "grade": true,
          "grade_id": "cell-2bc03d386a5f8c22",
          "locked": true,
          "points": 10,
          "schema_version": 1,
          "solution": false
        },
        "id": "7_8VghvLN8Ae",
        "colab": {
          "base_uri": "https://localhost:8080/"
        },
        "outputId": "accd78ed-2c9b-4f86-acec-175be4d383d5"
      },
      "source": [
        "bb = BetterBag(\"Hello I would like to travel to Naples, is Vesuvius erupting?\")\n",
        "check_equal(bb.occurrences(\"naples\"), 1)\n",
        "check_equal(bb.occurrences(\"i\"), 1)\n",
        "check_equal(bb.occurrences(\"to\"), 2)\n"
      ],
      "execution_count": 94,
      "outputs": [
        {
          "output_type": "stream",
          "text": [
            "Success\n",
            "Success\n",
            "Success\n"
          ],
          "name": "stdout"
        }
      ]
    },
    {
      "cell_type": "markdown",
      "metadata": {
        "deletable": false,
        "editable": false,
        "nbgrader": {
          "checksum": "0c5e6e4fa95ef8ab6d376a1f27095875",
          "grade": false,
          "grade_id": "cell-2b6dbd5b52900289",
          "locked": true,
          "schema_version": 1,
          "solution": false
        },
        "id": "dxbpsYqrN8Ae"
      },
      "source": [
        "## Question 2: Modulo Arithmetic\n",
        "\n",
        "We will implement a class `ModInt` that implements integers with a specified modulus. \n",
        "We can then create numbers modulo 7 using: \n",
        "\n",
        "    x = ModInt(7, modulus=10)\n",
        "    y = ModInt(5, modulus=10)\n",
        "    \n",
        "and if we do `x + y`, we should obtain a number that is equal to `ModInt(2, modulus=10)`, because: \n",
        "\n",
        "$$\n",
        "(5 + 7) \\mod 10 = 12 \\mod 10 = 2. \n",
        "$$\n",
        "\n",
        "In other words, to compute $x \\oplus y$ for $x, y$ that are `ModInt`, you do like this: \n",
        "\n",
        "* First, you check that both $x$ and $y$ share the same modulus (10 in the example above); if they do not, you raise a `TypeError` exception. \n",
        "* Second, you compute $x \\oplus y$ as if $x$ and $y$ were integers, and then you compute the result $\\mod n$, where $n$ is the _common_ modulus of $x$ and $y$. \n",
        "\n",
        "Some implementation notes:  \n",
        "\n",
        "* To compute $x \\mod n$, you write in Python `x % n`. \n",
        "\n",
        "* To raise a `TypeError`, you can simply do: \n",
        "\n",
        "    raise TypeError(\"Operation between numbers with different modulus\")\n",
        "  \n",
        "* We will have you implement only the `+`, `-`, `*` operators, as well as the integer division `//`, which is implemented via the [`__floordiv__` operator](https://docs.python.org/3/reference/datamodel.html#object.__floordiv__). \n",
        "\n",
        "You might want to refer to the implementation of `Complex` in the class book chapter for an example. "
      ]
    },
    {
      "cell_type": "code",
      "metadata": {
        "deletable": false,
        "nbgrader": {
          "checksum": "9b7e9d5fe5de38064381dcf9f0312830",
          "grade": false,
          "grade_id": "cell-9cacfa81edd157d3",
          "locked": false,
          "schema_version": 1,
          "solution": true
        },
        "id": "yDoqdA1ZN8Ae"
      },
      "source": [
        "import math\n",
        "class ModInt(object):\n",
        "    def __init__(self, x, modulus=10):\n",
        "        \"\"\"Creates an integer with a specified modulus.\"\"\"\n",
        "        assert modulus > 0\n",
        "        self.x = x % modulus\n",
        "        self.modulus = modulus\n",
        "    \n",
        "    def __eq__(self, other):\n",
        "        \"\"\"We define equality, so that we can easily write tests.\"\"\"\n",
        "        return self.x == other.x and self.modulus == other.modulus\n",
        "        \n",
        "    def __repr__(self):\n",
        "        \"\"\"To print them in a meaningful way\"\"\"\n",
        "        return \"({} mod {})\".format(self.x, self.modulus)\n",
        "    \n",
        "    # Here you have to add the class methods to make +, -, *, // work. \n",
        "    def __add__(self, other):\n",
        "        \"\"\"This class performs addition\"\"\"\n",
        "        if (self.modulus != other.modulus):                                     # checks if modulus are equal\n",
        "            raise TypeError(\"Operation between numbers with different modulus\") # if not, typ eerror is raised\n",
        "        return ModInt(self.x + other.x, other.modulus)                          # added value is returned\n",
        "\n",
        "    def __sub__(self, other):\n",
        "        \"\"\"This class performs subtraction\"\"\"\n",
        "        if (self.modulus != other.modulus):                                     # checks is modulus are equal\n",
        "            raise TypeError(\"Operation between numbers with different modulus\") # if not, type error is raised\n",
        "        return ModInt(self.x - other.x, other.modulus)                          # subtracted value is returned\n",
        "    \n",
        "    def __mul__(self, other):\n",
        "        \"\"\"This class performs multiplication\"\"\"\n",
        "        if (self.modulus != other.modulus):                                     # checks is modulus are equal\n",
        "            raise TypeError(\"Operation between numbers with different modulus\") # if not, type error is raised\n",
        "        return ModInt(self.x * other.x, other.modulus)                          # multiplied value is returned\n",
        "\n",
        "    def __floordiv__(self, other):\n",
        "        \"\"\"This class performs division\"\"\"\n",
        "        if (self.modulus != other.modulus):                                     # checks is modulus are equal\n",
        "            raise TypeError(\"Operation between numbers with different modulus\") # if not, type error is raised\n",
        "        return ModInt(round(self.x // other.x), other.modulus)                  # divided rounded value is returned"
      ],
      "execution_count": 95,
      "outputs": []
    },
    {
      "cell_type": "markdown",
      "metadata": {
        "id": "63IUKQt_CPd9"
      },
      "source": [
        ""
      ]
    },
    {
      "cell_type": "code",
      "metadata": {
        "deletable": false,
        "nbgrader": {
          "checksum": "20c0455d992734c62305e0edffa011b8",
          "grade": false,
          "grade_id": "cell-d27f556b1b66cd0e",
          "locked": false,
          "schema_version": 1,
          "solution": true
        },
        "id": "JdgOU9n0N8Ae"
      },
      "source": [
        "# This is a place where you can write additional tests to help you test \n",
        "# your code, or debugging code, if you need.  You can also leave it blank. \n",
        "\n",
        "### YOUR CODE HERE"
      ],
      "execution_count": 96,
      "outputs": []
    },
    {
      "cell_type": "markdown",
      "metadata": {
        "deletable": false,
        "editable": false,
        "nbgrader": {
          "checksum": "d0ffbf02fdaf4093fa8b1ca41b29be5a",
          "grade": false,
          "grade_id": "cell-24c273bf56de7d13",
          "locked": true,
          "schema_version": 1,
          "solution": false
        },
        "id": "c-lGFphuN8Af"
      },
      "source": [
        "Here are some tests. "
      ]
    },
    {
      "cell_type": "code",
      "metadata": {
        "deletable": false,
        "editable": false,
        "nbgrader": {
          "checksum": "4ffd2a0e470de4783b94c5b017ac55c7",
          "grade": true,
          "grade_id": "cell-5f9163687bd48c8a",
          "locked": true,
          "points": 5,
          "schema_version": 1,
          "solution": false
        },
        "id": "ZQqzUnFDN8Af",
        "colab": {
          "base_uri": "https://localhost:8080/"
        },
        "outputId": "80f22075-3ef4-4882-8f13-13293ff02354"
      },
      "source": [
        "## 5 points: tests for addition.\n",
        "\n",
        "check_equal(ModInt(6) + ModInt(7), ModInt(13))\n",
        "# Modulus 5 should also work. \n",
        "check_equal(ModInt(2, modulus=5) + ModInt(4, modulus=5), ModInt(1, modulus=5))\n"
      ],
      "execution_count": 97,
      "outputs": [
        {
          "output_type": "stream",
          "text": [
            "Success\n",
            "Success\n"
          ],
          "name": "stdout"
        }
      ]
    },
    {
      "cell_type": "code",
      "metadata": {
        "deletable": false,
        "editable": false,
        "nbgrader": {
          "checksum": "f32c37c00f16ef29b0c3fd28cfdf5d3e",
          "grade": true,
          "grade_id": "cell-b0dede103f9dec8b",
          "locked": true,
          "points": 10,
          "schema_version": 1,
          "solution": false
        },
        "id": "orU8sKZbN8Af",
        "colab": {
          "base_uri": "https://localhost:8080/"
        },
        "outputId": "29c72b38-8f42-4d06-fb22-f4fa9656c933"
      },
      "source": [
        "### 10 points: tests for the other operations\n",
        "\n",
        "check_equal(ModInt(4) * ModInt(8), ModInt(2))\n",
        "check_equal(ModInt(9, modulus=7) - ModInt(3, modulus=7), ModInt(6, modulus=7))\n",
        "check_equal(ModInt(1, modulus=7) - ModInt(3, modulus=7), ModInt(-2, modulus=7))\n",
        "check_equal(ModInt(70, modulus=43) // ModInt(8, modulus=43), ModInt(3, modulus=43))\n"
      ],
      "execution_count": 98,
      "outputs": [
        {
          "output_type": "stream",
          "text": [
            "Success\n",
            "Success\n",
            "Success\n",
            "Success\n"
          ],
          "name": "stdout"
        }
      ]
    },
    {
      "cell_type": "code",
      "metadata": {
        "deletable": false,
        "editable": false,
        "nbgrader": {
          "checksum": "bc82ca38aff1c5309f5c91b98d247e6a",
          "grade": true,
          "grade_id": "cell-a808b2b21d1f5aa9",
          "locked": true,
          "points": 10,
          "schema_version": 1,
          "solution": false
        },
        "id": "ndOwNOXnN8Af",
        "colab": {
          "base_uri": "https://localhost:8080/"
        },
        "outputId": "894c4b12-b46a-4d0e-ed3b-3dca56ddc058"
      },
      "source": [
        "### 10 points: sanity checks. \n",
        "\n",
        "x = ModInt(5)\n",
        "y = ModInt(6)\n",
        "z = x + y\n",
        "check_equal(x, ModInt(5))\n",
        "check_equal(y, ModInt(6))\n",
        "check_equal(z, ModInt(1))"
      ],
      "execution_count": 99,
      "outputs": [
        {
          "output_type": "stream",
          "text": [
            "Success\n",
            "Success\n",
            "Success\n"
          ],
          "name": "stdout"
        }
      ]
    },
    {
      "cell_type": "code",
      "metadata": {
        "deletable": false,
        "editable": false,
        "nbgrader": {
          "checksum": "c4e7b2cc4613d17015d58f1263a1eafe",
          "grade": true,
          "grade_id": "cell-e66a634208e8de4e",
          "locked": true,
          "points": 5,
          "schema_version": 1,
          "solution": false
        },
        "id": "8kAbccd-N8Af",
        "colab": {
          "base_uri": "https://localhost:8080/"
        },
        "outputId": "b4bafcad-5110-46e8-90d0-dc0308b16b2e"
      },
      "source": [
        "### 5 points: raising TypeError\n",
        "\n",
        "raised = False\n",
        "try:\n",
        "    x = ModInt(4, modulus=6) + ModInt(5, modulus=7)\n",
        "except TypeError:\n",
        "    raised = True\n",
        "check_equal(raised, True)\n",
        "\n",
        "raised = False\n",
        "try:\n",
        "    x = ModInt(4, modulus=6) * ModInt(5, modulus=7)\n",
        "except TypeError:\n",
        "    raised = True\n",
        "check_equal(raised, True)\n"
      ],
      "execution_count": 100,
      "outputs": [
        {
          "output_type": "stream",
          "text": [
            "Success\n",
            "Success\n"
          ],
          "name": "stdout"
        }
      ]
    },
    {
      "cell_type": "markdown",
      "metadata": {
        "deletable": false,
        "editable": false,
        "nbgrader": {
          "checksum": "095f4df2277204188a1a21e4b8e10ada",
          "grade": false,
          "grade_id": "cell-a4e62a4932136f22",
          "locked": true,
          "schema_version": 1,
          "solution": false
        },
        "id": "0TPy2olhN8Af"
      },
      "source": [
        "## Question 3: Implementing a History Dictionary\n",
        "\n",
        "In this question, you have to implement a dictionary that keeps the history of values that have been associated with each key.  You initialize the dictionary via: \n",
        "\n",
        "    d = HDict()\n",
        "\n",
        "then you can update it via: \n",
        "\n",
        "    d['cat'] = 4\n",
        "    d['dog'] = 6\n",
        "    d['cat'] = 32 # This updates what was assigned to the key 'cat'\n",
        "    \n",
        "and you can retrieve the histories for each key via: \n",
        "\n",
        "    d.history('cat')\n",
        "    \n",
        "which yields the list of values assigned to key `'cat'` in chronological order: \n",
        "\n",
        "    [4, 32]\n",
        "    \n",
        "and `d.history('dog')`, which yields simply `[6]` as the key `'dog'` was only assigned to value `6`. \n",
        "\n",
        "To implement this, you might want to look at the book chapter on classes, and specifically, at the timestapmed dictionary example. \n",
        "In implementing it, you can assume that one never passes anything to the initializer. \n",
        "My implementation consists of 10 lines of code."
      ]
    },
    {
      "cell_type": "code",
      "metadata": {
        "deletable": false,
        "nbgrader": {
          "checksum": "78c685ecfaa81694844d4f3d7c7535fb",
          "grade": false,
          "grade_id": "cell-48754c150f25c833",
          "locked": false,
          "schema_version": 1,
          "solution": true
        },
        "id": "RTv5kGPFN8Ag"
      },
      "source": [
        "class HDict(object):\n",
        "    def __init__ (self):\n",
        "        \"\"\"This initializes the dictionaries\"\"\"\n",
        "        self.objectDict = {}                    # creates a dictionary of updates\n",
        "        self.historyDict = {}                   # creates a dictionary with history\n",
        "    def __setitem__ (self, key, value):\n",
        "        \"\"\"This class places the value for the key\"\"\"\n",
        "        self.objectDict[key] = value            # places the value to the corresponding value\n",
        "        if key in self.historyDict:             # if key already exists...\n",
        "            self.historyDict[key].append(value) # value is appended to the list\n",
        "        else:                                   # else when key doesn't exist...\n",
        "            self.historyDict[key] = [value]     # key with corresponding value is entered\n",
        "    def __getitem__ (self, key):\n",
        "        \"\"\"This class returns the updated dictionary\"\"\"\n",
        "        return self.objectDict[key]             # returns the updated dictionary\n",
        "    def history (self, key):\n",
        "        \"\"\"This class returns the history dictionary\"\"\"\n",
        "        return self.historyDict[key]            # retuns the history dictionary\n",
        "\n"
      ],
      "execution_count": 101,
      "outputs": []
    },
    {
      "cell_type": "code",
      "metadata": {
        "deletable": false,
        "nbgrader": {
          "checksum": "f01fec8e1198111138c6fe55700f51e9",
          "grade": false,
          "grade_id": "cell-9ca09367a00339c9",
          "locked": false,
          "schema_version": 1,
          "solution": true
        },
        "id": "3nnJh_b2N8Ag"
      },
      "source": [
        "# This is a place where you can write additional tests to help you test \n",
        "# your code, or debugging code, if you need.  You can also leave it blank. \n",
        "\n",
        "### YOUR CODE HERE"
      ],
      "execution_count": 102,
      "outputs": []
    },
    {
      "cell_type": "markdown",
      "metadata": {
        "deletable": false,
        "editable": false,
        "nbgrader": {
          "checksum": "5634c1e6ed07fa8f326418f7bb1e1624",
          "grade": false,
          "grade_id": "cell-174d7349171dd8cb",
          "locked": true,
          "schema_version": 1,
          "solution": false
        },
        "id": "Y0HZGXHWN8Ag"
      },
      "source": [
        "Here are some tests. "
      ]
    },
    {
      "cell_type": "code",
      "metadata": {
        "deletable": false,
        "editable": false,
        "nbgrader": {
          "checksum": "1dee8be1ca180a5fa8c818fc6f786252",
          "grade": true,
          "grade_id": "cell-26a7e19e5b63749b",
          "locked": true,
          "points": 10,
          "schema_version": 1,
          "solution": false
        },
        "id": "VU5UfLqfN8Ag",
        "colab": {
          "base_uri": "https://localhost:8080/"
        },
        "outputId": "6da2c8ea-2992-4fe4-8aec-ff20c801a3e1"
      },
      "source": [
        "### 10 points: remembering the values. \n",
        "\n",
        "d = HDict()\n",
        "d['cat'] = 4\n",
        "check_equal(d['cat'], 4)\n",
        "d['dog'] = 5\n",
        "check_equal(d['dog'], 5)\n",
        "check_equal(d['cat'], 4)\n",
        "d['cat'] = 6\n",
        "check_equal(d['dog'], 5)\n",
        "check_equal(d['cat'], 6)\n"
      ],
      "execution_count": 103,
      "outputs": [
        {
          "output_type": "stream",
          "text": [
            "Success\n",
            "Success\n",
            "Success\n",
            "Success\n",
            "Success\n"
          ],
          "name": "stdout"
        }
      ]
    },
    {
      "cell_type": "code",
      "metadata": {
        "deletable": false,
        "editable": false,
        "nbgrader": {
          "checksum": "7e0306e678dc019a904eea1e0d0c276f",
          "grade": true,
          "grade_id": "cell-12356f6cabed273a",
          "locked": true,
          "points": 10,
          "schema_version": 1,
          "solution": false
        },
        "id": "9eZLIEXYN8Ag",
        "colab": {
          "base_uri": "https://localhost:8080/"
        },
        "outputId": "3b643910-869f-49b8-c29c-109ffcfe596b"
      },
      "source": [
        "## 10 points: remembering history.\n",
        "\n",
        "d = HDict()\n",
        "d['cat'] = 4\n",
        "d['dog'] = 5\n",
        "d['cat'] = 6\n",
        "check_equal(d.history('dog'), [5])\n",
        "check_equal(d.history('cat'), [4, 6])\n"
      ],
      "execution_count": 104,
      "outputs": [
        {
          "output_type": "stream",
          "text": [
            "Success\n",
            "Success\n"
          ],
          "name": "stdout"
        }
      ]
    }
  ]
}