{
  "nbformat": 4,
  "nbformat_minor": 0,
  "metadata": {
    "kernelspec": {
      "display_name": "Python [conda env:teaching37] *",
      "language": "python",
      "name": "conda-env-teaching37-py"
    },
    "language_info": {
      "codemirror_mode": {
        "name": "ipython",
        "version": 3
      },
      "file_extension": ".py",
      "mimetype": "text/x-python",
      "name": "python",
      "nbconvert_exporter": "python",
      "pygments_lexer": "ipython3",
      "version": "3.7.3"
    },
    "test_info": {
      "id": "e2bb7e247d7d4aefdd89f5474caf8f3a118bfc1d"
    },
    "colab": {
      "name": "Homework_3_recursion.ipynb",
      "provenance": []
    }
  },
  "cells": [
    {
      "cell_type": "markdown",
      "metadata": {
        "id": "5C0ig-wPZwta"
      },
      "source": [
        "Before you turn this problem in, make sure everything runs as expected. First, **restart the kernel** (in the menubar, select Kernel$\\rightarrow$Restart) and then **run all cells** (in the menubar, select Cell$\\rightarrow$Run All).\n",
        "\n",
        "Make sure you fill in any place that says `YOUR CODE HERE` or \"YOUR ANSWER HERE\", as well as your name and collaborators below:"
      ]
    },
    {
      "cell_type": "code",
      "metadata": {
        "id": "DlelFVjOZwth"
      },
      "source": [
        "NAME = \"Shweta Jones\"\n",
        "COLLABORATORS = \"\""
      ],
      "execution_count": 21,
      "outputs": []
    },
    {
      "cell_type": "markdown",
      "metadata": {
        "id": "2oCh_tE_Zwti"
      },
      "source": [
        "---"
      ]
    },
    {
      "cell_type": "markdown",
      "metadata": {
        "deletable": false,
        "editable": false,
        "nbgrader": {
          "checksum": "e6fceaaf2d0aa9e5b456f6fb42bdf2d7",
          "grade": false,
          "grade_id": "cell-5cbf4a0dbb28f6c6",
          "locked": true,
          "schema_version": 1,
          "solution": false
        },
        "id": "XREqTUJxZwti"
      },
      "source": [
        "# Homework 3: Recursion\n",
        "## CSE 30 Winter 2021\n",
        "\n",
        "## Luca de Alfaro\n",
        "Copyright Luca de Alfaro, 2020.  CC-BY-NC License."
      ]
    },
    {
      "cell_type": "markdown",
      "metadata": {
        "deletable": false,
        "editable": false,
        "nbgrader": {
          "checksum": "deecbbdaba01f4fd5afc1e9b596cdb09",
          "grade": false,
          "grade_id": "cell-bebddf581b445a0d",
          "locked": true,
          "schema_version": 1,
          "solution": false
        },
        "id": "lqN8N2vOZwti"
      },
      "source": [
        "# Instructions\n",
        "\n",
        "## The Format of a Python Notebook\n",
        "\n",
        "*This* is a Python Notebook homework.  It consists of various types of cells: \n",
        "\n",
        "* Text: you can read them :-) \n",
        "* Code: you should run them, as they may set up the problems that you are asked to solve.\n",
        "* **Solution:** These are cells where you should enter a solution.  You will see a marker in these cells that indicates where your work should be inserted.  \n",
        "\n",
        "```\n",
        "    # YOUR CODE HERE\n",
        "```    \n",
        "\n",
        "* Test: These cells contains some tests, and are worth some points.  You should run the cells as a way to debug your code, and to see if you understood the question, and whether the output of your code is produced in the correct format.  The notebook contains both the tests you see, and some secret ones that you cannot see.  This prevents you from using the simple trick of hard-coding the desired output. "
      ]
    },
    {
      "cell_type": "markdown",
      "metadata": {
        "deletable": false,
        "editable": false,
        "nbgrader": {
          "checksum": "e63d665e06425bb17bd4da9aa9e45d55",
          "grade": false,
          "grade_id": "cell-c0b3569395bdf54a",
          "locked": true,
          "schema_version": 1,
          "solution": false
        },
        "id": "ayJWAF7VZwtj"
      },
      "source": [
        "## Running your notebook\n",
        "\n",
        "**Running a cell.**\n",
        "To run a cell of the notebook, either click on the icon to its top left, or press shift-ENTER (or shift-Return). \n",
        "\n",
        "**Disconnections.**\n",
        "When you open a notebook, Google automatically connects a server to the web page, so that you can type code in your browser, and the code is run on that server.  If you are idle for more than a few minutes, Google keeps all you typed (none of your work is lost), but the server may be disconnected due to inactivity.  When the server is disconnected, it loses all memory of anything you have defined (functions, classes, variables, etc). \n",
        "\n",
        "If you do get disconnected, select Runtime > Run All (or Runtime > Run before) to ensure everything is defined as it should. \n",
        "\n",
        "### DO NOT\n",
        "\n",
        "* **Do not add, delete, reorder, remove cells.**  This breaks the relationship between your work, and the grading system, making it impossible to grade your work.\n",
        "\n",
        "### Debugging\n",
        "To debug, you can add print statements to your code.  They should have no effect on the tests.  Just be careful that if you add too many of them inside loops and similar, you may cause for some of the tests we will do such an enormous amount of output that grading might timeout (and you may not get credit for an answer). \n",
        "\n",
        "### Asking for help\n",
        "The tutors and TAs should have access to the notebook; otherwise, you can always share a link with them.  In this way, they can take a look at your work and help you with debugging and with any questions you might have."
      ]
    },
    {
      "cell_type": "markdown",
      "metadata": {
        "deletable": false,
        "editable": false,
        "nbgrader": {
          "checksum": "40b407cbf5a1f9570bb48d6207bba5b7",
          "grade": false,
          "grade_id": "cell-b568478f1e536885",
          "locked": true,
          "schema_version": 1,
          "solution": false
        },
        "id": "0Nvqsda0Zwtj"
      },
      "source": [
        "## Submitting Your Notebook\n",
        "\n",
        "To submit:\n",
        "* **Check your work.** Before submitting, select Runtime > Restart and Run All, and check that you don't get any unexpected error. \n",
        "* **Download the notebook.** Click on File > Download .ipynb . **Do not download the .py file.**\n",
        "* **Upload.** Upload the .ipynb file to **[this Google form](https://docs.google.com/forms/d/e/1FAIpQLSfZILRfpETo2xHL_1Us8_cvnCBlubg8kKMPOxFJY98dxkIW0Q/viewform?usp=sf_link)**. "
      ]
    },
    {
      "cell_type": "markdown",
      "metadata": {
        "deletable": false,
        "editable": false,
        "nbgrader": {
          "checksum": "fd77b61f6186d92830ff95f1ccfabc07",
          "grade": false,
          "grade_id": "cell-0c6c1e88a1c133df",
          "locked": true,
          "schema_version": 1,
          "solution": false
        },
        "id": "Md8FC8VZZwtk"
      },
      "source": [
        "## The Test\n",
        "\n",
        "There are three questions in this assignment, for a total of 40 points. "
      ]
    },
    {
      "cell_type": "code",
      "metadata": {
        "deletable": false,
        "editable": false,
        "nbgrader": {
          "checksum": "4eed345a52d7ee31f735ececf1a3176e",
          "grade": false,
          "grade_id": "cell-c42fb629a3082c33",
          "locked": true,
          "schema_version": 1,
          "solution": false
        },
        "id": "53Kp5PaGZwtk"
      },
      "source": [
        "# Let me define the function I use for testing.  Don't change this cell. \n",
        "\n",
        "def check_equal(x, y, msg=None):\n",
        "    if x == y:\n",
        "        if msg is None:\n",
        "            print(\"Success\")\n",
        "        else:\n",
        "            print(msg, \": Success\")\n",
        "    else:\n",
        "        if msg is None:\n",
        "            print(\"Error:\")\n",
        "        else:\n",
        "            print(\"Error in\", msg, \":\")\n",
        "        print(\"    Your answer was:\", x)\n",
        "        print(\"    Correct answer: \", y)\n",
        "    assert x == y, \"%r and %r are different\" % (x, y)"
      ],
      "execution_count": 22,
      "outputs": []
    },
    {
      "cell_type": "markdown",
      "metadata": {
        "deletable": false,
        "editable": false,
        "nbgrader": {
          "checksum": "e0d8c5578507fbe5ca5170afbd875298",
          "grade": false,
          "grade_id": "cell-34866174c90d1326",
          "locked": true,
          "schema_version": 1,
          "solution": false
        },
        "id": "gLQaBjudZwtk"
      },
      "source": [
        "## Question 1: Sum of Leaves\n",
        "\n",
        "Consider a binary tree defined as in the book chapter, where a node can be either a number (an integer or floating-point number), or a tuple consisting of a left subtree, and a right subtree.  Examples of trees are: \n",
        "\n",
        "    4.5\n",
        "    (3, 5)\n",
        "    (3, (5, 7))\n",
        "    ((3, 4), ((4, 2), 9))\n",
        "    \n",
        "Write a function `total(t)` that takes the tree `t`, and returns the total of all the leaves in the tree. "
      ]
    },
    {
      "cell_type": "code",
      "metadata": {
        "deletable": false,
        "nbgrader": {
          "checksum": "5f35dce1f85de00a0c946136e9ac5bf0",
          "grade": false,
          "grade_id": "cell-9936ddb74180cd9f",
          "locked": false,
          "schema_version": 1,
          "solution": true
        },
        "id": "Odmmg-vgZwtl"
      },
      "source": [
        "def total(t):                       \n",
        "    sum = 0                         # sets sum to 0\n",
        "    if isinstance(t, tuple):        # checks to see if t is a tuple\n",
        "        l, r = t                    # splits t into left and right subtree\n",
        "        return total(l) + total(r)  # recursion: runns back into total function\n",
        "    else:                           # else if t is not a tuple\n",
        "        return t                    # t is returned"
      ],
      "execution_count": 23,
      "outputs": []
    },
    {
      "cell_type": "code",
      "metadata": {
        "deletable": false,
        "nbgrader": {
          "checksum": "4137554018d47604bc66681b224e6249",
          "grade": false,
          "grade_id": "cell-1d72b98d038ff0c1",
          "locked": false,
          "schema_version": 1,
          "solution": true
        },
        "id": "_mCau7-VZwtl"
      },
      "source": [
        "# This is a place where you can write additional tests to help you test \n",
        "# your code, or debugging code, if you need.  You can also leave it blank. \n",
        "\n",
        "### YOUR CODE HERE"
      ],
      "execution_count": 24,
      "outputs": []
    },
    {
      "cell_type": "markdown",
      "metadata": {
        "deletable": false,
        "editable": false,
        "nbgrader": {
          "checksum": "b5a29f04ba54c4a7c507b9d8cf62e950",
          "grade": false,
          "grade_id": "cell-29a6beffa1970cb4",
          "locked": true,
          "schema_version": 1,
          "solution": false
        },
        "id": "I3p2aPcGZwtl"
      },
      "source": [
        "Here are some tests for your code. "
      ]
    },
    {
      "cell_type": "code",
      "metadata": {
        "deletable": false,
        "editable": false,
        "nbgrader": {
          "checksum": "e0a57dc9559e1c3df71246daf13ba1a1",
          "grade": true,
          "grade_id": "cell-4b4baab987acf707",
          "locked": true,
          "points": 5,
          "schema_version": 1,
          "solution": false
        },
        "id": "tYpBiJoFZwtl",
        "colab": {
          "base_uri": "https://localhost:8080/"
        },
        "outputId": "407d1603-6b2c-4beb-ab66-30fda2868da8"
      },
      "source": [
        "### 5 points.  Simple tests. \n",
        "\n",
        "check_equal(total(5.4), 5.4)\n",
        "check_equal(total((4, 6)), 10)\n"
      ],
      "execution_count": 25,
      "outputs": [
        {
          "output_type": "stream",
          "text": [
            "Success\n",
            "Success\n"
          ],
          "name": "stdout"
        }
      ]
    },
    {
      "cell_type": "code",
      "metadata": {
        "deletable": false,
        "editable": false,
        "nbgrader": {
          "checksum": "a1a8a86c9046312ff40e34414fe116ec",
          "grade": true,
          "grade_id": "cell-7773c3ffa45855d6",
          "locked": true,
          "points": 5,
          "schema_version": 1,
          "solution": false
        },
        "id": "e9u1iCBRZwtl",
        "colab": {
          "base_uri": "https://localhost:8080/"
        },
        "outputId": "32c4fe32-c4aa-4a71-9cd5-67ae2d65de7f"
      },
      "source": [
        "### 5 points.  Tests on trees.\n",
        "\n",
        "check_equal(total((3, (4, (5, 6)))), 18)\n",
        "check_equal(total((((3, 4), 5), ((4, 3), (2, 1)))), 22)\n"
      ],
      "execution_count": 26,
      "outputs": [
        {
          "output_type": "stream",
          "text": [
            "Success\n",
            "Success\n"
          ],
          "name": "stdout"
        }
      ]
    },
    {
      "cell_type": "markdown",
      "metadata": {
        "deletable": false,
        "editable": false,
        "nbgrader": {
          "checksum": "44f81878835f0ac01af3c639a6588261",
          "grade": false,
          "grade_id": "cell-4bc9f6fa53bddb70",
          "locked": true,
          "schema_version": 1,
          "solution": false
        },
        "id": "KSmj_u0WZwtm"
      },
      "source": [
        "## Question 2: Largest Subtree Total\n",
        "\n",
        "For a tree $t = (t_1, t_2)$, the subtrees of $t$ consist of $t$, and of the subtrees of $t_1$ and $t_2$. \n",
        "That is, in formulas, \n",
        "\n",
        "$$\n",
        "\\mbox{subtrees}(t) = \\{ t \\} \\cup \\mbox{subtrees}(t_1) \\cup \\mbox{subtrees}(t_2) . \n",
        "$$\n",
        "\n",
        "To give a concrete example, the subtrees of $t = (3, (4, 5))$ are: \n",
        "\n",
        "* $(3, (4, 5))$\n",
        "* $3$\n",
        "* $(4, 5)$\n",
        "* $4$\n",
        "* $5$\n",
        "\n",
        "Given a tree `t`, write a function `max_subtree_total(t)` that computes the largest total of any subtree in `t`. \n",
        "\n",
        "Of course, if the numbers in the tree are all non-negative, then the largest total corresponds to the complete tree, but this is not the case if there are leaves with value smaller than 0.  For instance, for the tree \n",
        "\n",
        "    (-2, (3, 4))\n",
        "    \n",
        "the largest total corresponds to the subtree `(3, 4)`, which has total 7. \n",
        "\n",
        "If you wish, you can use the `total` function you developed in the previous question, but you don't have to. "
      ]
    },
    {
      "cell_type": "code",
      "metadata": {
        "deletable": false,
        "nbgrader": {
          "checksum": "33e4c24e9f0be2c265bfa7a7aa0c1981",
          "grade": false,
          "grade_id": "cell-a7787ac65286ef61",
          "locked": false,
          "schema_version": 1,
          "solution": true
        },
        "id": "Z8PiXhjPZwtm"
      },
      "source": [
        "def max_subtree_total(t):\n",
        "    if isinstance(t, tuple):                                                # checks to see if t is a tuple\n",
        "        l, r = t                                                            # splits t into left and right subtree\n",
        "        return (max(max_subtree_total(l), max_subtree_total(r), total(t)))  # returns the max of the left and right subtree and the total sum\n",
        "    else:                                                                   # else if t is not a tuple\n",
        "        return t                                                            # returns the t value"
      ],
      "execution_count": 27,
      "outputs": []
    },
    {
      "cell_type": "code",
      "metadata": {
        "deletable": false,
        "nbgrader": {
          "checksum": "80d95cfb8e089552cf7374569c8398eb",
          "grade": false,
          "grade_id": "cell-78f7c165b32a6eeb",
          "locked": false,
          "schema_version": 1,
          "solution": true
        },
        "id": "r4V9G1M_Zwtn"
      },
      "source": [
        "# This is a place where you can write additional tests to help you test \n",
        "# your code, or debugging code, if you need.  You can also leave it blank. \n",
        "\n",
        "### YOUR CODE HERE"
      ],
      "execution_count": 28,
      "outputs": []
    },
    {
      "cell_type": "code",
      "metadata": {
        "deletable": false,
        "editable": false,
        "nbgrader": {
          "checksum": "26ac7abd2e1fce16f57286fa1e56d4e2",
          "grade": true,
          "grade_id": "cell-44abd6f2507238f4",
          "locked": true,
          "points": 5,
          "schema_version": 1,
          "solution": false
        },
        "id": "QSpyvV-DZwtn",
        "colab": {
          "base_uri": "https://localhost:8080/"
        },
        "outputId": "4cce166a-9f16-492c-a45b-8e7c0fcc881d"
      },
      "source": [
        "### 5 points.  Some simple cases first. \n",
        "\n",
        "check_equal(max_subtree_total(3), 3)\n",
        "check_equal(max_subtree_total((4, 5)), 9)"
      ],
      "execution_count": 29,
      "outputs": [
        {
          "output_type": "stream",
          "text": [
            "Success\n",
            "Success\n"
          ],
          "name": "stdout"
        }
      ]
    },
    {
      "cell_type": "code",
      "metadata": {
        "deletable": false,
        "editable": false,
        "nbgrader": {
          "checksum": "8a89bef5fd83b228282140d975c253ab",
          "grade": true,
          "grade_id": "cell-7407fc8af91e5111",
          "locked": true,
          "points": 10,
          "schema_version": 1,
          "solution": false
        },
        "id": "swmCzZJQZwtn",
        "colab": {
          "base_uri": "https://localhost:8080/"
        },
        "outputId": "c6743125-032d-49b0-c881-8d63a7b23aef"
      },
      "source": [
        "### 10 points.  More complex cases. \n",
        "\n",
        "check_equal(max_subtree_total((-3, 4)), 4)\n",
        "check_equal(max_subtree_total((-3, -4)), -3)\n",
        "check_equal(max_subtree_total(((-3, 5), (2, 1))), 5)\n",
        "check_equal(max_subtree_total((((4, 5), -3), (12, (3, 4)))), 25)\n"
      ],
      "execution_count": 30,
      "outputs": [
        {
          "output_type": "stream",
          "text": [
            "Success\n",
            "Success\n",
            "Success\n",
            "Success\n"
          ],
          "name": "stdout"
        }
      ]
    },
    {
      "cell_type": "markdown",
      "metadata": {
        "deletable": false,
        "editable": false,
        "nbgrader": {
          "checksum": "090fda5d844bf552c0963f9db78634c7",
          "grade": false,
          "grade_id": "cell-33ec0ee929973a5f",
          "locked": true,
          "schema_version": 1,
          "solution": false
        },
        "id": "4yCzSyCDZwtn"
      },
      "source": [
        "## Question 3\n",
        "\n",
        "Consider a list, for instance, `[3, 4, 5, 3, 2, 5, 6, 4]`. \n",
        "A _subsequence_ or _sublist_ of a list is a list you obtain by removing zero or more elements from the original list.  For example, subsequences of the above list are: \n",
        "\n",
        "    []\n",
        "    [4, 5, 6]\n",
        "    [3, 4, 5, 5, 6]\n",
        "    [3, 5, 2]\n",
        "    \n",
        "A _nondecreasing_ subsequence is a sequence in which a value is not smaller than any of the previous ones.  In the examples above, the first three subsequences are nondecreasing; the last one is not, as the last `2` is smaller than `3` and `5`. \n",
        "\n",
        "Your task is to write a function `nondecsub(l)` which, given a list `l`, returns a list consisting of _all_ the nondecreasing subsequences of `l`.\n",
        "\n",
        "**Hint:** It is easier to write a function `nondecsub(l, threshold=None)`, and we have set up the problem for you in this way.  The idea is that `threshold` represents a threshold, below which you should not select elements from `l`.  \n",
        "\n",
        "Remember: your goal is to reduce the problem to one that is smaller, for example, one that involves a list that is shorter by one.  Look at how the code for permutations was done.  Reduce your problem to one that is smaller, and use the `threshold` parameter to ensure that the generated subsequences are nondecreasing. "
      ]
    },
    {
      "cell_type": "code",
      "metadata": {
        "deletable": false,
        "nbgrader": {
          "checksum": "21d3821f788d2ff0239a4d9cb690b233",
          "grade": false,
          "grade_id": "cell-cb9b4c82b2e44628",
          "locked": false,
          "schema_version": 1,
          "solution": true
        },
        "id": "98V016GPZwto"
      },
      "source": [
        "def nondecsub(l, threshold=None):\n",
        "    if len(l) == 0:                             # when length is 0, an empty list is returned\n",
        "        return [[]]                             # empty list is returned \n",
        "    x = nondecsub(l[1:])                        # recursion: runs nondesub function again\n",
        "    totalList = x + [[l[0]] + y for y in x ]    # has total list of all combinations\n",
        "    finalList = []                              # creates empty list called finalList\n",
        "    for lists in totalList:                     # iterates through lists within totalList\n",
        "        if (lists == sorted(lists)):            # compares sorted list and list\n",
        "            finalList.append(lists)             # if they are the same, list is appended to finalList\n",
        "    return finalList                            # finalList is returned\n",
        "\n",
        "def normalize(ll):\n",
        "    s = set()\n",
        "    for l in ll:\n",
        "        s.add(tuple(l))\n",
        "    return s\n",
        "\n",
        "def n(l):\n",
        "    return normalize(nondecsub(l, threshold=None))"
      ],
      "execution_count": 31,
      "outputs": []
    },
    {
      "cell_type": "code",
      "metadata": {
        "deletable": false,
        "nbgrader": {
          "checksum": "c18880d5e8e8c27dc89c62a69f550e2e",
          "grade": false,
          "grade_id": "cell-3ba6ea4d3c76311a",
          "locked": false,
          "schema_version": 1,
          "solution": true
        },
        "id": "j6IaXTEAZwto"
      },
      "source": [
        "# This is a place where you can write additional tests to help you test \n",
        "# your code, or debugging code, if you need.  You can also leave it blank. \n",
        "\n",
        "### YOUR CODE HERE"
      ],
      "execution_count": 32,
      "outputs": []
    },
    {
      "cell_type": "code",
      "metadata": {
        "deletable": false,
        "editable": false,
        "nbgrader": {
          "checksum": "29b7fb3d705d2892a223e7c8b83a06a4",
          "grade": true,
          "grade_id": "cell-4a0f257ebeef846a",
          "locked": true,
          "points": 5,
          "schema_version": 1,
          "solution": false
        },
        "id": "fqQpUTYiZwto",
        "colab": {
          "base_uri": "https://localhost:8080/"
        },
        "outputId": "0c70e4b1-8af1-4fd4-bafc-d0480763d589"
      },
      "source": [
        "### 5 points: simple tests\n",
        "\n",
        "check_equal(n([4]), normalize([[], [4]]))\n",
        "\n",
        "check_equal(n([]), normalize([[]]))\n",
        "\n",
        "check_equal(n([3, 4]), normalize([\n",
        "    [], [3], [4], [3, 4]\n",
        "]))\n",
        "\n",
        "check_equal(n([4, 3]), normalize([\n",
        "    [], [3], [4]\n",
        "]))\n"
      ],
      "execution_count": 33,
      "outputs": [
        {
          "output_type": "stream",
          "text": [
            "Success\n",
            "Success\n",
            "Success\n",
            "Success\n"
          ],
          "name": "stdout"
        }
      ]
    },
    {
      "cell_type": "code",
      "metadata": {
        "deletable": false,
        "editable": false,
        "nbgrader": {
          "checksum": "546339ba28577988ec35a6a6c9f39d7c",
          "grade": true,
          "grade_id": "cell-0616b21a624c065d",
          "locked": true,
          "points": 10,
          "schema_version": 1,
          "solution": false
        },
        "id": "tr0_bujXZwto",
        "colab": {
          "base_uri": "https://localhost:8080/"
        },
        "outputId": "a412c9bd-ca78-4531-9283-00e7c98d7c7b"
      },
      "source": [
        "### 10 points: more complicated tests\n",
        "\n",
        "check_equal(n([-1, 0, 3, 4, 3, 5]), normalize([\n",
        "    (3, 4, 5), (0, 4, 5), (-1, 0), (-1, 0, 3, 3, 5), (-1, 0, 3, 4), \n",
        "    (-1,), (-1, 5), (0, 3), (3, 3), (-1, 3, 3), (3,), (-1, 3, 4), \n",
        "    (3, 3, 5), (-1, 4, 5), (-1, 0, 3, 4, 5), (-1, 0, 3, 5), \n",
        "    (-1, 3, 3, 5), (-1, 3, 5), (0, 4), (5,), (-1, 0, 3, 3), \n",
        "    (-1, 0, 3), (0, 3, 3), (0, 3, 3, 5), (-1, 0, 4, 5), (4, 5), (-1, 0, 5), \n",
        "    (0, 5), (-1, 0, 4), (3, 5), (0,), (0, 3, 4), (-1, 3), (0, 3, 5), (4,), \n",
        "    (), (0, 3, 4, 5), (-1, 3, 4, 5), (-1, 4), (3, 4)\n",
        "]))\n",
        "\n"
      ],
      "execution_count": 34,
      "outputs": [
        {
          "output_type": "stream",
          "text": [
            "Success\n"
          ],
          "name": "stdout"
        }
      ]
    }
  ]
}