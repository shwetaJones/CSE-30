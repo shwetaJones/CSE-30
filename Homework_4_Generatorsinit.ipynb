{
  "nbformat": 4,
  "nbformat_minor": 0,
  "metadata": {
    "colab": {
      "name": "Homework_4_Generators.ipynb",
      "provenance": [],
      "collapsed_sections": []
    },
    "kernelspec": {
      "display_name": "Python 3",
      "language": "python",
      "name": "python3"
    },
    "language_info": {
      "codemirror_mode": {
        "name": "ipython",
        "version": 3
      },
      "file_extension": ".py",
      "mimetype": "text/x-python",
      "name": "python",
      "nbconvert_exporter": "python",
      "pygments_lexer": "ipython3",
      "version": "3.7.3"
    },
    "test_info": {
      "id": "e2bb7e247d7d4aefdd89f5474caf8f3a118bfc1d"
    }
  },
  "cells": [
    {
      "cell_type": "markdown",
      "metadata": {
        "id": "UHHqhlNJ_yMm"
      },
      "source": [
        "Before you turn this problem in, make sure everything runs as expected. First, **restart the kernel** (in the menubar, select Kernel$\\rightarrow$Restart) and then **run all cells** (in the menubar, select Cell$\\rightarrow$Run All).\n",
        "\n",
        "Make sure you fill in any place that says `YOUR CODE HERE` or \"YOUR ANSWER HERE\", as well as your name and collaborators below:"
      ]
    },
    {
      "cell_type": "code",
      "metadata": {
        "id": "PrZ0dWPR_yMr"
      },
      "source": [
        "NAME = \"\"\n",
        "COLLABORATORS = \"\""
      ],
      "execution_count": null,
      "outputs": []
    },
    {
      "cell_type": "markdown",
      "metadata": {
        "id": "zbSryQhJ_yMs"
      },
      "source": [
        "---"
      ]
    },
    {
      "cell_type": "markdown",
      "metadata": {
        "deletable": false,
        "editable": false,
        "nbgrader": {
          "checksum": "8a8f8ed2b7355ea0a4b5174908172a3e",
          "grade": false,
          "grade_id": "cell-da2c5cc40de07223",
          "locked": true,
          "schema_version": 1,
          "solution": false
        },
        "id": "PZxSzCpY_yMs"
      },
      "source": [
        "# Homework 4: Generators\n",
        "## CSE 30 Winter 2021\n",
        "\n",
        "## Luca de Alfaro\n",
        "Copyright Luca de Alfaro, 2021.  CC-BY-NC License."
      ]
    },
    {
      "cell_type": "markdown",
      "metadata": {
        "deletable": false,
        "editable": false,
        "nbgrader": {
          "checksum": "deecbbdaba01f4fd5afc1e9b596cdb09",
          "grade": false,
          "grade_id": "cell-bebddf581b445a0d",
          "locked": true,
          "schema_version": 1,
          "solution": false
        },
        "id": "5_O4cFJz_yMs"
      },
      "source": [
        "# Instructions\n",
        "\n",
        "## The Format of a Python Notebook\n",
        "\n",
        "*This* is a Python Notebook homework.  It consists of various types of cells: \n",
        "\n",
        "* Text: you can read them :-) \n",
        "* Code: you should run them, as they may set up the problems that you are asked to solve.\n",
        "* **Solution:** These are cells where you should enter a solution.  You will see a marker in these cells that indicates where your work should be inserted.  \n",
        "\n",
        "```\n",
        "    # YOUR CODE HERE\n",
        "```    \n",
        "\n",
        "* Test: These cells contains some tests, and are worth some points.  You should run the cells as a way to debug your code, and to see if you understood the question, and whether the output of your code is produced in the correct format.  The notebook contains both the tests you see, and some secret ones that you cannot see.  This prevents you from using the simple trick of hard-coding the desired output. "
      ]
    },
    {
      "cell_type": "markdown",
      "metadata": {
        "deletable": false,
        "editable": false,
        "nbgrader": {
          "checksum": "e63d665e06425bb17bd4da9aa9e45d55",
          "grade": false,
          "grade_id": "cell-c0b3569395bdf54a",
          "locked": true,
          "schema_version": 1,
          "solution": false
        },
        "id": "9EcAr927_yMt"
      },
      "source": [
        "## Running your notebook\n",
        "\n",
        "**Running a cell.**\n",
        "To run a cell of the notebook, either click on the icon to its top left, or press shift-ENTER (or shift-Return). \n",
        "\n",
        "**Disconnections.**\n",
        "When you open a notebook, Google automatically connects a server to the web page, so that you can type code in your browser, and the code is run on that server.  If you are idle for more than a few minutes, Google keeps all you typed (none of your work is lost), but the server may be disconnected due to inactivity.  When the server is disconnected, it loses all memory of anything you have defined (functions, classes, variables, etc). \n",
        "\n",
        "If you do get disconnected, select Runtime > Run All (or Runtime > Run before) to ensure everything is defined as it should. \n",
        "\n",
        "### DO NOT\n",
        "\n",
        "* **Do not add, delete, reorder, remove cells.**  This breaks the relationship between your work, and the grading system, making it impossible to grade your work.\n",
        "\n",
        "### Debugging\n",
        "To debug, you can add print statements to your code.  They should have no effect on the tests.  Just be careful that if you add too many of them inside loops and similar, you may cause for some of the tests we will do such an enormous amount of output that grading might timeout (and you may not get credit for an answer). \n",
        "\n",
        "### Asking for help\n",
        "The tutors and TAs should have access to the notebook; otherwise, you can always share a link with them.  In this way, they can take a look at your work and help you with debugging and with any questions you might have."
      ]
    },
    {
      "cell_type": "markdown",
      "metadata": {
        "deletable": false,
        "editable": false,
        "nbgrader": {
          "checksum": "ee6e4e87dfd2df1dd84877244bd7d19b",
          "grade": false,
          "grade_id": "cell-6d77723b4603aedd",
          "locked": true,
          "schema_version": 1,
          "solution": false
        },
        "id": "_m78FNof_yMt"
      },
      "source": [
        "## Submitting Your Notebook\n",
        "\n",
        "To submit:\n",
        "* **Check your work.** Before submitting, select Runtime > Restart and Run All, and check that you don't get any unexpected error. \n",
        "* **Download the notebook.** Click on File > Download .ipynb . **Do not download the .py file.**\n",
        "* **Upload.** Upload the .ipynb file to **[this Google form](https://docs.google.com/forms/d/e/1FAIpQLSfdSR6C9vvw-vJ9jKGfq6RNf6EpZ6-mXR92VKHTfvEjsHv2eQ/viewform?usp=sf_link)**. \n"
      ]
    },
    {
      "cell_type": "markdown",
      "metadata": {
        "deletable": false,
        "editable": false,
        "nbgrader": {
          "checksum": "68aae70e57777cd017eeafd5b54f312e",
          "grade": false,
          "grade_id": "cell-abfe921f2d754a00",
          "locked": true,
          "schema_version": 1,
          "solution": false
        },
        "id": "xPWFRI9t_yMt"
      },
      "source": [
        "## Tools\n",
        "\n",
        "Here are some tools to help testing the homework."
      ]
    },
    {
      "cell_type": "code",
      "metadata": {
        "deletable": false,
        "editable": false,
        "nbgrader": {
          "checksum": "4eed345a52d7ee31f735ececf1a3176e",
          "grade": false,
          "grade_id": "cell-c42fb629a3082c33",
          "locked": true,
          "schema_version": 1,
          "solution": false
        },
        "id": "jMSD6mlw_yMu"
      },
      "source": [
        "# Let me define the function I use for testing.  Don't change this cell. \n",
        "\n",
        "def check_equal(x, y, msg=None):\n",
        "    if x == y:\n",
        "        if msg is None:\n",
        "            print(\"Success\")\n",
        "        else:\n",
        "            print(msg, \": Success\")\n",
        "    else:\n",
        "        if msg is None:\n",
        "            print(\"Error:\")\n",
        "        else:\n",
        "            print(\"Error in\", msg, \":\")\n",
        "        print(\"    Your answer was:\", x)\n",
        "        print(\"    Correct answer: \", y)\n",
        "    assert x == y, \"%r and %r are different\" % (x, y)"
      ],
      "execution_count": null,
      "outputs": []
    },
    {
      "cell_type": "code",
      "metadata": {
        "deletable": false,
        "editable": false,
        "nbgrader": {
          "checksum": "9727495511cf011c055f31cb7a89ed0d",
          "grade": false,
          "grade_id": "cell-a1201dee6ab8f30b",
          "locked": true,
          "schema_version": 1,
          "solution": false
        },
        "id": "XT5xewZ0_yMu"
      },
      "source": [
        "def subsets_set(subs_iterator):\n",
        "    \"\"\"Given an iterator subs_iterator that iterates over subsets, returns the\n",
        "    set of the frozensets yielded by the iterator.  We use frozensets as \n",
        "    frozensets can be put in a set.\"\"\"\n",
        "    subsets = set()\n",
        "    for s in subs_iterator:\n",
        "        subsets.add(frozenset(s))\n",
        "    return subsets"
      ],
      "execution_count": null,
      "outputs": []
    },
    {
      "cell_type": "code",
      "metadata": {
        "deletable": false,
        "editable": false,
        "nbgrader": {
          "checksum": "d270e7d122bf016e0ed6ec3b1e3c5142",
          "grade": false,
          "grade_id": "cell-e9e46f2b7cb3dbe0",
          "locked": true,
          "schema_version": 1,
          "solution": false
        },
        "id": "Y1J9EeE9_yMu",
        "colab": {
          "base_uri": "https://localhost:8080/"
        },
        "outputId": "e3b72428-bf43-4948-9433-d01e41b6d5fc"
      },
      "source": [
        "# Here is an example of how the above is used. \n",
        "\n",
        "def subsets():\n",
        "    yield {3}\n",
        "    yield {4, 5}\n",
        "    yield {4, 6}\n",
        "    \n",
        "subsets_set(subsets())"
      ],
      "execution_count": null,
      "outputs": [
        {
          "output_type": "execute_result",
          "data": {
            "text/plain": [
              "{frozenset({3}), frozenset({4, 6}), frozenset({4, 5})}"
            ]
          },
          "metadata": {
            "tags": []
          },
          "execution_count": 3
        }
      ]
    },
    {
      "cell_type": "markdown",
      "metadata": {
        "deletable": false,
        "editable": false,
        "nbgrader": {
          "checksum": "4b34e254cc47cc3288a472d25c36798a",
          "grade": false,
          "grade_id": "cell-29acab24450aa8b1",
          "locked": true,
          "schema_version": 1,
          "solution": false
        },
        "id": "PvB-DqIr_yMu"
      },
      "source": [
        "## Question 1: An iterator that yields all prime numbers"
      ]
    },
    {
      "cell_type": "markdown",
      "metadata": {
        "deletable": false,
        "editable": false,
        "nbgrader": {
          "checksum": "b049e131a00f8a1a585574d8a5b7963a",
          "grade": false,
          "grade_id": "cell-dc955877f268b4b1",
          "locked": true,
          "schema_version": 1,
          "solution": false
        },
        "id": "iMCqS5jV_yMu"
      },
      "source": [
        "Here's an iterator that produces all numbers that are not divisible by 2, 3, or 5: "
      ]
    },
    {
      "cell_type": "code",
      "metadata": {
        "deletable": false,
        "editable": false,
        "nbgrader": {
          "checksum": "1f2eaea9150c7388b08bf37a56c93931",
          "grade": false,
          "grade_id": "cell-12e3cfd462b483c7",
          "locked": true,
          "schema_version": 1,
          "solution": false
        },
        "id": "07lqGKew_yMv",
        "colab": {
          "base_uri": "https://localhost:8080/"
        },
        "outputId": "3728973c-a6c1-484b-999a-7051c5974aef"
      },
      "source": [
        "def not_div_235():\n",
        "    i = 0\n",
        "    while True:\n",
        "        if (i % 2) * (i % 3) * (i % 5) > 0:\n",
        "            yield i\n",
        "        i += 1\n",
        "        \n",
        "for n in not_div_235():\n",
        "    print(n)\n",
        "    if n > 20:\n",
        "        break"
      ],
      "execution_count": null,
      "outputs": [
        {
          "output_type": "stream",
          "text": [
            "1\n",
            "7\n",
            "11\n",
            "13\n",
            "17\n",
            "19\n",
            "23\n"
          ],
          "name": "stdout"
        }
      ]
    },
    {
      "cell_type": "markdown",
      "metadata": {
        "deletable": false,
        "editable": false,
        "nbgrader": {
          "checksum": "447d6acdd38d78d8895f0acb900de04d",
          "grade": false,
          "grade_id": "cell-cfe4dc6862abf393",
          "locked": true,
          "schema_version": 1,
          "solution": false
        },
        "id": "jsDRjLrh_yMv"
      },
      "source": [
        "For Question 1, build an iterator that returns all the prime numbers.  The idea is to loop over all positive integers, test each one to see if it is prime, and if it is, `yield` it. "
      ]
    },
    {
      "cell_type": "code",
      "metadata": {
        "deletable": false,
        "nbgrader": {
          "checksum": "895d3155dfdd7d770578a81040a78ddf",
          "grade": false,
          "grade_id": "cell-7afd004ac7bf330d",
          "locked": false,
          "schema_version": 1,
          "solution": true
        },
        "id": "mkq9vxQa_yMv"
      },
      "source": [
        "### Question 1: implement a prime number generator\n",
        "\n",
        "# My solution is simple and not particularly optimized, \n",
        "# and it is 12 lines long.\n",
        "\n",
        "def prime_number_generator():\n",
        "    \"\"\"This generator returns all prime numbers.\"\"\"\n",
        "    ### YOUR CODE HERE\n",
        "    "
      ],
      "execution_count": 6,
      "outputs": []
    },
    {
      "cell_type": "code",
      "metadata": {
        "deletable": false,
        "editable": false,
        "nbgrader": {
          "checksum": "83f95b17537560b21c3245fba4d2fd65",
          "grade": false,
          "grade_id": "cell-bbd83f485b079041",
          "locked": true,
          "schema_version": 1,
          "solution": false
        },
        "id": "gylNcQmE_yMv"
      },
      "source": [
        "i = 0\n",
        "for n in prime_number_generator():\n",
        "    print(n)\n",
        "    i += 1\n",
        "    if i == 10:\n",
        "        break"
      ],
      "execution_count": 8,
      "outputs": []
    },
    {
      "cell_type": "code",
      "metadata": {
        "deletable": false,
        "nbgrader": {
          "checksum": "9e34a5d101694a9c80aaf52698fdb514",
          "grade": false,
          "grade_id": "cell-1d72b98d038ff0d1",
          "locked": false,
          "schema_version": 1,
          "solution": true
        },
        "id": "1HlrHH5E_yMv"
      },
      "source": [
        "# This is a place where you can write additional tests to help you test \n",
        "# your code, or debugging code, if you need.  You can also leave it blank. \n",
        "\n",
        "### YOUR CODE HERE"
      ],
      "execution_count": null,
      "outputs": []
    },
    {
      "cell_type": "code",
      "metadata": {
        "deletable": false,
        "editable": false,
        "nbgrader": {
          "checksum": "2bda07c9b271690f8483c81af39c1caa",
          "grade": true,
          "grade_id": "cell-966f1cb757bc715e",
          "locked": true,
          "points": 10,
          "schema_version": 1,
          "solution": false
        },
        "id": "-TNQMGuH_yMw"
      },
      "source": [
        "### 10 points: Tests for `prime_number_generator`\n",
        "\n",
        "for n in prime_number_generator():\n",
        "    if n == 33:\n",
        "        raise Exception()\n",
        "    elif n == 37:\n",
        "        break\n"
      ],
      "execution_count": 5,
      "outputs": []
    },
    {
      "cell_type": "markdown",
      "metadata": {
        "id": "QnyN6g1z_yMw"
      },
      "source": [
        "## Question 2: Iterating over all subsets with a given sum\n",
        "\n",
        "Here is an iterator that yields all the subsets of a given set:"
      ]
    },
    {
      "cell_type": "code",
      "metadata": {
        "id": "Vbnqd4VY_yMw"
      },
      "source": [
        "def subsets(s):\n",
        "    \"\"\"Given a set s, yield all the subsets of s,\n",
        "    including s itself and the empty set.\"\"\"\n",
        "    if len(s) == 0:\n",
        "        yield set()\n",
        "    else:\n",
        "        ss = set(s)\n",
        "        x = ss.pop()\n",
        "        for t in subsets(ss):\n",
        "            yield t\n",
        "            yield t | {x}"
      ],
      "execution_count": null,
      "outputs": []
    },
    {
      "cell_type": "markdown",
      "metadata": {
        "deletable": false,
        "editable": false,
        "nbgrader": {
          "checksum": "a21931c0a10de122ce48787023c80af6",
          "grade": false,
          "grade_id": "cell-3563686eb9dc7d70",
          "locked": true,
          "schema_version": 1,
          "solution": false
        },
        "id": "TIoAjqiZ_yMx"
      },
      "source": [
        "Your goal is to write an iterator that iterates over all the subsets with a given sum. \n",
        "In detail, you should write a function `constant_sum_subsets(values, total)`, that takes as input: \n",
        "\n",
        "* a set `values` of non-negative numbers; \n",
        "* a non-negative number `total`, \n",
        "\n",
        "and returns an iterator that yields all subsets of `values` that sum to `total`. \n",
        "\n",
        "For instance, if `values` is $\\{1, 2, 3\\}$ and `total` is 3, then `constant_sum_subsets(values, total)` yields $\\{1, 2\\}$, and $\\{3\\}$, because those are the subsets of $\\{1, 2, 3\\}$ whose elements sum to 3. \n",
        "\n",
        "**Note:** A quick and dirty way of doing this is to use either [itertools](https://docs.python.org/3/library/itertools.html#itertools.combinations) or the `subset` function above to get an iterator over all subsets of `values`, and then filter only those which sum to `total`.  Don't do this.  Your code will be incredibly inefficient if only few subsets sum to `total`, and will in particualr fail a test case.  Rather, try to encode the requirement of what subsets need to sum to into the recursion. "
      ]
    },
    {
      "cell_type": "code",
      "metadata": {
        "deletable": false,
        "nbgrader": {
          "checksum": "044fef7d170d35ec0cdaee810841e594",
          "grade": false,
          "grade_id": "cell-01e90c2c39fa8346",
          "locked": false,
          "schema_version": 1,
          "solution": true
        },
        "id": "nAZsFKfe_yMx"
      },
      "source": [
        "def constant_sum_subsets(values, total):\n",
        "    ### YOUR CODE HERE"
      ],
      "execution_count": null,
      "outputs": []
    },
    {
      "cell_type": "code",
      "metadata": {
        "deletable": false,
        "nbgrader": {
          "checksum": "4137554018d47604bc66681b224e6249",
          "grade": false,
          "grade_id": "cell-1d72b98d038ff0c1",
          "locked": false,
          "schema_version": 1,
          "solution": true
        },
        "id": "fNpGPodN_yMx"
      },
      "source": [
        "# This is a place where you can write additional tests to help you test \n",
        "# your code, or debugging code, if you need.  You can also leave it blank. \n",
        "\n",
        "### YOUR CODE HERE"
      ],
      "execution_count": null,
      "outputs": []
    },
    {
      "cell_type": "code",
      "metadata": {
        "deletable": false,
        "editable": false,
        "nbgrader": {
          "checksum": "645c572139ff18e26335fd58974ce108",
          "grade": false,
          "grade_id": "cell-19bcf443b843487d",
          "locked": true,
          "schema_version": 1,
          "solution": false
        },
        "id": "IBjk1BfR_yMx"
      },
      "source": [
        "for seq in constant_sum_subsets({1, 2, 3}, 3):\n",
        "    print(seq)"
      ],
      "execution_count": null,
      "outputs": []
    },
    {
      "cell_type": "code",
      "metadata": {
        "deletable": false,
        "editable": false,
        "nbgrader": {
          "checksum": "bb61be57a3d16709591461ed8fbdea77",
          "grade": false,
          "grade_id": "cell-06bcbe3b3983c21b",
          "locked": true,
          "schema_version": 1,
          "solution": false
        },
        "id": "ZxsGNX3W_yMx"
      },
      "source": [
        "for seq in constant_sum_subsets({1, 2, 3, 4, 5, 6, 7, 8}, 8):\n",
        "    print(seq)"
      ],
      "execution_count": null,
      "outputs": []
    },
    {
      "cell_type": "code",
      "metadata": {
        "deletable": false,
        "editable": false,
        "nbgrader": {
          "checksum": "41ef26878313d2ff214b1d4201642966",
          "grade": true,
          "grade_id": "cell-44624efd3b53e1a7",
          "locked": true,
          "points": 10,
          "schema_version": 1,
          "solution": false
        },
        "id": "MI_gTaw8_yMx"
      },
      "source": [
        "### Simple tests. 10 points. \n",
        "\n",
        "subs1 = constant_sum_subsets({1, 2, 3}, 3)\n",
        "subs2 = {(1, 2), (3,)} # To represent {{1, 2}, {3}}\n",
        "check_equal(subsets_set(subs1), subsets_set(subs2))\n",
        "\n",
        "subs1 = constant_sum_subsets({1, 2, 3, 4}, 4)\n",
        "subs2 = {(1, 3), (4,)} # To represent {{1, 3}, {4}}\n",
        "check_equal(subsets_set(subs1), subsets_set(subs2))\n",
        "\n",
        "subs1 = constant_sum_subsets({1, 2, 3, 4, 5}, 6)\n",
        "subs2 = {(1, 2, 3), (1, 5), (2, 4)} # To represent {{1, 2, 3}, {1, 5}, {2, 4}}\n",
        "check_equal(subsets_set(subs1), subsets_set(subs2))\n"
      ],
      "execution_count": null,
      "outputs": []
    },
    {
      "cell_type": "code",
      "metadata": {
        "deletable": false,
        "editable": false,
        "nbgrader": {
          "checksum": "6e99a497376a28fcecc31825268b7014",
          "grade": true,
          "grade_id": "cell-0ad0bf79d345099a",
          "locked": true,
          "points": 10,
          "schema_version": 1,
          "solution": false
        },
        "id": "K46fAlS3_yMy"
      },
      "source": [
        "### Advanced test. 10 points. \n",
        "\n",
        "# This test fails if you are not smart about using the fact that values are all non-negatives. \n",
        "values = set(range(10000, 10100))\n",
        "num = 0\n",
        "for _ in constant_sum_subsets(values, 2000):\n",
        "    num += 1\n",
        "check_equal(num, 0)\n",
        "\n",
        "values = set(range(10000, 10100))\n",
        "num = 0\n",
        "for _ in constant_sum_subsets(values, 20020):\n",
        "    num += 1\n",
        "check_equal(num, 10)\n"
      ],
      "execution_count": null,
      "outputs": []
    },
    {
      "cell_type": "code",
      "metadata": {
        "deletable": false,
        "editable": false,
        "nbgrader": {
          "checksum": "5269a5e6669d5d47371503dc14ac613b",
          "grade": true,
          "grade_id": "cell-985d9680d1f87ed0",
          "locked": true,
          "points": 10,
          "schema_version": 1,
          "solution": false
        },
        "id": "yvjc2hKR_yMy"
      },
      "source": [
        "### Final tests, hidden. 10 points. \n",
        "# This compares your solution with a known good solution.\n",
        "\n",
        "pass\n"
      ],
      "execution_count": null,
      "outputs": []
    }
  ]
}