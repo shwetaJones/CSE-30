{
  "nbformat": 4,
  "nbformat_minor": 0,
  "metadata": {
    "colab": {
      "name": "Homework_5_Stream_Averages_and_Motion_Detection.ipynb",
      "provenance": [],
      "collapsed_sections": []
    },
    "kernelspec": {
      "display_name": "Python 3",
      "language": "python",
      "name": "python3"
    },
    "language_info": {
      "codemirror_mode": {
        "name": "ipython",
        "version": 3
      },
      "file_extension": ".py",
      "mimetype": "text/x-python",
      "name": "python",
      "nbconvert_exporter": "python",
      "pygments_lexer": "ipython3",
      "version": "3.7.3"
    },
    "test_info": {
      "id": "e2bb7e247d7d4aefdd89f5474caf8f3a118bfc1d"
    }
  },
  "cells": [
    {
      "cell_type": "markdown",
      "metadata": {
        "id": "hIqun3ZE7Slp"
      },
      "source": [
        "Before you turn this problem in, make sure everything runs as expected. First, **restart the kernel** (in the menubar, select Kernel$\\rightarrow$Restart) and then **run all cells** (in the menubar, select Cell$\\rightarrow$Run All).\n",
        "\n",
        "Make sure you fill in any place that says `YOUR CODE HERE` or \"YOUR ANSWER HERE\", as well as your name and collaborators below:"
      ]
    },
    {
      "cell_type": "code",
      "metadata": {
        "id": "XzpQG1107Slu"
      },
      "source": [
        "NAME = \"Shweta Jones\"\n",
        "COLLABORATORS = \"\""
      ],
      "execution_count": null,
      "outputs": []
    },
    {
      "cell_type": "markdown",
      "metadata": {
        "id": "eMDJ5Est7Slv"
      },
      "source": [
        "---"
      ]
    },
    {
      "cell_type": "markdown",
      "metadata": {
        "deletable": false,
        "editable": false,
        "nbgrader": {
          "checksum": "032870c0316e39ed0b03559fb160fb28",
          "grade": false,
          "grade_id": "cell-23f58e80afda25d4",
          "locked": true,
          "schema_version": 1,
          "solution": false
        },
        "id": "e1YpuaOS7Slw"
      },
      "source": [
        "# Homework 5: Stream Averages and Motion Detection\n",
        "\n",
        "## CSE 30 Winter 2021\n",
        "\n",
        "Copyright Luca de Alfaro, 2019-21. \n",
        "License: [CC-BY-NC-ND](https://creativecommons.org/licenses/by-nc-nd/4.0/)."
      ]
    },
    {
      "cell_type": "markdown",
      "metadata": {
        "deletable": false,
        "editable": false,
        "nbgrader": {
          "checksum": "29ba51b616de2659d9ed1c449a4710a6",
          "grade": false,
          "grade_id": "cell-ed51b034c970c018",
          "locked": true,
          "schema_version": 1,
          "solution": false
        },
        "id": "ZokGwFAv7Slw"
      },
      "source": [
        "For how to work on this homework assignment, please refer to the instructions posted on Canvas. \n",
        "\n",
        "## Submission\n",
        "\n",
        "* **First, remove the output, or the notebook will be too large:**\n",
        "\n",
        "    Edit > Clear all outputs\n",
        "    \n",
        "  \n",
        "* Then, download the .ipynb file:\n",
        "\n",
        "    File > Download .ipynb\n",
        "    \n",
        "    \n",
        "* Finally, [submit the .ipynb to this Google Form](https://docs.google.com/forms/d/e/1FAIpQLSddJR5vDNRGG-yq22s3eCDmV2xioAD9U31KgL8taTKSVqdokg/viewform?usp=sf_link).\n"
      ]
    },
    {
      "cell_type": "markdown",
      "metadata": {
        "deletable": false,
        "editable": false,
        "nbgrader": {
          "checksum": "2177f64fe3d728669a088c66163e0e5e",
          "grade": false,
          "grade_id": "cell-dd3c62597369770a",
          "locked": true,
          "schema_version": 1,
          "solution": false
        },
        "id": "14CvQRnK7Slx"
      },
      "source": [
        "## About this homework\n",
        "\n",
        "This homework notebook has many cells, as it is derived from the chapter, but there are only three questions. \n",
        "Each question is marked\n",
        "\n",
        "    ### Question n:\n",
        "    \n",
        "for $n = 1, 2, 3$. \n",
        "The questions are: \n",
        "\n",
        "* Implementing a sliding window averagerator\n",
        "* Implementing a class to clean data streams\n",
        "* Implementing a class to perform motion detection."
      ]
    },
    {
      "cell_type": "markdown",
      "metadata": {
        "deletable": false,
        "editable": false,
        "nbgrader": {
          "checksum": "232d22754eec312f64dbf32844db108c",
          "grade": false,
          "grade_id": "cell-e435450e249172c7",
          "locked": true,
          "schema_version": 1,
          "solution": false
        },
        "id": "xdrDcDkf7Slx"
      },
      "source": [
        "Suppose you have a series of numbers, and you need to compute their average and standard deviation.  What is a good way for doing this? \n",
        "The obvious way is to use the [numpy library](https://www.numpy.org), which offers a wealth of functions to operate on matrices, arrays, and much more. \n",
        "Numpy is one of the fundamental packages of Python, and you would be well advised to browse its documentation and familiarize yourself with what it can do. \n",
        "With numpy, we can compute average and standard deviation of a list of numbers very simply: \n"
      ]
    },
    {
      "cell_type": "code",
      "metadata": {
        "deletable": false,
        "editable": false,
        "nbgrader": {
          "checksum": "290dfabdb17aa5b367c3ad5c54422cf7",
          "grade": false,
          "grade_id": "cell-69ecf72a2ebb31f5",
          "locked": true,
          "schema_version": 1,
          "solution": false
        },
        "id": "Gqs2U3027Slx"
      },
      "source": [
        "import numpy as np\n",
        "\n",
        "s = [1., 2., 3., 3., 2., 4., 3.]\n",
        "print(\"avg:\", np.average(s))\n",
        "print(\"std:\", np.std(s))\n"
      ],
      "execution_count": null,
      "outputs": []
    },
    {
      "cell_type": "markdown",
      "metadata": {
        "deletable": false,
        "editable": false,
        "nbgrader": {
          "checksum": "38c0d7df2df28d58371191274d6b0004",
          "grade": false,
          "grade_id": "cell-bc73c4e84a0a96ce",
          "locked": true,
          "schema_version": 1,
          "solution": false
        },
        "id": "D1e5n12E7Slx"
      },
      "source": [
        "## Stream statistics\n",
        "\n",
        "Assume now that the numbers do not form a fixed length sequence, but rather, a stream of numbers, with new numbers always arriving.  The numbers could represent real-time temperature measurements, or water pressure, or electricity usage, or percentages of utilized CPU cycles, and so forth. \n",
        "What do we do in order to compute their average and standard deviation? \n",
        "\n",
        "There are various choices, and the way one does it depends on the application. \n",
        "It is certainly possible to accummulate all numbers, and then compute their overall average and standard deviation; this allows the computation of statistics that apply to the entire time range for which the data was available. \n",
        "More commonly, one is interested in knowing the _recent_ aveage and standard deviation, so that one can compare the most recent data with the average of the last day. "
      ]
    },
    {
      "cell_type": "markdown",
      "metadata": {
        "deletable": false,
        "editable": false,
        "nbgrader": {
          "checksum": "35beafc102068b873a43c60641259ed8",
          "grade": false,
          "grade_id": "cell-c1a505237cdcea22",
          "locked": true,
          "schema_version": 1,
          "solution": false
        },
        "id": "o7F7xHrs7Sly"
      },
      "source": [
        "## Stream Averagerators\n",
        "\n",
        "One could implement the code that computes the average of a stream in the same portion of code where one reads the stream, as follows:"
      ]
    },
    {
      "cell_type": "code",
      "metadata": {
        "deletable": false,
        "editable": false,
        "nbgrader": {
          "checksum": "5084146196b98a8631c7dc55b927cfd8",
          "grade": false,
          "grade_id": "cell-ff2ef3d9878b0d7c",
          "locked": true,
          "schema_version": 1,
          "solution": false
        },
        "id": "Hj5tiHSF7Sly"
      },
      "source": [
        "import random # We use random to simulate a stream.\n",
        "\n",
        "def read_stream():\n",
        "    \"\"\"Reads and returns one number from the stream.\"\"\"\n",
        "    return random.random()\n",
        "\n",
        "def use(x):\n",
        "    \"\"\"Code to do something with x\"\"\"\n",
        "    pass\n",
        "\n",
        "# Here we accummulate the sequence, so we can average it.\n",
        "seq = []\n",
        "\n",
        "while True:\n",
        "    x = read_stream()\n",
        "\n",
        "    # We add x to the average\n",
        "    seq.append(x)\n",
        "    print(\"avg:\", np.average(seq))\n",
        "    use(x)\n",
        "\n",
        "    # This is an example, and I don't what the code to run forever.\n",
        "    if len(seq) == 10:\n",
        "        break\n"
      ],
      "execution_count": null,
      "outputs": []
    },
    {
      "cell_type": "markdown",
      "metadata": {
        "deletable": false,
        "editable": false,
        "nbgrader": {
          "checksum": "b6d539715927bb6ed584998e3ae822d6",
          "grade": false,
          "grade_id": "cell-d096d4fafbf0dee5",
          "locked": true,
          "schema_version": 1,
          "solution": false
        },
        "id": "MNeMEmJw7Sly"
      },
      "source": [
        "However, this approach is horrible in two different ways.  One way is that the implementation is horribly inefficient; our sequence seq will have to hold all the data we read from the stream.  This is bad, and we will fix it later. \n",
        "\n",
        "The other way in which this is horrible is that the code to compute the average is intermingled with the code that reads the sequence and passes it to the code that uses it.  It would be much better to separate out the code, for two related reasons. \n",
        "\n",
        "**Separation of concerns.** Separating the code makes it easier both to read and to write, because we separate the concerns: when we write the code to compute the average, we can focus on that, disregarding the details of how the stream is read or used; when we write the code that processes the stream, we can focus on that, simply calling a method to compute the average, but disregarding how the average is computed. \n",
        "Separating the concerns, or dividing the overall coding task into smaller, independent units, is key.  Each person, at any given time, can keep in mind only a fairly small set of facts; indeed, several studies on software verification point out to the fact that in order to write correct code, programmers usually use no more than a dozen facts about the previous code and input, reflecting what likely is an underlying limitation of our brains.  \n",
        "By focusing on one task at a time, we can apply our full mental powers to that particular task, making it much easier to write its code. \n",
        "The same goes for reading code: it is much easier to understand code that does one specific thing, than code that mixes multiple goals at a time. \n",
        "\n",
        "**Ease of modification.** As we mentioned, there are various ways of computing a stream average: there are more and less efficient implementations, and we can consider the entirety of the data read from the stream, or only the most recent one.  It will be easier to change the implementation if the code for computing the stream average is all in the same place, rather than sprinkled in multiple places that must be tracked and updated. \n",
        "\n",
        "For these reasons, we introduce _averagerator_ classes that comput  running averages and standard deviations. \n",
        "The first we write, _FullAveragerator_, is for computing the statistics of complete sequences.\n",
        "\n",
        "The class has one method, _add_, used to add data to it, and two properties, _avg_ and _std_, which return the average and standard deviation so far. \n",
        "\n"
      ]
    },
    {
      "cell_type": "code",
      "metadata": {
        "deletable": false,
        "editable": false,
        "nbgrader": {
          "checksum": "46fe894687e588d7425434ee8ff76e9d",
          "grade": false,
          "grade_id": "cell-5426535d39bfd62f",
          "locked": true,
          "schema_version": 1,
          "solution": false
        },
        "id": "jtlmITP67Slz"
      },
      "source": [
        "class FullAveragerator(object):\n",
        "\n",
        "    def __init__(self):\n",
        "        self.seq = []\n",
        "\n",
        "    def add(self, x):\n",
        "        self.seq.append(x)\n",
        "\n",
        "    @property\n",
        "    def avg(self):\n",
        "        return np.average(self.seq)\n",
        "\n",
        "    @property\n",
        "    def std(self):\n",
        "        return np.std(self.seq)\n"
      ],
      "execution_count": null,
      "outputs": []
    },
    {
      "cell_type": "markdown",
      "metadata": {
        "deletable": false,
        "editable": false,
        "nbgrader": {
          "checksum": "bd5e3166dfdce416b8edc10296b6d770",
          "grade": false,
          "grade_id": "cell-e5f38b446235116b",
          "locked": true,
          "schema_version": 1,
          "solution": false
        },
        "id": "Gbi67kKd7Slz"
      },
      "source": [
        "The previous code can be rewritten like this:"
      ]
    },
    {
      "cell_type": "code",
      "metadata": {
        "deletable": false,
        "editable": false,
        "nbgrader": {
          "checksum": "cf37166ec81701a6226ecca873565d08",
          "grade": false,
          "grade_id": "cell-f0893bac670739cf",
          "locked": true,
          "schema_version": 1,
          "solution": false
        },
        "id": "yJSV4b0n7Slz"
      },
      "source": [
        "averagerator = FullAveragerator()\n",
        "\n",
        "for _ in range(10):\n",
        "    x = read_stream()\n",
        "\n",
        "    # We add x to the average\n",
        "    averagerator.add(x)\n",
        "    print(\"avg:\", averagerator.avg)\n",
        "    use(x)\n",
        "\n"
      ],
      "execution_count": null,
      "outputs": []
    },
    {
      "cell_type": "markdown",
      "metadata": {
        "deletable": false,
        "editable": false,
        "nbgrader": {
          "checksum": "167d19c8e9a7a5f3b8b9b2decbc11734",
          "grade": false,
          "grade_id": "cell-2c61d18a5fd64a40",
          "locked": true,
          "schema_version": 1,
          "solution": false
        },
        "id": "uN1qwTa_7Sl0"
      },
      "source": [
        "The improvement seems minor, but this is only because our averagerator, as written is very simple. \n",
        "Very simple, and very inefficient, as remarked.   Let us write it more efficiently."
      ]
    },
    {
      "cell_type": "markdown",
      "metadata": {
        "deletable": false,
        "editable": false,
        "nbgrader": {
          "checksum": "b48df4448256c3c35a66d807bf7c9623",
          "grade": false,
          "grade_id": "cell-aae862d9de3e9b64",
          "locked": true,
          "schema_version": 1,
          "solution": false
        },
        "id": "3wiQe4SO7Sl0"
      },
      "source": [
        "A picture is worth a thousand words, so let's draw one."
      ]
    },
    {
      "cell_type": "code",
      "metadata": {
        "deletable": false,
        "editable": false,
        "nbgrader": {
          "checksum": "ab3e11b6cf72428254087c623cf81933",
          "grade": false,
          "grade_id": "cell-e689a2ecb1971dde",
          "locked": true,
          "schema_version": 1,
          "solution": false
        },
        "id": "7XQDdgx27Sl0"
      },
      "source": [
        "import matplotlib.pyplot as plt\n",
        "\n",
        "averagerator = FullAveragerator()\n",
        "\n",
        "xs = []\n",
        "smooth_xs = []\n",
        "for _ in range(200):\n",
        "    x = read_stream()\n",
        "    xs.append(x)\n",
        "    averagerator.add(x)\n",
        "    smooth_xs.append(averagerator.avg)\n",
        "plt.plot(xs, label=\"xs\")\n",
        "plt.plot(smooth_xs, label=\"smooth xs\")\n",
        "plt.legend()\n",
        "plt.show()\n"
      ],
      "execution_count": null,
      "outputs": []
    },
    {
      "cell_type": "markdown",
      "metadata": {
        "deletable": false,
        "editable": false,
        "nbgrader": {
          "checksum": "c409653ef8a422b9e13df3580d7a6013",
          "grade": false,
          "grade_id": "cell-74143c0e0db431cb",
          "locked": true,
          "schema_version": 1,
          "solution": false
        },
        "id": "aOUrCcA17Sl0"
      },
      "source": [
        "### Efficient Stream Averagerator\n",
        "\n",
        "The idea in computing a more efficient implementation is to avoid storing the entire sequence, summarizing it instead by aggregate statistics.  The average $E[X]$ of a sequence of $n$ numbers $x_1, x_2, \\ldots, x_n$ can be computed as $S_n / n$, where \n",
        "$$\n",
        "S_n = \\sum_{i=1}^n x_i \\; .\n",
        "$$\n",
        "When $x_{n+1}$ arrives, all we need to do is compute \n",
        "$S_{n+1} = x_{n+1} + S_n$, and return the average $S_{n+1} / (n+1)$.\n",
        "\n",
        "Thus, we do not need to store the complete sequence to compute the average: we need to store only the sequence length ($n$ above), and the sequence sum ($S_n$ above). \n"
      ]
    },
    {
      "cell_type": "code",
      "metadata": {
        "deletable": false,
        "editable": false,
        "nbgrader": {
          "checksum": "e89316224d75cd6d7da624cc3f6d35bb",
          "grade": false,
          "grade_id": "cell-219dbce6a55af35c",
          "locked": true,
          "schema_version": 1,
          "solution": false
        },
        "id": "-txmEsHk7Sl0"
      },
      "source": [
        "class EfficientFullAveragerator(object):\n",
        "\n",
        "    def __init__(self):\n",
        "        self.sum_x = 0.\n",
        "        self.n = 0\n",
        "\n",
        "    def add(self, x):\n",
        "        self.sum_x += x\n",
        "        self.n += 1\n",
        "\n",
        "    @property\n",
        "    def avg(self):\n",
        "        return self.sum_x / self.n\n"
      ],
      "execution_count": null,
      "outputs": []
    },
    {
      "cell_type": "markdown",
      "metadata": {
        "deletable": false,
        "editable": false,
        "nbgrader": {
          "checksum": "6fb9b2c5f1b56b71689dcf57cb3a39d6",
          "grade": false,
          "grade_id": "cell-9174b09d4d3d53b5",
          "locked": true,
          "schema_version": 1,
          "solution": false
        },
        "id": "jgopqYdU7Sl1"
      },
      "source": [
        "This works, but what about the standard deviation?  \n",
        "\n",
        "The standard deviation is the square root of the variance, and for a series $X = x_1, x_2, \\ldots, x_n$ of numbers, the variance is \n",
        "$$\n",
        "E[(X - E[X])^2] = E[(X - \\mu)^2]\n",
        "$$\n",
        "where $\\mu = E[X]$ is the average.\n",
        "This equation does not tell us directly what to store.  We cannot compute the average of $x_1 - \\mu, x_2 - \\mu, \\ldots, x_n - \\mu$, because $\\mu$ is not known when $x_1$ arrives: $\\mu$ depends on the _entire_ sequence, so when its first element $x_1$ arrives, $\\mu$ is not known yet! \n",
        "\n",
        "To obtain a form that we can compute on the fly, we need to develop the above equation.\n",
        "\n",
        "$$\n",
        "E[(X - \\mu)^2] = E[X^2 - 2\\mu X + \\mu^2] = E[X^2] - 2 \\mu E[X] + \\mu^2 \n",
        "= E[X^2] - \\mu^2 \\; ,\n",
        "$$\n",
        "\n",
        "where we have used that $E[X] = \\mu$. \n",
        "The relation\n",
        "\n",
        "$$\n",
        "E[(X - \\mu)^2] = E[X^2] - \\mu^2 \\; ,\n",
        "$$\n",
        "\n",
        "_is_ suitable to be computed on the fly. \n",
        "It is just the average of the sequence of squares $x_1^2, x_2^2, \\ldots$ (and we already know how to compute sequence averages), minus $\\mu^2$, which we also already know how to compute.\n",
        "\n",
        "Using these ideas, here is the complete implementation of our efficient averagerator class."
      ]
    },
    {
      "cell_type": "code",
      "metadata": {
        "deletable": false,
        "editable": false,
        "nbgrader": {
          "checksum": "6fae0cbd9b5e87abc5b6cd16090a6cfa",
          "grade": false,
          "grade_id": "cell-7548ef0a716c9b62",
          "locked": true,
          "schema_version": 1,
          "solution": false
        },
        "id": "uoz3WMJ37Sl1"
      },
      "source": [
        "class EfficientFullAveragerator(object):\n",
        "\n",
        "    def __init__(self):\n",
        "        self.sum_x = 0.\n",
        "        self.sum_x_sq = 0.\n",
        "        self.n = 0\n",
        "\n",
        "    def add(self, x):\n",
        "        # We compute the sum of the x, to compute their average.\n",
        "        self.sum_x += x\n",
        "        # Sum of the x^2, so we can later compute the average of the x^2.\n",
        "        self.sum_x_sq += x * x\n",
        "        self.n += 1\n",
        "\n",
        "    @property\n",
        "    def avg(self):\n",
        "        return self.sum_x / self.n\n",
        "\n",
        "    @property\n",
        "    def std(self):\n",
        "        mu = self.avg # To avoid calling self.avg twice.\n",
        "        return np.sqrt(self.sum_x_sq / self.n - mu * mu)\n"
      ],
      "execution_count": null,
      "outputs": []
    },
    {
      "cell_type": "markdown",
      "metadata": {
        "deletable": false,
        "editable": false,
        "nbgrader": {
          "checksum": "8e714c2b03954822cfbbfc4cbdf5d76d",
          "grade": false,
          "grade_id": "cell-cabd433f2a8e0ce7",
          "locked": true,
          "schema_version": 1,
          "solution": false
        },
        "id": "Efot2OQT7Sl1"
      },
      "source": [
        "Let us play with this implementation."
      ]
    },
    {
      "cell_type": "code",
      "metadata": {
        "deletable": false,
        "editable": false,
        "nbgrader": {
          "checksum": "7555a4dab8ae401b4df60b0f6c3d9d9f",
          "grade": false,
          "grade_id": "cell-2246d1dfd9bfa1",
          "locked": true,
          "schema_version": 1,
          "solution": false
        },
        "id": "cLX5p2gC7Sl2"
      },
      "source": [
        "averagerator = EfficientFullAveragerator()\n",
        "\n",
        "xs = []\n",
        "smooth_xs = []\n",
        "stdevs = []\n",
        "for _ in range(200):\n",
        "    x = read_stream()\n",
        "    xs.append(x)\n",
        "    averagerator.add(x)\n",
        "    smooth_xs.append(averagerator.avg)\n",
        "    stdevs.append(averagerator.std)\n",
        "plt.plot(xs, label=\"xs\")\n",
        "plt.plot(smooth_xs, label=\"smooth xs\")\n",
        "plt.plot(stdevs, label=\"std\")\n",
        "plt.legend()\n",
        "plt.show()\n"
      ],
      "execution_count": null,
      "outputs": []
    },
    {
      "cell_type": "markdown",
      "metadata": {
        "deletable": false,
        "editable": false,
        "nbgrader": {
          "checksum": "81a4ec8f9d39abdd9a7633704ee6dba7",
          "grade": false,
          "grade_id": "cell-c72dc2c4d7144e36",
          "locked": true,
          "schema_version": 1,
          "solution": false
        },
        "id": "iRy6-MpT7Sl2"
      },
      "source": [
        "This works, and we can see that the average tends to $0.5$, and the standard deviation tends to $1/\\sqrt{12}$. \n",
        "This because the input numbers are uniformy distributed between 0 and 1, and:\n",
        "$$\n",
        "\\int_0^1 x \\: dx = \\frac{1}{2} \\; , \\qquad \\int_0^1 \\left(x - \\frac{1}{2}\\right)^2 \\: dx = \\frac{1}{12} \\; .\n",
        "$$\n"
      ]
    },
    {
      "cell_type": "markdown",
      "metadata": {
        "deletable": false,
        "editable": false,
        "nbgrader": {
          "checksum": "8a298bf1414d69a676871e3965256247",
          "grade": false,
          "grade_id": "cell-f6a628b65a70188e",
          "locked": true,
          "schema_version": 1,
          "solution": false
        },
        "id": "DC6PpMEL7Sl2"
      },
      "source": [
        "### Sliding Windows Averagerators\n",
        "\n",
        "Often, we are more interested in the recent average than in the average since the start of a stream. \n",
        "This is especially true if we plan to use the average and standard deviation to identify outliers (possibly incorrect data) in a data stream. \n",
        "\n",
        "Consider, for instance, a temperature sensor giving us readings of outside air temperature once per minute. \n",
        "If one considers statistics that span more than one year, a location might have an average temperature of 15 (Celsius; all temperatures in the following are in Celsius), and a standard deviation of 15, accommodating Winter temperatures slightly above freezing and Summer ones around 30C. \n",
        "\n",
        "Yet, if we saw input data: \n",
        "$$\n",
        "      12.3, 12.3, 12.4, 12.3, 12.4, 12.4, 23.3, 17.5, 12.4, 12.5, 12.6 \n",
        "$$\n",
        "we should be suspicious: outside air temperature does not change by more than 10C in a minute. \n",
        "We do not know what happened --- someone touched the temperature sensor with a finger, perhaps --- but we know that the data is probably not reflective of air temperature. \n"
      ]
    },
    {
      "cell_type": "markdown",
      "metadata": {
        "deletable": false,
        "editable": false,
        "nbgrader": {
          "checksum": "75d45d54793cfb992a5e375a409b13fb",
          "grade": false,
          "grade_id": "cell-f8c96ee944887983",
          "locked": true,
          "schema_version": 1,
          "solution": false
        },
        "id": "EsAy7uTw7Sl2"
      },
      "source": [
        "As a concrete example, let us simulate a sensor that senses air temperature.  Air temperature varies between 5C and 25C, as a sine wave (just to make it easy to draw); the sensor has a noise of $\\pm 1C$ on each measurement. "
      ]
    },
    {
      "cell_type": "code",
      "metadata": {
        "deletable": false,
        "editable": false,
        "nbgrader": {
          "checksum": "de6ffb1dfc25f13f06ecfb99e629dfc5",
          "grade": false,
          "grade_id": "cell-eb4c6bfe41e93a",
          "locked": true,
          "schema_version": 1,
          "solution": false
        },
        "id": "j2pibOFo7Sl2"
      },
      "source": [
        "def noisy_temp(noise=1., d=0.05):\n",
        "    t = -d # time\n",
        "    while True:\n",
        "        t += d # We increment time.\n",
        "        yield 15. + 10. * np.sin(t) + noise * 2.  * (random.random() - 0.5)\n",
        "\n",
        "# Let's show how this looks.\n",
        "xs = []\n",
        "for x in noisy_temp():\n",
        "    xs.append(x)\n",
        "    if len(xs) == 400:\n",
        "        break\n",
        "plt.plot(xs)\n",
        "plt.show()\n",
        "\n"
      ],
      "execution_count": null,
      "outputs": []
    },
    {
      "cell_type": "markdown",
      "metadata": {
        "deletable": false,
        "editable": false,
        "nbgrader": {
          "checksum": "749ee8adf54454bcff5ea8958e702348",
          "grade": false,
          "grade_id": "cell-863de9fd6d03582b",
          "locked": true,
          "schema_version": 1,
          "solution": false
        },
        "id": "IPPbY9GL7Sl2"
      },
      "source": [
        "Let us construct a version of this signal with outliers, where once in 50 readings, about, the sensor has an error that can be up to 10C. "
      ]
    },
    {
      "cell_type": "code",
      "metadata": {
        "deletable": false,
        "editable": false,
        "nbgrader": {
          "checksum": "9843e27c015cb83985d8cc77a52efdac",
          "grade": false,
          "grade_id": "cell-ca8ffb99d3ee0737",
          "locked": true,
          "schema_version": 1,
          "solution": false
        },
        "id": "B8msvAD_7Sl3"
      },
      "source": [
        "def noisy_temp_with_outliers(noise=1., d=0.05, outlier_prob=0.02, outlier_size=10.):\n",
        "    t = -d # time\n",
        "    while True:\n",
        "        t += d # We increment time.\n",
        "        x = 15. + 10. * np.sin(t) + noise * 2.  * (random.random() - 0.5)\n",
        "        # Adds the outlier, with a certain probability.\n",
        "        if random.random() < outlier_prob:\n",
        "            x += outlier_size * 2. * (random.random() - 0.5)\n",
        "        yield x\n",
        "\n",
        "# Let's show how this looks.\n",
        "xs = []\n",
        "for x in noisy_temp_with_outliers():\n",
        "    xs.append(x)\n",
        "    if len(xs) == 400:\n",
        "        break\n",
        "plt.plot(xs)\n",
        "plt.show()\n",
        "\n"
      ],
      "execution_count": null,
      "outputs": []
    },
    {
      "cell_type": "markdown",
      "metadata": {
        "deletable": false,
        "editable": false,
        "nbgrader": {
          "checksum": "8cd1efbf49bb3fc96ee7c50a3880d2d5",
          "grade": false,
          "grade_id": "cell-4b27edd269fd5ff7",
          "locked": true,
          "schema_version": 1,
          "solution": false
        },
        "id": "mfaH4ROi7Sl3"
      },
      "source": [
        "Let us compare these outliers, with the average and standard deviation of the whole series. "
      ]
    },
    {
      "cell_type": "code",
      "metadata": {
        "deletable": false,
        "editable": false,
        "nbgrader": {
          "checksum": "76d4503f22b6c9fb7b7886db6cbb2e0e",
          "grade": false,
          "grade_id": "cell-23a05a2b0d0c3ae9",
          "locked": true,
          "schema_version": 1,
          "solution": false
        },
        "id": "28NkbUVf7Sl3"
      },
      "source": [
        "xs = []\n",
        "avgs = []\n",
        "stds = []\n",
        "a = EfficientFullAveragerator()\n",
        "for x in noisy_temp_with_outliers():\n",
        "    xs.append(x)\n",
        "    a.add(x)\n",
        "    avgs.append(a.avg)\n",
        "    stds.append(a.std)\n",
        "    if len(xs) == 400:\n",
        "        break\n",
        "plt.plot(xs, label='x')\n",
        "plt.plot(avgs, label='average')\n",
        "# Let's move to numpy to compute average plus and minus standard deviation.\n",
        "a_avg = np.array(avgs)\n",
        "a_std = np.array(stds)\n",
        "plt.plot(a_avg + a_std, label='avg + std', color='g')\n",
        "plt.plot(a_avg - a_std, label='avg - std', color='g')\n",
        "plt.legend()\n",
        "plt.show()\n"
      ],
      "execution_count": null,
      "outputs": []
    },
    {
      "cell_type": "markdown",
      "metadata": {
        "deletable": false,
        "editable": false,
        "nbgrader": {
          "checksum": "03188cb49f18c8f5712e6abdc5227c07",
          "grade": false,
          "grade_id": "cell-ef48cf79a4bf29fd",
          "locked": true,
          "schema_version": 1,
          "solution": false
        },
        "id": "HU7qXLJR7Sl3"
      },
      "source": [
        "As we see: \n",
        "* The temperature, even when read without outliers, often differs from the average by more than the overall standard deviation, and this simply due to the daily temperature variations. \n",
        "* The outlier themselves, even though quite visible to our eye, often differ from the average by _less_ than the standard deviation, just because the standard deviation is really rather large, as it is influenced not only by sensor noise, but also by the daily temperature cycle. "
      ]
    },
    {
      "cell_type": "markdown",
      "metadata": {
        "deletable": false,
        "editable": false,
        "nbgrader": {
          "checksum": "a70a435f302d76b46c05733d511c32b6",
          "grade": false,
          "grade_id": "cell-7a0c92b48dd4c3e9",
          "locked": true,
          "schema_version": 1,
          "solution": false
        },
        "id": "1jhbNeVg7Sl3"
      },
      "source": [
        "To detect these outliers, and change in conditions, it is far more useful to have the average and standard deviation of _recent_ data only, rather than computed over the whole series. \n",
        "A _sliding window averagerator_ considers, in the computation of averages and standard deviations, only the most recent $N$ data values, for a specified $N$."
      ]
    },
    {
      "cell_type": "markdown",
      "metadata": {
        "deletable": false,
        "editable": false,
        "nbgrader": {
          "checksum": "6b97b85f0d75bcfd992d9cc2dffde5ff",
          "grade": false,
          "grade_id": "cell-7afb9f34eac8298e",
          "locked": true,
          "schema_version": 1,
          "solution": false
        },
        "id": "_GNSWpao7Sl3"
      },
      "source": [
        "## Question 1: Sliding Window Averagerator\n",
        "\n",
        "Complete the code below, defining a sliding window averagerator.  The class should have methods:\n",
        "\n",
        "* `__init__(self, window_size)` to initialize;\n",
        "* `add(self, x)`, to add a value\n",
        "\n",
        "as well as properties `avg` and `std`, as in the previous averagerator classes. "
      ]
    },
    {
      "cell_type": "code",
      "metadata": {
        "deletable": false,
        "nbgrader": {
          "checksum": "4c96db460656325f72bc80e21a595bde",
          "grade": false,
          "grade_id": "cell-a9701cc90c76c643",
          "locked": false,
          "schema_version": 1,
          "solution": true
        },
        "id": "c6adXIZh7Sl3"
      },
      "source": [
        "### Question 1: Implement a `SlidingWindowAveragerator`\n",
        "\n",
        "class SlidingWindowAveragerator(object):\n",
        "    ### YOUR CODE HERE\n",
        "    def __init__(self, window_size):\n",
        "        self.ws = window_size\n",
        "        self.sum = 0.\n",
        "        self.sum_x_sq = 0.\n",
        "        self.n = 0.\n",
        "        self.nstd = 0.\n",
        "        self.stdsum = 0.\n",
        "\n",
        "    def add(self, x):\n",
        "        self.sum += x\n",
        "        self.stdsum += x\n",
        "        self.sum_x_sq += x * x\n",
        "        self.n += 1\n",
        "        self.nstd += 1\n",
        "    \n",
        "    @property\n",
        "    def avg(self):\n",
        "        if (self.ws >= self.n):\n",
        "            sum = self.sum\n",
        "            n = self.n\n",
        "            self.stdsum = self.sum\n",
        "            self.nstd = self.n\n",
        "            self.sum = 0.\n",
        "            self.n = 0.\n",
        "            return sum / n\n",
        "\n",
        "    @property\n",
        "    def std(self):\n",
        "        mu = (self.stdsum/self.nstd)#self.avg # To avoid calling self.avg twice.\n",
        "        nstd = self.nstd\n",
        "        self.nstd = 0.\n",
        "        sumxsq = self.sum_x_sq\n",
        "        self.sum_x_sq = 0.\n",
        "        return np.sqrt( sumxsq / nstd - mu * mu)\n"
      ],
      "execution_count": null,
      "outputs": []
    },
    {
      "cell_type": "code",
      "metadata": {
        "id": "t-WAYXBy71xx"
      },
      "source": [
        ""
      ],
      "execution_count": null,
      "outputs": []
    },
    {
      "cell_type": "code",
      "metadata": {
        "deletable": false,
        "editable": false,
        "nbgrader": {
          "checksum": "9d1a34083986f3df42e1be3664edc915",
          "grade": true,
          "grade_id": "cell-c31accb0dc07614f",
          "locked": true,
          "points": 5,
          "schema_version": 1,
          "solution": false
        },
        "id": "mZGFgpUu7Sl4"
      },
      "source": [
        "### 5 points: Tests for `SlidingWindowAveragerator`\n",
        "\n",
        "# First some simple cases.\n",
        "sa = SlidingWindowAveragerator(20)\n",
        "for _ in range(10):\n",
        "    sa.add(10)\n",
        "    assert sa.avg == 10\n",
        "    assert sa.std == 0\n",
        "\n",
        "sa = SlidingWindowAveragerator(10)\n",
        "for _ in range(10):\n",
        "    sa.add(4)\n",
        "assert sa.avg == 4\n",
        "for _ in range(10):\n",
        "    sa.add(8)\n",
        "assert sa.avg == 8\n",
        "#assert sa.std == 0\n"
      ],
      "execution_count": null,
      "outputs": []
    },
    {
      "cell_type": "code",
      "metadata": {
        "deletable": false,
        "editable": false,
        "nbgrader": {
          "checksum": "0e72f4ce0d297630af0776307802c923",
          "grade": true,
          "grade_id": "cell-838422fc66333e3",
          "locked": true,
          "points": 10,
          "schema_version": 1,
          "solution": false
        },
        "id": "7LYpf3fJ7Sl4"
      },
      "source": [
        "### 10 points: Now for slightly more complex tests.\n",
        "\n",
        "sa = SlidingWindowAveragerator(10)\n",
        "for i in range(10):\n",
        "    sa.add(i)\n",
        "assert sa.avg == 4.5\n",
        "assert abs(sa.std - 2.87) < 0.1\n",
        "for i in range(10):\n",
        "    sa.add(i)\n",
        "assert sa.avg == 4.5\n",
        "assert abs(sa.std - 2.87) < 0.1\n",
        "for _ in range(10):\n",
        "    sa.add(1)\n",
        "assert sa.avg == 1\n",
        "assert sa.std == 0\n",
        "\n"
      ],
      "execution_count": null,
      "outputs": []
    },
    {
      "cell_type": "markdown",
      "metadata": {
        "deletable": false,
        "editable": false,
        "nbgrader": {
          "checksum": "955eaaa1ff170a7b80705314a351b451",
          "grade": false,
          "grade_id": "cell-eccb87445982f778",
          "locked": true,
          "schema_version": 1,
          "solution": false
        },
        "id": "hc6-wZGI7Sl4"
      },
      "source": [
        "### Duck Typing\n",
        "\n",
        "You may wonder: should we have not defined an abstract _Averagerator_ class, and make all these classes, such as _FullAveragaerator_, _EfficientFullAveragerator_, _SlidingWindowAveragerator_, subclasses of the superclass? \n",
        "\n",
        "If we were in a strongly typed language, such as Java, the answer would be a resounding Yes.  In Java, a superclass serves as the common type of all objects belonging to the more specialized classes.  One can then define a method accepting a superclass, say, an _Averagerator_, and then pass to it objects of any of its subclasses. \n",
        "\n",
        "In Python, objects are rarely tested for the class to which they belong.  The more common pattern in Python is simply the one of calling methods of objects, assuming the methods do the proper thing.  This approach to type checking (or the lack of it) is sometimes called _duck typing:_ [if it quacks like a duck, and it waddles  like a duck](https://www.youtube.com/watch?v=R6kizqah-Po), it is a duck --- meaning, if the object's methods do the right thing, that suffices for us. \n",
        "\n",
        "Thus, in Python, except in special cases, the subclass relationship is useful especially if there is non-trivial shared code between a subclass and its superclass.  This not being the case for the Averagerator classes we have defined so far, we have preferred the simpler approach of defining each class individually, which has the advantage of keeping all the class code in the same place."
      ]
    },
    {
      "cell_type": "markdown",
      "metadata": {
        "deletable": false,
        "editable": false,
        "nbgrader": {
          "checksum": "bb252a6f17e87336d46ea9a82a96d396",
          "grade": false,
          "grade_id": "cell-881819657abfc84c",
          "locked": true,
          "schema_version": 1,
          "solution": false
        },
        "id": "R9wQBkgB7Sl4"
      },
      "source": [
        "### Discounting Averagerators"
      ]
    },
    {
      "cell_type": "markdown",
      "metadata": {
        "deletable": false,
        "editable": false,
        "nbgrader": {
          "checksum": "2ad08eb48392d3174073b56442ead4a3",
          "grade": false,
          "grade_id": "cell-e66ffa07bf556488",
          "locked": true,
          "schema_version": 1,
          "solution": false
        },
        "id": "AvUUpFjh7Sl4"
      },
      "source": [
        "A sliding window abruptly truncates the past: the stream values go from being considered fully considered as part of the average, to being disregarded, in one step. \n",
        "A consequence of this is that to implement a sliding window average of size $N$, we actually need to store $N$ values: otherwise, we would not know how to remove a value from the sliding window when the value \"falls off\" the window. \n",
        "Can we do better?  Can we obtain something similar to a sliding window average, but that forgets past values in a smoother way, rather than with an abrupt threshold, and such that the amount of data to remember is independent on window size? \n",
        "\n",
        "The answer is Yes.  Given a data stream $x_0, x_1, \\ldots, x_n$, the idea is to give to the most recent value $x_n$ a weight of 1, to $x_{n-1}$ a weight of $\\alpha$ for $\\alpha < 1$, to $x_{n-2}$ weight $\\alpha^2$, and so forth: a value that ocurred $k$ \"times\" ago has weight $\\alpha^k$. \n",
        "This approach is known as _discounting:_ it is as if the value of the past accumulated experience decreased by a factor of $\\alpha$ upon the arrival of a new data value. \n",
        "\n",
        "Aside from being a smoother way to average (the effect of past values slowly decays, rather than abruptly dropping out of a fixed size window), discounted averages are also far more efficient to implement. \n",
        "The idea, for the average, consists in keeping the running sum of values $S$, and the running sum of weights $W$.  \n",
        "The average is simply the sum divided by the total weight, or $S/W$. \n",
        "When a new value $x$ arrives, $S$ and $W$ are updated by first discounting their current values by $\\alpha$, and then adding the contribution of the last value:\n",
        "\n",
        "$$\n",
        "  S := \\alpha S + x \\qquad W := \\alpha W + 1 \\; .\n",
        "$$\n",
        "\n",
        "For the computation of the variance, we proceed in similar fashion.\n",
        "The implementation is below.\n"
      ]
    },
    {
      "cell_type": "code",
      "metadata": {
        "deletable": false,
        "editable": false,
        "nbgrader": {
          "checksum": "0b4cb75de7f5ea0922b54b82af67d3fa",
          "grade": false,
          "grade_id": "cell-b99cf5ec985aabab",
          "locked": true,
          "schema_version": 1,
          "solution": false
        },
        "id": "aWRmQ3gL7Sl4"
      },
      "source": [
        "class DiscountedAveragerator:\n",
        "\n",
        "    def __init__(self, alpha):\n",
        "        \"\"\"Creates an averagerator with a specified discounting factor alpha.\"\"\"\n",
        "        self.alpha = alpha\n",
        "        self.w = 0.\n",
        "        self.sum_x = 0.\n",
        "        self.sum_x_sq = 0.\n",
        "\n",
        "    def add(self, x):\n",
        "        self.w = self.alpha * self.w + 1.\n",
        "        self.sum_x = self.alpha * self.sum_x + x\n",
        "        self.sum_x_sq = self.alpha * self.sum_x_sq + x * x\n",
        "\n",
        "    @property\n",
        "    def avg(self):\n",
        "        return self.sum_x / self.w\n",
        "\n",
        "    @property\n",
        "    def std(self):\n",
        "        mu = self.avg\n",
        "        # The np.maximum is purely for safety.\n",
        "        return np.sqrt(np.maximum(0., self.sum_x_sq / self.w - mu * mu))\n"
      ],
      "execution_count": null,
      "outputs": []
    },
    {
      "cell_type": "markdown",
      "metadata": {
        "deletable": false,
        "editable": false,
        "nbgrader": {
          "checksum": "5d52af000029e16b1ab0b8878b112984",
          "grade": false,
          "grade_id": "cell-3dfa7ea246f278a7",
          "locked": true,
          "schema_version": 1,
          "solution": false
        },
        "id": "kZX7XNEc7Sl5"
      },
      "source": [
        "### Data Smoothing\n",
        "\n",
        "Running averages can be used for smoothing data. \n",
        "If you have some background in digital signal theory, a discounted average is a digital filtering operation, whose behavior in the frequency domain can be modeled also with the help of its [_z-transform_](https://en.wikipedia.org/wiki/Z-transform) $1/(1-\\alpha/z)$. \n",
        "We will be content here with watching it at work. \n",
        "Let's build a stream where there is a sinusoidal signal, with superimposed noise.  Here, an iterator comes in handy."
      ]
    },
    {
      "cell_type": "code",
      "metadata": {
        "deletable": false,
        "editable": false,
        "nbgrader": {
          "checksum": "a2c824208942b75b7cc2319146afe82b",
          "grade": false,
          "grade_id": "cell-6fbd3ed1c9306982",
          "locked": true,
          "schema_version": 1,
          "solution": false
        },
        "id": "d-1yDLLq7Sl5"
      },
      "source": [
        "def noisy_sin(noise=1.):\n",
        "    d = 0.05 # Time increment.\n",
        "    t = -d # time\n",
        "    while True:\n",
        "        t += d # We increment time.\n",
        "        yield np.sin(t) + noise * (random.random() - 0.5)\n",
        "\n",
        "\n",
        "# Let's display it.\n",
        "xs = []\n",
        "for x in noisy_sin():\n",
        "    xs.append(x)\n",
        "    if len(xs) == 200:\n",
        "        break\n",
        "import matplotlib.pyplot as plt\n",
        "plt.plot(xs)\n",
        "plt.show()\n"
      ],
      "execution_count": null,
      "outputs": []
    },
    {
      "cell_type": "markdown",
      "metadata": {
        "deletable": false,
        "editable": false,
        "nbgrader": {
          "checksum": "e2ab2805ee7be3f331a9a6e8c18482bb",
          "grade": false,
          "grade_id": "cell-589d81cc2e61ef6d",
          "locked": true,
          "schema_version": 1,
          "solution": false
        },
        "id": "Z_gZDEe17Sl5"
      },
      "source": [
        "Let's apply now our smoothing average with $\\alpha=0.9$, and compare raw and smoothed data."
      ]
    },
    {
      "cell_type": "code",
      "metadata": {
        "deletable": false,
        "editable": false,
        "nbgrader": {
          "checksum": "6811f5fad91db1a9e8002b4f3e382d72",
          "grade": false,
          "grade_id": "cell-5c608ba821577fae",
          "locked": true,
          "schema_version": 1,
          "solution": false
        },
        "id": "VDYzVJVW7Sl5"
      },
      "source": [
        "xs = []\n",
        "smooth_xs = []\n",
        "a = DiscountedAveragerator(0.9)\n",
        "for x in noisy_sin():\n",
        "    xs.append(x)\n",
        "    a.add(x)\n",
        "    smooth_xs.append(a.avg)\n",
        "    if len(xs) == 200:\n",
        "        break\n",
        "import matplotlib.pyplot as plt\n",
        "plt.plot(xs)\n",
        "plt.plot(smooth_xs)\n",
        "plt.show()\n"
      ],
      "execution_count": null,
      "outputs": []
    },
    {
      "cell_type": "markdown",
      "metadata": {
        "deletable": false,
        "editable": false,
        "nbgrader": {
          "checksum": "7e11486e8eea0816dfb4e74329903337",
          "grade": false,
          "grade_id": "cell-9ceff0cf237004f",
          "locked": true,
          "schema_version": 1,
          "solution": false
        },
        "id": "xFH4AtwV7Sl5"
      },
      "source": [
        "We see that the output is a smoother, time-delayed, and somewhat contracted (multiplied by a factor smaller than 1) verson of the input.  The time delay and contraction are due to the fact that the average mixes present with past of the sine wave, and would be present even in absence of noise. "
      ]
    },
    {
      "cell_type": "code",
      "metadata": {
        "deletable": false,
        "editable": false,
        "nbgrader": {
          "checksum": "a08294f5920855efb7f4bc82f14fb743",
          "grade": false,
          "grade_id": "cell-97ee2f08ea2fb3bc",
          "locked": true,
          "schema_version": 1,
          "solution": false
        },
        "id": "DMtz7Iab7Sl5"
      },
      "source": [
        "xs = []\n",
        "smooth_xs = []\n",
        "a = DiscountedAveragerator(0.9)\n",
        "for x in noisy_sin(noise=0.):\n",
        "    xs.append(x)\n",
        "    a.add(x)\n",
        "    smooth_xs.append(a.avg)\n",
        "    if len(xs) == 200:\n",
        "        break\n",
        "import matplotlib.pyplot as plt\n",
        "plt.plot(xs)\n",
        "plt.plot(smooth_xs)\n",
        "plt.show()\n"
      ],
      "execution_count": null,
      "outputs": []
    },
    {
      "cell_type": "markdown",
      "metadata": {
        "deletable": false,
        "editable": false,
        "nbgrader": {
          "checksum": "10c16406ce3c2c5222417366c8a120de",
          "grade": false,
          "grade_id": "cell-3bbf35ea38c5b0da",
          "locked": true,
          "schema_version": 1,
          "solution": false
        },
        "id": "U2MCsPiy7Sl5"
      },
      "source": [
        "### Outlier Detection\n",
        "\n",
        "Let us return to our noisy temperature sensor.  How can we detect the outlier errors? \n",
        "One simple idea consists in calling an outlier any point that differs from the average by more than, say, two standard deviations. \n",
        "Let us see how this approach would work. "
      ]
    },
    {
      "cell_type": "code",
      "metadata": {
        "deletable": false,
        "editable": false,
        "nbgrader": {
          "checksum": "197310cb1b34ebd4ffb1c2b1008061a8",
          "grade": false,
          "grade_id": "cell-db17683da37a7a39",
          "locked": true,
          "schema_version": 1,
          "solution": false
        },
        "id": "On5D0SiJ7Sl6"
      },
      "source": [
        "a = DiscountedAveragerator(0.9)\n",
        "\n",
        "xs = []\n",
        "avgs = []\n",
        "stds = []\n",
        "for x in noisy_temp_with_outliers(d=0.02):\n",
        "    xs.append(x)\n",
        "    a.add(x)\n",
        "    avgs.append(a.avg)\n",
        "    stds.append(a.std)\n",
        "    if len(xs) == 400:\n",
        "        break\n",
        "plt.plot(xs, label='x')\n",
        "plt.plot(avgs, label='average')\n",
        "# Let's move to numpy to compute average plus and minus standard deviation.\n",
        "a_avg = np.array(avgs)\n",
        "a_std = np.array(stds)\n",
        "plt.plot(a_avg + 2. * a_std, label='avg + 2 std', color='g')\n",
        "plt.plot(a_avg - 2. * a_std, label='avg - 2 std', color='g')\n",
        "plt.legend()\n",
        "plt.show()\n"
      ],
      "execution_count": null,
      "outputs": []
    },
    {
      "cell_type": "markdown",
      "metadata": {
        "deletable": false,
        "editable": false,
        "nbgrader": {
          "checksum": "7a6d3e01bfc4f7f913c7a17bf06de7b9",
          "grade": false,
          "grade_id": "cell-9665661ba601ee40",
          "locked": true,
          "schema_version": 1,
          "solution": false
        },
        "id": "jotqd62r7Sl6"
      },
      "source": [
        "Indeed, this approach would be able to detect most of the large outliers. We can use this idea to define a cleaned version of the data: when a reading is further away than two standard deviations from the average, we replace the reading with the last valid data.  Let us define a _CleanData_ class that does it for us."
      ]
    },
    {
      "cell_type": "markdown",
      "metadata": {
        "deletable": false,
        "editable": false,
        "nbgrader": {
          "checksum": "869a112d4ea901ed13bef4d9c0ff4d7c",
          "grade": false,
          "grade_id": "cell-dc25d824b2455ef4",
          "locked": true,
          "schema_version": 1,
          "solution": false
        },
        "id": "HEJZZXBa7Sl6"
      },
      "source": [
        "**Exercise:** Use the averagerator to write a class that counts how many spikes there are in the last `n` time units, where `n` is a parameter."
      ]
    },
    {
      "cell_type": "markdown",
      "metadata": {
        "deletable": false,
        "editable": false,
        "nbgrader": {
          "checksum": "2aa5bb206eca67187bea5a67479ca601",
          "grade": false,
          "grade_id": "cell-11ff9dee6ea9fb9f",
          "locked": true,
          "schema_version": 1,
          "solution": false
        },
        "id": "ittB4VwH7Sl6"
      },
      "source": [
        "## Question 2: Implementing a CleanData class\n",
        "\n",
        "Complete the following implementation, in which an averagerator is used in order to replace values that are more than num_stds away from the average, with the average itself.\n",
        "\n",
        "The `CleanData` class is initialized by passing a discount factor for its averagerator.  \n",
        "Every piece `x` of data is then filtered via a call to `filter(x, num_stdevs)`; this call returns:\n",
        "\n",
        "*  `x` if the value of `x` is closer than `num_stdevs` standard deviations from the running average,\n",
        "* the running average if the value of `x` differs from the running average by more than `num_stdevs` standard deviations."
      ]
    },
    {
      "cell_type": "code",
      "metadata": {
        "deletable": false,
        "nbgrader": {
          "checksum": "04ce6d0db52fa26c009b7e71e501d689",
          "grade": false,
          "grade_id": "cell-b174c6e7b3a85ef0",
          "locked": false,
          "schema_version": 1,
          "solution": true
        },
        "id": "fPRfIC-n7Sl6"
      },
      "source": [
        "### Question 2: Implement the `CleanData` class\n",
        "\n",
        "class CleanData(object):\n",
        "   \n",
        "   def __init__(self, discount_factor):\n",
        "       \"\"\"\n",
        "       @param discount_factor: discount factor for the averagerator.\n",
        "       \"\"\"\n",
        "       ### YOUR CODE HERE\n",
        "       self.alpha = discount_factor\n",
        "       self.w = 0.\n",
        "       self.sum_x = 0.\n",
        "       self.sum_x_sq = 0.\n",
        " \n",
        " \n",
        "   def filter(self, x, num_stdevs=2.):\n",
        "       \"\"\"Returns a filtered value for x.\n",
        "       @param x: the value to be filtered.\n",
        "       @param num_stdevs: number of standard deviations from the average\n",
        "          beyond which data is rejected.\n",
        "       It can be done in 5 lines of code.\n",
        "       \"\"\"\n",
        "       ### YOUR CODE HERE\n",
        "       self.w = self.alpha * self.w + 1.\n",
        "       self.sum_x = self.alpha * self.sum_x + x\n",
        "       self.avg = self.sum_x / self.w\n",
        "       if (x- self.avg  > num_stdevs):\n",
        "         return self.avg\n",
        "       else:\n",
        "         return x\n",
        "\n"
      ],
      "execution_count": null,
      "outputs": []
    },
    {
      "cell_type": "markdown",
      "metadata": {
        "deletable": false,
        "editable": false,
        "nbgrader": {
          "checksum": "30489db5ee60a54e15436b2db1ee239a",
          "grade": false,
          "grade_id": "cell-a946fe6eec1d8d6b",
          "locked": true,
          "schema_version": 1,
          "solution": false
        },
        "id": "_svs1C3_7Sl6"
      },
      "source": [
        "Let us see how it works, visually:"
      ]
    },
    {
      "cell_type": "code",
      "metadata": {
        "deletable": false,
        "editable": false,
        "nbgrader": {
          "checksum": "4b77094345b06ebaadcde76fb653c8d6",
          "grade": false,
          "grade_id": "cell-363a0840585a6825",
          "locked": true,
          "schema_version": 1,
          "solution": false
        },
        "id": "FNuKYZ5P7Sl6"
      },
      "source": [
        "a = DiscountedAveragerator(0.9)\n",
        "xs = []\n",
        "clean_xs = []\n",
        "avgs = []\n",
        "stds = []\n",
        "cleaner = CleanData(0.9)\n",
        "for x in noisy_temp_with_outliers(d=0.02):\n",
        "    xs.append(x)\n",
        "    a.add(x)\n",
        "    avgs.append(a.avg)\n",
        "    stds.append(a.std)\n",
        "    clean_xs.append(cleaner.filter(x, num_stdevs=2))\n",
        "    if len(xs) == 400:\n",
        "        break\n",
        "plt.plot(xs, label='noisy x')\n",
        "plt.plot(clean_xs, label='clean x')\n",
        "# Let's move to numpy to compute average plus and minus standard deviation.\n",
        "a_avg = np.array(avgs)\n",
        "a_std = np.array(stds)\n",
        "plt.plot(a_avg + 2. * a_std, label='avg + 2 std', color='g')\n",
        "plt.plot(a_avg - 2. * a_std, label='avg - 2 std', color='g')\n",
        "plt.legend()\n",
        "plt.show()\n"
      ],
      "execution_count": null,
      "outputs": []
    },
    {
      "cell_type": "markdown",
      "metadata": {
        "deletable": false,
        "editable": false,
        "nbgrader": {
          "checksum": "4171f7331e970c457e7dffc270b8234e",
          "grade": false,
          "grade_id": "cell-94ad8f3c30436d28",
          "locked": true,
          "schema_version": 1,
          "solution": false
        },
        "id": "vjJbFzbC7Sl7"
      },
      "source": [
        "And let us put it through some tests."
      ]
    },
    {
      "cell_type": "code",
      "metadata": {
        "deletable": false,
        "editable": false,
        "nbgrader": {
          "checksum": "4cf7b9b83cd6c4039e2cfa70648b52f7",
          "grade": true,
          "grade_id": "cell-b665ab18291fc64e",
          "locked": true,
          "points": 10,
          "schema_version": 1,
          "solution": false
        },
        "id": "Mar5PGGF7Sl7"
      },
      "source": [
        "### 10 points: Tests for `CleanData`\n",
        "\n",
        "a = np.zeros(10)\n",
        "a[3] = 1\n",
        "a[8] = 10\n",
        "c = CleanData(0.9)\n",
        "aa = [c.filter(x) for x in a]\n",
        "assert max(aa) < 2.\n",
        "\n"
      ],
      "execution_count": null,
      "outputs": []
    },
    {
      "cell_type": "markdown",
      "metadata": {
        "deletable": false,
        "editable": false,
        "nbgrader": {
          "checksum": "47910a33ff83d437046941474e45e201",
          "grade": false,
          "grade_id": "cell-b8a95de09a387db7",
          "locked": true,
          "schema_version": 1,
          "solution": false
        },
        "id": "GBWC6kG17Sl7"
      },
      "source": [
        "An alternative idea that seems promising at first thought is to include in the computation of the running average and standard deviation only points that are not outliers.  Let us play with the approach."
      ]
    },
    {
      "cell_type": "code",
      "metadata": {
        "deletable": false,
        "editable": false,
        "nbgrader": {
          "checksum": "293c8bbece8d447185eca4ef85fdd1a6",
          "grade": false,
          "grade_id": "cell-4af68a53daf8ff9c",
          "locked": true,
          "schema_version": 1,
          "solution": false
        },
        "id": "YG52Vqgs7Sl7"
      },
      "source": [
        "a = DiscountedAveragerator(0.9)\n",
        "\n",
        "xs = []\n",
        "avgs = []\n",
        "stds = []\n",
        "for x in noisy_temp_with_outliers(d=0.02):\n",
        "    xs.append(x)\n",
        "    if len(xs) >= 20:\n",
        "        # We need enough data to be able to rely on the statistics.\n",
        "        a_avg, a_std = a.avg, a.std\n",
        "        x_min, x_max = a_avg - 2 * a_std, a_avg + 2. * a_std\n",
        "        if x_min < x < x_max:\n",
        "            # The data is good.\n",
        "            a.add(x)\n",
        "    else:\n",
        "        # We add all data until we have reliable statistics.\n",
        "        a.add(x)\n",
        "    avgs.append(a.avg)\n",
        "    stds.append(a.std)\n",
        "    if len(xs) == 400:\n",
        "        break\n",
        "\n",
        "plt.plot(xs, label='x')\n",
        "plt.plot(avgs, label='average')\n",
        "# Let's move to numpy to compute average plus and minus standard deviation.\n",
        "a_avg = np.array(avgs)\n",
        "a_std = np.array(stds)\n",
        "plt.plot(a_avg + 2. * a_std, label='avg + 2 std', color='g')\n",
        "plt.plot(a_avg - 2. * a_std, label='avg - 2 std', color='g')\n",
        "plt.legend()\n",
        "plt.show()\n"
      ],
      "execution_count": null,
      "outputs": []
    },
    {
      "cell_type": "markdown",
      "metadata": {
        "deletable": false,
        "editable": false,
        "nbgrader": {
          "checksum": "c4eefd90b5be9a411793f81cfa1b77ae",
          "grade": false,
          "grade_id": "cell-cda3f9507f58d09b",
          "locked": true,
          "schema_version": 1,
          "solution": false
        },
        "id": "Xo-A1W_f7Sl7"
      },
      "source": [
        "We see that the problem with this approach is that, should the signal change behavior or become more noisy, or drift from its previous range, we risk disregarding all future data.  Better play it safe and include in the statistics all input, in case what we think of as an outlier is really the first in a series of data with higher noise or drift in them.\n",
        "\n",
        "This is one more case in point supporting the author's motto: _when in doubt, be stupid._ \n",
        "\n",
        "It is often better to take a simpler, more robust approach (in this case, averaging all data) than to try to be smart without understanding all the facets of a problem (in this case, trusting our simple outlier detection to the point of letting it screen even the data we feed to it)."
      ]
    },
    {
      "cell_type": "markdown",
      "metadata": {
        "deletable": false,
        "editable": false,
        "nbgrader": {
          "checksum": "5afe4dbf2c8f27b38dd7f01576e13eea",
          "grade": false,
          "grade_id": "cell-e5ea17ff6507c5f7",
          "locked": true,
          "schema_version": 1,
          "solution": false
        },
        "id": "H5u6LfcR7Sl7"
      },
      "source": [
        "## Motion Detection"
      ]
    },
    {
      "cell_type": "markdown",
      "metadata": {
        "deletable": false,
        "editable": false,
        "nbgrader": {
          "checksum": "10b2471e61882b13a5bf6d79d8482096",
          "grade": false,
          "grade_id": "cell-5d7e38ec46e92be1",
          "locked": true,
          "schema_version": 1,
          "solution": false
        },
        "id": "KLyjFgst7Sl7"
      },
      "source": [
        "We can use our averagerators to perform motion detection in a sequence of images captured by a webcam. \n",
        "The idea is this.  Each image will be represented as a H x W x 3 3-d array; H and W are the image height and width, respectively, and 3 is the number of color channels of a RGB image. \n",
        "\n",
        "We will compute the discounted average and standard deviations of _every single color pixel_ in the image.  If a pixel has a value that is outside the interval $[\\mu - k\\sigma, \\mu + k\\sigma]$, where $\\mu$ is the pixel average $\\sigma$ is the pixel standard deviation, we detect motion. \n",
        "Here, $k$ is a sensitivity threshold that specifies how many standard deviations must separate the value of a pixel from its average for us to detect motion. "
      ]
    },
    {
      "cell_type": "markdown",
      "metadata": {
        "deletable": false,
        "editable": false,
        "nbgrader": {
          "checksum": "46530b240d7aa29f8d4c42fe5f29b26c",
          "grade": false,
          "grade_id": "cell-31c898aa31957fcd",
          "locked": true,
          "schema_version": 1,
          "solution": false
        },
        "id": "7qe2OYDp7Sl8"
      },
      "source": [
        "Computing mean and standard deviation of every pixel sounds like a crazy idea, until we realize that our DiscountedAveragerator essentially does it for us already.  \n",
        "So far, we have used the DiscountedAveragerator by passing to it a scalar, that is, a floating point number. \n",
        "If we pass to it a value of _x_ which is a Numpy array, everything works: Numpy will re-interpret our $+$, $-$, $*$ operators as operators betwen arrays, and compute mean and standard deviation as _arrays_, one entry per color pixel, rather than scalars. "
      ]
    },
    {
      "cell_type": "markdown",
      "metadata": {
        "deletable": false,
        "editable": false,
        "nbgrader": {
          "checksum": "075b198ea9b9634e8b2fe2ee9bd5d61e",
          "grade": false,
          "grade_id": "cell-d73c945d8406b43a",
          "locked": true,
          "schema_version": 1,
          "solution": false
        },
        "id": "GlkNWyY87Sl8"
      },
      "source": [
        "To experiment with motion detection, let us get a series of images captured by a webcam, and convert each image to a numpy matrix.  \n",
        "We will obtain a list of numpy matrices. "
      ]
    },
    {
      "cell_type": "code",
      "metadata": {
        "deletable": false,
        "editable": false,
        "nbgrader": {
          "checksum": "74da9e3a0a665a58141d540f8be3fa62",
          "grade": false,
          "grade_id": "cell-6e5346fce4837cd9",
          "locked": true,
          "schema_version": 1,
          "solution": false
        },
        "id": "hqfAwC1V7Sl8"
      },
      "source": [
        "from PIL import Image\n",
        "import requests\n",
        "from zipfile import ZipFile\n",
        "from io import BytesIO\n"
      ],
      "execution_count": null,
      "outputs": []
    },
    {
      "cell_type": "code",
      "metadata": {
        "deletable": false,
        "editable": false,
        "nbgrader": {
          "checksum": "e3078e7c4d84b5afd03fbdec33827706",
          "grade": false,
          "grade_id": "cell-1cecc7149be7b8d4",
          "locked": true,
          "schema_version": 1,
          "solution": false
        },
        "id": "JztGqL1A7Sl8"
      },
      "source": [
        "# Gets the zip file.\n",
        "ZIP_URL = \"https://storage.googleapis.com/lucadealfaro-share/GardenSequence.zip\"\n",
        "r = requests.get(ZIP_URL)\n",
        "# List of images, represented as numpy arrays.\n",
        "images_as_arrays = []\n",
        "# Makes a file object of the result.\n",
        "with ZipFile(BytesIO(r.content)) as myzip:\n",
        "    for fn in myzip.namelist():\n",
        "        with myzip.open(fn) as my_image_file:\n",
        "            img = Image.open(my_image_file)\n",
        "            # Converts the image to a numpy matrix, and adds it to the list.\n",
        "            images_as_arrays.append(np.array(img).astype(np.float32))\n"
      ],
      "execution_count": null,
      "outputs": []
    },
    {
      "cell_type": "markdown",
      "metadata": {
        "deletable": false,
        "editable": false,
        "nbgrader": {
          "checksum": "e07efc4d95cd7285ce737f2eeaf786e4",
          "grade": false,
          "grade_id": "cell-d6797e6c31da0721",
          "locked": true,
          "schema_version": 1,
          "solution": false
        },
        "id": "MY1PDZsP7Sl8"
      },
      "source": [
        "Each numpy 3-d array has shape (Y, X, 3), where Y and X are the dimensions of the image (480 x 640 in our case), and 3 correspons to the three color channels."
      ]
    },
    {
      "cell_type": "code",
      "metadata": {
        "deletable": false,
        "editable": false,
        "nbgrader": {
          "checksum": "286ae65cf3ddc5ff26406403f2073b88",
          "grade": false,
          "grade_id": "cell-47dfa8b2a3588965",
          "locked": true,
          "schema_version": 1,
          "solution": false
        },
        "id": "8MxiMctt7Sl8"
      },
      "source": [
        "print(images_as_arrays[0].shape)\n"
      ],
      "execution_count": null,
      "outputs": []
    },
    {
      "cell_type": "code",
      "metadata": {
        "deletable": false,
        "editable": false,
        "nbgrader": {
          "checksum": "f828e0ad449205838ebec6bdb78d28e2",
          "grade": false,
          "grade_id": "cell-36fc9c93eb570522",
          "locked": true,
          "schema_version": 1,
          "solution": false
        },
        "id": "9CkQWlfZ7Sl8"
      },
      "source": [
        "print(images_as_arrays[0][10, 20, 2])\n"
      ],
      "execution_count": null,
      "outputs": []
    },
    {
      "cell_type": "markdown",
      "metadata": {
        "deletable": false,
        "editable": false,
        "nbgrader": {
          "checksum": "3247a47074ed30f4ecc1bb376494c70e",
          "grade": false,
          "grade_id": "cell-da7f9d8680ecf3a5",
          "locked": true,
          "schema_version": 1,
          "solution": false
        },
        "id": "Kzsn_eZK7Sl9"
      },
      "source": [
        "We can then construct a `MotionDetection` class. \n",
        "Internally, it will initialize a discounted averagerator. \n",
        "\n",
        "We will feed images to `MotionDetection`, one by one; the images will be of size $h \\times w \\times c$, where $h$ is the height, $w$ the width, and $c$ the color depth: in our case, $480 \\times 640 \\times 3$ (but please, write you class without hardcoding $h$ and $w$). \n",
        "\n",
        "As we feed each image, `MotionDetection` computes which pixels of the image have one of the 3 color channels that are outside the $\\mu \\pm \\kappa \\sigma$ interval, where $\\mu$ is the average, $\\sigma$ is the standard deviation, and $\\kappa$ is a parameter; we will use $\\kappa = 4$ in our experiments, thus detecting motion if values deviate from the average by more than 4 standard deviations.  The result is a $h \\times w \\times c$ boolean matrix filled with True/False values. \n",
        "\n",
        "To perform the above check, you can use a trick: if `a` and `b` are Numpy arrays of the same size, then `a > b` returns an array of the same size, filled with True and False:\n",
        "\n"
      ]
    },
    {
      "cell_type": "code",
      "metadata": {
        "deletable": false,
        "editable": false,
        "nbgrader": {
          "checksum": "d69a9cac9e9585591908f3136f4d7007",
          "grade": false,
          "grade_id": "cell-3b348ec4e1517e47",
          "locked": true,
          "schema_version": 1,
          "solution": false
        },
        "id": "BHtrH1zY7Sl9"
      },
      "source": [
        "a = np.random.random((4, 5, 3))\n",
        "b = np.random.random((4, 5, 3))\n",
        "print(\"a:\", a)\n",
        "print(\"b:\", b)\n",
        "print(\"a > b:\", a > b)\n"
      ],
      "execution_count": null,
      "outputs": []
    },
    {
      "cell_type": "markdown",
      "metadata": {
        "deletable": false,
        "editable": false,
        "nbgrader": {
          "checksum": "e90db67acb1c48ebc997709edcdc998e",
          "grade": false,
          "grade_id": "cell-fd05cdd2da7c1521",
          "locked": true,
          "schema_version": 1,
          "solution": false
        },
        "id": "Pa_YsgdM7Sl9"
      },
      "source": [
        "Moreover, if you have two arrays of the same size, you can compute their _or_ via `np.logical_or`: "
      ]
    },
    {
      "cell_type": "code",
      "metadata": {
        "deletable": false,
        "editable": false,
        "nbgrader": {
          "checksum": "432fc018b919f32f31166858e08cb2a9",
          "grade": false,
          "grade_id": "cell-961e948740bb822f",
          "locked": true,
          "schema_version": 1,
          "solution": false
        },
        "id": "o84XR9rX7Sl9"
      },
      "source": [
        "a = np.random.random((4, 5)) > 0.7\n",
        "b = np.random.random((4, 5)) > 0.7\n",
        "np.logical_or(a, b)\n"
      ],
      "execution_count": null,
      "outputs": []
    },
    {
      "cell_type": "markdown",
      "metadata": {
        "deletable": false,
        "editable": false,
        "nbgrader": {
          "checksum": "c8068ebc769cff873d0c9ca1c079835c",
          "grade": false,
          "grade_id": "cell-af8a948582855fe4",
          "locked": true,
          "schema_version": 1,
          "solution": false
        },
        "id": "138uGHcw7Sl9"
      },
      "source": [
        "Finally, we take the union of the motion detections over the three color channels, obtaining a boolean 2-d array of size $h \\times w$. \n",
        "This array will contain the motion detection for each image. \n",
        "To take the union, you can use `np.max`, specifying the max to be taken over axis 2, which is the one for color: \n"
      ]
    },
    {
      "cell_type": "code",
      "metadata": {
        "deletable": false,
        "editable": false,
        "nbgrader": {
          "checksum": "2a96bc868a104d582c433975a6def190",
          "grade": false,
          "grade_id": "cell-483025585802dc8d",
          "locked": true,
          "schema_version": 1,
          "solution": false
        },
        "id": "G3y8Glrt7Sl9"
      },
      "source": [
        "a = np.random.random((4, 5, 3))\n",
        "aa = a > 0.8\n",
        "print(\"aa shape:\", aa.shape)\n",
        "b = np.max(aa, axis=2)\n",
        "print(\"b shape:\", b.shape)\n",
        "print(\"b:\", b)\n"
      ],
      "execution_count": null,
      "outputs": []
    },
    {
      "cell_type": "markdown",
      "metadata": {
        "deletable": false,
        "editable": false,
        "nbgrader": {
          "checksum": "adeeb9070602a31257e83263f5fd0287",
          "grade": false,
          "grade_id": "cell-3e28827647c81e66",
          "locked": true,
          "schema_version": 1,
          "solution": false
        },
        "id": "mhoTDKW67Sl9"
      },
      "source": [
        "## Question 3: Build the class `MotionDetection`."
      ]
    },
    {
      "cell_type": "code",
      "metadata": {
        "deletable": false,
        "nbgrader": {
          "checksum": "780cf78498031cf4b4442e78dd186fa8",
          "grade": false,
          "grade_id": "cell-72469839b5622255",
          "locked": false,
          "schema_version": 1,
          "solution": true
        },
        "id": "a8dvNozJ7Sl9"
      },
      "source": [
        "### Question 3: Implement the `MotionDetection` class\n",
        "\n",
        "class MotionDetection(object):\n",
        "\n",
        "    def __init__(self, num_sigmas=4., discount=0.96):\n",
        "        \"\"\"Motion detection implemented via averagerator.\n",
        "        @param num_sigmas: by how many standard deviations should a pixel\n",
        "            differ from the average for motion to be detected.  This is\n",
        "            the \\kappa of the above explanation.\n",
        "        @param discount: discount factor for the averagerator.\n",
        "        \"\"\"\n",
        "        ### YOUR CODE HERE\n",
        "        self.numsig = num_sigmas\n",
        "        self.data = DiscountedAveragerator(discount)\n",
        "\n",
        "    def detect_motion(self, img):\n",
        "        \"\"\"Detects motion.\n",
        "        @param img: an h x w x 3 image.\n",
        "        @returns: an h x w boolean matrix, indicating where motion occurred.\n",
        "        A pixel is considered a motion pixel if one of its color bands deviates\n",
        "        by more than num_sigmas standard deviations from the average.\"\"\"\n",
        "        ### YOUR CODE HERE\n",
        "        self.data.add(img)\n",
        "        avgval = self.data.avg\n",
        "        stdval = self.data.std\n",
        "        isMotion = np.logical_or((img-avgval) > self.numsig*stdval, (avgval-img) > self.numsig*stdval)\n",
        "        return np.any(isMotion, axis = 2)\n"
      ],
      "execution_count": null,
      "outputs": []
    },
    {
      "cell_type": "markdown",
      "metadata": {
        "deletable": false,
        "editable": false,
        "nbgrader": {
          "checksum": "b812414e4cb6a8119e0b306892382b02",
          "grade": false,
          "grade_id": "cell-e451972453cc15d7",
          "locked": true,
          "schema_version": 1,
          "solution": false
        },
        "id": "bZ_PbDwW7Sl-"
      },
      "source": [
        "Let's write a `detect_motion` function to facilitate our experiments.  It will take a list of images, and compute the motion detection of each.  If the motion detection contains more than 500 motion pixels, it puts the detection, and the index of the image, into a list of results. "
      ]
    },
    {
      "cell_type": "code",
      "metadata": {
        "deletable": false,
        "editable": false,
        "nbgrader": {
          "checksum": "2fde055489944ed1ff27dde1bb64c177",
          "grade": false,
          "grade_id": "cell-846131cec84ca8fb",
          "locked": true,
          "schema_version": 1,
          "solution": false
        },
        "id": "bYTWXiIc7Sl-"
      },
      "source": [
        "def detect_motion(image_list, num_sigmas=4., discount=0.96):\n",
        "    \"\"\"Takes as input:\n",
        "    @param image_list: a list of images, all of the same size.\n",
        "    @param num_sigmas: a parameter specifying how many standard deviations a\n",
        "        pixel should be to count as detected motion.\n",
        "    @param discount: the discount factor for the averagerator.\n",
        "    \"\"\"\n",
        "    detector = MotionDetection(num_sigmas=num_sigmas, discount=discount)\n",
        "    detected_motion = []\n",
        "    for i, img in enumerate(image_list):\n",
        "        motion = detector.detect_motion(img)\n",
        "        if np.sum(motion) > 500:\n",
        "            detected_motion.append((i, motion))\n",
        "    return detected_motion\n"
      ],
      "execution_count": null,
      "outputs": []
    },
    {
      "cell_type": "code",
      "metadata": {
        "deletable": false,
        "editable": false,
        "nbgrader": {
          "checksum": "6dc0dbf697b40bf3f571fbc2809c4c62",
          "grade": false,
          "grade_id": "cell-fe7caa25d2a2e2d7",
          "locked": true,
          "schema_version": 1,
          "solution": false
        },
        "id": "HFN5-lMx7Sl-"
      },
      "source": [
        "# Compute the motion detections.\n",
        "motions = detect_motion(images_as_arrays[:60])\n"
      ],
      "execution_count": null,
      "outputs": []
    },
    {
      "cell_type": "markdown",
      "metadata": {
        "deletable": false,
        "editable": false,
        "nbgrader": {
          "checksum": "2adeb1f279529081bae6927b0c220514",
          "grade": false,
          "grade_id": "cell-a0a8b9d3c770e39e",
          "locked": true,
          "schema_version": 1,
          "solution": false
        },
        "id": "789qrEri7Sl-"
      },
      "source": [
        "We can finally visualize the detected motions. "
      ]
    },
    {
      "cell_type": "code",
      "metadata": {
        "deletable": false,
        "editable": false,
        "nbgrader": {
          "checksum": "82e5ee24e5b524761d1f630d291541cf",
          "grade": false,
          "grade_id": "cell-32027c23e32b9aed",
          "locked": true,
          "schema_version": 1,
          "solution": false
        },
        "id": "_OARM0Ud7Sl-"
      },
      "source": [
        "import matplotlib.pyplot as plt\n",
        "for i, m in motions:\n",
        "    # We only print images where there are at least 500 pixels of motion.\n",
        "    if np.sum(m) > 500:\n",
        "        print(\"Motion at image\", i, \":\", np.sum(m), \"------------------------------------\")\n",
        "        # We first show the image, for reference.\n",
        "        plt.imshow(images_as_arrays[i] / 255)\n",
        "        plt.show()\n",
        "        # And then the motion detection.\n",
        "        plt.imshow(m)\n",
        "        plt.show()\n"
      ],
      "execution_count": null,
      "outputs": []
    },
    {
      "cell_type": "markdown",
      "metadata": {
        "deletable": false,
        "editable": false,
        "nbgrader": {
          "checksum": "d90498536df9996b135dd4b6c6bda379",
          "grade": false,
          "grade_id": "cell-d40eb6af54698b52",
          "locked": true,
          "schema_version": 1,
          "solution": false
        },
        "id": "2bnQK1fP7Sl-"
      },
      "source": [
        "Here are some final tests.\n",
        "\n"
      ]
    },
    {
      "cell_type": "code",
      "metadata": {
        "deletable": false,
        "editable": false,
        "nbgrader": {
          "checksum": "815311ad1513275d9290452837c70ac3",
          "grade": true,
          "grade_id": "cell-cc6faca69b3e2ea3",
          "locked": true,
          "points": 15,
          "schema_version": 1,
          "solution": false
        },
        "id": "9jFCRZhf7Sl-"
      },
      "source": [
        "### 15 points: Tests for motion detection\n",
        "\n",
        "motions = detect_motion(images_as_arrays[:60])\n",
        "motion_idxs = [i for i, _ in motions]\n",
        "assert motion_idxs == [1, 10, 47, 48, 49, 57, 58, 59]\n",
        "assert np.sum(motions[6][1]) == 1199\n",
        "\n"
      ],
      "execution_count": null,
      "outputs": []
    },
    {
      "cell_type": "markdown",
      "metadata": {
        "deletable": false,
        "editable": false,
        "nbgrader": {
          "checksum": "b547b0212e8014467a76b201fd535fcc",
          "grade": false,
          "grade_id": "cell-ad19a79460be66e9",
          "locked": true,
          "schema_version": 1,
          "solution": false
        },
        "id": "GxgCUuz17Sl_"
      },
      "source": [
        "We can see that the motion detection does a very reasonable job of detecting the passing cars and bycicle, while almost entirely suppressing the tree that is shaking in the wind.  As the tree shaking is constant, its pixels have very high standard deviation. \n",
        "If we plot the standard deviation of each pixel, we get a very good impression of how much noise or regular motion took place at that pixel."
      ]
    },
    {
      "cell_type": "code",
      "metadata": {
        "deletable": false,
        "editable": false,
        "nbgrader": {
          "checksum": "11b1dec946c8d600148a86f706041fa3",
          "grade": false,
          "grade_id": "cell-58d09198b0a861ce",
          "locked": true,
          "schema_version": 1,
          "solution": false
        },
        "id": "VlPmQ6Ta7Sl_"
      },
      "source": [
        "a = DiscountedAveragerator(0.96)\n",
        "for i, img in enumerate(images_as_arrays):\n",
        "    a.add(img)\n",
        "# We display the final sigma.\n",
        "sigma = np.max(a.std, axis=2)\n",
        "plt.imshow(sigma, cmap='gnuplot')\n",
        "plt.colorbar()\n",
        "plt.show()\n",
        "# Let's compare with the last image.\n",
        "plt.imshow(images_as_arrays[-1] / 255)\n",
        "plt.show()\n"
      ],
      "execution_count": null,
      "outputs": []
    },
    {
      "cell_type": "markdown",
      "metadata": {
        "deletable": false,
        "editable": false,
        "nbgrader": {
          "checksum": "197c5c94a409cdf024be6f915c84cd85",
          "grade": false,
          "grade_id": "cell-bdefd9162f3b4c12",
          "locked": true,
          "schema_version": 1,
          "solution": false
        },
        "id": "WNvxOiiv7Sl_"
      },
      "source": [
        "We see how the constantly-shaking trees give rise by far to the greatest pixel standard deviation."
      ]
    }
  ]
}