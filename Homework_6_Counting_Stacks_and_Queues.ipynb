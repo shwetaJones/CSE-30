{
  "nbformat": 4,
  "nbformat_minor": 0,
  "metadata": {
    "colab": {
      "name": "Homework_6_Counting_Stacks_and_Queues.ipynb",
      "provenance": [],
      "collapsed_sections": []
    },
    "kernelspec": {
      "display_name": "Python 3",
      "language": "python",
      "name": "python3"
    },
    "language_info": {
      "codemirror_mode": {
        "name": "ipython",
        "version": 3
      },
      "file_extension": ".py",
      "mimetype": "text/x-python",
      "name": "python",
      "nbconvert_exporter": "python",
      "pygments_lexer": "ipython3",
      "version": "3.7.3"
    },
    "test_info": {
      "id": "e2bb7e247d7d4aefdd89f5474caf8f3a118bfc1d"
    }
  },
  "cells": [
    {
      "cell_type": "markdown",
      "metadata": {
        "id": "sB8t8LnBB6C8"
      },
      "source": [
        "Before you turn this problem in, make sure everything runs as expected. First, **restart the kernel** (in the menubar, select Kernel$\\rightarrow$Restart) and then **run all cells** (in the menubar, select Cell$\\rightarrow$Run All).\n",
        "\n",
        "Make sure you fill in any place that says `YOUR CODE HERE` or \"YOUR ANSWER HERE\", as well as your name and collaborators below:"
      ]
    },
    {
      "cell_type": "code",
      "metadata": {
        "id": "PSyr4S93B6DE"
      },
      "source": [
        "NAME = \"\"\n",
        "COLLABORATORS = \"\""
      ],
      "execution_count": null,
      "outputs": []
    },
    {
      "cell_type": "markdown",
      "metadata": {
        "id": "eKN-RZkKB6DF"
      },
      "source": [
        "---"
      ]
    },
    {
      "cell_type": "markdown",
      "metadata": {
        "deletable": false,
        "editable": false,
        "nbgrader": {
          "checksum": "d6cb5835c104b25774fb9cf5fa7df4ab",
          "grade": false,
          "grade_id": "cell-c00039965f709bcd",
          "locked": true,
          "schema_version": 1,
          "solution": false
        },
        "id": "HQZAEEUfB6DF"
      },
      "source": [
        "# Homework 6: Counting Stacks and Queues\n",
        "### Copyright Luca de Alfaro, 2019-21.  License: CC-BY-NC. "
      ]
    },
    {
      "cell_type": "markdown",
      "metadata": {
        "deletable": false,
        "editable": false,
        "nbgrader": {
          "checksum": "082da3df03dd8a13b6800c2f5ffcd979",
          "grade": false,
          "grade_id": "cell-35e26853d722beaf",
          "locked": true,
          "schema_version": 1,
          "solution": false
        },
        "id": "5gfZL6ChB6DQ"
      },
      "source": [
        "## Submission\n",
        "\n",
        "* Download the .ipynb file:\n",
        "\n",
        "    File > Download .ipynb\n",
        "    \n",
        "    \n",
        "* Then, [submit the .ipynb to this Google Form](https://docs.google.com/forms/d/e/1FAIpQLSfLkUHsZ4UcLnf4OboFsRkf7tzumSczC3WjU5vpj5VcXBlmOA/viewform?usp=sf_link).\n"
      ]
    },
    {
      "cell_type": "markdown",
      "metadata": {
        "id": "GlXXIijqB6DQ"
      },
      "source": [
        "## About this homework\n",
        "\n",
        "Two things are new about this homework assignment. \n",
        "\n",
        "First, this homework is graded using `assert`, which is the standard way in Python of asking for something to be True.  So, a cell succeeds if no error is raised; you no longer see \"Success\" printed out all the time. \n",
        "\n",
        "Second, there are essentially no hidden tests: rather, we make sure your implementation works by comparing your implementation with a reference one.  Precisely, we will be comparing the implementation of CountingQueue with that of Queue. "
      ]
    },
    {
      "cell_type": "markdown",
      "metadata": {
        "deletable": false,
        "editable": false,
        "nbgrader": {
          "checksum": "8cb4186a2ddae6353dab907db883c694",
          "grade": false,
          "grade_id": "cell-68b77e5d1c0322d9",
          "locked": true,
          "schema_version": 1,
          "solution": false
        },
        "id": "06uExPLeB6DR"
      },
      "source": [
        "## Stacks, Queues, and Their Counting Versions\n",
        "\n",
        "A stack is a data structure with two operations: push, and pop.  Picture it as a pile of dishes sitting on a counter.  A push operation places a dish on top of the pile.  A pop operation returns the dish on top of the pile, or None if the pile is empty, that is, contains no dishes.  A \"dish\" can be any Python object. \n",
        "\n",
        "A queue is a data structure with two operations: put, and get.  Imagine it as a stack of books horizontally on a shelf.  A put operation adds the book to the left end of the books on the shelf; a get operation gets the book from the right end of the shelf.  \n",
        "\n",
        "Thus, the difference between a stack and a queue is that the stack is FILO (First In, Last Out), whereas the queue is FIFO (First In, First Out).  Elements in a stack are retrieved newest first. \n",
        "Elements in a queue are retrieved in the order they were put in, oldest first.\n",
        "\n",
        "We will implement here these data structures, with a small twist: we will also introduce _counting_ versions of them, which avoid keeping multiple identical copies of objects in a row. \n",
        "\n"
      ]
    },
    {
      "cell_type": "markdown",
      "metadata": {
        "deletable": false,
        "editable": false,
        "nbgrader": {
          "checksum": "41c81a21747a5585130cea14f4080360",
          "grade": false,
          "grade_id": "cell-ee4467322ec8da54",
          "locked": true,
          "schema_version": 1,
          "solution": false
        },
        "id": "nGgo6bmBB6DR"
      },
      "source": [
        "Let us begin by implementing a plain vanilla stack."
      ]
    },
    {
      "cell_type": "code",
      "metadata": {
        "deletable": false,
        "editable": false,
        "nbgrader": {
          "checksum": "c8caf3bd7ac252a6d22dae2d45f48c9d",
          "grade": false,
          "grade_id": "cell-6d18f4780b164ad5",
          "locked": true,
          "schema_version": 1,
          "solution": false
        },
        "id": "AbcvyaUHB6DS"
      },
      "source": [
        "class Stack(object):\n",
        "\n",
        "    def __init__(self):\n",
        "        self.stack = []\n",
        "\n",
        "    def __repr__(self):\n",
        "        \"\"\"Defining a __repr__ function will enable us to print the\n",
        "        stack contents, and facilitate debugging.\"\"\"\n",
        "        return repr(self.stack) # Good enough.\n",
        "\n",
        "    def push(self, x):\n",
        "        \"\"\"The \"top\" of the stack is the end of the list.\"\"\"\n",
        "        self.stack.append(x)\n",
        "\n",
        "    def pop(self):\n",
        "        return self.stack.pop() if len(self.stack) > 0 else None\n",
        "\n",
        "    def isempty(self):\n",
        "        return len(self.stack) == 0\n",
        "    \n",
        "    def __len__(self):\n",
        "        return len(self.stack)\n",
        "    \n",
        "    def __iter__(self):\n",
        "        for el in self.stack:\n",
        "            yield el\n",
        "            \n",
        "    def __getitem__(self, i):\n",
        "        return self.stack[i]\n",
        "    \n",
        "    def __contains__(self, x):\n",
        "        return x in self.stack\n",
        "    "
      ],
      "execution_count": null,
      "outputs": []
    },
    {
      "cell_type": "markdown",
      "metadata": {
        "deletable": false,
        "editable": false,
        "nbgrader": {
          "checksum": "62e785ef3262fd5b709e82480a563432",
          "grade": false,
          "grade_id": "cell-cc369ea0608dbcc3",
          "locked": true,
          "schema_version": 1,
          "solution": false
        },
        "id": "lK36yqhqB6DU"
      },
      "source": [
        "Let's see how this works."
      ]
    },
    {
      "cell_type": "code",
      "metadata": {
        "deletable": false,
        "editable": false,
        "nbgrader": {
          "checksum": "060d6d5b3bea178a4cfd6500308e1bd3",
          "grade": false,
          "grade_id": "cell-6121b5596dd62554",
          "locked": true,
          "schema_version": 1,
          "solution": false
        },
        "id": "tHH6ROtQB6DU"
      },
      "source": [
        "s = Stack()\n",
        "print(s.pop())\n",
        "s.push('a')\n",
        "s.push('b')\n",
        "print(s.pop())\n",
        "print(s.pop())\n",
        "print(s.pop())\n"
      ],
      "execution_count": null,
      "outputs": []
    },
    {
      "cell_type": "markdown",
      "metadata": {
        "deletable": false,
        "editable": false,
        "nbgrader": {
          "checksum": "e5bfee83f4513482863b6949590363d0",
          "grade": false,
          "grade_id": "cell-326aecaa0fa8e295",
          "locked": true,
          "schema_version": 1,
          "solution": false
        },
        "id": "iFmwXP8FB6DU"
      },
      "source": [
        "Ok!  The definition of a queue is similar. "
      ]
    },
    {
      "cell_type": "code",
      "metadata": {
        "deletable": false,
        "editable": false,
        "nbgrader": {
          "checksum": "bfd1429d9c93166281d694d7d11a9d30",
          "grade": false,
          "grade_id": "cell-1209c4b9dcdb98c6",
          "locked": true,
          "schema_version": 1,
          "solution": false
        },
        "id": "rskyDVjfB6DV"
      },
      "source": [
        "class Queue(object):\n",
        "\n",
        "    def __init__(self):\n",
        "        self.queue = []\n",
        "\n",
        "    def __repr__(self):\n",
        "        \"\"\"Defining a __repr__ function will enable us to print the\n",
        "        queue contents, and facilitate debugging.\"\"\"\n",
        "        return repr(self.queue) # Good enough.\n",
        "\n",
        "    def add(self, x):\n",
        "        self.queue.append(x)\n",
        "\n",
        "    def get(self):\n",
        "        # This is the only difference compared to the stack above.\n",
        "        return self.queue.pop(0) if len(self.queue) > 0 else None\n",
        "\n",
        "    def isempty(self):\n",
        "        return len(self.queue) == 0\n",
        "    \n",
        "    def __len__(self):\n",
        "        return len(self.queue)\n",
        "    \n",
        "    def __iter__(self):\n",
        "        for el in self.queue:\n",
        "            yield el\n",
        "            \n",
        "    def __getitem__(self, i):\n",
        "        return self.queue[i]\n",
        "    \n",
        "    def __contains__(self, x):\n",
        "        return x in self.queue"
      ],
      "execution_count": null,
      "outputs": []
    },
    {
      "cell_type": "markdown",
      "metadata": {
        "deletable": false,
        "editable": false,
        "nbgrader": {
          "checksum": "e917991bf2519646b555afcf05ce8033",
          "grade": false,
          "grade_id": "cell-d3c0c482f71373da",
          "locked": true,
          "schema_version": 1,
          "solution": false
        },
        "id": "I2oF3p_5B6DW"
      },
      "source": [
        "Let's see how it works. "
      ]
    },
    {
      "cell_type": "code",
      "metadata": {
        "deletable": false,
        "editable": false,
        "nbgrader": {
          "checksum": "a80f46245671c9f655d1c0262c19151d",
          "grade": false,
          "grade_id": "cell-bfa4e811718da9ac",
          "locked": true,
          "schema_version": 1,
          "solution": false
        },
        "id": "lU62WzVZB6DW"
      },
      "source": [
        "s = Queue()\n",
        "print(s.get())\n",
        "s.add('a')\n",
        "s.add('b')\n",
        "print(s.get())\n",
        "print(s.get())\n",
        "print(s.get())\n"
      ],
      "execution_count": null,
      "outputs": []
    },
    {
      "cell_type": "markdown",
      "metadata": {
        "deletable": false,
        "editable": false,
        "nbgrader": {
          "checksum": "0ab253658f0d0ddded6958cfe2b25b37",
          "grade": false,
          "grade_id": "cell-5844eaac10696969",
          "locked": true,
          "schema_version": 1,
          "solution": false
        },
        "id": "Mq0MP3ymB6DW"
      },
      "source": [
        "As you see, in a queue, the elements are retrieved in the same order in which they were added. "
      ]
    },
    {
      "cell_type": "markdown",
      "metadata": {
        "deletable": false,
        "editable": false,
        "nbgrader": {
          "checksum": "bf6d0eb35c86d359b9d716ca3d9d500f",
          "grade": false,
          "grade_id": "cell-6ea863072cc3cf70",
          "locked": true,
          "schema_version": 1,
          "solution": false
        },
        "id": "FrXwwgomB6DX"
      },
      "source": [
        "Python experts might note that, for a queue, we would do better by using the [`collections.deque` class](https://docs.python.org/3.7/library/collections.html#collections.deque), rather than the list class, to make the `pop(0)` operation more efficient; in lists, it takes time proportional to the length of the list; in deques, it takes constant time.  For small lists, however, the difference is negligible.\n"
      ]
    },
    {
      "cell_type": "markdown",
      "metadata": {
        "deletable": false,
        "editable": false,
        "nbgrader": {
          "checksum": "c28f9600b5bae68799f8535552485849",
          "grade": false,
          "grade_id": "cell-7f195cd7b7ddb434",
          "locked": true,
          "schema_version": 1,
          "solution": false
        },
        "id": "CAhq_HeSB6DX"
      },
      "source": [
        "We now consider a use case in which we may need to put in the queue or stack many repeated copies of the same object.  For instance, assume that the queue is used to store events, and assume that some event may end up being repeated many times in a row.  As an example, the events can be \"s\", for the tick of a second, \"m\", when the minute advances, and \"h\", when the hour advances.  There will be 60 consecutive \"s\" events between any two \"m\" events, and it seems a waste to store so many consecutive identical events.  Storing many identical things in a row is akin to counting in unary notation, after all.  We would be better off storing the repeated elements only once, along with a count of the number of times they occur.  Let's develop a queue using this idea (a stack can be done similarly)."
      ]
    },
    {
      "cell_type": "code",
      "metadata": {
        "deletable": false,
        "editable": false,
        "nbgrader": {
          "checksum": "77dc2b19c429768e519660dd334fc9cc",
          "grade": false,
          "grade_id": "cell-bef7933a5e94e093",
          "locked": true,
          "schema_version": 1,
          "solution": false
        },
        "id": "ENXlsD6cB6DY"
      },
      "source": [
        "class CountingQueue(object):\n",
        "\n",
        "    def __init__(self):\n",
        "        self.queue = []\n",
        "\n",
        "    def __repr__(self):\n",
        "        return repr(self.queue)\n",
        "\n",
        "    def add(self, x, count=1):\n",
        "        # If the element is the same as the last element, we simply\n",
        "        # increment the count.  This assumes we can test equality of\n",
        "        # elements.\n",
        "        if len(self.queue) > 0:\n",
        "            xx, cc = self.queue[-1]\n",
        "            if xx == x:\n",
        "                self.queue[-1] = (xx, cc + count)\n",
        "            else:\n",
        "                self.queue.append((x, count))\n",
        "        else:\n",
        "            self.queue = [(x, count)]\n",
        "\n",
        "    def get(self):\n",
        "        if len(self.queue) == 0:\n",
        "            return None\n",
        "        x, c = self.queue[0]\n",
        "        if c == 1:\n",
        "            self.queue.pop(0)\n",
        "            return x\n",
        "        else:\n",
        "            self.queue[0] = (x, c - 1)\n",
        "            return x\n",
        "\n",
        "    def isempty(self):\n",
        "        # Since the count of an element is never 0, we can just check\n",
        "        # whether the queue is empty.\n",
        "        return len(self.queue) == 0"
      ],
      "execution_count": null,
      "outputs": []
    },
    {
      "cell_type": "markdown",
      "metadata": {
        "deletable": false,
        "editable": false,
        "nbgrader": {
          "checksum": "01ee76988015a4212a68c360a97c5f4d",
          "grade": false,
          "grade_id": "cell-b1ef898d2be6dee5",
          "locked": true,
          "schema_version": 1,
          "solution": false
        },
        "id": "nzsU5CiEB6DZ"
      },
      "source": [
        "Let's put this to the same test as before, printing the queue contents at each step to see what is going on."
      ]
    },
    {
      "cell_type": "code",
      "metadata": {
        "deletable": false,
        "editable": false,
        "nbgrader": {
          "checksum": "f05841dd77db2c948bc2128b6ed6c0cb",
          "grade": false,
          "grade_id": "cell-3f3e2c4163f4c9d6",
          "locked": true,
          "schema_version": 1,
          "solution": false
        },
        "id": "CzIKraPjB6Da"
      },
      "source": [
        "q = CountingQueue()\n",
        "q.add('a')\n",
        "print(q)\n",
        "q.add('b', count=5)\n",
        "print(q)\n",
        "q.add('c', count=2)\n",
        "print(q)\n",
        "while not q.isempty():\n",
        "    print(q.get())\n",
        "    print(q)\n"
      ],
      "execution_count": null,
      "outputs": []
    },
    {
      "cell_type": "markdown",
      "metadata": {
        "deletable": false,
        "editable": false,
        "nbgrader": {
          "checksum": "c904be719accc9b5a9073ee75059fcd7",
          "grade": false,
          "grade_id": "cell-69908015d37ffc98",
          "locked": true,
          "schema_version": 1,
          "solution": false
        },
        "id": "zkbznUXKB6Eq"
      },
      "source": [
        "It works!  And notice that it works even if we add elements one by one."
      ]
    },
    {
      "cell_type": "code",
      "metadata": {
        "deletable": false,
        "editable": false,
        "nbgrader": {
          "checksum": "575a481d5ade233a146120dc2afa5dc6",
          "grade": false,
          "grade_id": "cell-ca04723b95087468",
          "locked": true,
          "schema_version": 1,
          "solution": false
        },
        "id": "gKWtKaRhB6Et"
      },
      "source": [
        "q = CountingQueue()\n",
        "for i in range(10):\n",
        "    q.add('a')\n",
        "q.add('b')\n",
        "for i in range(3):\n",
        "    q.add('c', count=2)\n",
        "print(q)\n"
      ],
      "execution_count": null,
      "outputs": []
    },
    {
      "cell_type": "markdown",
      "metadata": {
        "deletable": false,
        "editable": false,
        "nbgrader": {
          "checksum": "2272a513beab079e525dd85ad5ebe827",
          "grade": false,
          "grade_id": "cell-035cfbce5f87aff2",
          "locked": true,
          "schema_version": 1,
          "solution": false
        },
        "id": "1xbPsofzB6Ev"
      },
      "source": [
        "## The Homework Assignment\n",
        "\n",
        "For this homework, you must implement the following methods for `CountingQueue`: \n",
        "\n",
        "* `__len__`\n",
        "* `__iter__`\n",
        "* `__in__`\n",
        "* `__getitem__`\n",
        "\n",
        "Your goal is to have `CountingQueue` behave exactly like `Queue` to an outside user: the objects have to be different only due to their internal implementation.  So for instance, `__len__` must return the number of elements, including repetitions; not the number of (element, count) pairs in `self.queue`. \n",
        "\n",
        "Note that we are adding methods to a class that has already been defined, so our definition have the following somewhat unusual form: "
      ]
    },
    {
      "cell_type": "code",
      "metadata": {
        "deletable": false,
        "editable": false,
        "nbgrader": {
          "checksum": "490ae6a4a1b0df974e67906affeaa373",
          "grade": false,
          "grade_id": "cell-e13e90e2d4da4a96",
          "locked": true,
          "schema_version": 1,
          "solution": false
        },
        "id": "zISn-9_0B6Ev"
      },
      "source": [
        "def counting_queue_peek(self):\n",
        "    if len(self.queue) == 0:\n",
        "        return None\n",
        "    el, _ = self.queue[0]\n",
        "    return el\n",
        "\n",
        "CountingQueue.peek = counting_queue_peek"
      ],
      "execution_count": null,
      "outputs": []
    },
    {
      "cell_type": "markdown",
      "metadata": {
        "deletable": false,
        "editable": false,
        "nbgrader": {
          "checksum": "b0beb8cea680da8d30764280e02e9175",
          "grade": false,
          "grade_id": "cell-44afa4d4cca32bb0",
          "locked": true,
          "schema_version": 1,
          "solution": false
        },
        "id": "GnfYTyC5B6Ew"
      },
      "source": [
        "In other words, we first create a function (in this case `counting_queue_peek`) and then we assign it to the method `peek` of `CountingQueue`.  It's a bit unusual, but it works, and it relieves us from the task of redefining the class each time we need a new method. "
      ]
    },
    {
      "cell_type": "code",
      "metadata": {
        "deletable": false,
        "editable": false,
        "nbgrader": {
          "checksum": "7eaf8c9e63b8ed65d03401a5a1a92269",
          "grade": false,
          "grade_id": "cell-72729cce24045f9e",
          "locked": true,
          "schema_version": 1,
          "solution": false
        },
        "id": "fpO2MIglB6Ew"
      },
      "source": [
        "q = CountingQueue()\n",
        "q.add(\"cat\")\n",
        "q.add(\"dog\")\n",
        "q.peek()"
      ],
      "execution_count": null,
      "outputs": []
    },
    {
      "cell_type": "markdown",
      "metadata": {
        "deletable": false,
        "editable": false,
        "nbgrader": {
          "checksum": "99f64e4a427d6a3d50bf0eb6e5e09c25",
          "grade": false,
          "grade_id": "cell-9a5f663ecda2358c",
          "locked": true,
          "schema_version": 1,
          "solution": false
        },
        "id": "u9jMzu8pB6Ew"
      },
      "source": [
        "### `__len__`"
      ]
    },
    {
      "cell_type": "code",
      "metadata": {
        "deletable": false,
        "nbgrader": {
          "checksum": "9c015b98dd39822190f152661c694171",
          "grade": false,
          "grade_id": "cell-9b233049252cd5b1",
          "locked": false,
          "schema_version": 1,
          "solution": true
        },
        "id": "YC9GXbvmB6Ew"
      },
      "source": [
        "def counting_queue_len(self):\n",
        "    ### YOUR CODE HERE\n",
        "    \n",
        "CountingQueue.__len__ = counting_queue_len"
      ],
      "execution_count": null,
      "outputs": []
    },
    {
      "cell_type": "code",
      "metadata": {
        "deletable": false,
        "editable": false,
        "nbgrader": {
          "checksum": "c31035bbb8312945771d5fae2c4a14b3",
          "grade": true,
          "grade_id": "cell-baefe3f6d5dba707",
          "locked": true,
          "points": 5,
          "schema_version": 1,
          "solution": false
        },
        "id": "5lIrw-TqB6Ew"
      },
      "source": [
        "# 5 points.  Simple tests\n",
        "\n",
        "q = CountingQueue()\n",
        "assert len(q) == 0\n",
        "q.add(\"cat\")\n",
        "q.add(\"dog\")\n",
        "assert len(q) == 2"
      ],
      "execution_count": null,
      "outputs": []
    },
    {
      "cell_type": "code",
      "metadata": {
        "deletable": false,
        "editable": false,
        "nbgrader": {
          "checksum": "f9561d57acfc82c7210e66145099945a",
          "grade": true,
          "grade_id": "cell-fec6de70eb83e6ba",
          "locked": true,
          "points": 5,
          "schema_version": 1,
          "solution": false
        },
        "id": "1ravo-a2B6Ex"
      },
      "source": [
        "# 5 points.  More complicated tests. \n",
        "\n",
        "q = CountingQueue()\n",
        "assert len(q) == 0\n",
        "q.add(\"cat\")\n",
        "q.add(\"cat\")\n",
        "assert len(q.queue) == 1\n",
        "assert len(q) == 2\n",
        "q.add(\"dog\")\n",
        "assert len(q) == 3\n",
        "assert len(q.queue) == 2\n",
        "q.add(\"dog\")\n",
        "assert len(q) == 4\n",
        "assert len(q) == 4 # Hey, just in case you went for the quantum-mechanical solution ;-) \n",
        "assert len(q) == 4\n",
        "assert len(q.queue) == 2"
      ],
      "execution_count": null,
      "outputs": []
    },
    {
      "cell_type": "code",
      "metadata": {
        "deletable": false,
        "editable": false,
        "nbgrader": {
          "checksum": "cd7c321438879b08d272937de03c031b",
          "grade": true,
          "grade_id": "cell-30c60524d3105437",
          "locked": true,
          "points": 5,
          "schema_version": 1,
          "solution": false
        },
        "id": "0QeQ5AhpB6E1"
      },
      "source": [
        "# 5 points.  Works same as Queue. \n",
        "\n",
        "import random \n",
        "\n",
        "for k in range(100):\n",
        "    q0 = Queue()\n",
        "    q1 = CountingQueue()\n",
        "    for _ in range(100):\n",
        "        el = random.choice([\"a\", \"b\", \"c\"])\n",
        "        q0.add(el)\n",
        "        q1.add(el)\n",
        "        assert len(q0) == len(q1)\n",
        "        assert len(q0.queue) >= len(q1.queue)"
      ],
      "execution_count": null,
      "outputs": []
    },
    {
      "cell_type": "markdown",
      "metadata": {
        "deletable": false,
        "editable": false,
        "nbgrader": {
          "checksum": "cdfb782b3ae2d1f2cf50753ca2d9ad75",
          "grade": false,
          "grade_id": "cell-d05af13232369362",
          "locked": true,
          "schema_version": 1,
          "solution": false
        },
        "id": "p0eSygL4B6FC"
      },
      "source": [
        "### `__iter__`"
      ]
    },
    {
      "cell_type": "code",
      "metadata": {
        "deletable": false,
        "nbgrader": {
          "checksum": "61421a66f3b814fc2386a6a7f0883248",
          "grade": false,
          "grade_id": "cell-9a405ee33bf23bb2",
          "locked": false,
          "schema_version": 1,
          "solution": true
        },
        "id": "bd6haqi9B6FC"
      },
      "source": [
        "def counting_queue_iter(self):\n",
        "    ### YOUR CODE HERE\n",
        "    \n",
        "CountingQueue.__iter__ = counting_queue_iter"
      ],
      "execution_count": null,
      "outputs": []
    },
    {
      "cell_type": "code",
      "metadata": {
        "deletable": false,
        "editable": false,
        "nbgrader": {
          "checksum": "e5ae18d3491596292e221b9a8e3ed2d5",
          "grade": true,
          "grade_id": "cell-bd385a1bf62779e7",
          "locked": true,
          "points": 5,
          "schema_version": 1,
          "solution": false
        },
        "id": "dlNR4wPeB6FC"
      },
      "source": [
        "# 5 points.  Simple tests. \n",
        "\n",
        "q = CountingQueue()\n",
        "q.add(\"cat\", count=2)\n",
        "q.add(\"dog\", count=3)\n",
        "assert [x for x in q] == [\"cat\"] * 2 + [\"dog\"] * 3"
      ],
      "execution_count": null,
      "outputs": []
    },
    {
      "cell_type": "code",
      "metadata": {
        "deletable": false,
        "editable": false,
        "nbgrader": {
          "checksum": "8aca9ff3721944f2c6b0ff831bac296a",
          "grade": true,
          "grade_id": "cell-9eb42e2d3d363a2b",
          "locked": true,
          "points": 5,
          "schema_version": 1,
          "solution": false
        },
        "id": "xp5J8hWGB6FD"
      },
      "source": [
        "# 5 points.  Works the same as queue. \n",
        "\n",
        "for k in range(100):\n",
        "    q0 = Queue()\n",
        "    q1 = CountingQueue()\n",
        "    for _ in range(100):\n",
        "        el = random.choice([\"a\", \"b\", \"c\"])\n",
        "        q0.add(el)\n",
        "        q1.add(el)\n",
        "        assert [x for x in q0] == [x for x in q1]"
      ],
      "execution_count": null,
      "outputs": []
    },
    {
      "cell_type": "markdown",
      "metadata": {
        "deletable": false,
        "editable": false,
        "nbgrader": {
          "checksum": "9b1914c81528b9c5fcd4345b2bf9ddb7",
          "grade": false,
          "grade_id": "cell-50dd01a01e1aec2f",
          "locked": true,
          "schema_version": 1,
          "solution": false
        },
        "id": "6nqwCHwxB6FD"
      },
      "source": [
        "### `__in__`"
      ]
    },
    {
      "cell_type": "code",
      "metadata": {
        "deletable": false,
        "nbgrader": {
          "checksum": "81173c542dc2b7effcdf100361468295",
          "grade": false,
          "grade_id": "cell-569a123d3664950a",
          "locked": false,
          "schema_version": 1,
          "solution": true
        },
        "id": "5uglzNnWB6FE"
      },
      "source": [
        "def counting_queue_in(self, el):\n",
        "    ### YOUR CODE HERE\n",
        "    \n",
        "CountingQueue.__in__ = counting_queue_in"
      ],
      "execution_count": null,
      "outputs": []
    },
    {
      "cell_type": "code",
      "metadata": {
        "deletable": false,
        "editable": false,
        "nbgrader": {
          "checksum": "0ca73293f08ca3007d4d20c2bbea22ca",
          "grade": true,
          "grade_id": "cell-6f8e2dc5c8572f62",
          "locked": true,
          "points": 5,
          "schema_version": 1,
          "solution": false
        },
        "id": "NzCyI3VZB6FE"
      },
      "source": [
        "# 5 points.  Simple cases. \n",
        "\n",
        "q = CountingQueue()\n",
        "assert \"cat\" not in q\n",
        "q.add(\"cat\", count=2)\n",
        "assert \"cat\" in q\n",
        "assert \"dog\" not in q\n",
        "q.add(\"dog\")\n",
        "assert \"cat\" in q\n",
        "assert \"dog\" in q\n",
        "q.get()\n",
        "assert \"cat\" in q\n",
        "assert \"dog\" in q\n",
        "q.get()\n",
        "assert \"cat\" not in q\n",
        "assert \"dog\" in q\n",
        "q.get()\n",
        "assert \"cat\" not in q\n",
        "assert \"dog\" not in q"
      ],
      "execution_count": null,
      "outputs": []
    },
    {
      "cell_type": "code",
      "metadata": {
        "deletable": false,
        "editable": false,
        "nbgrader": {
          "checksum": "691f939c1ada06c7f489aa7848243362",
          "grade": true,
          "grade_id": "cell-026c44b5b08a628a",
          "locked": true,
          "points": 5,
          "schema_version": 1,
          "solution": false
        },
        "id": "QMYNBGWLB6FE"
      },
      "source": [
        "# 5 points.  Behaves the same as Queue. \n",
        "\n",
        "elements = range(5)\n",
        "for k in range(100):\n",
        "    q0 = Queue()\n",
        "    q1 = CountingQueue()\n",
        "    for _ in range(20):\n",
        "        el = random.choice(elements)\n",
        "        q0.add(el)\n",
        "        q1.add(el)\n",
        "        for x in elements:\n",
        "            assert (x in q0) == (x in q1)"
      ],
      "execution_count": null,
      "outputs": []
    },
    {
      "cell_type": "markdown",
      "metadata": {
        "deletable": false,
        "editable": false,
        "nbgrader": {
          "checksum": "763c60e2a5cfc6ab50d6681e9cc4b176",
          "grade": false,
          "grade_id": "cell-8535ebb91e861bc8",
          "locked": true,
          "schema_version": 1,
          "solution": false
        },
        "id": "imRYcYiUB6FE"
      },
      "source": [
        "### `__getitem__`"
      ]
    },
    {
      "cell_type": "code",
      "metadata": {
        "deletable": false,
        "nbgrader": {
          "checksum": "3f27285c4203f27722e8ee1fab0ccc06",
          "grade": false,
          "grade_id": "cell-d30bd94f2114843b",
          "locked": false,
          "schema_version": 1,
          "solution": true
        },
        "id": "mM1tjzakB6FF"
      },
      "source": [
        "def counting_queue_getitem(self, n):\n",
        "    ### YOUR CODE HERE\n",
        "    \n",
        "CountingQueue.__getitem__ = counting_queue_getitem"
      ],
      "execution_count": null,
      "outputs": []
    },
    {
      "cell_type": "code",
      "metadata": {
        "deletable": false,
        "editable": false,
        "nbgrader": {
          "checksum": "04311fe0229ddb4bb0539ab4002bc7ed",
          "grade": true,
          "grade_id": "cell-72a86536083cc229",
          "locked": true,
          "points": 5,
          "schema_version": 1,
          "solution": false
        },
        "id": "qiA9ztHLB6FF"
      },
      "source": [
        "# 5 points: simple tests. \n",
        "\n",
        "q = CountingQueue()\n",
        "q.add(\"cat\", count=2)\n",
        "q.add(\"dog\", count=3)\n",
        "q.add(\"bird\", count=4)\n",
        "els = [q[i] for i in range(9)]\n",
        "assert els == ['cat'] * 2 + ['dog'] * 3 + ['bird'] * 4\n",
        "# Let's do it again. \n",
        "els = [q[i] for i in range(9)]\n",
        "assert els == ['cat'] * 2 + ['dog'] * 3 + ['bird'] * 4"
      ],
      "execution_count": null,
      "outputs": []
    },
    {
      "cell_type": "code",
      "metadata": {
        "deletable": false,
        "editable": false,
        "nbgrader": {
          "checksum": "74fbce1af169327ac8a6a362864b0908",
          "grade": true,
          "grade_id": "cell-6f442bb1b4423803",
          "locked": true,
          "points": 5,
          "schema_version": 1,
          "solution": false
        },
        "id": "k3kETJG7B6FF"
      },
      "source": [
        "# 5 points: you raise IndexError when accessing elements out of bounds. \n",
        "\n",
        "q = CountingQueue()\n",
        "q.add(\"cat\", count=2)\n",
        "q.add(\"dog\", count=3)\n",
        "\n",
        "# Raise IndexError when it's too high... \n",
        "try:\n",
        "    q[5]\n",
        "    assert False, \"Failed to raise IndexError\"\n",
        "except IndexError:\n",
        "    pass\n",
        "assert q[4] == \"dog\"\n",
        "try:\n",
        "    q[5]\n",
        "    assert False, \"Failed to raise IndexError\"\n",
        "except IndexError:\n",
        "    pass\n",
        "\n",
        "# And also when it's too low. \n",
        "try:\n",
        "    q[-1]\n",
        "    assert False, \"Failed to raise IndexError\"\n",
        "except IndexError:\n",
        "    pass\n",
        "\n",
        "# And raise TypeError if you try to index with a non-integer. \n",
        "try:\n",
        "    q[\"hello\"]\n",
        "    assert False, \"Failed to raise TypeError\"\n",
        "except TypeError:\n",
        "    pass\n",
        "\n"
      ],
      "execution_count": null,
      "outputs": []
    },
    {
      "cell_type": "code",
      "metadata": {
        "deletable": false,
        "editable": false,
        "nbgrader": {
          "checksum": "c340b70eddea961b3a5036ca1960b930",
          "grade": true,
          "grade_id": "cell-a05f51bca8808418",
          "locked": true,
          "points": 5,
          "schema_version": 1,
          "solution": false
        },
        "id": "n1oIQEzdB6FF"
      },
      "source": [
        "# 5 points.  Behaves the same as Queue. \n",
        "\n",
        "elements = range(3)\n",
        "for k in range(100):\n",
        "    q0 = Queue()\n",
        "    q1 = CountingQueue()\n",
        "    for m in range(40):\n",
        "        el = random.choice(elements)\n",
        "        q0.add(el)\n",
        "        q1.add(el)\n",
        "        for i in range(m):\n",
        "            assert q0[i] == q1[i]"
      ],
      "execution_count": null,
      "outputs": []
    }
  ]
}