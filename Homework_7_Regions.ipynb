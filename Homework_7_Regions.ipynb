{
  "nbformat": 4,
  "nbformat_minor": 0,
  "metadata": {
    "colab": {
      "name": "Homework_7_Regions.ipynb",
      "provenance": [],
      "collapsed_sections": []
    },
    "kernelspec": {
      "display_name": "Python 3",
      "language": "python",
      "name": "python3"
    },
    "language_info": {
      "codemirror_mode": {
        "name": "ipython",
        "version": 3
      },
      "file_extension": ".py",
      "mimetype": "text/x-python",
      "name": "python",
      "nbconvert_exporter": "python",
      "pygments_lexer": "ipython3",
      "version": "3.7.3"
    },
    "test_info": {
      "id": "e2bb7e247d7d4aefdd89f5474caf8f3a118bfc1d"
    }
  },
  "cells": [
    {
      "cell_type": "markdown",
      "metadata": {
        "id": "In-vI-tEAKe4"
      },
      "source": [
        "Before you turn this problem in, make sure everything runs as expected. First, **restart the kernel** (in the menubar, select Kernel$\\rightarrow$Restart) and then **run all cells** (in the menubar, select Cell$\\rightarrow$Run All).\n",
        "\n",
        "Make sure you fill in any place that says `YOUR CODE HERE` or \"YOUR ANSWER HERE\", as well as your name and collaborators below:"
      ]
    },
    {
      "cell_type": "code",
      "metadata": {
        "id": "JNsh1lfXAKe9"
      },
      "source": [
        "NAME = \"\"\n",
        "COLLABORATORS = \"\""
      ],
      "execution_count": null,
      "outputs": []
    },
    {
      "cell_type": "markdown",
      "metadata": {
        "id": "29NSIAjuAKe-"
      },
      "source": [
        "---"
      ]
    },
    {
      "cell_type": "markdown",
      "metadata": {
        "deletable": false,
        "editable": false,
        "nbgrader": {
          "checksum": "a76e3408dec6fc86534a0a89015dca8b",
          "grade": false,
          "grade_id": "cell-b429e0f03c7e6418",
          "locked": true,
          "schema_version": 1,
          "solution": false
        },
        "id": "VesMmfZqAKe-"
      },
      "source": [
        "# Homework 7: Regions\n",
        "## CSE 30 Winter 2021\n",
        "\n",
        "© Luca de Alfaro, 2018-21, [CC-BY_NC License](http://creativecommons.org/licenses/by-nc-nd/4.0/)."
      ]
    },
    {
      "cell_type": "markdown",
      "metadata": {
        "deletable": false,
        "editable": false,
        "nbgrader": {
          "checksum": "65b41a30bc941c0233d70ee0146d00f2",
          "grade": false,
          "grade_id": "cell-f5f729a6eb123bc9",
          "locked": true,
          "schema_version": 1,
          "solution": false
        },
        "id": "sAkx1ZNsAKe-"
      },
      "source": [
        "## About This Homework\n",
        "\n",
        "The homework consists of 12 questions, for a total of 86 points. \n",
        "\n",
        "The instructions for working on homework assignments are available on Canvas; as a summary: \n",
        "\n",
        "* Write your code only where indicated via `#YOUR CODE HERE`.  If you write code in other places, it will be discarded during grading. \n",
        "* Do not add/remove cells. \n",
        "* The tests are implemented with `assert` statements: if they fail, you will see an error (a Python exception).  If you see no error, you can assume that they pass.  \n",
        "\n",
        "Once you are done working on it, you can download the .ipynb and [submit it to this form](https://docs.google.com/forms/d/e/1FAIpQLSfYclePxHqYMbUpbfLZ3O4dyWWVyFf42mJ9lCmJOjoPnwJCPg/viewform?usp=sf_link)."
      ]
    },
    {
      "cell_type": "markdown",
      "metadata": {
        "deletable": false,
        "editable": false,
        "nbgrader": {
          "checksum": "166f9e6b0a0a4352cbbb2e2f0ca9c0a8",
          "grade": false,
          "grade_id": "cell-9d6a8cc64ef86c99",
          "locked": true,
          "schema_version": 1,
          "solution": false
        },
        "id": "AiP9XXBqAKe_"
      },
      "source": [
        "In this module, we will write code to represent regions of space.  We will represent a _region_ as the union of rectangles whose sides are parallel to the Cartesian axes.  Of course, this does not suffice to represent all possible regions of space, but by using lots of small rectangles, we can at least approximate most (continuous, etc) regions. \n",
        "\n",
        "Since a region is the union of rectangles, let us turn our attention to rectangles. "
      ]
    },
    {
      "cell_type": "markdown",
      "metadata": {
        "deletable": false,
        "editable": false,
        "nbgrader": {
          "checksum": "333ae2b114b45fd7d4f282dc79c33c23",
          "grade": false,
          "grade_id": "cell-fe25d1e7980d659c",
          "locked": true,
          "schema_version": 1,
          "solution": false
        },
        "id": "qSFuDn6mAKe_"
      },
      "source": [
        "## Rectangles\n",
        "\n",
        "We need to represent rectangles whose sides, and edges, are parallel to the axes of the Cartesian space. "
      ]
    },
    {
      "cell_type": "markdown",
      "metadata": {
        "deletable": false,
        "editable": false,
        "nbgrader": {
          "checksum": "80e691aac10c59dfab29a0c7b37c5905",
          "grade": false,
          "grade_id": "cell-c9159aa7921d4042",
          "locked": true,
          "schema_version": 1,
          "solution": false
        },
        "id": "PFKtKkeQAKe_"
      },
      "source": [
        "A 1D rectangle is simply an interval.  We can think of a 2D rectangle, rather than as a collection of vertices, as the intersection of two intervals: one for the x-axis, and one for the y-axis.  Similarly, a 3D rectangle can be thought of as the intersection of three intervals, on the x, y, and z axes.  To compute the intersection of two rectangles, we just need to compute the intersection of their intervals on the respective axes.  Thus, intervals provide a simple representation that generalizes well to multiple dimensions. \n",
        "\n",
        "We start building our representation from intervals.  We then use lists of intervals to represent rectangles, and unions of rectangles to represent regions of space. "
      ]
    },
    {
      "cell_type": "markdown",
      "metadata": {
        "deletable": false,
        "editable": false,
        "nbgrader": {
          "checksum": "4af869c8c7478475a7d33d81381dddcd",
          "grade": false,
          "grade_id": "cell-80574d593b02df4c",
          "locked": true,
          "schema_version": 1,
          "solution": false
        },
        "id": "FFwKm2SKAKe_"
      },
      "source": [
        "## Intervals\n",
        "\n",
        "An interval is defined by its two endpoints.  We keep them sorted, which will make it (a lot) easier to operate on them. "
      ]
    },
    {
      "cell_type": "code",
      "metadata": {
        "deletable": false,
        "editable": false,
        "nbgrader": {
          "checksum": "c5e7f8e36a2bb888e8e4410174fdf372",
          "grade": false,
          "grade_id": "cell-abef9491aa854280",
          "locked": true,
          "schema_version": 1,
          "solution": false
        },
        "id": "V-00bospAKfA"
      },
      "source": [
        "class Interval(object):\n",
        "\n",
        "    def __init__(self, x0, x1):\n",
        "        # Sorts the endpoints, to ensure that x0 <= x1.\n",
        "        x0, x1 = (x0, x1) if x0 < x1 else (x1, x0)\n",
        "        assert x0 < x1 # No point intervals.\n",
        "        self.x0 = x0\n",
        "        self.x1 = x1\n",
        "\n",
        "    @property\n",
        "    def length(self):\n",
        "        return self.x1 - self.x0\n",
        "\n",
        "    def endpoints(self):\n",
        "        return (self.x0, self.x1)\n",
        "\n",
        "    def __getitem__(self, i):\n",
        "        \"\"\"Alternative way of accessing endpoints.\"\"\"\n",
        "        if i == 0:\n",
        "            return self.x0\n",
        "        elif i == 1:\n",
        "            return self.x1\n",
        "        raise KeyError()\n",
        "\n",
        "    def __repr__(self):\n",
        "        return \"[{},{}]\".format(self.x0, self.x1)\n"
      ],
      "execution_count": null,
      "outputs": []
    },
    {
      "cell_type": "markdown",
      "metadata": {
        "deletable": false,
        "editable": false,
        "nbgrader": {
          "checksum": "670f3c84867bfbb71669d47e35b771c9",
          "grade": false,
          "grade_id": "cell-d950955cf7982810",
          "locked": true,
          "schema_version": 1,
          "solution": false
        },
        "id": "sy6GfkH8AKfA"
      },
      "source": [
        "The main operations we need on intervals, to do anything interesting, are: \n",
        "\n",
        "* **Intersection.** Given two intervals `i` and `j`, we want to define `__and__` for an interval so that `i & j` will be either `None`, if `i` and `j` have no intersection, or the interval corresponding to the intersection of `i` and `j`. \n",
        "\n",
        "* **Union.** The union of two intervals is not necessarily an interval; it could also be _two_ intervals, if the original intervals are disjoint and there is a gap in between.  Thus, we define `__or__` so that `i | j` returns a _list_ consisting of 1 or 2 intervals. \n",
        "\n",
        "* **Difference.** The difference `i - j` is the portion of `i` that is not in `j`.  The result is a _list_ of intervals, containing 0 intervals (if `j` includes `i`), one interval (if `j` does not overlap `i`, or if it overlaps only from one side of `i`), or two intervals (if `j` falls in the middle of `i`). \n",
        "\n",
        "* **Equality.** Two intervals are equal if, well, they are equal. \n",
        "\n",
        "* **Membership.** We test for a point belonging to an interval. \n",
        "\n",
        "In defining these operations, we disregard isolated points, and we blur the distinction between open and closed intervals.  After all, we only care about representing regions of space, and so isolated points and things that have no extension, or no volume, are not a concern of ours.  So for instance, if we subtract the interval $[3, 5]$ from $[0, 4]$, the result will be simply the interval $[4, 5]$: we do not track whether the interval is open or closed at 5.  Likewise, point-wise intervals such as $[5, 5]$ are simply not considered. "
      ]
    },
    {
      "cell_type": "markdown",
      "metadata": {
        "deletable": false,
        "editable": false,
        "nbgrader": {
          "checksum": "5a0e0f57c7cdb983e7bca43644397f62",
          "grade": false,
          "grade_id": "cell-a88321df41d00fc2",
          "locked": true,
          "schema_version": 1,
          "solution": false
        },
        "id": "WwofmrsXAKfA"
      },
      "source": [
        "## Question 1: Interval Equality\n",
        "\n",
        "Let us start by implementing equality.  We leave this to you. "
      ]
    },
    {
      "cell_type": "code",
      "metadata": {
        "deletable": false,
        "nbgrader": {
          "checksum": "bb0ab462e52d116a92340bb2b81cf799",
          "grade": false,
          "grade_id": "cell-b3d421aed5205076",
          "locked": false,
          "schema_version": 1,
          "solution": true
        },
        "id": "inVvrfbrAKfB"
      },
      "source": [
        "### Defining Equality\n",
        "\n",
        "def interval_equality(self, other):\n",
        "    \"\"\"Return True iff the intervals self and other are equal, and False otherwise.\"\"\"\n",
        "    ### YOUR CODE HERE\n",
        "\n",
        "Interval.__eq__ = interval_equality\n"
      ],
      "execution_count": null,
      "outputs": []
    },
    {
      "cell_type": "code",
      "metadata": {
        "deletable": false,
        "editable": false,
        "nbgrader": {
          "checksum": "df017a081ca499ea9aeb624b8ac8ea4d",
          "grade": false,
          "grade_id": "cell-aadfbedf4faf61c3",
          "locked": true,
          "schema_version": 1,
          "solution": false
        },
        "id": "zIpv9tf0AKfB"
      },
      "source": [
        "i = Interval(3, 5)\n",
        "j = Interval(4, 5)\n",
        "i == j\n"
      ],
      "execution_count": null,
      "outputs": []
    },
    {
      "cell_type": "code",
      "metadata": {
        "deletable": false,
        "editable": false,
        "nbgrader": {
          "checksum": "c850716096958d8b14142779ee26684d",
          "grade": true,
          "grade_id": "cell-2602376ca24a37f7",
          "locked": true,
          "points": 5,
          "schema_version": 1,
          "solution": false
        },
        "id": "xXnJ-ysIAKfB"
      },
      "source": [
        "# Tests for equality. 5 points. \n",
        "\n",
        "i = Interval(3, 5)\n",
        "j = Interval(4, 5)\n",
        "assert i != j\n",
        "assert Interval(5, 7) == Interval(5, 7)\n",
        "assert Interval(2.3, 3.4) == Interval(2.3, 3.4)\n"
      ],
      "execution_count": null,
      "outputs": []
    },
    {
      "cell_type": "markdown",
      "metadata": {
        "deletable": false,
        "editable": false,
        "nbgrader": {
          "checksum": "15d27efc95a18bc26d35abceb9981bdc",
          "grade": false,
          "grade_id": "cell-72240a116ecb852f",
          "locked": true,
          "schema_version": 1,
          "solution": false
        },
        "id": "PPsz4m7BAKfB"
      },
      "source": [
        "### Union\n",
        "\n",
        "We define union for you, to give you an example. "
      ]
    },
    {
      "cell_type": "code",
      "metadata": {
        "deletable": false,
        "editable": false,
        "nbgrader": {
          "checksum": "79cf20a99cb58831eaca6deba8dbd3ae",
          "grade": false,
          "grade_id": "cell-a2cd26628db50831",
          "locked": true,
          "schema_version": 1,
          "solution": false
        },
        "id": "DoX2HzXBAKfB"
      },
      "source": [
        "def interval_or(self, other):\n",
        "    \"\"\"Union of self and other.  Returns a list of 1 or 2 non-overlapping intervals.\"\"\"\n",
        "    if self.x1 < other.x0 or other.x1 < self.x0:\n",
        "        # Disjoint\n",
        "        return [self, other]\n",
        "    else:\n",
        "        # Have intersection, merge them.\n",
        "        return [Interval(min(self.x0, other.x0), max(self.x1, other.x1))]\n",
        "\n",
        "Interval.__or__ = interval_or\n"
      ],
      "execution_count": null,
      "outputs": []
    },
    {
      "cell_type": "code",
      "metadata": {
        "deletable": false,
        "editable": false,
        "nbgrader": {
          "checksum": "77433b2f28c6adaeb69cb539c9cff43a",
          "grade": false,
          "grade_id": "cell-b98e03c8feba4f99",
          "locked": true,
          "schema_version": 1,
          "solution": false
        },
        "id": "sBZ_8n4iAKfB"
      },
      "source": [
        "# The union of these two intervals is a list of two intervals. \n",
        "Interval(3, 5) | Interval(7, 10)"
      ],
      "execution_count": null,
      "outputs": []
    },
    {
      "cell_type": "code",
      "metadata": {
        "deletable": false,
        "editable": false,
        "nbgrader": {
          "checksum": "17c95ff972241233ae2fcfa8dc3d7440",
          "grade": false,
          "grade_id": "cell-9e06421c287657ab",
          "locked": true,
          "schema_version": 1,
          "solution": false
        },
        "id": "L_vostOlAKfC"
      },
      "source": [
        "# The union of these two intervals is a single interval.\n",
        "Interval(3, 5) | Interval(4, 10)"
      ],
      "execution_count": null,
      "outputs": []
    },
    {
      "cell_type": "markdown",
      "metadata": {
        "deletable": false,
        "editable": false,
        "nbgrader": {
          "checksum": "546ba6a3c5152a0f0a053edccecbabff",
          "grade": false,
          "grade_id": "cell-58ada93a77b01d4c",
          "locked": true,
          "schema_version": 1,
          "solution": false
        },
        "id": "zsoepe76AKfC"
      },
      "source": [
        "## Question 2: Interval Intersection\n",
        "\n",
        "The intersection of two intervals `i` and `j` consists either of a single interval, or `None`, if the two intervals have no intersection.  We leave it to you to implement it. "
      ]
    },
    {
      "cell_type": "code",
      "metadata": {
        "deletable": false,
        "nbgrader": {
          "checksum": "5239af3aa60ed7bd1638367f36872eab",
          "grade": false,
          "grade_id": "cell-953612d54e28fee3",
          "locked": false,
          "schema_version": 1,
          "solution": true
        },
        "id": "ne345vREAKfC"
      },
      "source": [
        "### Interval intersection\n",
        "\n",
        "def interval_and(self, other):\n",
        "    \"\"\"Intersection; returns an interval, or None.\"\"\"\n",
        "    ### YOUR CODE HERE\n",
        "\n",
        "Interval.__and__ = interval_and\n"
      ],
      "execution_count": null,
      "outputs": []
    },
    {
      "cell_type": "code",
      "metadata": {
        "deletable": false,
        "editable": false,
        "nbgrader": {
          "checksum": "cf7f167f31598f5499dcf182c01e2d6c",
          "grade": false,
          "grade_id": "cell-96cb6ec6ae839407",
          "locked": true,
          "schema_version": 1,
          "solution": false
        },
        "id": "fZrB3lNNAKfD"
      },
      "source": [
        "# These two intervals should have empty intersection\n",
        "assert Interval(3, 4) & Interval(5, 6) is None"
      ],
      "execution_count": null,
      "outputs": []
    },
    {
      "cell_type": "code",
      "metadata": {
        "deletable": false,
        "editable": false,
        "nbgrader": {
          "checksum": "9c384e40b84c45b95f93516f23a9935b",
          "grade": false,
          "grade_id": "cell-6dbf9d0b1cf8e0ed",
          "locked": true,
          "schema_version": 1,
          "solution": false
        },
        "id": "_cGeOGfCAKfD"
      },
      "source": [
        "# These two intervals should have non-empty intersection. \n",
        "assert Interval(3, 10) & Interval(6, 20) == Interval(6, 10)"
      ],
      "execution_count": null,
      "outputs": []
    },
    {
      "cell_type": "code",
      "metadata": {
        "deletable": false,
        "editable": false,
        "nbgrader": {
          "checksum": "9061ae9a19629fe22f0595ed086582c5",
          "grade": true,
          "grade_id": "cell-db21338f71ba52d9",
          "locked": true,
          "points": 5,
          "schema_version": 1,
          "solution": false
        },
        "id": "zzofhFqEAKfD"
      },
      "source": [
        "# 5 points: tests for intersection.\n",
        "\n",
        "assert Interval(3, 4) & Interval(5, 6) is None\n",
        "assert Interval(3, 10) & Interval(6, 20) == Interval(6, 10)\n",
        "assert Interval(-3, 10) & Interval(4, 5) == Interval(4, 5)\n"
      ],
      "execution_count": null,
      "outputs": []
    },
    {
      "cell_type": "markdown",
      "metadata": {
        "deletable": false,
        "editable": false,
        "nbgrader": {
          "checksum": "fe3eef1acb577515b238360cd31bf515",
          "grade": false,
          "grade_id": "cell-fc78a0cae37add28",
          "locked": true,
          "schema_version": 1,
          "solution": false
        },
        "id": "Fd7MAFViAKfD"
      },
      "source": [
        "## Question 3: Interval Membership\n",
        "\n",
        "Given an interval `i`, and a floating point number `x`, we can write a method `__contains__` of an interval, which checks if `x` belongs to the interval.  In this way, writing `x in i` will return `True` if `x` belongs to `i`, and `False` otherwise. For the purpose of this method, you can consider an interval closed, so that \n",
        "\n",
        "    3 in Interval(3, 5)\n",
        "\n",
        "returns `True`. "
      ]
    },
    {
      "cell_type": "code",
      "metadata": {
        "deletable": false,
        "nbgrader": {
          "checksum": "a3b6e2d9ce5b5ba6ebf631b5c9aadae7",
          "grade": false,
          "grade_id": "cell-b83aaea222aec61e",
          "locked": false,
          "schema_version": 1,
          "solution": true
        },
        "id": "rFLiV5AWAKfD"
      },
      "source": [
        "### Membership of a point in an interval\n",
        "\n",
        "def interval_contains(self, x):\n",
        "    ### YOUR CODE HERE\n",
        "\n",
        "Interval.__contains__ = interval_contains\n"
      ],
      "execution_count": null,
      "outputs": []
    },
    {
      "cell_type": "code",
      "metadata": {
        "deletable": false,
        "editable": false,
        "nbgrader": {
          "checksum": "218480571dd3ea112fcea6bae1102df8",
          "grade": false,
          "grade_id": "cell-181ccb4ec8eb4cad",
          "locked": true,
          "schema_version": 1,
          "solution": false
        },
        "id": "MLM-NFb9AKfD"
      },
      "source": [
        "assert 3 in Interval(3, 5)\n"
      ],
      "execution_count": null,
      "outputs": []
    },
    {
      "cell_type": "code",
      "metadata": {
        "deletable": false,
        "editable": false,
        "nbgrader": {
          "checksum": "774c5bab38b6d61ed78fe7c8d7fb5289",
          "grade": false,
          "grade_id": "cell-dcf03b4a241b591e",
          "locked": true,
          "schema_version": 1,
          "solution": false
        },
        "id": "0SEr2nypAKfE"
      },
      "source": [
        "assert not (1 in Interval(3, 5))\n"
      ],
      "execution_count": null,
      "outputs": []
    },
    {
      "cell_type": "code",
      "metadata": {
        "deletable": false,
        "editable": false,
        "nbgrader": {
          "checksum": "2090fd5114ee9b864fe7e4ca6f22fffa",
          "grade": true,
          "grade_id": "cell-57d53781fbb11ba6",
          "locked": true,
          "points": 5,
          "schema_version": 1,
          "solution": false
        },
        "id": "_i8JitimAKfE"
      },
      "source": [
        "# 5 points: tests for interval membership. \n",
        "\n",
        "assert 3 in Interval(3, 5)\n",
        "assert 2 not in Interval(3, 5)\n",
        "assert 8 not in Interval(3, 5)\n"
      ],
      "execution_count": null,
      "outputs": []
    },
    {
      "cell_type": "markdown",
      "metadata": {
        "deletable": false,
        "editable": false,
        "nbgrader": {
          "checksum": "350300f81829b59c94579f89a5d769e4",
          "grade": false,
          "grade_id": "cell-2c2405cd8a401756",
          "locked": true,
          "schema_version": 1,
          "solution": false
        },
        "id": "FAIfPV-kAKfE"
      },
      "source": [
        "## Question 4: Interval Difference\n",
        "\n",
        "For intervals `i`, `j`, the difference of `i - j` consists of 0, 1, or 2 non-overlapping intervals.  Again, we leave the implementation to you. "
      ]
    },
    {
      "cell_type": "code",
      "metadata": {
        "deletable": false,
        "nbgrader": {
          "checksum": "dc25ac58c9c5abfa3dfdcd3b694eaed4",
          "grade": false,
          "grade_id": "cell-de3ae45d5daf8ef7",
          "locked": false,
          "schema_version": 1,
          "solution": true
        },
        "id": "L4AmlWayAKfE"
      },
      "source": [
        "### Interval difference\n",
        "\n",
        "def interval_sub(self, other):\n",
        "    \"\"\"Subtracts from this interval the interval other, returning a possibly\n",
        "    empty list of intervals.\"\"\"\n",
        "    ### YOUR CODE HERE\n",
        "\n",
        "Interval.__sub__ = interval_sub\n"
      ],
      "execution_count": null,
      "outputs": []
    },
    {
      "cell_type": "code",
      "metadata": {
        "deletable": false,
        "editable": false,
        "nbgrader": {
          "checksum": "09b34d54d8783fa6ae16c25848ded591",
          "grade": false,
          "grade_id": "cell-3e36d19324fb905f",
          "locked": true,
          "schema_version": 1,
          "solution": false
        },
        "id": "mxCygvoqAKfE"
      },
      "source": [
        "assert Interval(4, 6) - Interval(5, 8) == [Interval(4, 5)]\n"
      ],
      "execution_count": null,
      "outputs": []
    },
    {
      "cell_type": "code",
      "metadata": {
        "deletable": false,
        "editable": false,
        "nbgrader": {
          "checksum": "ea64477a923829fa1a53d7a69620dc70",
          "grade": false,
          "grade_id": "cell-63846f65834700eb",
          "locked": true,
          "schema_version": 1,
          "solution": false
        },
        "id": "Awdyb2VwAKfE"
      },
      "source": [
        "assert Interval(0, 10) - Interval(4, 5) == [Interval(0, 4), Interval(5, 10)]\n"
      ],
      "execution_count": null,
      "outputs": []
    },
    {
      "cell_type": "code",
      "metadata": {
        "deletable": false,
        "editable": false,
        "nbgrader": {
          "checksum": "5dfc39da01f4e07576238a727c85e80b",
          "grade": true,
          "grade_id": "cell-598e416313798a19",
          "locked": true,
          "points": 5,
          "schema_version": 1,
          "solution": false
        },
        "id": "u4NSVg28AKfE"
      },
      "source": [
        "# 5 points: tests for interval difference. \n",
        "\n",
        "assert Interval(4, 6) - Interval(5, 8) == [Interval(4, 5)]\n",
        "assert Interval(0, 10) - Interval(4, 5) == [Interval(0, 4), Interval(5, 10)]\n",
        "assert Interval(0, 2) - Interval(-3, 6) == []\n",
        "assert Interval(0, 10) - Interval(0, 5) == [Interval(5, 10)]\n",
        "assert Interval(-4, -2) - Interval(-3, -2) == [Interval(-4, -3)]\n",
        "assert Interval(4, 5) - Interval(4, 5) == []\n"
      ],
      "execution_count": null,
      "outputs": []
    },
    {
      "cell_type": "markdown",
      "metadata": {
        "deletable": false,
        "editable": false,
        "nbgrader": {
          "checksum": "cbbe2400e329df9e0ff7e972db67d830",
          "grade": false,
          "grade_id": "cell-6b6cc821cb6c3ba4",
          "locked": true,
          "schema_version": 1,
          "solution": false
        },
        "id": "O7jBl2V_AKfF"
      },
      "source": [
        "Another way of testing this code is the following.  Let's generate many random intervals $I_1$ and $I_2$.  Denoting with $-$ the difference of intervals and with $\\cap$ their intersection, and denoting the length of an interval $I$ by $l(I)$, the following invariant must be true: \n",
        "\n",
        "$$\n",
        "l(I_1 - I_2) + l(I_2 - I_1) + 2l(I_1 \\cap I_2) = l(I_1) + l(I_2)\n",
        "$$\n",
        "\n",
        "To verify this, let us start by defining this total length function precisely.\n"
      ]
    },
    {
      "cell_type": "code",
      "metadata": {
        "deletable": false,
        "editable": false,
        "nbgrader": {
          "checksum": "3c86672c60be0b004c983c22bd5ba18b",
          "grade": false,
          "grade_id": "cell-3bd2e8e3158ba21f",
          "locked": true,
          "schema_version": 1,
          "solution": false
        },
        "id": "PZGdzyHfAKfF"
      },
      "source": [
        "import numpy as np\n",
        "\n",
        "def total_length(x):\n",
        "    if x is None:\n",
        "        return 0.\n",
        "    elif type(x) == list:\n",
        "        return np.sum([i.length for i in x])\n",
        "    else:\n",
        "        return x.length\n",
        "\n",
        "print(total_length(None))\n",
        "i1 = Interval(0, 1)\n",
        "i2 = Interval(3, 5)\n",
        "print(\"i1:\", total_length(i1))\n",
        "print(\"i2:\", total_length(i2))\n",
        "print(\"i1+i2:\", total_length([i1, i2]))\n"
      ],
      "execution_count": null,
      "outputs": []
    },
    {
      "cell_type": "code",
      "metadata": {
        "deletable": false,
        "editable": false,
        "nbgrader": {
          "checksum": "28b6c93b4d2ba46fb7e4f396ebcdfe55",
          "grade": true,
          "grade_id": "cell-9977cd54b99d4b0f",
          "locked": true,
          "points": 5,
          "schema_version": 1,
          "solution": false
        },
        "id": "bxr_qSRwAKfF"
      },
      "source": [
        "# 5 points: more tests for interval difference. \n",
        "\n",
        "import random\n",
        "\n",
        "def test_random():\n",
        "    i1 = Interval(random.random(), random.random())\n",
        "    i2 = Interval(random.random(), random.random())\n",
        "    d1 = i1 - i2\n",
        "    d2 = i2 - i1\n",
        "    inters = i1 & i2\n",
        "    assert (total_length(d1) + total_length(d2) + 2. * total_length(inters)\n",
        "        == i1.length + i2.length)\n",
        "\n",
        "for _ in range(100):\n",
        "    test_random()\n",
        "\n"
      ],
      "execution_count": null,
      "outputs": []
    },
    {
      "cell_type": "markdown",
      "metadata": {
        "deletable": false,
        "editable": false,
        "nbgrader": {
          "checksum": "a9ba991cc6b3a6613d0254af64442c34",
          "grade": false,
          "grade_id": "cell-ce5721812b3092c3",
          "locked": true,
          "schema_version": 1,
          "solution": false
        },
        "id": "Pv1O3f9fAKfF"
      },
      "source": [
        "### Rectangles\n",
        "\n",
        "Let us now develop a representation of a rectangle, in terms of intersection of intervals.  We will phrase the definition in such a way that it works in any number of dimensions, storing the intervals as a list, as opposed to (say) storing the three intervals separately for 3D."
      ]
    },
    {
      "cell_type": "code",
      "metadata": {
        "deletable": false,
        "editable": false,
        "nbgrader": {
          "checksum": "0c9851f474323dfa929ed07c61942a6d",
          "grade": false,
          "grade_id": "cell-a18d7f4149cdfa69",
          "locked": true,
          "schema_version": 1,
          "solution": false
        },
        "id": "3hfuqswKAKfF"
      },
      "source": [
        "import string\n",
        "\n",
        "class Rectangle(object):\n",
        "\n",
        "    def __init__(self, *intervals, name=None):\n",
        "        \"\"\"A rectangle is initialized with a list, whose elements are\n",
        "        either Interval, or a pair of numbers.\n",
        "        It would be perhaps cleaner to accept only list of intervals,\n",
        "        but specifying rectangles via a list of pairs, with each pair\n",
        "        defining an interval, makes for a concise shorthand that will be\n",
        "        useful in tests.\n",
        "        Every rectangle has a name, used to depict it.\n",
        "        If no name is provided, we invent a random one.\"\"\"\n",
        "        self.intervals = []\n",
        "        for i in intervals:\n",
        "            self.intervals.append(i if type(i) == Interval else Interval(*i))\n",
        "        # I want each rectangle to have a name.\n",
        "        if name is None:\n",
        "            self.name = ''.join(\n",
        "                random.choices(string.ascii_letters + string.digits, k=8))\n",
        "        else:\n",
        "            self.name = name\n",
        "\n",
        "    def __repr__(self):\n",
        "        \"\"\"Function used to print a rectangle.\"\"\"\n",
        "        s = \"Rectangle \" + self.name + \": \"\n",
        "        s += repr([(i.x0, i.x1) for i in self.intervals])\n",
        "        return s\n",
        "\n",
        "    def clone(self, name=None):\n",
        "        \"\"\"Returns a clone of itself, with a given name.\"\"\"\n",
        "        name = name or self.name + \"'\"\n",
        "        return Rectangle(*self.intervals, name=name)\n",
        "\n",
        "    def __len__(self):\n",
        "        \"\"\"Returns the number of dimensions of the rectangle\n",
        "        (not the length of the edges).  This is used with\n",
        "        __getitem__ below, to get the interval along a dimension.\"\"\"\n",
        "        return len(self.intervals)\n",
        "\n",
        "    def __getitem__(self, n):\n",
        "        \"\"\"Returns the interval along the n-th dimension\"\"\"\n",
        "        return self.intervals[n]\n",
        "\n",
        "    def __setitem__(self, n, i):\n",
        "        \"\"\"Sets the interval along the n-th dimension to be i\"\"\"\n",
        "        self.intervals[n] = i\n",
        "\n",
        "    @property\n",
        "    def ndims(self):\n",
        "        \"\"\"Returns the number of dimensions of the interval.\"\"\"\n",
        "        return len(self.intervals)\n",
        "\n",
        "    @property\n",
        "    def volume(self):\n",
        "        return np.prod([i.length for i in self.intervals])\n",
        "\n",
        "\n"
      ],
      "execution_count": null,
      "outputs": []
    },
    {
      "cell_type": "code",
      "metadata": {
        "deletable": false,
        "editable": false,
        "nbgrader": {
          "checksum": "136aee812cac06e7d1a6776961531bb5",
          "grade": false,
          "grade_id": "cell-db11b31f22cda85f",
          "locked": true,
          "schema_version": 1,
          "solution": false
        },
        "id": "crikJ0ZsAKfG"
      },
      "source": [
        "print(Rectangle(Interval(3., 4.), Interval(1., 4.)))\n",
        "r = Rectangle(Interval(1., 2.), (5., 6.), name=\"my_rectangle\")\n",
        "print(r)\n",
        "print(r.clone())\n"
      ],
      "execution_count": null,
      "outputs": []
    },
    {
      "cell_type": "markdown",
      "metadata": {
        "deletable": false,
        "editable": false,
        "nbgrader": {
          "checksum": "6d1441ad698661c68109ff6ad2cb0e75",
          "grade": false,
          "grade_id": "cell-57edfd71b169ac1e",
          "locked": true,
          "schema_version": 1,
          "solution": false
        },
        "id": "lb6aaNQ3AKfG"
      },
      "source": [
        "### Drawing rectangles\n",
        "\n",
        "Before we go much further, it is useful to be able to draw rectangles.  Rectangles can have any number of dimensions, and we will write here code to draw them on 2D, projecting away all other dimensions. "
      ]
    },
    {
      "cell_type": "code",
      "metadata": {
        "deletable": false,
        "editable": false,
        "nbgrader": {
          "checksum": "08de707af38355e61a30467fe357bff9",
          "grade": false,
          "grade_id": "cell-ccb7e82fa835fccd",
          "locked": true,
          "schema_version": 1,
          "solution": false
        },
        "id": "zjeKfxC4AKfG"
      },
      "source": [
        "import matplotlib\n",
        "import matplotlib.pyplot as plt\n",
        "import matplotlib.path as mpath\n",
        "import matplotlib.patches as mpatches\n",
        "from matplotlib.collections import PatchCollection\n",
        "matplotlib.rcParams['figure.figsize'] = (6.0, 4.0)\n",
        "\n",
        "def draw_rectangles(*rectangles, prefix=\"\"):\n",
        "    \"\"\"Here, rectangles is a rectangle iterator; it could be a list,\n",
        "    for instance.\"\"\"\n",
        "    fig, ax = plt.subplots()\n",
        "    patches = []\n",
        "    # We keep track of the limits.\n",
        "    lo_x, hi_x = [], []\n",
        "    lo_y, hi_y = [], []\n",
        "    for r in rectangles:\n",
        "        x0, x1 = r[0].endpoints()\n",
        "        y0, y1 = r[1].endpoints()\n",
        "        lo_x.append(x0)\n",
        "        hi_x.append(x1)\n",
        "        lo_y.append(y0)\n",
        "        hi_y.append(y1)\n",
        "        # Prepares the \"patch\" for the rectangle, see\n",
        "        # https://matplotlib.org/api/_as_gen/matplotlib.patches.Rectangle.html\n",
        "        p = mpatches.Rectangle((x0, y0), x1 - x0, y1 - y0)\n",
        "        y = (y0 + y1) / 2. - 0.0\n",
        "        x = (x0 + x1) / 2. - 0.0\n",
        "        plt.text(x, y, prefix + r.name, ha=\"center\", family='sans-serif', size=12)\n",
        "        patches.append(p)\n",
        "    # Draws the patches.\n",
        "    colors = np.linspace(0, 1, len(patches) + 1)\n",
        "    collection = PatchCollection(patches, cmap=plt.cm.hsv, alpha=0.3)\n",
        "    collection.set_array(np.array(colors))\n",
        "    ax.add_collection(collection)\n",
        "    # Computes nice ax limits. Note that I need to take care of the case\n",
        "    # in which the rectangle lists are empty.\n",
        "    lox, hix = (min(lo_x), max(hi_x)) if len(lo_x) > 0 else (0., 1.)\n",
        "    loy, hiy = (min(lo_y), max(hi_y)) if len(lo_y) > 0 else (0., 1.)\n",
        "    sx, sy = hix - lox, hiy - loy\n",
        "    lox -= 0.2 * sx\n",
        "    hix += 0.2 * sx\n",
        "    loy -= 0.2 * sy\n",
        "    hiy += 0.2 * sy\n",
        "    ax.set_xlim(lox, hix)\n",
        "    ax.set_ylim(loy, hiy)\n",
        "    plt.gca().set_aspect('equal', adjustable='box')\n",
        "    plt.grid()\n",
        "    plt.show()\n",
        "\n"
      ],
      "execution_count": null,
      "outputs": []
    },
    {
      "cell_type": "code",
      "metadata": {
        "deletable": false,
        "editable": false,
        "nbgrader": {
          "checksum": "a0a7b248d63a5064678d87fb82f87689",
          "grade": false,
          "grade_id": "cell-ffa8982ab0c99e3",
          "locked": true,
          "schema_version": 1,
          "solution": false
        },
        "id": "psLdcobqAKfG"
      },
      "source": [
        "r1 = Rectangle((3., 5.), (1., 4.), name=\"A\")\n",
        "r2 = Rectangle((1., 4.), (2., 6.), name=\"B\")\n",
        "r3 = Rectangle((2., 3.5), (1.5, 5.), name=\"C\")\n",
        "draw_rectangles(r1, r2, r3)\n"
      ],
      "execution_count": null,
      "outputs": []
    },
    {
      "cell_type": "markdown",
      "metadata": {
        "deletable": false,
        "editable": false,
        "nbgrader": {
          "checksum": "d3091d04ca2436c7553cb49a15f36f10",
          "grade": false,
          "grade_id": "cell-749aca0419acd2c4",
          "locked": true,
          "schema_version": 1,
          "solution": false
        },
        "id": "SvfuKvk-AKfG"
      },
      "source": [
        "There are three main operations on rectangles: intersection, union, and difference. \n",
        "Among them, only intersection is guaranteed to return another rectangle.  In general, the union of two rectangles is ... two rectangles, and the difference between two rectangles is ... a whole lot of rectangles, as we will see.\n",
        "\n",
        "We let you implement rectangle equality, intersection, and membership of a point in a rectangle.  \n",
        "\n",
        "**Equality:** Two rectangles $R$ and $T$ are equal if they have the same number of dimensions, and if for every dimension $k$, the interval of $R$ along $k$ is equal to the interval of $T$ along $k$. For example, \n",
        "\n",
        "    Rectangle((2, 3), (4, 5)) == Rectangle((2, 3), (4, 5))\n",
        "    Rectangle((2, 3), (4, 5)) != Rectangle((4, 5), (2, 3))\n",
        "    Rectangle((2, 3), (4, 5)) != Rectangle((2, 3), (4, 5), (6, 7))\n",
        "    \n",
        "**Intersection:** The intersection is defined only if the rectangles have the same number of dimensions.  The intersection is computed by taking the intersection of the intervals of the two rectangles for corresponding dimensions. \n",
        "\n",
        "**Membership:** For an $n$-dimensional point $(x_0, x_1, \\ldots, x_n)$ and an $n$-dimensional rectangle $R$, we have $(x_0, x_1, \\ldots, x_n) \\in R$ if the point is in the region $R$.  For instance: \n",
        "\n",
        "        (2.5, 4.5) in Rectangle((2, 3), (4, 5))\n",
        "        (2, 3) in Rectangle((2, 3), (4, 5))\n",
        "        (1, 3) not in Rectangle((2, 3), (4, 5))\n",
        "        \n",
        "If the point and the rectangle have different dimensions, you can raise a `TypeError`. \n"
      ]
    },
    {
      "cell_type": "markdown",
      "metadata": {
        "deletable": false,
        "editable": false,
        "nbgrader": {
          "checksum": "c3e6fd332edd92a8c91475334beda7ca",
          "grade": false,
          "grade_id": "cell-eb86f5ba2681eae1",
          "locked": true,
          "schema_version": 1,
          "solution": false
        },
        "id": "kPkXzzveAKfG"
      },
      "source": [
        "## Question 5: Rectangle Equality"
      ]
    },
    {
      "cell_type": "code",
      "metadata": {
        "deletable": false,
        "nbgrader": {
          "checksum": "5838285e534cc7d1534255de5cbd9882",
          "grade": false,
          "grade_id": "cell-4fccabc2c518e151",
          "locked": false,
          "schema_version": 1,
          "solution": true
        },
        "id": "PRs870-zAKfH"
      },
      "source": [
        "def rectangle_eq(self, other):\n",
        "    ### YOUR CODE HERE\n",
        "\n",
        "Rectangle.__eq__ = rectangle_eq"
      ],
      "execution_count": null,
      "outputs": []
    },
    {
      "cell_type": "code",
      "metadata": {
        "deletable": false,
        "editable": false,
        "nbgrader": {
          "checksum": "1244b240e53510234ecf2ad38c5958f2",
          "grade": true,
          "grade_id": "cell-406f0ce4ad992f2a",
          "locked": true,
          "points": 5,
          "schema_version": 1,
          "solution": false
        },
        "id": "qzn-ud9wAKfH"
      },
      "source": [
        "# 5 points: tests for rectangle equality. \n",
        "\n",
        "assert Rectangle((2, 3), (4, 5)) == Rectangle((2, 3), (4, 5))\n",
        "assert Rectangle((2, 3), (4, 5)) != Rectangle((4, 5), (2, 3))\n",
        "assert Rectangle((2, 3), (4, 5)) != Rectangle((2, 3), (4, 5), (6, 7))\n"
      ],
      "execution_count": null,
      "outputs": []
    },
    {
      "cell_type": "markdown",
      "metadata": {
        "deletable": false,
        "editable": false,
        "nbgrader": {
          "checksum": "a1f79dc90f167fe4f543641a230a89ad",
          "grade": false,
          "grade_id": "cell-298d5b66e9043754",
          "locked": true,
          "schema_version": 1,
          "solution": false
        },
        "id": "JVv9NfUWAKfH"
      },
      "source": [
        "## Question 6: Rectangle Intersection "
      ]
    },
    {
      "cell_type": "code",
      "metadata": {
        "deletable": false,
        "nbgrader": {
          "checksum": "3a8a086a784e5a3980e8e5ee43f029cc",
          "grade": false,
          "grade_id": "cell-fa07a7692364ccb6",
          "locked": false,
          "schema_version": 1,
          "solution": true
        },
        "id": "xRJdV_xvAKfH"
      },
      "source": [
        "### Rectangle intersection\n",
        "\n",
        "def rectangle_and(self, other):\n",
        "    if self.ndims != other.ndims:\n",
        "        raise TypeError(\"The rectangles have different dimensions: {} and {}\".format(\n",
        "            self.ndims, other.ndims\n",
        "        ))\n",
        "    # Challenge: can you write this as a one-liner shorter than this comment is?\n",
        "    # There are no bonus points, note.  Just for the fun. \n",
        "    ### YOUR CODE HERE\n",
        "\n",
        "Rectangle.__and__ = rectangle_and"
      ],
      "execution_count": null,
      "outputs": []
    },
    {
      "cell_type": "code",
      "metadata": {
        "deletable": false,
        "editable": false,
        "nbgrader": {
          "checksum": "3ac61ae3f70cf245810e8830645280a0",
          "grade": false,
          "grade_id": "cell-d2b88bf182505acd",
          "locked": true,
          "schema_version": 1,
          "solution": false
        },
        "id": "P7kUWfpIAKfH"
      },
      "source": [
        "# Let's see how your rectangle intersection works. \n",
        "r1 = Rectangle((2, 3), (0, 4))\n",
        "r2 = Rectangle((0, 4), (1, 3))\n",
        "draw_rectangles(r1, r2)\n",
        "draw_rectangles(r1 & r2)\n"
      ],
      "execution_count": null,
      "outputs": []
    },
    {
      "cell_type": "code",
      "metadata": {
        "deletable": false,
        "editable": false,
        "nbgrader": {
          "checksum": "8d638d77bab59709f0111943dd6f5577",
          "grade": true,
          "grade_id": "cell-77bb40b6ad648216",
          "locked": true,
          "points": 10,
          "schema_version": 1,
          "solution": false
        },
        "id": "f6KM1xKuAKfH"
      },
      "source": [
        "# 10 points: tests for rectangle intersection. \n",
        "\n",
        "r1 = Rectangle((2, 3), (0, 4))\n",
        "r2 = Rectangle((0, 4), (1, 3))\n",
        "assert r1 & r2 == Rectangle((2, 3), (1, 3))\n",
        "\n",
        "r1 = Rectangle((2, 3), (0, 4))\n",
        "r2 = Rectangle((0, 4), (1, 5))\n",
        "assert r1 & r2 == Rectangle((2, 3), (1, 4))\n",
        "\n",
        "r1 = Rectangle((-1, 5), (0, 6))\n",
        "r2 = Rectangle((0, 4), (-1, 3))\n",
        "assert r1 & r2 == Rectangle((0, 4), (0, 3))\n",
        "\n",
        "r1 = Rectangle((2, 6), (0, 4))\n",
        "r2 = Rectangle((0, 6), (0, 3))\n",
        "assert r1 & r2 == Rectangle((2, 6), (0, 3))\n"
      ],
      "execution_count": null,
      "outputs": []
    },
    {
      "cell_type": "markdown",
      "metadata": {
        "deletable": false,
        "editable": false,
        "nbgrader": {
          "checksum": "843b29c8d2e46888497b3520f08a699c",
          "grade": false,
          "grade_id": "cell-7f806e6703537e69",
          "locked": true,
          "schema_version": 1,
          "solution": false
        },
        "id": "PfxyCuh6AKfH"
      },
      "source": [
        "## Question 7: Point Membership in a Rectangle"
      ]
    },
    {
      "cell_type": "code",
      "metadata": {
        "deletable": false,
        "nbgrader": {
          "checksum": "44870d9c45da16f2a6285e6322f78368",
          "grade": false,
          "grade_id": "cell-c2d79c65ffdd9eed",
          "locked": false,
          "schema_version": 1,
          "solution": true
        },
        "id": "_bqmJfNoAKfH"
      },
      "source": [
        "### Membership of a point in a rectangle.\n",
        "\n",
        "def rectangle_contains(self, p):\n",
        "    # The point is a tuple with one element per dimension of the rectangle.\n",
        "    if len(p) != self.ndims:\n",
        "        raise TypeError()\n",
        "    ### YOUR CODE HERE\n",
        "\n",
        "Rectangle.__contains__ = rectangle_contains\n"
      ],
      "execution_count": null,
      "outputs": []
    },
    {
      "cell_type": "code",
      "metadata": {
        "deletable": false,
        "editable": false,
        "nbgrader": {
          "checksum": "de6bf1092c24dd216fea104cb75e153a",
          "grade": true,
          "grade_id": "cell-c0957ab98487219a",
          "locked": true,
          "points": 5,
          "schema_version": 1,
          "solution": false
        },
        "id": "O2lHC2LHAKfI"
      },
      "source": [
        "# 5 points: tests for membership. \n",
        "\n",
        "assert (2, 3) in Rectangle((0, 4), (1, 5))\n",
        "assert (0, 4) in Rectangle((0, 4), (4, 5))\n",
        "assert (4, 5) in Rectangle((0, 4), (4, 5))\n",
        "assert (0, 0, 0) not in Rectangle((3, 4), (0, 3), (0, 8))\n"
      ],
      "execution_count": null,
      "outputs": []
    },
    {
      "cell_type": "markdown",
      "metadata": {
        "deletable": false,
        "editable": false,
        "nbgrader": {
          "checksum": "fd86b7b979c7e8b4f7155d2c42600ef3",
          "grade": false,
          "grade_id": "cell-49744fc5e0e117e1",
          "locked": true,
          "schema_version": 1,
          "solution": false
        },
        "id": "PpILbevqAKfI"
      },
      "source": [
        "## Regions\n",
        "\n",
        "The problem with rectangles is that they are not closed under union: the union of two rectangles is not necessarily a rectangle.  \n",
        "\n",
        "We want a representation for objects in space that is closed under union, intersection, and difference. \n",
        "To this end, we introduce _regions_, which are unions of rectangles. \n"
      ]
    },
    {
      "cell_type": "code",
      "metadata": {
        "deletable": false,
        "editable": false,
        "nbgrader": {
          "checksum": "140ffd093ca9ee9be26e10fb0c78a698",
          "grade": false,
          "grade_id": "cell-2163e5788c2bc03e",
          "locked": true,
          "schema_version": 1,
          "solution": false
        },
        "id": "fHaaTUICAKfI"
      },
      "source": [
        "class Region(object):\n",
        "\n",
        "    def __init__(self, *rectangles, name=None):\n",
        "        \"\"\"A region is initialized via a set of rectangles.\"\"\"\n",
        "        self.rectangles = list(rectangles)\n",
        "        if name is None:\n",
        "            self.name = ''.join(\n",
        "                random.choices(string.ascii_letters + string.digits, k=8))\n",
        "        else:\n",
        "            self.name = name\n",
        "\n",
        "    def draw(self):\n",
        "        draw_rectangles(*self.rectangles, prefix=self.name + \":\")\n",
        "\n",
        "    def __or__(self, other):\n",
        "        \"\"\"Union of regions.\"\"\"\n",
        "        return Region(*(self.rectangles + other.rectangles), name=self.name + \"_union_\" + other.name)\n",
        "\n",
        "\n"
      ],
      "execution_count": null,
      "outputs": []
    },
    {
      "cell_type": "code",
      "metadata": {
        "deletable": false,
        "editable": false,
        "nbgrader": {
          "checksum": "d85276fc2df19107d57b9685a4c401dc",
          "grade": false,
          "grade_id": "cell-b03f6cb97c2ed511",
          "locked": true,
          "schema_version": 1,
          "solution": false
        },
        "id": "MqCGFOXxAKfI"
      },
      "source": [
        "# Let us try.\n",
        "r = Rectangle((0., 4.), (0., 4.), name=\"R\")\n",
        "t = Rectangle((1.5, 3.5), (1., 5.), name=\"T\")\n",
        "\n",
        "reg1 = Region(r, name=\"Reg1\")\n",
        "reg2 = Region(t, name=\"Reg2\")\n",
        "\n",
        "(reg1 | reg2).draw()\n"
      ],
      "execution_count": null,
      "outputs": []
    },
    {
      "cell_type": "markdown",
      "metadata": {
        "deletable": false,
        "editable": false,
        "nbgrader": {
          "checksum": "41dc905a4530a143dae27406304a8ade",
          "grade": false,
          "grade_id": "cell-3cbc358ec9d72556",
          "locked": true,
          "schema_version": 1,
          "solution": false
        },
        "id": "MuDd1GIQAKfI"
      },
      "source": [
        "## Question 8: Membership of a Point in a Region\n",
        "\n",
        "A point belongs into a region if it belongs into some rectangle of the region.  We let you implement this. "
      ]
    },
    {
      "cell_type": "code",
      "metadata": {
        "deletable": false,
        "nbgrader": {
          "checksum": "6ecd823ee44a59dad5d1f1589e2ca418",
          "grade": false,
          "grade_id": "cell-60097b9bf0f62523",
          "locked": false,
          "schema_version": 1,
          "solution": true
        },
        "id": "Ot3wVDWIAKfI"
      },
      "source": [
        "### Membership of a point in a region\n",
        "\n",
        "def region_contains(self, p):\n",
        "    ### YOUR CODE HERE\n",
        "\n",
        "Region.__contains__ = region_contains\n"
      ],
      "execution_count": null,
      "outputs": []
    },
    {
      "cell_type": "code",
      "metadata": {
        "deletable": false,
        "editable": false,
        "nbgrader": {
          "checksum": "22f2ccefa9fb3b94dab356232d848f6c",
          "grade": true,
          "grade_id": "cell-f97c771e374c7b18",
          "locked": true,
          "points": 5,
          "schema_version": 1,
          "solution": false
        },
        "id": "OT26kdqlAKfI"
      },
      "source": [
        "assert (2, 1) in Region(Rectangle((0, 2), (0, 3)), \n",
        "                        Rectangle((4, 6), (5, 8)))\n",
        "assert (2, 1) not in Region(Rectangle((0, 1), (0, 3)), \n",
        "                            Rectangle((4, 6), (5, 8)))\n"
      ],
      "execution_count": null,
      "outputs": []
    },
    {
      "cell_type": "markdown",
      "metadata": {
        "deletable": false,
        "editable": false,
        "nbgrader": {
          "checksum": "6aca86ed954ee0db11dcc624e1fd9faf",
          "grade": false,
          "grade_id": "cell-574b41f748331348",
          "locked": true,
          "schema_version": 1,
          "solution": false
        },
        "id": "L3y_YLu6AKfI"
      },
      "source": [
        "## Monte-Carlo Methods\n",
        "\n",
        "There are some obvious things we might want to do with a region, namely, compute its volume, compute whether two regions are equal, and compute the center of mass of a region. \n",
        "\n",
        "There are two approaches to this.\n",
        "\n",
        "One is to develop a precise approach.  The problem in computing the volume of a region is that the rectangles in it might overlap.  To solve this, one can use our method for computing disjoing differences to put regions in _normal form_, consisting of non-overlapping rectangles. \n",
        "The idea is to keep a region as a list of non-overlapping rectangles.  When we add a rectangle $S$ from a region consisting of non-overlapping rectangles $R_1, \\ldots, R_n$, we first subtract from $S$ each of $R_1, \\ldots, R_n$ in turn, getting as result a bunch of subrectangles of $S$; we can then add these subrectangles to the region. \n",
        "\n",
        "But this sounds like work! \n",
        "\n",
        "An alternative is to develop a _randomized_ approach."
      ]
    },
    {
      "cell_type": "markdown",
      "metadata": {
        "deletable": false,
        "editable": false,
        "nbgrader": {
          "checksum": "d85ae1049bcddbc743c04daff32e43e7",
          "grade": false,
          "grade_id": "cell-41f60439a39598d7",
          "locked": true,
          "schema_version": 1,
          "solution": false
        },
        "id": "6JFONIjAAKfJ"
      },
      "source": [
        "### A Monte-Carlo algorithm for region area\n",
        "\n",
        "We can develop a randomized approach to measuring the area of a region as follows.  First, we compute a _bounding box_ around it, which is simply the smallest rectangle guaranteed to contain the region.  We simply take, for each coordinate, the min and max values of that coordinate of any rectangle in the region. \n",
        "\n",
        "Once we have a bounding box $B$ for a region $\\cal R$, we simply pick at random a lot of points $x \\in B$, using our Python `random` function.   We can use our test $x \\in \\cal R$, written in code as `x in my_region`, to check whether a point $x$ belongs to region $\\cal R$.  Let $N$ be the number of points we generate, and $M$ be the number of points that end up in $\\cal R$.  The volume $V_{\\cal R}$ of the region $\\cal R$ can be simply written as: \n",
        "\n",
        "$$\n",
        "V_{\\cal R} = \\frac{M}{N} \\cdot V_B \\; ,\n",
        "$$\n",
        "\n",
        "where $V_B$ is the volume of the bounding box.  We will lead you to implement this code in steps. \n",
        "\n",
        "This method is an example of a [Monte Carlo method](https://en.wikipedia.org/wiki/Monte_Carlo_method), a method which gives an answer to a question via repeated randomized experiments, rather than via mathematical computation, which may be complex or unfeasible. "
      ]
    },
    {
      "cell_type": "markdown",
      "metadata": {
        "deletable": false,
        "editable": false,
        "nbgrader": {
          "checksum": "1ae7cc0d3a91e30cd76709f0f8f23633",
          "grade": false,
          "grade_id": "cell-a644cec94d4ca4ab",
          "locked": true,
          "schema_version": 1,
          "solution": false
        },
        "id": "-WJH0pdzAKfJ"
      },
      "source": [
        "## Question 9: Compute Bounding Boxes\n",
        "\n",
        "First, write a method `bounding_box` of a region, which returns the bounding box as a rectangle.  The bounding box is the smallest rectangle that contains the region. "
      ]
    },
    {
      "cell_type": "code",
      "metadata": {
        "deletable": false,
        "nbgrader": {
          "checksum": "17caca57405cb6c16913031e5ca4513b",
          "grade": false,
          "grade_id": "cell-acf6a6ab7c9bf076",
          "locked": false,
          "schema_version": 1,
          "solution": true
        },
        "id": "EEyp_VpZAKfJ"
      },
      "source": [
        "### Compute the bounding box of a region\n",
        "\n",
        "def region_bounding_box(self):\n",
        "    \"\"\"Returns the bounding box of the region, as a rectangle.\n",
        "    This returns None if the region does not contain any rectangle.\"\"\"\n",
        "    if len(self.rectangles) == 0:\n",
        "        return None\n",
        "    ### YOUR CODE HERE\n",
        "\n",
        "Region.bounding_box = property(region_bounding_box)\n"
      ],
      "execution_count": null,
      "outputs": []
    },
    {
      "cell_type": "code",
      "metadata": {
        "deletable": false,
        "editable": false,
        "nbgrader": {
          "checksum": "3892a21218c0c61f5184aa8811ccaa1c",
          "grade": true,
          "grade_id": "cell-b020bfdb88dd3b03",
          "locked": true,
          "points": 10,
          "schema_version": 1,
          "solution": false
        },
        "id": "IqQO9S9MAKfJ"
      },
      "source": [
        "# 10 points: tests for bounding boxes\n",
        "\n",
        "reg = Region(Rectangle((0, 2), (1, 3)), Rectangle((4, 6), (5, 8)))\n",
        "assert reg.bounding_box == Rectangle((0, 6), (1, 8))\n",
        "\n",
        "reg = Region(\n",
        "    Rectangle((0, 5), (4, 5), (1, 9)),\n",
        "    Rectangle((4, 20), (-2, 3), (4, 21)),\n",
        "    Rectangle((7, 99), (3, 7), (2, 3))\n",
        ")\n",
        "assert reg.bounding_box == Rectangle((0, 99), (-2, 7), (1, 21))\n"
      ],
      "execution_count": null,
      "outputs": []
    },
    {
      "cell_type": "markdown",
      "metadata": {
        "deletable": false,
        "editable": false,
        "nbgrader": {
          "checksum": "4b47751e7fbca7517d201e819f75a9d5",
          "grade": false,
          "grade_id": "cell-298e470c8fffc98d",
          "locked": true,
          "schema_version": 1,
          "solution": false
        },
        "id": "-ppDcSijAKfJ"
      },
      "source": [
        "### Select random points from a rectangle\n",
        "\n",
        "Next, we write a Rectangle method `random_point`, which returns a point of a rectangle chosen uniformly at random each time it is called.  To this end, it is easier first to write the corresponding method for an interval.  [In Python](https://docs.python.org/3/library/random.html#real-valued-distributions), \n",
        "\n",
        "    random.random()\n",
        "\n",
        "returns a random value uniformly distributed between 0 and 1, and \n",
        "\n",
        "    random.uniform(a, b)\n",
        "\n",
        "returns a random value uniformly distributed between a and b.  We can use this to define the interval method: "
      ]
    },
    {
      "cell_type": "code",
      "metadata": {
        "deletable": false,
        "editable": false,
        "nbgrader": {
          "checksum": "615662773e574c3c1de5f3c64507bf1b",
          "grade": false,
          "grade_id": "cell-53032129e5b5789f",
          "locked": true,
          "schema_version": 1,
          "solution": false
        },
        "id": "9UY-kMy_AKfJ"
      },
      "source": [
        "import random\n",
        "\n",
        "def interval_random_point(self):\n",
        "    return random.uniform(self.x0, self.x1)\n",
        "\n",
        "Interval.random_point = interval_random_point\n",
        "\n",
        "# Or if we wanted to be concise, we could just have written:\n",
        "\n",
        "Interval.random_point = lambda self : random.uniform(self.x0, self.x1)\n"
      ],
      "execution_count": null,
      "outputs": []
    },
    {
      "cell_type": "markdown",
      "metadata": {
        "deletable": false,
        "editable": false,
        "nbgrader": {
          "checksum": "c07de2a665246bfcd4a39a8fb46d0bdb",
          "grade": false,
          "grade_id": "cell-396b3eefeeac0efa",
          "locked": true,
          "schema_version": 1,
          "solution": false
        },
        "id": "GYmPnaI1AKfJ"
      },
      "source": [
        "## Question 10: Random Point in a Rectangle\n",
        "\n",
        "To select a random point from a rectangle, we just need to return a tuple formed by choosing a random point from each of the rectangle's intervals.  We leave this to you.  Remember that the intervals of a rectangle `self` are in `self.intervals`. "
      ]
    },
    {
      "cell_type": "code",
      "metadata": {
        "deletable": false,
        "nbgrader": {
          "checksum": "2c483ebdf0ecd4b75c053bc612553bd1",
          "grade": false,
          "grade_id": "cell-dac40cde5454dbaa",
          "locked": false,
          "schema_version": 1,
          "solution": true
        },
        "id": "GoY-zp8XAKfJ"
      },
      "source": [
        "### Random point of a rectangle\n",
        "\n",
        "def rectangle_random_point(self):\n",
        "    ### YOUR CODE HERE\n",
        "\n",
        "Rectangle.random_point = rectangle_random_point\n"
      ],
      "execution_count": null,
      "outputs": []
    },
    {
      "cell_type": "code",
      "metadata": {
        "deletable": false,
        "editable": false,
        "nbgrader": {
          "checksum": "d48dc5fe2adeaf88d6f89261fd2d0ac0",
          "grade": true,
          "grade_id": "cell-1dcc7f82d9e9ab1",
          "locked": true,
          "points": 3,
          "schema_version": 1,
          "solution": false
        },
        "id": "152txfglAKfK"
      },
      "source": [
        "# 3 points: random point of a rectangle.\n",
        "\n",
        "r = Rectangle((0, 2), (1, 3))\n",
        "\n",
        "for i in range(5):\n",
        "    p = r.random_point()\n",
        "    assert isinstance(p, tuple)\n",
        "    assert len(p) == 2\n",
        "    assert p in r\n",
        "    print(p)\n"
      ],
      "execution_count": null,
      "outputs": []
    },
    {
      "cell_type": "code",
      "metadata": {
        "deletable": false,
        "editable": false,
        "nbgrader": {
          "checksum": "8fc579cd4eff921bca1f3decbe39fea1",
          "grade": true,
          "grade_id": "cell-ec40cc89797d191d",
          "locked": true,
          "points": 3,
          "schema_version": 1,
          "solution": false
        },
        "id": "G8h1thAdAKfK"
      },
      "source": [
        "# 3 points: random point of a rectangle. \n",
        "\n",
        "import numpy as np\n",
        "\n",
        "r = Rectangle((1, 2), (1, 6))\n",
        "xs, ys = [], []\n",
        "for _ in range(10000):\n",
        "    p = r.random_point()\n",
        "    assert p in r\n",
        "    xs.append(p[0])\n",
        "    ys.append(p[1])\n",
        "assert np.std(xs) * 4.9 < np.std(ys) < np.std(xs) * 5.1"
      ],
      "execution_count": null,
      "outputs": []
    },
    {
      "cell_type": "markdown",
      "metadata": {
        "deletable": false,
        "editable": false,
        "nbgrader": {
          "checksum": "8551dbdc26a0e38277cd4888fb63bb64",
          "grade": false,
          "grade_id": "cell-43b744c2ad430e2f",
          "locked": true,
          "schema_version": 1,
          "solution": false
        },
        "id": "vARD8NURAKfK"
      },
      "source": [
        "## Question 11: Volume via Monte Carlo\n",
        "\n",
        "We are now ready to compute the volume of a region $\\cal R$ using Monte Carlo methods.  The form of your code is: \n",
        "\n",
        "* Compute the bounding box $B$\n",
        "* Pick $N$ points at random from $B$, and count the number $M$ of them that fall in $\\cal R$. \n",
        "* Return $B.volume \\cdot (M/N)$. "
      ]
    },
    {
      "cell_type": "code",
      "metadata": {
        "deletable": false,
        "nbgrader": {
          "checksum": "4df013b9bc118d853181d7cf08605a06",
          "grade": false,
          "grade_id": "cell-8d69cfb35f4d763",
          "locked": false,
          "schema_version": 1,
          "solution": true
        },
        "id": "3LXlVeu9AKfK"
      },
      "source": [
        "### Monte carlo Volume\n",
        "\n",
        "def region_montecarlo_volume(self, n=1000):\n",
        "    \"\"\"Computes the volume of a region, using Monte Carlo approximation\n",
        "    with n samples.\"\"\"\n",
        "    # The solution, written without any particular trick, takes 7 lines.\n",
        "    # If you write a much longer solution, you are on the wrong track.\n",
        "    ### YOUR CODE HERE\n",
        "\n",
        "Region.montecarlo_volume = region_montecarlo_volume\n"
      ],
      "execution_count": null,
      "outputs": []
    },
    {
      "cell_type": "markdown",
      "metadata": {
        "deletable": false,
        "editable": false,
        "nbgrader": {
          "checksum": "f5fc15f923e7eae8f87742c4e37291da",
          "grade": false,
          "grade_id": "cell-1121e0886abbeee6",
          "locked": true,
          "schema_version": 1,
          "solution": false
        },
        "id": "PIbj0v98AKfK"
      },
      "source": [
        "The approximation becomes the more precise, the more samples we have. "
      ]
    },
    {
      "cell_type": "code",
      "metadata": {
        "deletable": false,
        "editable": false,
        "nbgrader": {
          "checksum": "2093f25f77104cc0b145cbb3f9e24ef2",
          "grade": false,
          "grade_id": "cell-eb2257554e3b49bc",
          "locked": true,
          "schema_version": 1,
          "solution": false
        },
        "id": "Y2fhUNtfAKfL"
      },
      "source": [
        "reg = Region(Rectangle((0, 4), (0, 2)), Rectangle((1, 2), (0, 4)))\n",
        "reg.draw()\n",
        "print(\"   10 samples:\", reg.montecarlo_volume(n=10))\n",
        "print(\"  100 samples:\", reg.montecarlo_volume(n=100))\n",
        "print(\" 1000 samples:\", reg.montecarlo_volume(n=1000))\n",
        "print(\"10000 samples:\", reg.montecarlo_volume(n=10000))\n"
      ],
      "execution_count": null,
      "outputs": []
    },
    {
      "cell_type": "code",
      "metadata": {
        "deletable": false,
        "editable": false,
        "nbgrader": {
          "checksum": "578a3f26a8ac3af26d34f3272c4d5046",
          "grade": true,
          "grade_id": "cell-862a58a9f6af1235",
          "locked": true,
          "points": 10,
          "schema_version": 1,
          "solution": false
        },
        "id": "0s1GgMQRAKfL"
      },
      "source": [
        "# 10 points: Volume via Monte Carlo\n",
        "\n",
        "reg = Region(Rectangle((0, 1), (0, 4)), Rectangle((0, 4), (0, 1)))\n",
        "reg.draw()\n",
        "print(\"   10 samples:\", reg.montecarlo_volume(n=10))\n",
        "print(\"  100 samples:\", reg.montecarlo_volume(n=100))\n",
        "print(\" 1000 samples:\", reg.montecarlo_volume(n=1000))\n",
        "print(\"10000 samples:\", reg.montecarlo_volume(n=10000))\n",
        "\n",
        "v = reg.montecarlo_volume(n=10000)\n",
        "assert 6.2 < v < 7.8\n"
      ],
      "execution_count": null,
      "outputs": []
    },
    {
      "cell_type": "markdown",
      "metadata": {
        "deletable": false,
        "editable": false,
        "nbgrader": {
          "checksum": "ccdc3865fc99214e3362d70fc56666fd",
          "grade": false,
          "grade_id": "cell-4aed68e3b48eef74",
          "locked": true,
          "schema_version": 1,
          "solution": false
        },
        "id": "BbUIKq5IAKfL"
      },
      "source": [
        "We could quantify the standard deviation of the result, but it is beyond the scope of this class. "
      ]
    },
    {
      "cell_type": "markdown",
      "metadata": {
        "deletable": false,
        "editable": false,
        "nbgrader": {
          "checksum": "024d3e775cc8a687aca39fbbd56c3a0d",
          "grade": false,
          "grade_id": "cell-ef7c7fecfec56921",
          "locked": true,
          "schema_version": 1,
          "solution": false
        },
        "id": "OCJysOcqAKfL"
      },
      "source": [
        "**Exercise:** Develop a Monte-Carlo method for computing the center of mass of a region.  The idea consists in sampling uniformly at random from the bounding box, retaining only the points that are in the region.  The center of mass of the sampled points in the region provides an approximation for the center of mass of the region. "
      ]
    },
    {
      "cell_type": "markdown",
      "metadata": {
        "deletable": false,
        "editable": false,
        "nbgrader": {
          "checksum": "c8bb9f8a66959eb9b1068032074f657a",
          "grade": false,
          "grade_id": "cell-90614516c3afdc48",
          "locked": true,
          "schema_version": 1,
          "solution": false
        },
        "id": "J-Fm_-ZdAKfM"
      },
      "source": [
        "## Question 12: A Monte-Carlo method for region equality\n",
        "\n",
        "We can apply Monte Carlo methods also to the question of deciding region equality. \n",
        "\n",
        "One way to decide whether two regions $\\cal R_1$ and $\\cal R_2$ are equal consists in subtracting $\\cal R_2$ from $\\cal R_1$ and checking that the result is empty, and then subtracting $\\cal R_1$ from $\\cal R_2$, and checking that it is also empty. \n",
        "\n",
        "But again, this sounds like work, and why work if we can just guess? \n",
        "\n",
        "The idea is to compute the bounding box $B$ of $\\cal R_1 \\cup \\cal R_2$, and to sample points from $B$.  If we find a point $p$ that belongs to one region but not the other, we declare the regions distinct.  If we do not find such \"distinguishing\" point after $N$ trials, we declare the regions identical, and the point serves as a witness to their difference. \n",
        "\n",
        "We leave the implementation to you. "
      ]
    },
    {
      "cell_type": "code",
      "metadata": {
        "deletable": false,
        "nbgrader": {
          "checksum": "6803c3088ca482bbbfc903bac47183ed",
          "grade": false,
          "grade_id": "cell-c5956747e4d39a79",
          "locked": false,
          "schema_version": 1,
          "solution": true
        },
        "id": "7t91qvUlAKfM"
      },
      "source": [
        "### Monte Carlo difference and equality between regions\n",
        "\n",
        "def region_montecarlo_difference(self, other, n=1000):\n",
        "    \"\"\"Checks whether a region self is different from a region other, using\n",
        "    a Monte Carlo method with n samples.  It returns either a point p that\n",
        "    witnesses the difference of the regions, or None, if no such point is found.\"\"\"\n",
        "    # This can be done without hurry in 6 lines of code.\n",
        "    ### YOUR CODE HERE\n",
        "\n",
        "Region.montecarlo_difference = region_montecarlo_difference\n",
        "\n",
        "def region_montecarlo_equality(self, other, n=1000):\n",
        "    return self.montecarlo_difference(other, n=n) is None\n",
        "\n",
        "Region.montecarlo_equality = region_montecarlo_equality\n"
      ],
      "execution_count": null,
      "outputs": []
    },
    {
      "cell_type": "code",
      "metadata": {
        "deletable": false,
        "editable": false,
        "nbgrader": {
          "checksum": "a415e9735cefa67d3cf1e79e3819d6f8",
          "grade": false,
          "grade_id": "cell-1fbe402c6e84ebea",
          "locked": true,
          "schema_version": 1,
          "solution": false
        },
        "id": "FTodm8owAKfM"
      },
      "source": [
        "reg1 = Region(Rectangle((0, 4), (0, 2)), Rectangle((1, 2), (0, 4)), name=\"reg1\")\n",
        "reg2 = Region(Rectangle((0, 4), (0, 2)), Rectangle((1, 2), (1, 4)), name=\"reg2\")\n",
        "reg3 = Region(Rectangle((0, 4), (0, 2)), Rectangle((1, 2), (0, 3)), name=\"reg3\")\n",
        "reg1.draw()\n",
        "reg2.draw()\n",
        "reg3.draw()\n",
        "print(\"reg1 vs reg2\", reg1.montecarlo_equality(reg2))\n",
        "print(\"reg1 vs reg2\", reg1.montecarlo_equality(reg3))\n",
        "print(\"reg1 vs reg3\", reg1.montecarlo_difference(reg3))\n"
      ],
      "execution_count": null,
      "outputs": []
    },
    {
      "cell_type": "code",
      "metadata": {
        "deletable": false,
        "editable": false,
        "nbgrader": {
          "checksum": "48af2f1dc380e6533835769b5d7d8f4a",
          "grade": true,
          "grade_id": "cell-8e46a1bdbcc00d8c",
          "locked": true,
          "points": 10,
          "schema_version": 1,
          "solution": false
        },
        "id": "pndVszE9AKfM"
      },
      "source": [
        "# 10 points: Equality of regions via Monte Carlo. \n",
        "\n",
        "reg1 = Region(Rectangle((0, 4), (0, 2)), Rectangle((1, 2), (0, 4)), name=\"reg1\")\n",
        "reg2 = Region(Rectangle((0, 4), (0, 2)), Rectangle((1, 2), (1, 4)), name=\"reg2\")\n",
        "reg3 = Region(Rectangle((0, 4), (0, 2)), Rectangle((1, 2), (0, 3)), name=\"reg3\")\n",
        "assert reg1.montecarlo_equality(reg2)\n",
        "assert not reg1.montecarlo_equality(reg3)\n",
        "\n"
      ],
      "execution_count": null,
      "outputs": []
    }
  ]
}