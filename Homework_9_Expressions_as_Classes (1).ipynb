{
  "nbformat": 4,
  "nbformat_minor": 0,
  "metadata": {
    "colab": {
      "name": "Homework_9_Expressions_as_Classes.ipynb",
      "provenance": [],
      "collapsed_sections": []
    },
    "kernelspec": {
      "display_name": "Python 3",
      "language": "python",
      "name": "python3"
    },
    "language_info": {
      "codemirror_mode": {
        "name": "ipython",
        "version": 3
      },
      "file_extension": ".py",
      "mimetype": "text/x-python",
      "name": "python",
      "nbconvert_exporter": "python",
      "pygments_lexer": "ipython3",
      "version": "3.7.3"
    },
    "test_info": {
      "id": "e2bb7e247d7d4aefdd89f5474caf8f3a118bfc1d"
    }
  },
  "cells": [
    {
      "cell_type": "markdown",
      "metadata": {
        "id": "2YwO8oPWw1At"
      },
      "source": [
        "Before you turn this problem in, make sure everything runs as expected. First, **restart the kernel** (in the menubar, select Kernel$\\rightarrow$Restart) and then **run all cells** (in the menubar, select Cell$\\rightarrow$Run All).\n",
        "\n",
        "Make sure you fill in any place that says `YOUR CODE HERE` or \"YOUR ANSWER HERE\", as well as your name and collaborators below:"
      ]
    },
    {
      "cell_type": "code",
      "metadata": {
        "id": "78hDWwo8w1Ay"
      },
      "source": [
        "NAME = \"Shweta Jones\"\n",
        "COLLABORATORS = \"\""
      ],
      "execution_count": 87,
      "outputs": []
    },
    {
      "cell_type": "markdown",
      "metadata": {
        "id": "GQ-J3Mvhw1Az"
      },
      "source": [
        "---"
      ]
    },
    {
      "cell_type": "markdown",
      "metadata": {
        "deletable": false,
        "editable": false,
        "nbgrader": {
          "checksum": "0f54b38ff91d4aabc59bac56aa143a62",
          "grade": false,
          "grade_id": "cell-11355cd32e69ba29",
          "locked": true,
          "schema_version": 1,
          "solution": false
        },
        "id": "fp5aTkeVw1Az"
      },
      "source": [
        "# Homework 9: Expressions as Classes\n",
        "\n",
        "Copyright Luca de Alfaro, 2019-21. \n",
        "License: [CC-BY-NC-ND](https://creativecommons.org/licenses/by-nc-nd/4.0/)."
      ]
    },
    {
      "cell_type": "markdown",
      "metadata": {
        "deletable": false,
        "editable": false,
        "nbgrader": {
          "checksum": "05b97adea2767e3c56c39e8060449d87",
          "grade": false,
          "grade_id": "cell-a97812b2ea63fefa",
          "locked": true,
          "schema_version": 1,
          "solution": false
        },
        "id": "Zsga8JLZw1Az"
      },
      "source": [
        "## About This Homework\n",
        "\n",
        "The homework consists of 9 questions, for a total of 69 points.\n",
        "\n",
        "The instructions for working on homework assignments are available on Canvas; as a summary: \n",
        "\n",
        "* Write your code only where indicated via `#YOUR CODE HERE`.  If you write code in other places, it will be discarded during grading. \n",
        "* Do not add/remove cells. \n",
        "* The tests are implemented with `assert` statements: if they fail, you will see an error (a Python exception).  If you see no error, you can assume that they pass.  \n",
        "\n",
        "Once you are done working on it, you can download the .ipynb and [submit it to this form](https://docs.google.com/forms/d/e/1FAIpQLSe0Meoy10y5j2MEuCNrHSdlMD6tsi3DgRyZLIyXLM5G7pz77A/viewform?usp=sf_link)."
      ]
    },
    {
      "cell_type": "markdown",
      "metadata": {
        "deletable": false,
        "editable": false,
        "nbgrader": {
          "checksum": "c2aba13c48b8228c2787b2bb3b27ed0f",
          "grade": false,
          "grade_id": "cell-589dab2d6fa307a5",
          "locked": true,
          "schema_version": 1,
          "solution": false
        },
        "id": "yk5q9b64w1Az"
      },
      "source": [
        "We will now describe a more sophisticated representation for an expression, based on a hierarchy of classes.  The class **Expr** is the generic class denoting an expression.  It is an _abstract_ class: only its subclasses will be instantiated.  For every operator, such as `+`, there will be a subclass, such as `Plus`.  Variables will correspond to a special subclass, called `V`.  Numerical constants will be just represented by numbers, and not by subclasses of `Expr`. \n",
        "\n",
        "## The `Expr` class\n",
        "\n",
        "The `Expr` class implements the various [methods used to emulate numerical types](https://docs.python.org/3/reference/datamodel.html?#emulating-numeric-types), such as `__add__`, `__sub__`, and so forth.  In this way, we can build an expression simply by writing\n",
        "\n",
        "    x = V()\n",
        "    x * 3 / 2\n",
        "\n",
        "In the above, `V()` creates a variable (an object of class `V`), and assigns it to `x`.  Then, \n",
        "\n",
        "    x * 3\n",
        "\n",
        "will also be an expression, composed of a multiplication node, with children the variable in `x`, and `3`. \n",
        "The multiplication node is implemented via a subclass `Multiply` of `Expr`. \n",
        "To make this work, we will define the [`__mul__`](https://docs.python.org/3/reference/datamodel.html#object.__mul__) method of `Expr` so that it produces a `Multiply` object, with as children the two operands being multiplied. \n",
        "\n",
        "Similarly, \n",
        "\n",
        "    x * 3 / 2\n",
        "\n",
        "will create an object of class `Divide`, with as left child the `Multiply` node for `x * 3`, and as right child, the number 2.  Thus, the [`__truediv__`](https://docs.python.org/3/reference/datamodel.html#object.__truediv__) method of `Expr` will create a `Divide` node. \n",
        "\n",
        "Expressions can be evaluated.  You can assign a value to variables either when you create them: \n",
        "\n",
        "    x = V(value=2)\n",
        "    e = x * 3 / 2\n",
        "    e.eval()\n",
        "\n",
        "which yields `3`.  Or you can assign a value to a variable later: \n",
        "\n",
        "    x = V()\n",
        "    e = x * 3 / 2\n",
        "\n",
        "    x.assign(3)\n",
        "    e.eval()\n",
        "\n",
        "which again yields `3`. \n",
        "\n",
        "    \n"
      ]
    },
    {
      "cell_type": "markdown",
      "metadata": {
        "deletable": false,
        "editable": false,
        "nbgrader": {
          "checksum": "67f8ac8e8c1cc979694895e865d7693d",
          "grade": false,
          "grade_id": "cell-4b3fcb879ad1e95f",
          "locked": true,
          "schema_version": 1,
          "solution": false
        },
        "id": "RR7qUtJLw1A0"
      },
      "source": [
        "## Benefits of class-based representation \n",
        "\n",
        "Compared with the representation of expressions seen in the previous chapter, this class-based representation offers several advantages.  \n",
        "\n",
        "First, we can build expressions in a natural way as shown above, via the over-riding of the usual arithmetic operators.  \n",
        "\n",
        "Second, if we introduce a new operator, all we need is provide the implementation of the new operator: we do not need to modify the shared code that traverses the tree, and add one more case to a long case-analysis.  In other words, the code is far more modular.  This may seem a small point, but if one were to extend the representation of expressions to involve tensors (matrices) and operations on tensors, as is done in the symbolic representation of expressions used in machine-learning, the number of operators could easily grow to a hundred or more, making a modular approach the only reasonable one. \n",
        "\n",
        "Third, it becomes possible to attach methods to the expression objects, and as we will see in the next chapter, this can be very useful to implement machine learning frameworks.  But later about that. "
      ]
    },
    {
      "cell_type": "markdown",
      "metadata": {
        "deletable": false,
        "editable": false,
        "nbgrader": {
          "checksum": "c5d6ddfc176781c44e8d4188fb1a483b",
          "grade": false,
          "grade_id": "cell-59b16fb27cc4bbf1",
          "locked": true,
          "schema_version": 1,
          "solution": false
        },
        "id": "yTwQOtgkw1A0"
      },
      "source": [
        "## Defining an expression class\n",
        "\n",
        "We define an abstract class `Expr`, representing a generic expression.  This generic class has as subclasses the classes that represent the various operators, such as `Plus`, `Minus`, `Multiply`, as well as the variable class `V`.  Here is our basic implementation.  "
      ]
    },
    {
      "cell_type": "code",
      "metadata": {
        "deletable": false,
        "editable": false,
        "nbgrader": {
          "checksum": "c9947c35f790e2bb42e33cd1c5321b20",
          "grade": false,
          "grade_id": "cell-a798fff78d4a0acf",
          "locked": true,
          "schema_version": 1,
          "solution": false
        },
        "id": "TDbgyIbMw1A1"
      },
      "source": [
        "class Expr(object):\n",
        "    \"\"\"Abstract class representing expressions\"\"\"\n",
        "\n",
        "    name = \"expr\" # Not used, but just to define it.\n",
        "\n",
        "    def __init__(self, *args):\n",
        "        \"\"\"An object is created by passing to the constructor the children\"\"\"\n",
        "        self.children = args\n",
        "        self.value = None # The value of the expression\n",
        "        self.child_values = None # The values of the children; useful to have\n",
        "\n",
        "    def eval(self):\n",
        "        \"\"\"Evaluates the expression.\"\"\"\n",
        "        # First, we evaluate the children.\n",
        "        self.child_values = [c.eval() if isinstance(c, Expr) else c\n",
        "                             for c in self.children]\n",
        "        # Then, we evaluate the expression itself.\n",
        "        self.value = self.op(*self.child_values)\n",
        "        return self.value\n",
        "\n",
        "    def op(self):\n",
        "        \"\"\"This operator must be implemented in subclasses; it should\n",
        "        compute self.value from self.values, thus implementing the\n",
        "        operator at the expression node.\"\"\"\n",
        "        raise NotImplementedError()\n",
        "\n",
        "    def __repr__(self):\n",
        "        \"\"\"Represents the expression in a somewhat readable way.\"\"\"\n",
        "        if len(self.children) == 1:\n",
        "            # Unary operators\n",
        "            return \"({}{})\".format(self.__class__.name, self.children[0])\n",
        "        elif len(self.children) == 2:\n",
        "            return \"({} {} {})\".format(\n",
        "                self.children[0], self.__class__.name, self.children[1]\n",
        "            )\n",
        "        # Catch-all.\n",
        "        return \"{}({})\".format(self.__class__.__name__,\n",
        "                                ', '.join(repr(c) for c in self.children))\n",
        "\n",
        "    # Expression constructors\n",
        "\n",
        "    def __add__(self, other):\n",
        "        return Plus(self, other)\n",
        "\n",
        "    def __radd__(self, other):\n",
        "        return Plus(self, other)\n",
        "\n",
        "    def __sub__(self, other):\n",
        "        return Minus(self, other)\n",
        "\n",
        "    def __rsub__(self, other):\n",
        "        return Minus(other, self)\n",
        "\n",
        "    def __mul__(self, other):\n",
        "        return Multiply(self, other)\n",
        "\n",
        "    def __rmul__(self, other):\n",
        "        return Multiply(other, self)\n",
        "\n",
        "    def __truediv__(self, other):\n",
        "        return Divide(self, other)\n",
        "\n",
        "    def __rtruediv__(self, other):\n",
        "        return Divide(other, self)\n",
        "\n",
        "    def __neg__(self):\n",
        "        return Negative(self)\n"
      ],
      "execution_count": 88,
      "outputs": []
    },
    {
      "cell_type": "markdown",
      "metadata": {
        "deletable": false,
        "editable": false,
        "nbgrader": {
          "checksum": "868205cb598051c843372216c0f42418",
          "grade": false,
          "grade_id": "cell-5d372ae2179ee9a3",
          "locked": true,
          "schema_version": 1,
          "solution": false
        },
        "id": "1yaZ3-5Fw1A1"
      },
      "source": [
        "Variables are created specifying a name, and an initial value.  If nothing is specified, variables have random initial values.  You can assign a value to a variable using the `assign` method.  The `eval` method of a variable simply returns its value. "
      ]
    },
    {
      "cell_type": "code",
      "metadata": {
        "deletable": false,
        "editable": false,
        "nbgrader": {
          "checksum": "c08ec072bf93d65cf3bfd025908f64b1",
          "grade": false,
          "grade_id": "cell-2928f76505f9df14",
          "locked": true,
          "schema_version": 1,
          "solution": false
        },
        "id": "Bx18TT9Gw1A2"
      },
      "source": [
        "import random\n",
        "import string\n",
        "\n",
        "class V(Expr):\n",
        "    \"\"\"Variable.\"\"\"\n",
        "\n",
        "    def __init__(self, value=None):\n",
        "        super().__init__()\n",
        "        self.children = []\n",
        "        self.value = random.gauss(0, 1) if value is None else value\n",
        "        self.name = ''.join(\n",
        "            random.choices(string.ascii_letters + string.digits, k=3))\n",
        "\n",
        "    def eval(self):\n",
        "        return self.value\n",
        "\n",
        "    def assign(self, value):\n",
        "        self.value = value\n",
        "\n",
        "    def __repr__(self):\n",
        "        return \"V({}, value={})\".format(self.name, self.value)\n"
      ],
      "execution_count": 89,
      "outputs": []
    },
    {
      "cell_type": "markdown",
      "metadata": {
        "deletable": false,
        "editable": false,
        "nbgrader": {
          "checksum": "afb0e4b1b098dcc172db90b5da37446c",
          "grade": false,
          "grade_id": "cell-23a9b71b9f270ab2",
          "locked": true,
          "schema_version": 1,
          "solution": false
        },
        "id": "LUPaG029w1A2"
      },
      "source": [
        "Here are the constructors for the other operators; for them, we just need to provide an implementation for `op`, since all the rest is inherited from `Expr`.  We actually also define a name, as a class attribute, that we use in the representation method."
      ]
    },
    {
      "cell_type": "code",
      "metadata": {
        "deletable": false,
        "editable": false,
        "nbgrader": {
          "checksum": "a3ce1042723ec912da983686efa2e01d",
          "grade": false,
          "grade_id": "cell-6f5bd0609aa86dba",
          "locked": true,
          "schema_version": 1,
          "solution": false
        },
        "id": "nA6BS2qhw1A2"
      },
      "source": [
        "class Plus(Expr):\n",
        "    name = \"+\"\n",
        "    def op(self, x, y):\n",
        "        return x + y\n",
        "\n",
        "class Minus(Expr):\n",
        "    name = \"-\"\n",
        "    def op(self, x, y):\n",
        "        return x - y\n",
        "\n",
        "class Multiply(Expr):\n",
        "    name = \"*\"\n",
        "    def op(self, x, y):\n",
        "        return x * y\n",
        "\n",
        "class Divide(Expr):\n",
        "    name = \"/\"\n",
        "    def op(self, x, y):\n",
        "        return x / y\n",
        "\n",
        "class Negative(Expr):\n",
        "    name = \"-\"\n",
        "    def op(self, x):\n",
        "        return -x\n"
      ],
      "execution_count": 90,
      "outputs": []
    },
    {
      "cell_type": "markdown",
      "metadata": {
        "deletable": false,
        "editable": false,
        "nbgrader": {
          "checksum": "cb734245499429d9890a066f49bf63df",
          "grade": false,
          "grade_id": "cell-3ac5e748d66d69c4",
          "locked": true,
          "schema_version": 1,
          "solution": false
        },
        "id": "7NNmNTp2w1A2"
      },
      "source": [
        "We can build and evaluate expressions quite simply."
      ]
    },
    {
      "cell_type": "code",
      "metadata": {
        "deletable": false,
        "editable": false,
        "nbgrader": {
          "checksum": "a1261a89b7d361f38b0567561a601aaf",
          "grade": false,
          "grade_id": "cell-8a1200977c8c2b78",
          "locked": true,
          "schema_version": 1,
          "solution": false
        },
        "id": "QzuYNJDDw1A3",
        "colab": {
          "base_uri": "https://localhost:8080/"
        },
        "outputId": "961efafc-0b10-4c70-965f-8faac08d01b4"
      },
      "source": [
        "e = V(2) + 3\n",
        "print(e)\n",
        "print(e.eval())\n"
      ],
      "execution_count": 91,
      "outputs": [
        {
          "output_type": "stream",
          "text": [
            "(V(dxw, value=2) + 3)\n",
            "5\n"
          ],
          "name": "stdout"
        }
      ]
    },
    {
      "cell_type": "code",
      "metadata": {
        "deletable": false,
        "editable": false,
        "nbgrader": {
          "checksum": "4485dcbbd094034a9c5e58e185582c27",
          "grade": false,
          "grade_id": "cell-15c1152397a78534",
          "locked": true,
          "schema_version": 1,
          "solution": false
        },
        "id": "g2nXGMNaw1A3",
        "colab": {
          "base_uri": "https://localhost:8080/"
        },
        "outputId": "04d0b469-7caa-41c7-c433-27694a0a34bb"
      },
      "source": [
        "e = (V() + V(2)) * (2 + V(1))\n",
        "print(e)\n",
        "print(e.eval())\n"
      ],
      "execution_count": 92,
      "outputs": [
        {
          "output_type": "stream",
          "text": [
            "((V(yMr, value=0.34837758904505267) + V(wUx, value=2)) * (V(tfI, value=1) + 2))\n",
            "7.045132767135159\n"
          ],
          "name": "stdout"
        }
      ]
    },
    {
      "cell_type": "markdown",
      "metadata": {
        "deletable": false,
        "editable": false,
        "nbgrader": {
          "checksum": "9ab711cf48f94984467607b3b4af0478",
          "grade": false,
          "grade_id": "cell-a13ca78ee1f20481",
          "locked": true,
          "schema_version": 1,
          "solution": false
        },
        "id": "Xup_Cjrjw1A3"
      },
      "source": [
        "If we want to be able to assign values to variables, or refer to them in our code later, we need to assign our variable objects to Python variables: "
      ]
    },
    {
      "cell_type": "code",
      "metadata": {
        "deletable": false,
        "editable": false,
        "nbgrader": {
          "checksum": "0d1c3a0618bc37e634348846f6903619",
          "grade": false,
          "grade_id": "cell-98ed0bbaa76c15a2",
          "locked": true,
          "schema_version": 1,
          "solution": false
        },
        "id": "Eij-NvQRw1A3",
        "colab": {
          "base_uri": "https://localhost:8080/"
        },
        "outputId": "779addf4-76bc-4659-e724-4b028e6346ec"
      },
      "source": [
        "x = V()\n",
        "y = V()\n",
        "e = x + y\n",
        "\n",
        "print(e.eval()) # This uses the initial random values.\n",
        "\n",
        "x.assign(2)\n",
        "y.assign(3)\n",
        "print(e.eval())\n"
      ],
      "execution_count": 93,
      "outputs": [
        {
          "output_type": "stream",
          "text": [
            "-1.420934530398702\n",
            "5\n"
          ],
          "name": "stdout"
        }
      ]
    },
    {
      "cell_type": "markdown",
      "metadata": {
        "deletable": false,
        "editable": false,
        "nbgrader": {
          "checksum": "b8ccf90024500f47a098bdde0eb9db8f",
          "grade": false,
          "grade_id": "cell-397b0b14f6dd01ca",
          "locked": true,
          "schema_version": 1,
          "solution": false
        },
        "id": "N-qr9evBw1A3"
      },
      "source": [
        "### Defining Expression Equality"
      ]
    },
    {
      "cell_type": "markdown",
      "metadata": {
        "deletable": false,
        "editable": false,
        "nbgrader": {
          "checksum": "d6acb2f45a68897334bf76d72c4c01b7",
          "grade": false,
          "grade_id": "cell-4a535d5760e85105",
          "locked": true,
          "schema_version": 1,
          "solution": false
        },
        "id": "PSUDHjcWw1A4"
      },
      "source": [
        "If we test equality between expressions, we are in for a surprise."
      ]
    },
    {
      "cell_type": "code",
      "metadata": {
        "deletable": false,
        "editable": false,
        "nbgrader": {
          "checksum": "07599f6c190d3746bf3175a6894b1424",
          "grade": false,
          "grade_id": "cell-5a2b345643510c70",
          "locked": true,
          "schema_version": 1,
          "solution": false
        },
        "id": "cop2_356w1A4",
        "colab": {
          "base_uri": "https://localhost:8080/"
        },
        "outputId": "dbb1894c-ce76-409f-e5a9-1a1b2548a5f2"
      },
      "source": [
        "x = V()\n",
        "e1 = x + 4\n",
        "e2 = x + 4\n",
        "e1 == e2\n"
      ],
      "execution_count": 94,
      "outputs": [
        {
          "output_type": "execute_result",
          "data": {
            "text/plain": [
              "False"
            ]
          },
          "metadata": {
            "tags": []
          },
          "execution_count": 94
        }
      ]
    },
    {
      "cell_type": "markdown",
      "metadata": {
        "deletable": false,
        "editable": false,
        "nbgrader": {
          "checksum": "8cefd14c7029cf93557f0872b080717d",
          "grade": false,
          "grade_id": "cell-2b7717a56b556e14",
          "locked": true,
          "schema_version": 1,
          "solution": false
        },
        "id": "G01ZDAv2w1A4"
      },
      "source": [
        "Why is the result False? \n",
        "\n",
        "Python knows how to compare objects that belong to its own types.  So you can do comparisons between strings, numbers, tuples, and more, and it all works as expected.  This is why we could check equality of expressions represented as trees: those expression trees are composed entirely of standard Python types, namely, strings, numbers, and tuples. \n",
        "\n",
        "However, `Expr`, `V`, etc, are classes we defined, and Python has no idea of what it means for objects of user-defined classes to be equal.  \n",
        "In this case, Python defaults to considering equal two objects if they are the _same_ object. \n",
        "The two expressions _e1_ and _e2_ above are not the same object: they are two distinct objects, which just happen to represent the same expression. \n",
        "\n",
        "If we want to have a notion of expression equality that represents our idea that \"two expression objects are equal if they represent the same expression\", we need to define equality ourselves. \n",
        "This can be easily done, by defining an _ _ eq _ _ method.  This method [has the form](https://docs.python.org/3/reference/datamodel.html#object.__eq__):\n",
        "\n",
        "    def __eq__(self, other):\n",
        "        ...\n",
        "        return <True/False>\n",
        "        \n",
        "Here, self is the object on which the method is called, and other is another object -- any other object.  Our job is to define when the object self is equal to the object other.  This can be easily done; using again our way of adding methods to existing classes, we write:"
      ]
    },
    {
      "cell_type": "code",
      "metadata": {
        "deletable": false,
        "editable": false,
        "nbgrader": {
          "checksum": "f02c24a44e2f67598c2aee89ee0df436",
          "grade": false,
          "grade_id": "cell-bcc8b4b102e124ec",
          "locked": true,
          "schema_version": 1,
          "solution": false
        },
        "id": "DLM7JtmDw1A4"
      },
      "source": [
        "def expr_eq(self, other):\n",
        "    if isinstance(other, Expr):\n",
        "        # The operators have to be the same\n",
        "        if self.__class__ != other.__class__:\n",
        "            return False\n",
        "        # and their corresponding children need to be equal\n",
        "        if len(self.children) != len(other.children):\n",
        "            return False\n",
        "        for c1, c2 in zip(self.children, other.children):\n",
        "            if c1 != c2: return False\n",
        "        return True\n",
        "    else:\n",
        "        return False\n",
        "\n",
        "Expr.__eq__ = expr_eq\n"
      ],
      "execution_count": 95,
      "outputs": []
    },
    {
      "cell_type": "markdown",
      "metadata": {
        "deletable": false,
        "editable": false,
        "nbgrader": {
          "checksum": "f911c59226c8bb010e583003b34e1d18",
          "grade": false,
          "grade_id": "cell-da0b9becab724c80",
          "locked": true,
          "schema_version": 1,
          "solution": false
        },
        "id": "eYPaZpvAw1A5"
      },
      "source": [
        "If we did not define equality for variables, two variables would be considered equal according to `Expr.__eq__`, since `V` is a subclass of `Expr`.  This would yield non-intended consequences (all variables would be considered equal).\n",
        "\n",
        "Thus, we define equality for variables to be the basic equality for objects: two variables are equal iff they are the same object.  In the definition below, `object.__eq__` is this primitive notion of equality, defined over the class `object` of Python, which is the base class for all classes. \n"
      ]
    },
    {
      "cell_type": "code",
      "metadata": {
        "deletable": false,
        "editable": false,
        "nbgrader": {
          "checksum": "bc70f750fe7a77e3c3dbe05c9eb8f1ed",
          "grade": false,
          "grade_id": "cell-4bb4a06a2d256acb",
          "locked": true,
          "schema_version": 1,
          "solution": false
        },
        "id": "aLVJCAINw1A5"
      },
      "source": [
        "V.__eq__  = object.__eq__\n"
      ],
      "execution_count": 96,
      "outputs": []
    },
    {
      "cell_type": "code",
      "metadata": {
        "deletable": false,
        "editable": false,
        "nbgrader": {
          "checksum": "b9ef02602b7c2656fbf5b840e6405b15",
          "grade": false,
          "grade_id": "cell-ee8848304dae3d8e",
          "locked": true,
          "schema_version": 1,
          "solution": false
        },
        "id": "jYFv3BCxw1A5",
        "colab": {
          "base_uri": "https://localhost:8080/"
        },
        "outputId": "da59d4c9-c9dc-44b5-c99d-bc142002f937"
      },
      "source": [
        "x = V()\n",
        "y = V()\n",
        "z = x\n",
        "print(x == y)\n",
        "print(x == z)\n"
      ],
      "execution_count": 97,
      "outputs": [
        {
          "output_type": "stream",
          "text": [
            "False\n",
            "True\n"
          ],
          "name": "stdout"
        }
      ]
    },
    {
      "cell_type": "markdown",
      "metadata": {
        "deletable": false,
        "editable": false,
        "nbgrader": {
          "checksum": "afedb90eda45f3cbef29017319743fe8",
          "grade": false,
          "grade_id": "cell-1ec86b6ed8297f06",
          "locked": true,
          "schema_version": 1,
          "solution": false
        },
        "id": "8aD1uchOw1A5"
      },
      "source": [
        "Once expression equality is thus defined, we get the expected result when we compare expressions:"
      ]
    },
    {
      "cell_type": "code",
      "metadata": {
        "deletable": false,
        "editable": false,
        "nbgrader": {
          "checksum": "fa385810934b1b0b5f2feaa4c7e900db",
          "grade": false,
          "grade_id": "cell-727c38c02b922f92",
          "locked": true,
          "schema_version": 1,
          "solution": false
        },
        "id": "vOdt4MqKw1A5",
        "colab": {
          "base_uri": "https://localhost:8080/"
        },
        "outputId": "78926b09-e8bc-4c6b-e30e-d292b850656b"
      },
      "source": [
        "x = V()\n",
        "e1 = x + 4\n",
        "e2 = x + 4\n",
        "e1 == e2\n"
      ],
      "execution_count": 98,
      "outputs": [
        {
          "output_type": "execute_result",
          "data": {
            "text/plain": [
              "True"
            ]
          },
          "metadata": {
            "tags": []
          },
          "execution_count": 98
        }
      ]
    },
    {
      "cell_type": "markdown",
      "metadata": {
        "deletable": false,
        "editable": false,
        "nbgrader": {
          "checksum": "81023cb6d818b2b93731f560aa83c74e",
          "grade": false,
          "grade_id": "cell-131ec736cdf5de24",
          "locked": true,
          "schema_version": 1,
          "solution": false
        },
        "id": "OyGp6d_iw1A5"
      },
      "source": [
        "Having to define equality \"by hand\" is very pedantic, but it does give us the flexibility of defining precisely what it means for two expressions to be equal."
      ]
    },
    {
      "cell_type": "markdown",
      "metadata": {
        "deletable": false,
        "editable": false,
        "nbgrader": {
          "checksum": "992a9a11b97896118d47272155d5f21c",
          "grade": false,
          "grade_id": "cell-7000f0d7c14814b7",
          "locked": true,
          "schema_version": 1,
          "solution": false
        },
        "id": "rAUVjb-Tw1A6"
      },
      "source": [
        "## Variable Occurrence\n",
        "\n",
        "Now that we have expressions, let us play with them.  First, as a warm-up exercise, let us write an `occurs` method for expressions, which checks if a given variable occurs in the expression.  First we define it for a variable: of course, a variable occurs in itself only if the variable is the same as the one whose occurrence we are checking."
      ]
    },
    {
      "cell_type": "markdown",
      "metadata": {
        "deletable": false,
        "editable": false,
        "nbgrader": {
          "checksum": "d86138c4139e8a5bf10ae66933a2f22d",
          "grade": false,
          "grade_id": "cell-5f03c6200fdc0b7d",
          "locked": true,
          "schema_version": 1,
          "solution": false
        },
        "id": "OwrS7-rMw1A6"
      },
      "source": [
        "## Question 1: Variable occurrence in variables"
      ]
    },
    {
      "cell_type": "code",
      "metadata": {
        "deletable": false,
        "nbgrader": {
          "checksum": "12f417d6ce11618fc301e46e3714cc0e",
          "grade": false,
          "grade_id": "cell-d80e06483662eef4",
          "locked": false,
          "schema_version": 1,
          "solution": true
        },
        "id": "i6bV4WKkw1A6"
      },
      "source": [
        "### Variable occurrence in a variable\n",
        "\n",
        "def v_contains(self, var):\n",
        "    \"\"\"Returns True of var is the same as self, and False otherwise.\"\"\"\n",
        "    if var == self:\n",
        "        return True\n",
        "    return False\n",
        "V.__contains__ = v_contains\n"
      ],
      "execution_count": 99,
      "outputs": []
    },
    {
      "cell_type": "code",
      "metadata": {
        "deletable": false,
        "editable": false,
        "nbgrader": {
          "checksum": "cf461b7a7ce52cdef615c2ed297abd16",
          "grade": false,
          "grade_id": "cell-8d302610ea9fa7eb",
          "locked": true,
          "schema_version": 1,
          "solution": false
        },
        "id": "84ofL0Sbw1A6",
        "colab": {
          "base_uri": "https://localhost:8080/"
        },
        "outputId": "ed34d3a3-4a33-4758-e25d-87012eeb831f"
      },
      "source": [
        "## Here you can also test your code. \n",
        "\n",
        "x = V()\n",
        "y = V()\n",
        "print(x in x)\n",
        "print(x in y)\n"
      ],
      "execution_count": 100,
      "outputs": [
        {
          "output_type": "stream",
          "text": [
            "True\n",
            "False\n"
          ],
          "name": "stdout"
        }
      ]
    },
    {
      "cell_type": "code",
      "metadata": {
        "deletable": false,
        "editable": false,
        "nbgrader": {
          "checksum": "9a3c666fcc13f8756b7d976112018036",
          "grade": true,
          "grade_id": "cell-8ea82ce3c68b6ab",
          "locked": true,
          "points": 5,
          "schema_version": 1,
          "solution": false
        },
        "id": "zCKxS5IDw1A6"
      },
      "source": [
        "### Tests for variable occurrence\n",
        "\n",
        "x = V()\n",
        "y = V()\n",
        "assert x in x\n",
        "assert not x in y\n",
        "z = x\n",
        "assert x in z\n",
        "\n"
      ],
      "execution_count": 101,
      "outputs": []
    },
    {
      "cell_type": "markdown",
      "metadata": {
        "deletable": false,
        "editable": false,
        "nbgrader": {
          "checksum": "102e90cca158895feca2a5e5238c0bd3",
          "grade": false,
          "grade_id": "cell-bf9f3e83838b67a5",
          "locked": true,
          "schema_version": 1,
          "solution": false
        },
        "id": "qUyjfOwhw1A6"
      },
      "source": [
        "## Question 2: Occurrence of a variable in an expression\n",
        "\n",
        "Once we define occurrence of a variable in a variable, we can define occurrence in a variable in a general expression. Of course, a variable appears in an expression if it appears in some of its children.  "
      ]
    },
    {
      "cell_type": "code",
      "metadata": {
        "deletable": false,
        "nbgrader": {
          "checksum": "b5d789a83583121217f5877cf068a006",
          "grade": false,
          "grade_id": "cell-9b5f5e2903087600",
          "locked": false,
          "schema_version": 1,
          "solution": true
        },
        "id": "-R0Rc4KKw1A6"
      },
      "source": [
        "### Occurrence of a variable in an expression\n",
        "def expr_contains(self, var):\n",
        "    expressions = list (self.children)\n",
        "    while len(expressions) > 0:\n",
        "        current = expressions.pop()\n",
        "        if isinstance(current, int):\n",
        "            pass\n",
        "        elif (current.children):\n",
        "            l, r = current.children\n",
        "            expressions.append(l)\n",
        "            expressions.append(r)\n",
        "        elif (var.name == current.name and current.value == var.value):\n",
        "            return True\n",
        "    return False\n",
        "\n",
        "Expr.__contains__ = expr_contains\n"
      ],
      "execution_count": 102,
      "outputs": []
    },
    {
      "cell_type": "code",
      "metadata": {
        "deletable": false,
        "editable": false,
        "nbgrader": {
          "checksum": "76a829dbbee48b4e4ced666ed0cab32d",
          "grade": false,
          "grade_id": "cell-5e2e85415d17c8b7",
          "locked": true,
          "schema_version": 1,
          "solution": false
        },
        "id": "3DluFO_Pw1A7",
        "colab": {
          "base_uri": "https://localhost:8080/"
        },
        "outputId": "27ab01a0-46be-42a2-bc9f-64d5ba0fd430"
      },
      "source": [
        "## Here you can also test your code. \n",
        "\n",
        "x = V()\n",
        "y = V()\n",
        "z = V()\n",
        "e = x + (2 * y)\n",
        "\n",
        "print(x in e)\n",
        "print(y in e)\n",
        "print(z in e)\n"
      ],
      "execution_count": 103,
      "outputs": [
        {
          "output_type": "stream",
          "text": [
            "True\n",
            "True\n",
            "False\n"
          ],
          "name": "stdout"
        }
      ]
    },
    {
      "cell_type": "code",
      "metadata": {
        "deletable": false,
        "editable": false,
        "nbgrader": {
          "checksum": "7de7f407f714d6b8865ddb903456371a",
          "grade": true,
          "grade_id": "cell-6c087354c81bf22",
          "locked": true,
          "points": 5,
          "schema_version": 1,
          "solution": false
        },
        "id": "bETKzRuXw1A7"
      },
      "source": [
        "## Tests for occurrence: 5 points. \n",
        "\n",
        "x = V()\n",
        "y = V()\n",
        "z = V()\n",
        "e = x + (2 * y)\n",
        "\n",
        "assert x in e\n",
        "assert y in e\n",
        "assert z not in e\n",
        "\n"
      ],
      "execution_count": 104,
      "outputs": []
    },
    {
      "cell_type": "code",
      "metadata": {
        "deletable": false,
        "editable": false,
        "nbgrader": {
          "checksum": "49ae46019e4551ead1df967166d492a5",
          "grade": true,
          "grade_id": "cell-abecf1b03c785646",
          "locked": true,
          "points": 5,
          "schema_version": 1,
          "solution": false
        },
        "id": "YWope_-sw1A7"
      },
      "source": [
        "## Hidden tests for occurrence: 5 points. \n"
      ],
      "execution_count": 105,
      "outputs": []
    },
    {
      "cell_type": "markdown",
      "metadata": {
        "deletable": false,
        "editable": false,
        "nbgrader": {
          "checksum": "06d76899daa98bf1aaeb52d75d399128",
          "grade": false,
          "grade_id": "cell-805aeafe1c08e9a1",
          "locked": true,
          "schema_version": 1,
          "solution": false
        },
        "id": "iyLLUwnIw1A7"
      },
      "source": [
        "## Variable Substitution\n",
        "\n",
        "Another fun thing we can do is substitute a variable with an expression.  Suppose you define an expression: \n",
        "\n",
        "    x = V()\n",
        "    y = V()\n",
        "    e = (x + 1) * (y + 1)\n",
        "\n",
        "Suppose you also have another expression: \n",
        "\n",
        "    z = V()\n",
        "    f = y + z\n",
        "\n",
        "Then, you can replace all occurrences of variable `x` in `e` with expression `f`: \n",
        "\n",
        "    new_e = e.replace(x, f)\n",
        "\n",
        "and `new_e` should be then equal to: \n",
        "\n",
        "    ((x + z) + 1) * (y + 1)\n",
        "\n",
        "Let us implement variable substitution.  Let us begin by defining variable substitution for variables. "
      ]
    },
    {
      "cell_type": "markdown",
      "metadata": {
        "deletable": false,
        "editable": false,
        "nbgrader": {
          "checksum": "4d5aaae6694d2bf0c942d37e2b2f3ded",
          "grade": false,
          "grade_id": "cell-8f8318ff5cf67493",
          "locked": true,
          "schema_version": 1,
          "solution": false
        },
        "id": "HlR79nQXw1A7"
      },
      "source": [
        "## Question 3: Variable replacement for variables"
      ]
    },
    {
      "cell_type": "code",
      "metadata": {
        "deletable": false,
        "nbgrader": {
          "checksum": "6ee25d6a081746c837df72d1266f4088",
          "grade": false,
          "grade_id": "cell-8a5c7aa6f81bcd25",
          "locked": false,
          "schema_version": 1,
          "solution": true
        },
        "id": "KEOz7_wRw1A8"
      },
      "source": [
        "### Variable replacement in variables\n",
        "\n",
        "def v_replace(self, x, e):\n",
        "    \"\"\"If self is x, replaces all occurrences of x with e.\"\"\"\n",
        "    if (self == x):\n",
        "        self = e\n",
        "    return self\n",
        "V.replace = v_replace\n"
      ],
      "execution_count": 106,
      "outputs": []
    },
    {
      "cell_type": "code",
      "metadata": {
        "deletable": false,
        "editable": false,
        "nbgrader": {
          "checksum": "50bb53e74e942630fdf64ab686f36777",
          "grade": false,
          "grade_id": "cell-d07bdf0e2392d2bf",
          "locked": true,
          "schema_version": 1,
          "solution": false
        },
        "id": "21DCj1Lpw1A8",
        "colab": {
          "base_uri": "https://localhost:8080/"
        },
        "outputId": "3cbbd52d-deeb-46c2-819f-b23fb39f79f1"
      },
      "source": [
        "## Here you can also test your code\n",
        "\n",
        "x = V()\n",
        "y = V()\n",
        "z = V()\n",
        "print(x == x.replace(x, x))\n",
        "print(y == x.replace(x, y))\n",
        "print(x == x.replace(y, z))\n"
      ],
      "execution_count": 107,
      "outputs": [
        {
          "output_type": "stream",
          "text": [
            "True\n",
            "True\n",
            "True\n"
          ],
          "name": "stdout"
        }
      ]
    },
    {
      "cell_type": "code",
      "metadata": {
        "deletable": false,
        "editable": false,
        "nbgrader": {
          "checksum": "4e2e1af8eb1568e0aeae92e83bba5ec7",
          "grade": true,
          "grade_id": "cell-96664f91cceb4b3c",
          "locked": true,
          "points": 2,
          "schema_version": 1,
          "solution": false
        },
        "id": "VDPag1X3w1A8"
      },
      "source": [
        "## Tests for variable replacement in variables. 2 points. \n",
        "x = V()\n",
        "y = V()\n",
        "z = V()\n",
        "assert x == x.replace(x, x)\n",
        "assert y == x.replace(x, y)\n",
        "assert x == x.replace(y, z)\n",
        "assert x.replace(x, y).replace(y, z) == z\n",
        "\n"
      ],
      "execution_count": 108,
      "outputs": []
    },
    {
      "cell_type": "code",
      "metadata": {
        "deletable": false,
        "editable": false,
        "nbgrader": {
          "checksum": "11e1d5fd18383a37521d0c0b0129bac2",
          "grade": true,
          "grade_id": "cell-28911f0120860751",
          "locked": true,
          "points": 2,
          "schema_version": 1,
          "solution": false
        },
        "id": "IzWweiUgw1A8"
      },
      "source": [
        "## Other tests for variable replacement. 2 points. \n",
        "\n",
        "x = V()\n",
        "y = V()\n",
        "\n",
        "e = x.replace(x, y + 3 * x)\n",
        "\n",
        "x.assign(2)\n",
        "y.assign(3)\n",
        "assert e.eval() == 9\n",
        "\n"
      ],
      "execution_count": 109,
      "outputs": []
    },
    {
      "cell_type": "code",
      "metadata": {
        "deletable": false,
        "editable": false,
        "nbgrader": {
          "checksum": "b91dd5b7a12fa3e4b4f9591442a3f3e9",
          "grade": true,
          "grade_id": "cell-be550ba28ce438e1",
          "locked": true,
          "points": 2,
          "schema_version": 1,
          "solution": false
        },
        "id": "a1yfDzj7w1A8"
      },
      "source": [
        "## Hidden tests for variable replacement.  2 points. \n"
      ],
      "execution_count": 110,
      "outputs": []
    },
    {
      "cell_type": "markdown",
      "metadata": {
        "deletable": false,
        "editable": false,
        "nbgrader": {
          "checksum": "1dc606aecb914138c5daeca3df9f56af",
          "grade": false,
          "grade_id": "cell-9d82bcdd8cd0d223",
          "locked": true,
          "schema_version": 1,
          "solution": false
        },
        "id": "gWB83y7uw1A8"
      },
      "source": [
        "We now define variable replacement for expressions. Consider a simple expression:"
      ]
    },
    {
      "cell_type": "code",
      "metadata": {
        "deletable": false,
        "editable": false,
        "nbgrader": {
          "checksum": "8b5e1a50a7bfbc661f95f236e09e0de0",
          "grade": false,
          "grade_id": "cell-ca09fafd6bc2c140",
          "locked": true,
          "schema_version": 1,
          "solution": false
        },
        "id": "e0tvvU6sw1A8"
      },
      "source": [
        "x = V()\n",
        "y = V()\n",
        "z = V()\n",
        "e = x + y\n"
      ],
      "execution_count": 111,
      "outputs": []
    },
    {
      "cell_type": "markdown",
      "metadata": {
        "deletable": false,
        "editable": false,
        "nbgrader": {
          "checksum": "7b9cbe5cec04fb0e9972d454c5e353fd",
          "grade": false,
          "grade_id": "cell-dcb2de593d8aaa67",
          "locked": true,
          "schema_version": 1,
          "solution": false
        },
        "id": "Yl3o7GRlw1A9"
      },
      "source": [
        "Suppose we want to return `e.replace(x, z)`.  The idea is: \n",
        "\n",
        "* carry out the replacement for each child (via a recursive call, as usual),  \n",
        "* then return an expression built out of the replacements. \n",
        "\n",
        "For instance, consider `e = x + y`.  To compute \n",
        "\n",
        "    e.replace(x, z)\n",
        "\n",
        "we first replace `x` with `z`, and then we return `Plus(z, y)`. \n",
        "\n",
        "The problem is exactly in the last sentence.  A `Plus` object, after carrying out the replacement in the children, should return a `Plus` object with the new children.  Similarly, a `Minus` object should return a `Minus` object, a `Multiply` object should return a `Multiply` object, and so forth.  If we implement this in the straightforward way, we need to add a `replace` method to all of these classes, so that they can return an object of the appropriate type.   This is a lot of work. \n",
        "\n",
        "Is there a better way?  It turns out, yes.  In an object, \n",
        "\n",
        "    self.__class__\n",
        "\n",
        "is the class of the object.  So if you want to return a new object of the same class, created say with arguments `x` and `y`, all you need to do is: \n",
        "\n",
        "    self.__class__(x, y)\n",
        "\n",
        "In this way, if you are in a `Plus` object, `self.__class__` is `Plus`, and everything works. \n",
        "Using this idea, we, that is, you, can implement the replacement method directly for the `Expr` class. \n",
        "\n"
      ]
    },
    {
      "cell_type": "markdown",
      "metadata": {
        "deletable": false,
        "editable": false,
        "nbgrader": {
          "checksum": "237d4ce32e0928ad245d9b143a651591",
          "grade": false,
          "grade_id": "cell-b9f219f6bd2da621",
          "locked": true,
          "schema_version": 1,
          "solution": false
        },
        "id": "w1WQUNz3w1A9"
      },
      "source": [
        "## Question 4: Replacement for expressions"
      ]
    },
    {
      "cell_type": "code",
      "metadata": {
        "deletable": false,
        "nbgrader": {
          "checksum": "0def2511b764168ad0a33fe9df4d04a9",
          "grade": false,
          "grade_id": "cell-a62256ff37a941b0",
          "locked": false,
          "schema_version": 1,
          "solution": true
        },
        "id": "xAIEormKw1A9"
      },
      "source": [
        "### Replacement for expressions\n",
        "\n",
        "def expr_replace(self, x, e):\n",
        "   if isinstance(self, V):\n",
        "       if self.name==x.name and self.value==x.value:\n",
        "           return e\n",
        "       return self\n",
        "   elif isinstance(self, int) or isinstance(self, float):\n",
        "       return self\n",
        "   else:\n",
        "       f, g = self.children\n",
        "       return self.op(expr_replace(f, x, e), expr_replace(g, x, e))\n",
        " \n",
        "Expr.replace = expr_replace\n",
        " \n",
        "\n"
      ],
      "execution_count": 112,
      "outputs": []
    },
    {
      "cell_type": "code",
      "metadata": {
        "deletable": false,
        "editable": false,
        "nbgrader": {
          "checksum": "a113dffd762ce7804b42a9559ecc95a6",
          "grade": false,
          "grade_id": "cell-d9095df89fa4f332",
          "locked": true,
          "schema_version": 1,
          "solution": false
        },
        "id": "38TJbCBnw1A9",
        "colab": {
          "base_uri": "https://localhost:8080/"
        },
        "outputId": "fef3f78c-c941-453c-952e-5367dda3e538"
      },
      "source": [
        "### Here you can debug your code. \n",
        "\n",
        "x = V()\n",
        "y = V()\n",
        "z = V()\n",
        "\n",
        "e = (1 + x) * (1 + y)\n",
        "f = e.replace(x, x + z)\n",
        "print(f)"
      ],
      "execution_count": 113,
      "outputs": [
        {
          "output_type": "stream",
          "text": [
            "(((V(XJ9, value=-1.21000887466556) + V(dvq, value=0.5342898241058356)) + 1) * (V(Qib, value=-1.6326923315089952) + 1))\n"
          ],
          "name": "stdout"
        }
      ]
    },
    {
      "cell_type": "code",
      "metadata": {
        "deletable": false,
        "editable": false,
        "nbgrader": {
          "checksum": "84f2ca43ae609e19f67d938ed5f57049",
          "grade": true,
          "grade_id": "cell-e8c12f2995cff828",
          "locked": true,
          "points": 7,
          "schema_version": 1,
          "solution": false
        },
        "id": "2ReCvHHew1A9"
      },
      "source": [
        "### Tests for expression replacement. 7 points. \n",
        "\n",
        "x = V()\n",
        "y = V()\n",
        "z = V()\n",
        "\n",
        "e = (1 + x) * (1 + y)\n",
        "f = e.replace(x, x + z)\n",
        "assert f == (1 + (x + z)) * (1 + y)\n",
        "\n",
        "x.assign(1)\n",
        "y.assign(2)\n",
        "z.assign(3)\n",
        "assert e.eval() == 6\n",
        "assert f.eval() == 15\n",
        "\n",
        "e = (x + y) / (x - y)\n",
        "f = e.replace(x, 2 * x).replace(y, 3 * y)\n",
        "assert f.eval() == (2 + 6) / (2 - 6)\n",
        "\n"
      ],
      "execution_count": 114,
      "outputs": []
    },
    {
      "cell_type": "code",
      "metadata": {
        "deletable": false,
        "editable": false,
        "nbgrader": {
          "checksum": "60a5c2404854fd84bb28fe8020436065",
          "grade": true,
          "grade_id": "cell-e8cbananatre828",
          "locked": true,
          "points": 8,
          "schema_version": 1,
          "solution": false
        },
        "id": "VzD5sa9nw1A9"
      },
      "source": [
        "### Hidden tests for expression replacement. 8 points. \n",
        "\n"
      ],
      "execution_count": 115,
      "outputs": []
    },
    {
      "cell_type": "markdown",
      "metadata": {
        "deletable": false,
        "editable": false,
        "nbgrader": {
          "checksum": "77fd4630ba34efc3cf58192d220cd937",
          "grade": false,
          "grade_id": "cell-2b5e888f96f8ffef",
          "locked": true,
          "schema_version": 1,
          "solution": false
        },
        "id": "HD5n3QP0w1A9"
      },
      "source": [
        "\n",
        "## Expression Derivation\n",
        "\n",
        "We will develop here a method `derivate` such that, for an expression `e`, the method call `e.derivate(x)` returns the derivative of the expression with respect to the variable `x`.  As in the previous chapter, we use the following derivation formulas: \n",
        "\n",
        "* For a constant $c$, $\\partial c / \\partial x = 0$.\n",
        "* For a variable $y \\neq x$,  $\\partial y / \\partial x = 0$.\n",
        "* $\\partial x / \\partial x = 1$.\n",
        "\n",
        "For operators, we can use:\n",
        "\n",
        "$$\n",
        " \\begin{align*}\n",
        " \\frac{\\partial}{\\partial x}(f \\pm g) & = \\frac{\\partial f}{\\partial x} \\pm \\frac  {\\partial g}{\\partial x}, \\\\[1ex]\n",
        " \\frac{\\partial}{\\partial x}(f \\cdot g) & = \\frac{\\partial f}{\\partial x} \\cdot g + f \\cdot \\frac{\\partial g}{\\partial x}, \\\\[1ex]\n",
        " \\frac{\\partial}{\\partial x}\\left(\\frac{f}{g}\\right) & = \\frac{\\frac\n",
        "  {\\partial f}{\\partial x} \\cdot g - f \\cdot \\frac{\\partial g}{\\partial x}}{g^2}. \n",
        "\\end{align*}\n",
        "$$\n",
        "\n",
        "Let us begin with implementing derivation for variables. \n"
      ]
    },
    {
      "cell_type": "markdown",
      "metadata": {
        "deletable": false,
        "editable": false,
        "nbgrader": {
          "checksum": "0e3a9b3561ce5cf6e8c9a11178b16ed5",
          "grade": false,
          "grade_id": "cell-b01336abdb253049",
          "locked": true,
          "schema_version": 1,
          "solution": false
        },
        "id": "iJo-SDhRw1A9"
      },
      "source": [
        "## Question 5.  Derivation for a variable"
      ]
    },
    {
      "cell_type": "code",
      "metadata": {
        "deletable": false,
        "nbgrader": {
          "checksum": "90e3ba7d6a2918ddd30dc84e2b8bf9f5",
          "grade": false,
          "grade_id": "cell-485b25ce61d09c79",
          "locked": false,
          "schema_version": 1,
          "solution": true
        },
        "id": "IjEvtH2Vw1A-"
      },
      "source": [
        "### Derivation of variables\n",
        "\n",
        "def v_derivate(self, x):\n",
        "    if x in self:\n",
        "        return 1\n",
        "    return 0\n",
        "\n",
        "V.derivate = v_derivate\n"
      ],
      "execution_count": 116,
      "outputs": []
    },
    {
      "cell_type": "code",
      "metadata": {
        "deletable": false,
        "editable": false,
        "nbgrader": {
          "checksum": "ae27402991942bfec5a0e6ba0eaa5dee",
          "grade": false,
          "grade_id": "cell-316e5b6f8b6d9bf4",
          "locked": true,
          "schema_version": 1,
          "solution": false
        },
        "id": "_aqg3iDDw1A-",
        "colab": {
          "base_uri": "https://localhost:8080/"
        },
        "outputId": "dee08671-ae60-4b43-d014-c68b451d4b0b"
      },
      "source": [
        "## Here you can debug your code. \n",
        "\n",
        "x = V()\n",
        "y = V()\n",
        "print(x.derivate(x))\n",
        "print(x.derivate(y))\n"
      ],
      "execution_count": 117,
      "outputs": [
        {
          "output_type": "stream",
          "text": [
            "1\n",
            "0\n"
          ],
          "name": "stdout"
        }
      ]
    },
    {
      "cell_type": "code",
      "metadata": {
        "deletable": false,
        "editable": false,
        "nbgrader": {
          "checksum": "e189268666da7d18ecbbe7bb7ed1bbeb",
          "grade": true,
          "grade_id": "cell-355dda468a75bc82",
          "locked": true,
          "points": 2,
          "schema_version": 1,
          "solution": false
        },
        "id": "Jl5jMN3Ow1A-"
      },
      "source": [
        "## Tests for variable derivation\n",
        "\n",
        "x = V()\n",
        "y = V()\n",
        "assert x.derivate(x) == 1\n",
        "assert x.derivate(y) == 0\n",
        "\n"
      ],
      "execution_count": 118,
      "outputs": []
    },
    {
      "cell_type": "markdown",
      "metadata": {
        "deletable": false,
        "editable": false,
        "nbgrader": {
          "checksum": "84b7355bd6b20789c29d01d634c99337",
          "grade": false,
          "grade_id": "cell-c35950a4dd8cd36a",
          "locked": true,
          "schema_version": 1,
          "solution": false
        },
        "id": "vIXNYJztw1A-"
      },
      "source": [
        "### Derivation for expressions\n",
        "\n",
        "This time, there is no clever trick to implement `derivate` as a method of `Expr`, because the derivative behaves in a different way for the different operators.  Hence, we will need to implement `derivate` for each individual operator.  We let you do it.  There are two things to be careful about: \n",
        "\n",
        "* Children of an operator may not be expressions; they can also be constants such as 2.3 or 4.1.\n",
        "* If the _new_ children of an expression are all numbers, return the numerical result of the expression rather than a symbolic expression.  For example, do not return `Plus(1, 0)`; rather, just return `1`.  Note that, if you put the derivatives of the two children in, say, `df` and `dg`, you can simplify automatically by returning `df + dg`, which will return an expression if one of `df` or `dg` is an expression, and a number otherwise. \n",
        "\n",
        "We give you the solution for `Plus`, mainly because it might be difficult to believe that the solution is this simple. "
      ]
    },
    {
      "cell_type": "code",
      "metadata": {
        "deletable": false,
        "editable": false,
        "nbgrader": {
          "checksum": "3bc8e14cca02fb77c8cd33525b3fd296",
          "grade": false,
          "grade_id": "cell-717b5fd666254511",
          "locked": true,
          "schema_version": 1,
          "solution": false
        },
        "id": "UjbNFUyTw1A-"
      },
      "source": [
        "def plus_derivate(self, x):\n",
        "    f, g = self.children\n",
        "    df = f.derivate(x) if isinstance(f, Expr) else 0\n",
        "    dg = g.derivate(x) if isinstance(g, Expr) else 0\n",
        "    return df + dg\n",
        "\n",
        "Plus.derivate = plus_derivate\n"
      ],
      "execution_count": 119,
      "outputs": []
    },
    {
      "cell_type": "markdown",
      "metadata": {
        "deletable": false,
        "editable": false,
        "nbgrader": {
          "checksum": "da1fc87a63a4053082276e1558e5afd0",
          "grade": false,
          "grade_id": "cell-cf1dec64a6f22ac1",
          "locked": true,
          "schema_version": 1,
          "solution": false
        },
        "id": "9cdcUA0Sw1A-"
      },
      "source": [
        "## Question 6: Derivation for Minus\n",
        "\n",
        "You can now work out the case for Minus, which is very similar. "
      ]
    },
    {
      "cell_type": "code",
      "metadata": {
        "deletable": false,
        "nbgrader": {
          "checksum": "de83976411f9818c9a36a72d07a950dc",
          "grade": false,
          "grade_id": "cell-6f1552152e511de5",
          "locked": false,
          "schema_version": 1,
          "solution": true
        },
        "id": "xO-Hw9Ysw1A-"
      },
      "source": [
        "### Derivative of Minus\n",
        "\n",
        "def minus_derivate(self, x):\n",
        "    f, g = self.children\n",
        "    df = f.derivate(x) if isinstance(f, Expr) else 0\n",
        "    dg = g.derivate(x) if isinstance(g, Expr) else 0\n",
        "    return df-dg\n",
        "\n",
        "Minus.derivate = minus_derivate\n"
      ],
      "execution_count": 120,
      "outputs": []
    },
    {
      "cell_type": "code",
      "metadata": {
        "deletable": false,
        "editable": false,
        "nbgrader": {
          "checksum": "672cfb26b9cee48a6485d7a070810a32",
          "grade": false,
          "grade_id": "cell-0c130926be8c1e48",
          "locked": true,
          "schema_version": 1,
          "solution": false
        },
        "id": "6H7YmWiUw1A_",
        "colab": {
          "base_uri": "https://localhost:8080/"
        },
        "outputId": "bc3ca642-fdff-40fd-cafb-5e4cba7272d1"
      },
      "source": [
        "### Here you can debug your code. \n",
        "\n",
        "x = V()\n",
        "y = V()\n",
        "z = V()\n",
        "\n",
        "e = x - y\n",
        "e.derivate(y)\n"
      ],
      "execution_count": 121,
      "outputs": [
        {
          "output_type": "execute_result",
          "data": {
            "text/plain": [
              "-1"
            ]
          },
          "metadata": {
            "tags": []
          },
          "execution_count": 121
        }
      ]
    },
    {
      "cell_type": "code",
      "metadata": {
        "deletable": false,
        "editable": false,
        "nbgrader": {
          "checksum": "ba079b42dd972c07459b49a38e28075e",
          "grade": true,
          "grade_id": "cell-c39c31c25136d221",
          "locked": true,
          "points": 3,
          "schema_version": 1,
          "solution": false
        },
        "id": "oZMRXitMw1A_"
      },
      "source": [
        "### Tests for derivatives of Plus and Minus. 3 points. \n",
        "\n",
        "x = V()\n",
        "y = V()\n",
        "z = V()\n",
        "\n",
        "e = x + y\n",
        "assert e.derivate(x) == 1\n",
        "f = x - y\n",
        "assert f.derivate(x) == 1\n",
        "assert f.derivate(y) == -1\n",
        "\n",
        "h = e + f\n",
        "assert h.derivate(x) == 2\n",
        "\n",
        "u = x + 4\n",
        "assert u.derivate(x) == 1\n",
        "v = 3 - y\n",
        "assert v.derivate(x) == 0\n",
        "assert v.derivate(y) == -1\n",
        "\n"
      ],
      "execution_count": 122,
      "outputs": []
    },
    {
      "cell_type": "markdown",
      "metadata": {
        "deletable": false,
        "editable": false,
        "nbgrader": {
          "checksum": "4c745b3d8e0961428dc2d9949ea20a3f",
          "grade": false,
          "grade_id": "cell-3e74804b88759bc9",
          "locked": true,
          "schema_version": 1,
          "solution": false
        },
        "id": "iHLeZCFew1A_"
      },
      "source": [
        "## Question 7: derivative of Negative\n",
        "\n",
        "Since we are at it, let us take care of unary minus, or `Negative`. "
      ]
    },
    {
      "cell_type": "code",
      "metadata": {
        "deletable": false,
        "nbgrader": {
          "checksum": "fa272792013baf22e2e88c499ebd5a1d",
          "grade": false,
          "grade_id": "cell-94cee4040b90facf",
          "locked": false,
          "schema_version": 1,
          "solution": true
        },
        "id": "HHogpx7ww1A_"
      },
      "source": [
        "### Derivative of Negative\n",
        "\n",
        "def negative_derivate(self, x):\n",
        "    if self == -x:\n",
        "        return -1\n",
        "    return 0\n",
        "\n",
        "Negative.derivate = negative_derivate\n"
      ],
      "execution_count": 123,
      "outputs": []
    },
    {
      "cell_type": "code",
      "metadata": {
        "deletable": false,
        "editable": false,
        "nbgrader": {
          "checksum": "8fb4db1a721f45612aa3d039ef51ff0b",
          "grade": false,
          "grade_id": "cell-291fe3b432f77481",
          "locked": true,
          "schema_version": 1,
          "solution": false
        },
        "id": "aveEREdxw1A_",
        "colab": {
          "base_uri": "https://localhost:8080/"
        },
        "outputId": "658ad656-7792-49cc-bd9f-a8a490e13f82"
      },
      "source": [
        "### Here you can debug your code.\n",
        "\n",
        "x = V()\n",
        "y = V()\n",
        "e = x + (-y)\n",
        "e.derivate(y)"
      ],
      "execution_count": 124,
      "outputs": [
        {
          "output_type": "execute_result",
          "data": {
            "text/plain": [
              "-1"
            ]
          },
          "metadata": {
            "tags": []
          },
          "execution_count": 124
        }
      ]
    },
    {
      "cell_type": "code",
      "metadata": {
        "deletable": false,
        "editable": false,
        "nbgrader": {
          "checksum": "6195387fd248b3c3fae64b421bf1b919",
          "grade": true,
          "grade_id": "cell-b10803d5e50cbe04",
          "locked": true,
          "points": 4,
          "schema_version": 1,
          "solution": false
        },
        "id": "NDR9eej3w1A_"
      },
      "source": [
        "### Tests for negative. 4 points. \n",
        "\n",
        "x = V()\n",
        "y = V()\n",
        "e = -x\n",
        "assert e.derivate(x) == -1\n",
        "assert e.derivate(y) == 0\n"
      ],
      "execution_count": 125,
      "outputs": []
    },
    {
      "cell_type": "markdown",
      "metadata": {
        "deletable": false,
        "editable": false,
        "nbgrader": {
          "checksum": "64654e9f1b73d9317eb2ce7894e2db4e",
          "grade": false,
          "grade_id": "cell-4e7c5c12639015f8",
          "locked": true,
          "schema_version": 1,
          "solution": false
        },
        "id": "jaMa6QFww1A_"
      },
      "source": [
        "Now for multiplication and divisions.  Be careful to use the formulas exactly as given, otherwise the result may not match.  E.g. use \n",
        "\n",
        "$$\n",
        "\\frac{\\partial}{\\partial x}(f \\cdot g) = \\frac{\\partial f}{\\partial x} \\cdot g + f \\cdot \\frac{\\partial g}{\\partial x}\n",
        "$$\n",
        "\n",
        "and _not_, for instance, $\\frac{\\partial}{\\partial x}(f \\cdot g) = g \\cdot \\frac{\\partial f}{\\partial x} + f \\cdot \\frac{\\partial g}{\\partial x}$ (note the swap of the factors in the first term).\n",
        "\n",
        "We would like you to return simplified expressions.  You can again use the trick that, if you have two expressions `df` and `g` (or similar), then `df * g` will be an expression if one of `df` and `g` are expressions, and a number if both `df` and `g` are numbers. "
      ]
    },
    {
      "cell_type": "markdown",
      "metadata": {
        "deletable": false,
        "editable": false,
        "nbgrader": {
          "checksum": "6b680248f6c940df084a5a1bdf7feea6",
          "grade": false,
          "grade_id": "cell-92c77f88147997ee",
          "locked": true,
          "schema_version": 1,
          "solution": false
        },
        "id": "-qpd7oJbw1A_"
      },
      "source": [
        "## Question 8: Derivation of multiplication"
      ]
    },
    {
      "cell_type": "code",
      "metadata": {
        "deletable": false,
        "nbgrader": {
          "checksum": "dabca40e7a61990c6bde133de838ece1",
          "grade": false,
          "grade_id": "cell-4f43fe808c1a023b",
          "locked": false,
          "schema_version": 1,
          "solution": true
        },
        "id": "-G0yzZ4Pw1BA"
      },
      "source": [
        "### Derivative of multiplication.\n",
        "\n",
        "def multiply_derivate(self, x):\n",
        "    f, g = self.children\n",
        "    df = f.derivate(x) if isinstance(f, Expr) else 0\n",
        "    dg = g.derivate(x) if isinstance(g, Expr) else 0\n",
        "    return (df*g)+(f*dg)\n",
        "Multiply.derivate = multiply_derivate\n"
      ],
      "execution_count": 126,
      "outputs": []
    },
    {
      "cell_type": "markdown",
      "metadata": {
        "deletable": false,
        "editable": false,
        "nbgrader": {
          "checksum": "3760f9fb90d35323e80186c93792cdb8",
          "grade": false,
          "grade_id": "cell-1598da214a7df603",
          "locked": true,
          "schema_version": 1,
          "solution": false
        },
        "id": "pXoVljbWw1BA"
      },
      "source": [
        "If you did the above right, it will be 4-5 lines wrong.  If you wrote much more than that, please think at it again.  The solution is quite simple; you can just trust that the operators `*` and `+` will build it. "
      ]
    },
    {
      "cell_type": "code",
      "metadata": {
        "deletable": false,
        "editable": false,
        "nbgrader": {
          "checksum": "ef2ba1ad0dd851c555c3daafb464b68b",
          "grade": false,
          "grade_id": "cell-1e4c0c558ca1a37a",
          "locked": true,
          "schema_version": 1,
          "solution": false
        },
        "id": "MVQQq8BMw1BA",
        "colab": {
          "base_uri": "https://localhost:8080/"
        },
        "outputId": "c854f794-ff29-4b2e-89dd-76134d675ecd"
      },
      "source": [
        "## Here you can debug your code. \n",
        "\n",
        "x = V()\n",
        "e = x * x\n",
        "de = e.derivate(x)\n",
        "de"
      ],
      "execution_count": 127,
      "outputs": [
        {
          "output_type": "execute_result",
          "data": {
            "text/plain": [
              "((1 * V(mHZ, value=1.5976309718295447)) + (V(mHZ, value=1.5976309718295447) * 1))"
            ]
          },
          "metadata": {
            "tags": []
          },
          "execution_count": 127
        }
      ]
    },
    {
      "cell_type": "code",
      "metadata": {
        "deletable": false,
        "editable": false,
        "nbgrader": {
          "checksum": "6fef65308cf363424674333649e80e23",
          "grade": true,
          "grade_id": "cell-ff11681951f4f834",
          "locked": true,
          "points": 4,
          "schema_version": 1,
          "solution": false
        },
        "id": "RWI03gFtw1BA"
      },
      "source": [
        "## Tests for derivative of multiplication. 4 points. \n",
        "\n",
        "x = V()\n",
        "y = V(value=2)\n",
        "\n",
        "e = x * y\n",
        "# This is ugly.  It is.  We have not implemented 0, 1 simplifications.\n",
        "assert e.derivate(x) == 1 * y + x * 0\n",
        "\n",
        "# To remedy ugliness, we now test numerically.\n",
        "f = x * x\n",
        "x.assign(3)\n",
        "assert f.derivate(x).eval() == 6, f.derivate(x).eval()\n",
        "x.assign(4)\n",
        "assert f.derivate(x).eval() == 8, f.derivate(x).eval()\n",
        "\n",
        "h = 3 * x\n",
        "assert h.derivate(x).eval() == 3\n",
        "u = x * 3\n",
        "assert u.derivate(x).eval() == 3\n"
      ],
      "execution_count": 128,
      "outputs": []
    },
    {
      "cell_type": "markdown",
      "metadata": {
        "deletable": false,
        "editable": false,
        "nbgrader": {
          "checksum": "e9e935125bb6fd7d82698430c2c20785",
          "grade": false,
          "grade_id": "cell-1560a6a2bb547b92",
          "locked": true,
          "schema_version": 1,
          "solution": false
        },
        "id": "jyFQ32raw1BA"
      },
      "source": [
        "## Question 9: Derivative of division\n",
        "\n",
        "For division, the expression is: \n",
        "\n",
        "$$\n",
        " \\frac{\\partial}{\\partial x}\\left(\\frac{f}{g}\\right) = \\frac{\\frac\n",
        "  {\\partial f}{\\partial x} \\cdot g - f \\cdot \\frac{\\partial g}{\\partial x}}{g^2}. \n",
        "$$\n",
        "\n",
        "Note that you can obtain the denominator just by doing `g * g`, if `g` is the second child.  Again, the correct solution is quite short. "
      ]
    },
    {
      "cell_type": "code",
      "metadata": {
        "deletable": false,
        "nbgrader": {
          "checksum": "9d5d0d327a48fc03097b4c86da2f8c80",
          "grade": false,
          "grade_id": "cell-3f55b1def9984029",
          "locked": false,
          "schema_version": 1,
          "solution": true
        },
        "id": "-cnr3mFdw1BA"
      },
      "source": [
        "### Derivative of division\n",
        "\n",
        "def divide_derivate(self, x):\n",
        "    f, g = self.children\n",
        "    df = f.derivate(x) if isinstance(f, Expr) else 0\n",
        "    dg = g.derivate(x) if isinstance(g, Expr) else 0\n",
        "    return ((df*g)-(f*dg))/(g*g)\n",
        "\n",
        "Divide.derivate = divide_derivate\n"
      ],
      "execution_count": 129,
      "outputs": []
    },
    {
      "cell_type": "code",
      "metadata": {
        "deletable": false,
        "editable": false,
        "nbgrader": {
          "checksum": "fce89ecc445128f794e6b6a5caf33a99",
          "grade": false,
          "grade_id": "cell-4fd3679fd3f6534a",
          "locked": true,
          "schema_version": 1,
          "solution": false
        },
        "id": "RAtA7TYqw1BA",
        "colab": {
          "base_uri": "https://localhost:8080/"
        },
        "outputId": "83dbc80d-b597-4bfb-f54e-a94606d17e8d"
      },
      "source": [
        "## Here you can debug your code. \n",
        "\n",
        "x = V()\n",
        "y = V()\n",
        "print(\"x:\", x)\n",
        "print(\"y:\", y)\n",
        "\n",
        "e = x / y\n",
        "\n",
        "e.derivate(y)"
      ],
      "execution_count": 130,
      "outputs": [
        {
          "output_type": "stream",
          "text": [
            "x: V(xTl, value=-1.0430843699164718)\n",
            "y: V(8KF, value=0.10186093090472136)\n"
          ],
          "name": "stdout"
        },
        {
          "output_type": "execute_result",
          "data": {
            "text/plain": [
              "(((0 * V(8KF, value=0.10186093090472136)) - (V(xTl, value=-1.0430843699164718) * 1)) / (V(8KF, value=0.10186093090472136) * V(8KF, value=0.10186093090472136)))"
            ]
          },
          "metadata": {
            "tags": []
          },
          "execution_count": 130
        }
      ]
    },
    {
      "cell_type": "code",
      "metadata": {
        "deletable": false,
        "editable": false,
        "nbgrader": {
          "checksum": "73be21245a137a017fb9de01d42c41ab",
          "grade": true,
          "grade_id": "cell-6404104c8493ec5f",
          "locked": true,
          "points": 4,
          "schema_version": 1,
          "solution": false
        },
        "id": "QRN93Tzzw1BA"
      },
      "source": [
        "### Tests for derivative of division. 4 points. \n",
        "\n",
        "x = V()\n",
        "y = V()\n",
        "e = x / 2\n",
        "f = e.derivate(x)\n",
        "x.assign(3)\n",
        "assert f.eval() == 1/2\n",
        "\n",
        "g = 1 / x\n",
        "assert g.derivate(x).eval() == - 1 / 9\n",
        "assert g.derivate(y).eval() == 0\n",
        "\n"
      ],
      "execution_count": 131,
      "outputs": []
    },
    {
      "cell_type": "code",
      "metadata": {
        "deletable": false,
        "editable": false,
        "nbgrader": {
          "checksum": "0762c09a1df2bbe7ae83b0a20f8228ef",
          "grade": true,
          "grade_id": "cell-8640b4e5c6676d7b",
          "locked": true,
          "points": 3,
          "schema_version": 1,
          "solution": false
        },
        "id": "bLYnTHYvw1BB"
      },
      "source": [
        "## Miscellaneous tests.  3 points. \n",
        "\n",
        "x = V(value=2)\n",
        "y = V(value=3)\n",
        "\n",
        "f = (x + 1) * (y + 1) / (x - 1) * (y - 1)\n",
        "df = f.derivate(x)\n",
        "\n",
        "assert df.eval() == -16\n",
        "\n",
        "x.assign(0.5)\n",
        "y.assign(0.5)\n",
        "assert df.eval() == 6\n",
        "\n"
      ],
      "execution_count": 132,
      "outputs": []
    },
    {
      "cell_type": "code",
      "metadata": {
        "deletable": false,
        "editable": false,
        "nbgrader": {
          "checksum": "bf89e9826559e8d3af2819c9279bdc9a",
          "grade": true,
          "grade_id": "cell-f12844673f18f118",
          "locked": true,
          "points": 3,
          "schema_version": 1,
          "solution": false
        },
        "id": "0BmO5BK-w1BB"
      },
      "source": [
        "## Miscellaneous tests. 3 points. \n",
        "\n",
        "x = V(value=0)\n",
        "\n",
        "f = (3 * x * x + 2 * x + 4) / (5 * x * x - 7 * x + 12)\n",
        "\n",
        "df = f.derivate(x)\n",
        "assert abs(df.eval() - 0.3611) < 0.01\n",
        "x.assign(1)\n",
        "assert df.eval() == 0.53\n",
        "x.assign(1000)\n",
        "assert abs(df.eval()) < 0.001\n",
        "x.assign(-0.5)\n",
        "assert abs(df.eval() - 0.1) < 0.01\n",
        "\n"
      ],
      "execution_count": 133,
      "outputs": []
    },
    {
      "cell_type": "code",
      "metadata": {
        "deletable": false,
        "editable": false,
        "nbgrader": {
          "checksum": "56dfce0852e839c9407bba1ccd94acac",
          "grade": true,
          "grade_id": "cell-e9cf2bfbfb7756f4",
          "locked": true,
          "points": 10,
          "schema_version": 1,
          "solution": false
        },
        "id": "VguCV7p9w1BB"
      },
      "source": [
        "## Final hidden tests on everything. 10 points. \n",
        "\n"
      ],
      "execution_count": 134,
      "outputs": []
    }
  ]
}